{
 "cells": [
  {
   "cell_type": "code",
   "execution_count": 1,
   "metadata": {
    "colab": {
     "base_uri": "https://localhost:8080/"
    },
    "id": "mS0bWISTqhMI",
    "outputId": "a6cbe1aa-ab9a-4d02-cc1c-d3e9514e8748"
   },
   "outputs": [],
   "source": [
    "import dgl.nn as dglnn\n",
    "from dgl import from_networkx\n",
    "import torch.nn as nn\n",
    "import torch as th\n",
    "import torch.nn.functional as F\n",
    "import dgl.function as fn\n",
    "import networkx as nx\n",
    "import pandas as pd\n",
    "import socket\n",
    "import struct\n",
    "import random\n",
    "from sklearn.preprocessing import LabelEncoder\n",
    "from sklearn.preprocessing import StandardScaler\n",
    "from sklearn.model_selection import train_test_split\n",
    "import category_encoders as ce\n",
    "from sklearn.decomposition import PCA\n",
    "import seaborn as sns\n",
    "import matplotlib.pyplot as plt\n",
    "import numpy as np"
   ]
  },
  {
   "cell_type": "code",
   "execution_count": 2,
   "metadata": {
    "id": "ki0watiErdJp"
   },
   "outputs": [],
   "source": [
    "data = pd.read_csv('/media/ssd/test/GNN/kaggle/input/BoT-IoT/NF-BoT-IoT.csv')"
   ]
  },
  {
   "cell_type": "code",
   "execution_count": null,
   "metadata": {
    "colab": {
     "base_uri": "https://localhost:8080/",
     "height": 439
    },
    "id": "0JmyVopVrqWQ",
    "outputId": "7dd4b901-c0c4-4bb4-b5fa-d504fe9821f2"
   },
   "outputs": [
    {
     "data": {
      "text/html": [
       "<div>\n",
       "<style scoped>\n",
       "    .dataframe tbody tr th:only-of-type {\n",
       "        vertical-align: middle;\n",
       "    }\n",
       "\n",
       "    .dataframe tbody tr th {\n",
       "        vertical-align: top;\n",
       "    }\n",
       "\n",
       "    .dataframe thead th {\n",
       "        text-align: right;\n",
       "    }\n",
       "</style>\n",
       "<table border=\"1\" class=\"dataframe\">\n",
       "  <thead>\n",
       "    <tr style=\"text-align: right;\">\n",
       "      <th></th>\n",
       "      <th>IPV4_SRC_ADDR</th>\n",
       "      <th>L4_SRC_PORT</th>\n",
       "      <th>IPV4_DST_ADDR</th>\n",
       "      <th>L4_DST_PORT</th>\n",
       "      <th>PROTOCOL</th>\n",
       "      <th>L7_PROTO</th>\n",
       "      <th>IN_BYTES</th>\n",
       "      <th>OUT_BYTES</th>\n",
       "      <th>IN_PKTS</th>\n",
       "      <th>OUT_PKTS</th>\n",
       "      <th>TCP_FLAGS</th>\n",
       "      <th>FLOW_DURATION_MILLISECONDS</th>\n",
       "      <th>Label</th>\n",
       "      <th>Attack</th>\n",
       "    </tr>\n",
       "  </thead>\n",
       "  <tbody>\n",
       "    <tr>\n",
       "      <th>0</th>\n",
       "      <td>192.168.100.6</td>\n",
       "      <td>52670</td>\n",
       "      <td>192.168.100.1</td>\n",
       "      <td>53</td>\n",
       "      <td>17</td>\n",
       "      <td>5.212</td>\n",
       "      <td>71</td>\n",
       "      <td>126</td>\n",
       "      <td>1</td>\n",
       "      <td>1</td>\n",
       "      <td>0</td>\n",
       "      <td>4294966</td>\n",
       "      <td>0</td>\n",
       "      <td>Benign</td>\n",
       "    </tr>\n",
       "    <tr>\n",
       "      <th>1</th>\n",
       "      <td>192.168.100.6</td>\n",
       "      <td>49160</td>\n",
       "      <td>192.168.100.149</td>\n",
       "      <td>4444</td>\n",
       "      <td>6</td>\n",
       "      <td>0.000</td>\n",
       "      <td>217753000</td>\n",
       "      <td>199100</td>\n",
       "      <td>4521</td>\n",
       "      <td>4049</td>\n",
       "      <td>24</td>\n",
       "      <td>4176249</td>\n",
       "      <td>1</td>\n",
       "      <td>Theft</td>\n",
       "    </tr>\n",
       "    <tr>\n",
       "      <th>2</th>\n",
       "      <td>192.168.100.46</td>\n",
       "      <td>3456</td>\n",
       "      <td>192.168.100.5</td>\n",
       "      <td>80</td>\n",
       "      <td>17</td>\n",
       "      <td>0.000</td>\n",
       "      <td>8508021</td>\n",
       "      <td>8918372</td>\n",
       "      <td>9086</td>\n",
       "      <td>9086</td>\n",
       "      <td>0</td>\n",
       "      <td>4175916</td>\n",
       "      <td>0</td>\n",
       "      <td>Benign</td>\n",
       "    </tr>\n",
       "    <tr>\n",
       "      <th>3</th>\n",
       "      <td>192.168.100.3</td>\n",
       "      <td>80</td>\n",
       "      <td>192.168.100.55</td>\n",
       "      <td>8080</td>\n",
       "      <td>6</td>\n",
       "      <td>7.000</td>\n",
       "      <td>8442138</td>\n",
       "      <td>9013406</td>\n",
       "      <td>9086</td>\n",
       "      <td>9086</td>\n",
       "      <td>0</td>\n",
       "      <td>4175916</td>\n",
       "      <td>0</td>\n",
       "      <td>Benign</td>\n",
       "    </tr>\n",
       "    <tr>\n",
       "      <th>4</th>\n",
       "      <td>192.168.100.46</td>\n",
       "      <td>80</td>\n",
       "      <td>192.168.100.5</td>\n",
       "      <td>80</td>\n",
       "      <td>6</td>\n",
       "      <td>7.000</td>\n",
       "      <td>8374706</td>\n",
       "      <td>0</td>\n",
       "      <td>9086</td>\n",
       "      <td>0</td>\n",
       "      <td>0</td>\n",
       "      <td>4175916</td>\n",
       "      <td>0</td>\n",
       "      <td>Benign</td>\n",
       "    </tr>\n",
       "    <tr>\n",
       "      <th>...</th>\n",
       "      <td>...</td>\n",
       "      <td>...</td>\n",
       "      <td>...</td>\n",
       "      <td>...</td>\n",
       "      <td>...</td>\n",
       "      <td>...</td>\n",
       "      <td>...</td>\n",
       "      <td>...</td>\n",
       "      <td>...</td>\n",
       "      <td>...</td>\n",
       "      <td>...</td>\n",
       "      <td>...</td>\n",
       "      <td>...</td>\n",
       "      <td>...</td>\n",
       "    </tr>\n",
       "    <tr>\n",
       "      <th>600095</th>\n",
       "      <td>192.168.100.46</td>\n",
       "      <td>80</td>\n",
       "      <td>192.168.100.5</td>\n",
       "      <td>80</td>\n",
       "      <td>6</td>\n",
       "      <td>7.000</td>\n",
       "      <td>2330065</td>\n",
       "      <td>0</td>\n",
       "      <td>2523</td>\n",
       "      <td>0</td>\n",
       "      <td>0</td>\n",
       "      <td>4263037</td>\n",
       "      <td>0</td>\n",
       "      <td>Benign</td>\n",
       "    </tr>\n",
       "    <tr>\n",
       "      <th>600096</th>\n",
       "      <td>192.168.100.5</td>\n",
       "      <td>0</td>\n",
       "      <td>192.168.100.3</td>\n",
       "      <td>0</td>\n",
       "      <td>6</td>\n",
       "      <td>0.000</td>\n",
       "      <td>1054423</td>\n",
       "      <td>0</td>\n",
       "      <td>1513</td>\n",
       "      <td>0</td>\n",
       "      <td>0</td>\n",
       "      <td>4263062</td>\n",
       "      <td>0</td>\n",
       "      <td>Benign</td>\n",
       "    </tr>\n",
       "    <tr>\n",
       "      <th>600097</th>\n",
       "      <td>192.168.100.7</td>\n",
       "      <td>365</td>\n",
       "      <td>192.168.100.3</td>\n",
       "      <td>565</td>\n",
       "      <td>17</td>\n",
       "      <td>0.000</td>\n",
       "      <td>62422</td>\n",
       "      <td>0</td>\n",
       "      <td>1357</td>\n",
       "      <td>0</td>\n",
       "      <td>0</td>\n",
       "      <td>4263062</td>\n",
       "      <td>0</td>\n",
       "      <td>Benign</td>\n",
       "    </tr>\n",
       "    <tr>\n",
       "      <th>600098</th>\n",
       "      <td>192.168.100.3</td>\n",
       "      <td>50850</td>\n",
       "      <td>13.54.166.67</td>\n",
       "      <td>8883</td>\n",
       "      <td>6</td>\n",
       "      <td>222.178</td>\n",
       "      <td>11300</td>\n",
       "      <td>1664</td>\n",
       "      <td>32</td>\n",
       "      <td>32</td>\n",
       "      <td>24</td>\n",
       "      <td>4264935</td>\n",
       "      <td>0</td>\n",
       "      <td>Benign</td>\n",
       "    </tr>\n",
       "    <tr>\n",
       "      <th>600099</th>\n",
       "      <td>192.168.100.6</td>\n",
       "      <td>49160</td>\n",
       "      <td>192.168.100.149</td>\n",
       "      <td>4444</td>\n",
       "      <td>6</td>\n",
       "      <td>0.000</td>\n",
       "      <td>40102320</td>\n",
       "      <td>37280</td>\n",
       "      <td>763</td>\n",
       "      <td>590</td>\n",
       "      <td>24</td>\n",
       "      <td>4270068</td>\n",
       "      <td>1</td>\n",
       "      <td>Theft</td>\n",
       "    </tr>\n",
       "  </tbody>\n",
       "</table>\n",
       "<p>600100 rows × 14 columns</p>\n",
       "</div>"
      ],
      "text/plain": [
       "         IPV4_SRC_ADDR  L4_SRC_PORT    IPV4_DST_ADDR  L4_DST_PORT  PROTOCOL  \\\n",
       "0        192.168.100.6        52670    192.168.100.1           53        17   \n",
       "1        192.168.100.6        49160  192.168.100.149         4444         6   \n",
       "2       192.168.100.46         3456    192.168.100.5           80        17   \n",
       "3        192.168.100.3           80   192.168.100.55         8080         6   \n",
       "4       192.168.100.46           80    192.168.100.5           80         6   \n",
       "...                ...          ...              ...          ...       ...   \n",
       "600095  192.168.100.46           80    192.168.100.5           80         6   \n",
       "600096   192.168.100.5            0    192.168.100.3            0         6   \n",
       "600097   192.168.100.7          365    192.168.100.3          565        17   \n",
       "600098   192.168.100.3        50850     13.54.166.67         8883         6   \n",
       "600099   192.168.100.6        49160  192.168.100.149         4444         6   \n",
       "\n",
       "        L7_PROTO   IN_BYTES  OUT_BYTES  IN_PKTS  OUT_PKTS  TCP_FLAGS  \\\n",
       "0          5.212         71        126        1         1          0   \n",
       "1          0.000  217753000     199100     4521      4049         24   \n",
       "2          0.000    8508021    8918372     9086      9086          0   \n",
       "3          7.000    8442138    9013406     9086      9086          0   \n",
       "4          7.000    8374706          0     9086         0          0   \n",
       "...          ...        ...        ...      ...       ...        ...   \n",
       "600095     7.000    2330065          0     2523         0          0   \n",
       "600096     0.000    1054423          0     1513         0          0   \n",
       "600097     0.000      62422          0     1357         0          0   \n",
       "600098   222.178      11300       1664       32        32         24   \n",
       "600099     0.000   40102320      37280      763       590         24   \n",
       "\n",
       "        FLOW_DURATION_MILLISECONDS  Label  Attack  \n",
       "0                          4294966      0  Benign  \n",
       "1                          4176249      1   Theft  \n",
       "2                          4175916      0  Benign  \n",
       "3                          4175916      0  Benign  \n",
       "4                          4175916      0  Benign  \n",
       "...                            ...    ...     ...  \n",
       "600095                     4263037      0  Benign  \n",
       "600096                     4263062      0  Benign  \n",
       "600097                     4263062      0  Benign  \n",
       "600098                     4264935      0  Benign  \n",
       "600099                     4270068      1   Theft  \n",
       "\n",
       "[600100 rows x 14 columns]"
      ]
     },
     "execution_count": 3,
     "metadata": {},
     "output_type": "execute_result"
    }
   ],
   "source": [
    "data"
   ]
  },
  {
   "cell_type": "code",
   "execution_count": 4,
   "metadata": {
    "id": "PoVYaeFZtJBd"
   },
   "outputs": [],
   "source": [
    "data['IPV4_SRC_ADDR'] = data.IPV4_SRC_ADDR.apply(lambda x: socket.inet_ntoa(struct.pack('>I', random.randint(0xac100001, 0xac1f0001))))"
   ]
  },
  {
   "cell_type": "code",
   "execution_count": 5,
   "metadata": {
    "id": "zs4z58WCtu8k"
   },
   "outputs": [],
   "source": [
    "data['IPV4_SRC_ADDR'] = data.IPV4_SRC_ADDR.apply(str)\n",
    "data['L4_SRC_PORT'] = data.L4_SRC_PORT.apply(str)\n",
    "data['IPV4_DST_ADDR'] = data.IPV4_DST_ADDR.apply(str)\n",
    "data['L4_DST_PORT'] = data.L4_DST_PORT.apply(str)"
   ]
  },
  {
   "cell_type": "code",
   "execution_count": 6,
   "metadata": {
    "id": "9EEwTAK3tle9"
   },
   "outputs": [],
   "source": [
    "data['IPV4_SRC_ADDR'] = data['IPV4_SRC_ADDR'] + ':' + data['L4_SRC_PORT']\n",
    "data['IPV4_DST_ADDR'] = data['IPV4_DST_ADDR'] + ':' + data['L4_DST_PORT']"
   ]
  },
  {
   "cell_type": "code",
   "execution_count": 7,
   "metadata": {
    "id": "xbdaHUxOtzd-"
   },
   "outputs": [],
   "source": [
    "data.drop(columns=['L4_SRC_PORT','L4_DST_PORT'],inplace=True)"
   ]
  },
  {
   "cell_type": "code",
   "execution_count": 8,
   "metadata": {
    "colab": {
     "base_uri": "https://localhost:8080/",
     "height": 419
    },
    "id": "CN9rLLmr0eeI",
    "outputId": "ccd523c2-0cba-46a4-aef1-434f6a2b741b"
   },
   "outputs": [
    {
     "data": {
      "text/html": [
       "<div>\n",
       "<style scoped>\n",
       "    .dataframe tbody tr th:only-of-type {\n",
       "        vertical-align: middle;\n",
       "    }\n",
       "\n",
       "    .dataframe tbody tr th {\n",
       "        vertical-align: top;\n",
       "    }\n",
       "\n",
       "    .dataframe thead th {\n",
       "        text-align: right;\n",
       "    }\n",
       "</style>\n",
       "<table border=\"1\" class=\"dataframe\">\n",
       "  <thead>\n",
       "    <tr style=\"text-align: right;\">\n",
       "      <th></th>\n",
       "      <th>IPV4_SRC_ADDR</th>\n",
       "      <th>IPV4_DST_ADDR</th>\n",
       "      <th>PROTOCOL</th>\n",
       "      <th>L7_PROTO</th>\n",
       "      <th>IN_BYTES</th>\n",
       "      <th>OUT_BYTES</th>\n",
       "      <th>IN_PKTS</th>\n",
       "      <th>OUT_PKTS</th>\n",
       "      <th>TCP_FLAGS</th>\n",
       "      <th>FLOW_DURATION_MILLISECONDS</th>\n",
       "      <th>Label</th>\n",
       "      <th>Attack</th>\n",
       "    </tr>\n",
       "  </thead>\n",
       "  <tbody>\n",
       "    <tr>\n",
       "      <th>0</th>\n",
       "      <td>172.27.42.148:52670</td>\n",
       "      <td>192.168.100.1:53</td>\n",
       "      <td>17</td>\n",
       "      <td>5.212</td>\n",
       "      <td>71</td>\n",
       "      <td>126</td>\n",
       "      <td>1</td>\n",
       "      <td>1</td>\n",
       "      <td>0</td>\n",
       "      <td>4294966</td>\n",
       "      <td>0</td>\n",
       "      <td>Benign</td>\n",
       "    </tr>\n",
       "    <tr>\n",
       "      <th>1</th>\n",
       "      <td>172.17.254.165:49160</td>\n",
       "      <td>192.168.100.149:4444</td>\n",
       "      <td>6</td>\n",
       "      <td>0.000</td>\n",
       "      <td>217753000</td>\n",
       "      <td>199100</td>\n",
       "      <td>4521</td>\n",
       "      <td>4049</td>\n",
       "      <td>24</td>\n",
       "      <td>4176249</td>\n",
       "      <td>1</td>\n",
       "      <td>Theft</td>\n",
       "    </tr>\n",
       "    <tr>\n",
       "      <th>2</th>\n",
       "      <td>172.25.85.167:3456</td>\n",
       "      <td>192.168.100.5:80</td>\n",
       "      <td>17</td>\n",
       "      <td>0.000</td>\n",
       "      <td>8508021</td>\n",
       "      <td>8918372</td>\n",
       "      <td>9086</td>\n",
       "      <td>9086</td>\n",
       "      <td>0</td>\n",
       "      <td>4175916</td>\n",
       "      <td>0</td>\n",
       "      <td>Benign</td>\n",
       "    </tr>\n",
       "    <tr>\n",
       "      <th>3</th>\n",
       "      <td>172.19.206.189:80</td>\n",
       "      <td>192.168.100.55:8080</td>\n",
       "      <td>6</td>\n",
       "      <td>7.000</td>\n",
       "      <td>8442138</td>\n",
       "      <td>9013406</td>\n",
       "      <td>9086</td>\n",
       "      <td>9086</td>\n",
       "      <td>0</td>\n",
       "      <td>4175916</td>\n",
       "      <td>0</td>\n",
       "      <td>Benign</td>\n",
       "    </tr>\n",
       "    <tr>\n",
       "      <th>4</th>\n",
       "      <td>172.24.144.99:80</td>\n",
       "      <td>192.168.100.5:80</td>\n",
       "      <td>6</td>\n",
       "      <td>7.000</td>\n",
       "      <td>8374706</td>\n",
       "      <td>0</td>\n",
       "      <td>9086</td>\n",
       "      <td>0</td>\n",
       "      <td>0</td>\n",
       "      <td>4175916</td>\n",
       "      <td>0</td>\n",
       "      <td>Benign</td>\n",
       "    </tr>\n",
       "    <tr>\n",
       "      <th>...</th>\n",
       "      <td>...</td>\n",
       "      <td>...</td>\n",
       "      <td>...</td>\n",
       "      <td>...</td>\n",
       "      <td>...</td>\n",
       "      <td>...</td>\n",
       "      <td>...</td>\n",
       "      <td>...</td>\n",
       "      <td>...</td>\n",
       "      <td>...</td>\n",
       "      <td>...</td>\n",
       "      <td>...</td>\n",
       "    </tr>\n",
       "    <tr>\n",
       "      <th>600095</th>\n",
       "      <td>172.28.255.46:80</td>\n",
       "      <td>192.168.100.5:80</td>\n",
       "      <td>6</td>\n",
       "      <td>7.000</td>\n",
       "      <td>2330065</td>\n",
       "      <td>0</td>\n",
       "      <td>2523</td>\n",
       "      <td>0</td>\n",
       "      <td>0</td>\n",
       "      <td>4263037</td>\n",
       "      <td>0</td>\n",
       "      <td>Benign</td>\n",
       "    </tr>\n",
       "    <tr>\n",
       "      <th>600096</th>\n",
       "      <td>172.23.83.83:0</td>\n",
       "      <td>192.168.100.3:0</td>\n",
       "      <td>6</td>\n",
       "      <td>0.000</td>\n",
       "      <td>1054423</td>\n",
       "      <td>0</td>\n",
       "      <td>1513</td>\n",
       "      <td>0</td>\n",
       "      <td>0</td>\n",
       "      <td>4263062</td>\n",
       "      <td>0</td>\n",
       "      <td>Benign</td>\n",
       "    </tr>\n",
       "    <tr>\n",
       "      <th>600097</th>\n",
       "      <td>172.29.171.73:365</td>\n",
       "      <td>192.168.100.3:565</td>\n",
       "      <td>17</td>\n",
       "      <td>0.000</td>\n",
       "      <td>62422</td>\n",
       "      <td>0</td>\n",
       "      <td>1357</td>\n",
       "      <td>0</td>\n",
       "      <td>0</td>\n",
       "      <td>4263062</td>\n",
       "      <td>0</td>\n",
       "      <td>Benign</td>\n",
       "    </tr>\n",
       "    <tr>\n",
       "      <th>600098</th>\n",
       "      <td>172.25.77.136:50850</td>\n",
       "      <td>13.54.166.67:8883</td>\n",
       "      <td>6</td>\n",
       "      <td>222.178</td>\n",
       "      <td>11300</td>\n",
       "      <td>1664</td>\n",
       "      <td>32</td>\n",
       "      <td>32</td>\n",
       "      <td>24</td>\n",
       "      <td>4264935</td>\n",
       "      <td>0</td>\n",
       "      <td>Benign</td>\n",
       "    </tr>\n",
       "    <tr>\n",
       "      <th>600099</th>\n",
       "      <td>172.21.36.46:49160</td>\n",
       "      <td>192.168.100.149:4444</td>\n",
       "      <td>6</td>\n",
       "      <td>0.000</td>\n",
       "      <td>40102320</td>\n",
       "      <td>37280</td>\n",
       "      <td>763</td>\n",
       "      <td>590</td>\n",
       "      <td>24</td>\n",
       "      <td>4270068</td>\n",
       "      <td>1</td>\n",
       "      <td>Theft</td>\n",
       "    </tr>\n",
       "  </tbody>\n",
       "</table>\n",
       "<p>600100 rows × 12 columns</p>\n",
       "</div>"
      ],
      "text/plain": [
       "               IPV4_SRC_ADDR         IPV4_DST_ADDR  PROTOCOL  L7_PROTO  \\\n",
       "0        172.27.42.148:52670      192.168.100.1:53        17     5.212   \n",
       "1       172.17.254.165:49160  192.168.100.149:4444         6     0.000   \n",
       "2         172.25.85.167:3456      192.168.100.5:80        17     0.000   \n",
       "3          172.19.206.189:80   192.168.100.55:8080         6     7.000   \n",
       "4           172.24.144.99:80      192.168.100.5:80         6     7.000   \n",
       "...                      ...                   ...       ...       ...   \n",
       "600095      172.28.255.46:80      192.168.100.5:80         6     7.000   \n",
       "600096        172.23.83.83:0       192.168.100.3:0         6     0.000   \n",
       "600097     172.29.171.73:365     192.168.100.3:565        17     0.000   \n",
       "600098   172.25.77.136:50850     13.54.166.67:8883         6   222.178   \n",
       "600099    172.21.36.46:49160  192.168.100.149:4444         6     0.000   \n",
       "\n",
       "         IN_BYTES  OUT_BYTES  IN_PKTS  OUT_PKTS  TCP_FLAGS  \\\n",
       "0              71        126        1         1          0   \n",
       "1       217753000     199100     4521      4049         24   \n",
       "2         8508021    8918372     9086      9086          0   \n",
       "3         8442138    9013406     9086      9086          0   \n",
       "4         8374706          0     9086         0          0   \n",
       "...           ...        ...      ...       ...        ...   \n",
       "600095    2330065          0     2523         0          0   \n",
       "600096    1054423          0     1513         0          0   \n",
       "600097      62422          0     1357         0          0   \n",
       "600098      11300       1664       32        32         24   \n",
       "600099   40102320      37280      763       590         24   \n",
       "\n",
       "        FLOW_DURATION_MILLISECONDS  Label  Attack  \n",
       "0                          4294966      0  Benign  \n",
       "1                          4176249      1   Theft  \n",
       "2                          4175916      0  Benign  \n",
       "3                          4175916      0  Benign  \n",
       "4                          4175916      0  Benign  \n",
       "...                            ...    ...     ...  \n",
       "600095                     4263037      0  Benign  \n",
       "600096                     4263062      0  Benign  \n",
       "600097                     4263062      0  Benign  \n",
       "600098                     4264935      0  Benign  \n",
       "600099                     4270068      1   Theft  \n",
       "\n",
       "[600100 rows x 12 columns]"
      ]
     },
     "execution_count": 8,
     "metadata": {},
     "output_type": "execute_result"
    }
   ],
   "source": [
    "data"
   ]
  },
  {
   "cell_type": "code",
   "execution_count": 9,
   "metadata": {
    "id": "C_WU15ngvnBM"
   },
   "outputs": [],
   "source": [
    "data.drop(columns=['Label'],inplace = True)"
   ]
  },
  {
   "cell_type": "code",
   "execution_count": 10,
   "metadata": {
    "id": "Q0d3nbdiv37j"
   },
   "outputs": [],
   "source": [
    "data.rename(columns={\"Attack\": \"label\"},inplace = True)"
   ]
  },
  {
   "cell_type": "code",
   "execution_count": 11,
   "metadata": {
    "id": "yjS-hTKDzI29"
   },
   "outputs": [],
   "source": [
    "le = LabelEncoder()\n",
    "le.fit_transform(data.label.values)\n",
    "data['label'] = le.transform(data['label'])"
   ]
  },
  {
   "cell_type": "code",
   "execution_count": 12,
   "metadata": {
    "id": "SVgjPVfg03XG"
   },
   "outputs": [],
   "source": [
    "label = data.label"
   ]
  },
  {
   "cell_type": "code",
   "execution_count": 13,
   "metadata": {
    "id": "ADl2Fj7H08Rr"
   },
   "outputs": [],
   "source": [
    "data.drop(columns=['label'],inplace = True)"
   ]
  },
  {
   "cell_type": "code",
   "execution_count": 14,
   "metadata": {
    "id": "qhsZMD3uwLk7"
   },
   "outputs": [],
   "source": [
    "scaler = StandardScaler()"
   ]
  },
  {
   "cell_type": "code",
   "execution_count": 15,
   "metadata": {
    "id": "aukoVdNf2zcp"
   },
   "outputs": [],
   "source": [
    "data =  pd.concat([data, label], axis=1)"
   ]
  },
  {
   "cell_type": "code",
   "execution_count": 16,
   "metadata": {
    "colab": {
     "base_uri": "https://localhost:8080/",
     "height": 419
    },
    "id": "IP-ZEZW4nxSm",
    "outputId": "d3f123dd-51b2-447d-958b-05c3109bb362"
   },
   "outputs": [
    {
     "data": {
      "text/html": [
       "<div>\n",
       "<style scoped>\n",
       "    .dataframe tbody tr th:only-of-type {\n",
       "        vertical-align: middle;\n",
       "    }\n",
       "\n",
       "    .dataframe tbody tr th {\n",
       "        vertical-align: top;\n",
       "    }\n",
       "\n",
       "    .dataframe thead th {\n",
       "        text-align: right;\n",
       "    }\n",
       "</style>\n",
       "<table border=\"1\" class=\"dataframe\">\n",
       "  <thead>\n",
       "    <tr style=\"text-align: right;\">\n",
       "      <th></th>\n",
       "      <th>IPV4_SRC_ADDR</th>\n",
       "      <th>IPV4_DST_ADDR</th>\n",
       "      <th>PROTOCOL</th>\n",
       "      <th>L7_PROTO</th>\n",
       "      <th>IN_BYTES</th>\n",
       "      <th>OUT_BYTES</th>\n",
       "      <th>IN_PKTS</th>\n",
       "      <th>OUT_PKTS</th>\n",
       "      <th>TCP_FLAGS</th>\n",
       "      <th>FLOW_DURATION_MILLISECONDS</th>\n",
       "      <th>label</th>\n",
       "    </tr>\n",
       "  </thead>\n",
       "  <tbody>\n",
       "    <tr>\n",
       "      <th>0</th>\n",
       "      <td>172.27.42.148:52670</td>\n",
       "      <td>192.168.100.1:53</td>\n",
       "      <td>17</td>\n",
       "      <td>5.212</td>\n",
       "      <td>71</td>\n",
       "      <td>126</td>\n",
       "      <td>1</td>\n",
       "      <td>1</td>\n",
       "      <td>0</td>\n",
       "      <td>4294966</td>\n",
       "      <td>0</td>\n",
       "    </tr>\n",
       "    <tr>\n",
       "      <th>1</th>\n",
       "      <td>172.17.254.165:49160</td>\n",
       "      <td>192.168.100.149:4444</td>\n",
       "      <td>6</td>\n",
       "      <td>0.000</td>\n",
       "      <td>217753000</td>\n",
       "      <td>199100</td>\n",
       "      <td>4521</td>\n",
       "      <td>4049</td>\n",
       "      <td>24</td>\n",
       "      <td>4176249</td>\n",
       "      <td>4</td>\n",
       "    </tr>\n",
       "    <tr>\n",
       "      <th>2</th>\n",
       "      <td>172.25.85.167:3456</td>\n",
       "      <td>192.168.100.5:80</td>\n",
       "      <td>17</td>\n",
       "      <td>0.000</td>\n",
       "      <td>8508021</td>\n",
       "      <td>8918372</td>\n",
       "      <td>9086</td>\n",
       "      <td>9086</td>\n",
       "      <td>0</td>\n",
       "      <td>4175916</td>\n",
       "      <td>0</td>\n",
       "    </tr>\n",
       "    <tr>\n",
       "      <th>3</th>\n",
       "      <td>172.19.206.189:80</td>\n",
       "      <td>192.168.100.55:8080</td>\n",
       "      <td>6</td>\n",
       "      <td>7.000</td>\n",
       "      <td>8442138</td>\n",
       "      <td>9013406</td>\n",
       "      <td>9086</td>\n",
       "      <td>9086</td>\n",
       "      <td>0</td>\n",
       "      <td>4175916</td>\n",
       "      <td>0</td>\n",
       "    </tr>\n",
       "    <tr>\n",
       "      <th>4</th>\n",
       "      <td>172.24.144.99:80</td>\n",
       "      <td>192.168.100.5:80</td>\n",
       "      <td>6</td>\n",
       "      <td>7.000</td>\n",
       "      <td>8374706</td>\n",
       "      <td>0</td>\n",
       "      <td>9086</td>\n",
       "      <td>0</td>\n",
       "      <td>0</td>\n",
       "      <td>4175916</td>\n",
       "      <td>0</td>\n",
       "    </tr>\n",
       "    <tr>\n",
       "      <th>...</th>\n",
       "      <td>...</td>\n",
       "      <td>...</td>\n",
       "      <td>...</td>\n",
       "      <td>...</td>\n",
       "      <td>...</td>\n",
       "      <td>...</td>\n",
       "      <td>...</td>\n",
       "      <td>...</td>\n",
       "      <td>...</td>\n",
       "      <td>...</td>\n",
       "      <td>...</td>\n",
       "    </tr>\n",
       "    <tr>\n",
       "      <th>600095</th>\n",
       "      <td>172.28.255.46:80</td>\n",
       "      <td>192.168.100.5:80</td>\n",
       "      <td>6</td>\n",
       "      <td>7.000</td>\n",
       "      <td>2330065</td>\n",
       "      <td>0</td>\n",
       "      <td>2523</td>\n",
       "      <td>0</td>\n",
       "      <td>0</td>\n",
       "      <td>4263037</td>\n",
       "      <td>0</td>\n",
       "    </tr>\n",
       "    <tr>\n",
       "      <th>600096</th>\n",
       "      <td>172.23.83.83:0</td>\n",
       "      <td>192.168.100.3:0</td>\n",
       "      <td>6</td>\n",
       "      <td>0.000</td>\n",
       "      <td>1054423</td>\n",
       "      <td>0</td>\n",
       "      <td>1513</td>\n",
       "      <td>0</td>\n",
       "      <td>0</td>\n",
       "      <td>4263062</td>\n",
       "      <td>0</td>\n",
       "    </tr>\n",
       "    <tr>\n",
       "      <th>600097</th>\n",
       "      <td>172.29.171.73:365</td>\n",
       "      <td>192.168.100.3:565</td>\n",
       "      <td>17</td>\n",
       "      <td>0.000</td>\n",
       "      <td>62422</td>\n",
       "      <td>0</td>\n",
       "      <td>1357</td>\n",
       "      <td>0</td>\n",
       "      <td>0</td>\n",
       "      <td>4263062</td>\n",
       "      <td>0</td>\n",
       "    </tr>\n",
       "    <tr>\n",
       "      <th>600098</th>\n",
       "      <td>172.25.77.136:50850</td>\n",
       "      <td>13.54.166.67:8883</td>\n",
       "      <td>6</td>\n",
       "      <td>222.178</td>\n",
       "      <td>11300</td>\n",
       "      <td>1664</td>\n",
       "      <td>32</td>\n",
       "      <td>32</td>\n",
       "      <td>24</td>\n",
       "      <td>4264935</td>\n",
       "      <td>0</td>\n",
       "    </tr>\n",
       "    <tr>\n",
       "      <th>600099</th>\n",
       "      <td>172.21.36.46:49160</td>\n",
       "      <td>192.168.100.149:4444</td>\n",
       "      <td>6</td>\n",
       "      <td>0.000</td>\n",
       "      <td>40102320</td>\n",
       "      <td>37280</td>\n",
       "      <td>763</td>\n",
       "      <td>590</td>\n",
       "      <td>24</td>\n",
       "      <td>4270068</td>\n",
       "      <td>4</td>\n",
       "    </tr>\n",
       "  </tbody>\n",
       "</table>\n",
       "<p>600100 rows × 11 columns</p>\n",
       "</div>"
      ],
      "text/plain": [
       "               IPV4_SRC_ADDR         IPV4_DST_ADDR  PROTOCOL  L7_PROTO  \\\n",
       "0        172.27.42.148:52670      192.168.100.1:53        17     5.212   \n",
       "1       172.17.254.165:49160  192.168.100.149:4444         6     0.000   \n",
       "2         172.25.85.167:3456      192.168.100.5:80        17     0.000   \n",
       "3          172.19.206.189:80   192.168.100.55:8080         6     7.000   \n",
       "4           172.24.144.99:80      192.168.100.5:80         6     7.000   \n",
       "...                      ...                   ...       ...       ...   \n",
       "600095      172.28.255.46:80      192.168.100.5:80         6     7.000   \n",
       "600096        172.23.83.83:0       192.168.100.3:0         6     0.000   \n",
       "600097     172.29.171.73:365     192.168.100.3:565        17     0.000   \n",
       "600098   172.25.77.136:50850     13.54.166.67:8883         6   222.178   \n",
       "600099    172.21.36.46:49160  192.168.100.149:4444         6     0.000   \n",
       "\n",
       "         IN_BYTES  OUT_BYTES  IN_PKTS  OUT_PKTS  TCP_FLAGS  \\\n",
       "0              71        126        1         1          0   \n",
       "1       217753000     199100     4521      4049         24   \n",
       "2         8508021    8918372     9086      9086          0   \n",
       "3         8442138    9013406     9086      9086          0   \n",
       "4         8374706          0     9086         0          0   \n",
       "...           ...        ...      ...       ...        ...   \n",
       "600095    2330065          0     2523         0          0   \n",
       "600096    1054423          0     1513         0          0   \n",
       "600097      62422          0     1357         0          0   \n",
       "600098      11300       1664       32        32         24   \n",
       "600099   40102320      37280      763       590         24   \n",
       "\n",
       "        FLOW_DURATION_MILLISECONDS  label  \n",
       "0                          4294966      0  \n",
       "1                          4176249      4  \n",
       "2                          4175916      0  \n",
       "3                          4175916      0  \n",
       "4                          4175916      0  \n",
       "...                            ...    ...  \n",
       "600095                     4263037      0  \n",
       "600096                     4263062      0  \n",
       "600097                     4263062      0  \n",
       "600098                     4264935      0  \n",
       "600099                     4270068      4  \n",
       "\n",
       "[600100 rows x 11 columns]"
      ]
     },
     "execution_count": 16,
     "metadata": {},
     "output_type": "execute_result"
    }
   ],
   "source": [
    "data"
   ]
  },
  {
   "cell_type": "code",
   "execution_count": 17,
   "metadata": {
    "id": "PUa4uJbewQc7"
   },
   "outputs": [],
   "source": [
    "X_train, X_test, y_train, y_test = train_test_split(\n",
    "     data, label, test_size=0.3, random_state=123,stratify= label)"
   ]
  },
  {
   "cell_type": "code",
   "execution_count": 18,
   "metadata": {
    "colab": {
     "base_uri": "https://localhost:8080/"
    },
    "id": "z3DrIWDHqNxp",
    "outputId": "e2777f43-f37e-4596-eb7b-21186d3bf389"
   },
   "outputs": [],
   "source": [
    "encoder = ce.TargetEncoder(cols=['TCP_FLAGS','L7_PROTO','PROTOCOL'])\n",
    "encoder.fit(X_train, y_train)\n",
    "X_train = encoder.transform(X_train)"
   ]
  },
  {
   "cell_type": "code",
   "execution_count": 19,
   "metadata": {
    "id": "EDKYHCbcqN81"
   },
   "outputs": [],
   "source": [
    "cols_to_norm = list(set(list(X_train.iloc[:, 2:].columns ))  - set(list(['label'])) )\n",
    "X_train[cols_to_norm] = scaler.fit_transform(X_train[cols_to_norm])"
   ]
  },
  {
   "cell_type": "code",
   "execution_count": 20,
   "metadata": {
    "id": "ek535MkWwUHN"
   },
   "outputs": [],
   "source": [
    "X_train['h'] = X_train[ cols_to_norm ].values.tolist()"
   ]
  },
  {
   "cell_type": "code",
   "execution_count": 21,
   "metadata": {
    "colab": {
     "base_uri": "https://localhost:8080/",
     "height": 711
    },
    "id": "v4mfPB0X9rRX",
    "outputId": "29a8752f-28cd-49b4-c4c1-15e0d58d4a6a"
   },
   "outputs": [
    {
     "data": {
      "text/html": [
       "<div>\n",
       "<style scoped>\n",
       "    .dataframe tbody tr th:only-of-type {\n",
       "        vertical-align: middle;\n",
       "    }\n",
       "\n",
       "    .dataframe tbody tr th {\n",
       "        vertical-align: top;\n",
       "    }\n",
       "\n",
       "    .dataframe thead th {\n",
       "        text-align: right;\n",
       "    }\n",
       "</style>\n",
       "<table border=\"1\" class=\"dataframe\">\n",
       "  <thead>\n",
       "    <tr style=\"text-align: right;\">\n",
       "      <th></th>\n",
       "      <th>IPV4_SRC_ADDR</th>\n",
       "      <th>IPV4_DST_ADDR</th>\n",
       "      <th>PROTOCOL</th>\n",
       "      <th>L7_PROTO</th>\n",
       "      <th>IN_BYTES</th>\n",
       "      <th>OUT_BYTES</th>\n",
       "      <th>IN_PKTS</th>\n",
       "      <th>OUT_PKTS</th>\n",
       "      <th>TCP_FLAGS</th>\n",
       "      <th>FLOW_DURATION_MILLISECONDS</th>\n",
       "      <th>label</th>\n",
       "      <th>h</th>\n",
       "    </tr>\n",
       "  </thead>\n",
       "  <tbody>\n",
       "    <tr>\n",
       "      <th>592389</th>\n",
       "      <td>172.24.77.9:57470</td>\n",
       "      <td>192.168.100.3:80</td>\n",
       "      <td>0.256954</td>\n",
       "      <td>-1.668013</td>\n",
       "      <td>-0.010775</td>\n",
       "      <td>-0.007610</td>\n",
       "      <td>0.002649</td>\n",
       "      <td>-0.008687</td>\n",
       "      <td>-1.420647</td>\n",
       "      <td>-2.082482</td>\n",
       "      <td>3</td>\n",
       "      <td>[-0.008687378732836464, -0.007609741239479864,...</td>\n",
       "    </tr>\n",
       "    <tr>\n",
       "      <th>541914</th>\n",
       "      <td>172.26.228.202:53426</td>\n",
       "      <td>192.168.100.3:80</td>\n",
       "      <td>0.256954</td>\n",
       "      <td>-1.668013</td>\n",
       "      <td>-0.015998</td>\n",
       "      <td>-0.007551</td>\n",
       "      <td>-0.021496</td>\n",
       "      <td>-0.003471</td>\n",
       "      <td>-1.558214</td>\n",
       "      <td>-2.082482</td>\n",
       "      <td>1</td>\n",
       "      <td>[-0.003471109481788205, -0.00755078741810335, ...</td>\n",
       "    </tr>\n",
       "    <tr>\n",
       "      <th>393332</th>\n",
       "      <td>172.20.75.126:60855</td>\n",
       "      <td>192.168.100.6:9080</td>\n",
       "      <td>0.256954</td>\n",
       "      <td>0.565451</td>\n",
       "      <td>-0.017433</td>\n",
       "      <td>-0.008378</td>\n",
       "      <td>-0.045641</td>\n",
       "      <td>-0.024336</td>\n",
       "      <td>0.676025</td>\n",
       "      <td>0.496292</td>\n",
       "      <td>3</td>\n",
       "      <td>[-0.02433618648598124, -0.008378408372042869, ...</td>\n",
       "    </tr>\n",
       "    <tr>\n",
       "      <th>180488</th>\n",
       "      <td>172.30.32.235:14323</td>\n",
       "      <td>192.168.100.3:12139</td>\n",
       "      <td>0.256954</td>\n",
       "      <td>0.565451</td>\n",
       "      <td>-0.017440</td>\n",
       "      <td>-0.008378</td>\n",
       "      <td>-0.045641</td>\n",
       "      <td>-0.024336</td>\n",
       "      <td>0.676025</td>\n",
       "      <td>0.496292</td>\n",
       "      <td>3</td>\n",
       "      <td>[-0.02433618648598124, -0.008378408372042869, ...</td>\n",
       "    </tr>\n",
       "    <tr>\n",
       "      <th>207769</th>\n",
       "      <td>172.18.171.31:40317</td>\n",
       "      <td>192.168.100.5:5357</td>\n",
       "      <td>0.256954</td>\n",
       "      <td>0.565451</td>\n",
       "      <td>-0.017433</td>\n",
       "      <td>-0.008378</td>\n",
       "      <td>-0.045641</td>\n",
       "      <td>-0.024336</td>\n",
       "      <td>0.676025</td>\n",
       "      <td>0.496292</td>\n",
       "      <td>3</td>\n",
       "      <td>[-0.02433618648598124, -0.008378408372042869, ...</td>\n",
       "    </tr>\n",
       "    <tr>\n",
       "      <th>...</th>\n",
       "      <td>...</td>\n",
       "      <td>...</td>\n",
       "      <td>...</td>\n",
       "      <td>...</td>\n",
       "      <td>...</td>\n",
       "      <td>...</td>\n",
       "      <td>...</td>\n",
       "      <td>...</td>\n",
       "      <td>...</td>\n",
       "      <td>...</td>\n",
       "      <td>...</td>\n",
       "      <td>...</td>\n",
       "    </tr>\n",
       "    <tr>\n",
       "      <th>96131</th>\n",
       "      <td>172.20.188.145:57963</td>\n",
       "      <td>192.168.100.5:1027</td>\n",
       "      <td>0.256954</td>\n",
       "      <td>0.565451</td>\n",
       "      <td>-0.017433</td>\n",
       "      <td>-0.008378</td>\n",
       "      <td>-0.045641</td>\n",
       "      <td>-0.024336</td>\n",
       "      <td>0.676025</td>\n",
       "      <td>0.496290</td>\n",
       "      <td>3</td>\n",
       "      <td>[-0.02433618648598124, -0.008378408372042869, ...</td>\n",
       "    </tr>\n",
       "    <tr>\n",
       "      <th>583684</th>\n",
       "      <td>172.25.169.211:54248</td>\n",
       "      <td>192.168.100.3:80</td>\n",
       "      <td>0.256954</td>\n",
       "      <td>-1.668013</td>\n",
       "      <td>-0.016132</td>\n",
       "      <td>-0.007551</td>\n",
       "      <td>-0.021496</td>\n",
       "      <td>-0.003471</td>\n",
       "      <td>-1.558214</td>\n",
       "      <td>-2.082482</td>\n",
       "      <td>1</td>\n",
       "      <td>[-0.003471109481788205, -0.00755078741810335, ...</td>\n",
       "    </tr>\n",
       "    <tr>\n",
       "      <th>599529</th>\n",
       "      <td>172.20.202.104:43797</td>\n",
       "      <td>192.168.100.150:4433</td>\n",
       "      <td>0.256954</td>\n",
       "      <td>0.565451</td>\n",
       "      <td>-0.017403</td>\n",
       "      <td>-0.008378</td>\n",
       "      <td>-0.045641</td>\n",
       "      <td>-0.024336</td>\n",
       "      <td>0.676025</td>\n",
       "      <td>0.496292</td>\n",
       "      <td>4</td>\n",
       "      <td>[-0.02433618648598124, -0.008378408372042869, ...</td>\n",
       "    </tr>\n",
       "    <tr>\n",
       "      <th>352726</th>\n",
       "      <td>172.27.121.115:33197</td>\n",
       "      <td>192.168.100.5:90</td>\n",
       "      <td>0.256954</td>\n",
       "      <td>0.565451</td>\n",
       "      <td>-0.017433</td>\n",
       "      <td>-0.008378</td>\n",
       "      <td>-0.045641</td>\n",
       "      <td>-0.024336</td>\n",
       "      <td>0.676025</td>\n",
       "      <td>0.496289</td>\n",
       "      <td>3</td>\n",
       "      <td>[-0.02433618648598124, -0.008378408372042869, ...</td>\n",
       "    </tr>\n",
       "    <tr>\n",
       "      <th>566386</th>\n",
       "      <td>172.27.70.100:48166</td>\n",
       "      <td>192.168.100.3:80</td>\n",
       "      <td>0.256954</td>\n",
       "      <td>-1.668013</td>\n",
       "      <td>-0.017306</td>\n",
       "      <td>-0.008424</td>\n",
       "      <td>-0.041617</td>\n",
       "      <td>-0.029552</td>\n",
       "      <td>0.676025</td>\n",
       "      <td>-1.679595</td>\n",
       "      <td>1</td>\n",
       "      <td>[-0.029552455737029498, -0.008423757465409418,...</td>\n",
       "    </tr>\n",
       "  </tbody>\n",
       "</table>\n",
       "<p>420070 rows × 12 columns</p>\n",
       "</div>"
      ],
      "text/plain": [
       "               IPV4_SRC_ADDR         IPV4_DST_ADDR  PROTOCOL  L7_PROTO  \\\n",
       "592389     172.24.77.9:57470      192.168.100.3:80  0.256954 -1.668013   \n",
       "541914  172.26.228.202:53426      192.168.100.3:80  0.256954 -1.668013   \n",
       "393332   172.20.75.126:60855    192.168.100.6:9080  0.256954  0.565451   \n",
       "180488   172.30.32.235:14323   192.168.100.3:12139  0.256954  0.565451   \n",
       "207769   172.18.171.31:40317    192.168.100.5:5357  0.256954  0.565451   \n",
       "...                      ...                   ...       ...       ...   \n",
       "96131   172.20.188.145:57963    192.168.100.5:1027  0.256954  0.565451   \n",
       "583684  172.25.169.211:54248      192.168.100.3:80  0.256954 -1.668013   \n",
       "599529  172.20.202.104:43797  192.168.100.150:4433  0.256954  0.565451   \n",
       "352726  172.27.121.115:33197      192.168.100.5:90  0.256954  0.565451   \n",
       "566386   172.27.70.100:48166      192.168.100.3:80  0.256954 -1.668013   \n",
       "\n",
       "        IN_BYTES  OUT_BYTES   IN_PKTS  OUT_PKTS  TCP_FLAGS  \\\n",
       "592389 -0.010775  -0.007610  0.002649 -0.008687  -1.420647   \n",
       "541914 -0.015998  -0.007551 -0.021496 -0.003471  -1.558214   \n",
       "393332 -0.017433  -0.008378 -0.045641 -0.024336   0.676025   \n",
       "180488 -0.017440  -0.008378 -0.045641 -0.024336   0.676025   \n",
       "207769 -0.017433  -0.008378 -0.045641 -0.024336   0.676025   \n",
       "...          ...        ...       ...       ...        ...   \n",
       "96131  -0.017433  -0.008378 -0.045641 -0.024336   0.676025   \n",
       "583684 -0.016132  -0.007551 -0.021496 -0.003471  -1.558214   \n",
       "599529 -0.017403  -0.008378 -0.045641 -0.024336   0.676025   \n",
       "352726 -0.017433  -0.008378 -0.045641 -0.024336   0.676025   \n",
       "566386 -0.017306  -0.008424 -0.041617 -0.029552   0.676025   \n",
       "\n",
       "        FLOW_DURATION_MILLISECONDS  label  \\\n",
       "592389                   -2.082482      3   \n",
       "541914                   -2.082482      1   \n",
       "393332                    0.496292      3   \n",
       "180488                    0.496292      3   \n",
       "207769                    0.496292      3   \n",
       "...                            ...    ...   \n",
       "96131                     0.496290      3   \n",
       "583684                   -2.082482      1   \n",
       "599529                    0.496292      4   \n",
       "352726                    0.496289      3   \n",
       "566386                   -1.679595      1   \n",
       "\n",
       "                                                        h  \n",
       "592389  [-0.008687378732836464, -0.007609741239479864,...  \n",
       "541914  [-0.003471109481788205, -0.00755078741810335, ...  \n",
       "393332  [-0.02433618648598124, -0.008378408372042869, ...  \n",
       "180488  [-0.02433618648598124, -0.008378408372042869, ...  \n",
       "207769  [-0.02433618648598124, -0.008378408372042869, ...  \n",
       "...                                                   ...  \n",
       "96131   [-0.02433618648598124, -0.008378408372042869, ...  \n",
       "583684  [-0.003471109481788205, -0.00755078741810335, ...  \n",
       "599529  [-0.02433618648598124, -0.008378408372042869, ...  \n",
       "352726  [-0.02433618648598124, -0.008378408372042869, ...  \n",
       "566386  [-0.029552455737029498, -0.008423757465409418,...  \n",
       "\n",
       "[420070 rows x 12 columns]"
      ]
     },
     "execution_count": 21,
     "metadata": {},
     "output_type": "execute_result"
    }
   ],
   "source": [
    "X_train"
   ]
  },
  {
   "cell_type": "code",
   "execution_count": 22,
   "metadata": {
    "id": "OIrcNfMSwa0j"
   },
   "outputs": [],
   "source": [
    "G = nx.from_pandas_edgelist(X_train, \"IPV4_SRC_ADDR\", \"IPV4_DST_ADDR\", ['h','label'],create_using=nx.MultiGraph())"
   ]
  },
  {
   "cell_type": "code",
   "execution_count": 23,
   "metadata": {
    "id": "QluLSxbiwn7M"
   },
   "outputs": [],
   "source": [
    "G = G.to_directed()\n"
   ]
  },
  {
   "cell_type": "code",
   "execution_count": 24,
   "metadata": {
    "id": "2zClkKEzwrVb"
   },
   "outputs": [],
   "source": [
    "G = from_networkx(G,edge_attrs=['h','label'] )\n"
   ]
  },
  {
   "cell_type": "code",
   "execution_count": 25,
   "metadata": {
    "id": "9jlBYgE8wsW7"
   },
   "outputs": [],
   "source": [
    "# Eq1\n",
    "G.ndata['h'] = th.ones(G.num_nodes(), G.edata['h'].shape[1])"
   ]
  },
  {
   "cell_type": "code",
   "execution_count": 26,
   "metadata": {
    "id": "E7Vc6IELwuJr"
   },
   "outputs": [],
   "source": [
    "G.edata['train_mask'] = th.ones(len(G.edata['h']), dtype=th.bool)\n"
   ]
  },
  {
   "cell_type": "code",
   "execution_count": 27,
   "metadata": {
    "colab": {
     "base_uri": "https://localhost:8080/"
    },
    "id": "BIx7-W6s46Ju",
    "outputId": "234c56a1-9958-4e82-e244-b2a41dcf2855"
   },
   "outputs": [
    {
     "data": {
      "text/plain": [
       "tensor([True, True, True,  ..., True, True, True])"
      ]
     },
     "execution_count": 27,
     "metadata": {},
     "output_type": "execute_result"
    }
   ],
   "source": [
    "G.edata['train_mask'] "
   ]
  },
  {
   "cell_type": "code",
   "execution_count": 28,
   "metadata": {
    "id": "DzDap1MR5e95"
   },
   "outputs": [],
   "source": [
    "def compute_accuracy(pred, labels):\n",
    "    return (pred.argmax(1) == labels).float().mean().item()"
   ]
  },
  {
   "cell_type": "code",
   "execution_count": 29,
   "metadata": {
    "id": "5VzTQxAR5HoT"
   },
   "outputs": [],
   "source": [
    "class SAGELayer(nn.Module):\n",
    "    def __init__(self, ndim_in, edims, ndim_out, activation):\n",
    "        super(SAGELayer, self).__init__()\n",
    "        ### force to outut fix dimensions\n",
    "        self.W_msg = nn.Linear(ndim_in + edims, ndim_out)\n",
    "        ### apply weight\n",
    "        self.W_apply = nn.Linear(ndim_in + ndim_out, ndim_out)\n",
    "        self.activation = activation\n",
    "\n",
    "    def message_func(self, edges):\n",
    "        return {'m': self.W_msg(th.cat([edges.src['h'], edges.data['h']], 2))}\n",
    "\n",
    "    def forward(self, g_dgl, nfeats, efeats):\n",
    "        with g_dgl.local_scope():\n",
    "            g = g_dgl\n",
    "            g.ndata['h'] = nfeats\n",
    "            g.edata['h'] = efeats\n",
    "            # Eq4\n",
    "            g.update_all(self.message_func, fn.mean('m', 'h_neigh'))\n",
    "            # Eq5          \n",
    "            g.ndata['h'] = F.relu(self.W_apply(th.cat([g.ndata['h'], g.ndata['h_neigh']], 2)))\n",
    "            return g.ndata['h']\n",
    "\n",
    "\n",
    "class SAGE(nn.Module):\n",
    "    def __init__(self, ndim_in, ndim_out, edim, activation, dropout):\n",
    "        super(SAGE, self).__init__()\n",
    "        self.layers = nn.ModuleList()\n",
    "        self.layers.append(SAGELayer(ndim_in, edim, 128, activation))\n",
    "        self.layers.append(SAGELayer(128, edim, ndim_out, activation))\n",
    "        self.dropout = nn.Dropout(p=dropout)\n",
    "\n",
    "    def forward(self, g, nfeats, efeats):\n",
    "        for i, layer in enumerate(self.layers):\n",
    "            if i != 0:\n",
    "                nfeats = self.dropout(nfeats)\n",
    "            nfeats = layer(g, nfeats, efeats)\n",
    "        return nfeats.sum(1)"
   ]
  },
  {
   "cell_type": "code",
   "execution_count": 30,
   "metadata": {
    "id": "hrLYvze5wwMi"
   },
   "outputs": [],
   "source": [
    "class MLPPredictor(nn.Module):\n",
    "    def __init__(self, in_features, out_classes):\n",
    "        super().__init__()\n",
    "        self.W = nn.Linear(in_features * 2, out_classes)\n",
    "\n",
    "    def apply_edges(self, edges):\n",
    "        h_u = edges.src['h']\n",
    "        h_v = edges.dst['h']\n",
    "        score = self.W(th.cat([h_u, h_v], 1))\n",
    "        return {'score': score}\n",
    "\n",
    "    def forward(self, graph, h):\n",
    "        with graph.local_scope():\n",
    "            graph.ndata['h'] = h\n",
    "            graph.apply_edges(self.apply_edges)\n",
    "            return graph.edata['score']"
   ]
  },
  {
   "cell_type": "code",
   "execution_count": 31,
   "metadata": {
    "id": "GPLg-kCcwxLa"
   },
   "outputs": [],
   "source": [
    "G.ndata['h'] = th.reshape(G.ndata['h'], (G.ndata['h'].shape[0], 1,G.ndata['h'].shape[1]))\n",
    "G.edata['h'] = th.reshape(G.edata['h'], (G.edata['h'].shape[0], 1,G.edata['h'].shape[1]))"
   ]
  },
  {
   "cell_type": "code",
   "execution_count": 32,
   "metadata": {
    "id": "SwdZs785w1dT"
   },
   "outputs": [],
   "source": [
    "class Model(nn.Module):\n",
    "    def __init__(self, ndim_in, ndim_out, edim, activation, dropout):\n",
    "        super().__init__()\n",
    "        self.gnn = SAGE(ndim_in, ndim_out, edim, activation, dropout)\n",
    "        self.pred = MLPPredictor(ndim_out, 5)\n",
    "    def forward(self, g, nfeats, efeats):\n",
    "        h = self.gnn(g, nfeats, efeats)\n",
    "        return self.pred(g, h)"
   ]
  },
  {
   "cell_type": "code",
   "execution_count": 34,
   "metadata": {
    "id": "BEw7J1Z45R62"
   },
   "outputs": [
    {
     "name": "stdout",
     "output_type": "stream",
     "text": [
      "Class Weights Dictionary: {0: 8.66034429440264, 1: 2.1113819707974164, 2: 2.111806550536661, 3: 0.25500593397053956, 4: 62.884730538922156}\n"
     ]
    }
   ],
   "source": [
    "from sklearn.utils import class_weight\n",
    "import numpy as np # Ensure numpy is imported\n",
    "\n",
    "# Calculate unique classes and labels once\n",
    "labels_array = G.edata['label'].cpu().numpy()\n",
    "unique_classes = np.unique(labels_array)\n",
    "\n",
    "class_weights = class_weight.compute_class_weight(\n",
    "    'balanced',\n",
    "    classes=unique_classes, # Use keyword 'classes='\n",
    "    y=labels_array          # Use keyword 'y='\n",
    ")\n",
    "\n",
    "# Optional: Convert to a dictionary usable by many frameworks\n",
    "class_weights_dict = dict(zip(unique_classes, class_weights))\n",
    "print(\"Class Weights Dictionary:\", class_weights_dict)"
   ]
  },
  {
   "cell_type": "code",
   "execution_count": 35,
   "metadata": {
    "id": "Cti0vAFYw3A0"
   },
   "outputs": [],
   "source": [
    "class_weights = th.FloatTensor(class_weights).cuda()\n",
    "criterion = nn.CrossEntropyLoss(weight = class_weights)"
   ]
  },
  {
   "cell_type": "code",
   "execution_count": 36,
   "metadata": {
    "colab": {
     "base_uri": "https://localhost:8080/"
    },
    "id": "Rj3DHIZmw4IM",
    "outputId": "25d6e453-935e-4132-e67b-f6dbc46c699a"
   },
   "outputs": [
    {
     "data": {
      "text/plain": [
       "device(type='cuda', index=0)"
      ]
     },
     "execution_count": 36,
     "metadata": {},
     "output_type": "execute_result"
    }
   ],
   "source": [
    "G = G.to('cuda:0')\n",
    "G.device"
   ]
  },
  {
   "cell_type": "code",
   "execution_count": 37,
   "metadata": {
    "colab": {
     "base_uri": "https://localhost:8080/"
    },
    "id": "qdlVG3JOw5Qj",
    "outputId": "48880507-da3a-41d5-f470-b594953d822c"
   },
   "outputs": [
    {
     "data": {
      "text/plain": [
       "device(type='cuda', index=0)"
      ]
     },
     "execution_count": 37,
     "metadata": {},
     "output_type": "execute_result"
    }
   ],
   "source": [
    "G.ndata['h'].device\n"
   ]
  },
  {
   "cell_type": "code",
   "execution_count": 38,
   "metadata": {
    "colab": {
     "base_uri": "https://localhost:8080/"
    },
    "id": "dvt3pnXmw6U7",
    "outputId": "9f97f898-6d60-4295-dac3-16efa108353c"
   },
   "outputs": [
    {
     "data": {
      "text/plain": [
       "device(type='cuda', index=0)"
      ]
     },
     "execution_count": 38,
     "metadata": {},
     "output_type": "execute_result"
    }
   ],
   "source": [
    "G.edata['h'].device\n"
   ]
  },
  {
   "cell_type": "code",
   "execution_count": 39,
   "metadata": {
    "colab": {
     "base_uri": "https://localhost:8080/"
    },
    "id": "-_eTiHzWw8Cz",
    "outputId": "a9129648-590f-433f-99e1-f7cf871283d7"
   },
   "outputs": [
    {
     "name": "stdout",
     "output_type": "stream",
     "text": [
      "Training acc: 0.7461256384849548\n",
      "Training acc: 0.7597411870956421\n",
      "Training acc: 0.6701204180717468\n",
      "Training acc: 0.7692241668701172\n",
      "Training acc: 0.7561179995536804\n",
      "Training acc: 0.6912228465080261\n",
      "Training acc: 0.7658318877220154\n",
      "Training acc: 0.7406443953514099\n",
      "Training acc: 0.6237400770187378\n",
      "Training acc: 0.7736960053443909\n",
      "Training acc: 0.7276751399040222\n",
      "Training acc: 0.7723379135131836\n",
      "Training acc: 0.777778685092926\n",
      "Training acc: 0.7516520619392395\n",
      "Training acc: 0.6838205456733704\n",
      "Training acc: 0.7327231168746948\n",
      "Training acc: 0.7251386642456055\n",
      "Training acc: 0.7832801342010498\n",
      "Training acc: 0.7574511170387268\n",
      "Training acc: 0.784159779548645\n",
      "Training acc: 0.7817506194114685\n",
      "Training acc: 0.7680184245109558\n",
      "Training acc: 0.7742471098899841\n",
      "Training acc: 0.780815064907074\n",
      "Training acc: 0.7840074300765991\n",
      "Training acc: 0.7715023159980774\n",
      "Training acc: 0.7848120331764221\n",
      "Training acc: 0.7840990424156189\n",
      "Training acc: 0.7751898169517517\n",
      "Training acc: 0.773553192615509\n",
      "Training acc: 0.7792510390281677\n",
      "Training acc: 0.7845430374145508\n",
      "Training acc: 0.7855083346366882\n",
      "Training acc: 0.7847763299942017\n",
      "Training acc: 0.7861201167106628\n",
      "Training acc: 0.784113347530365\n",
      "Training acc: 0.7809317111968994\n",
      "Training acc: 0.7747874855995178\n",
      "Training acc: 0.7852084040641785\n",
      "Training acc: 0.7864784002304077\n",
      "Training acc: 0.7860642075538635\n",
      "Training acc: 0.7872532606124878\n",
      "Training acc: 0.7862534523010254\n",
      "Training acc: 0.7863557934761047\n",
      "Training acc: 0.7862034440040588\n",
      "Training acc: 0.7871473431587219\n",
      "Training acc: 0.7742626070976257\n",
      "Training acc: 0.7866474390029907\n",
      "Training acc: 0.7866795659065247\n",
      "Training acc: 0.7872128486633301\n",
      "Training acc: 0.7875294089317322\n",
      "Training acc: 0.7870283126831055\n",
      "Training acc: 0.7876079678535461\n",
      "Training acc: 0.791210949420929\n",
      "Training acc: 0.7774417996406555\n",
      "Training acc: 0.7788368463516235\n",
      "Training acc: 0.7757468819618225\n",
      "Training acc: 0.7865819931030273\n",
      "Training acc: 0.7875199317932129\n",
      "Training acc: 0.7867854833602905\n",
      "Training acc: 0.7922429442405701\n",
      "Training acc: 0.7866033911705017\n",
      "Training acc: 0.7868045568466187\n",
      "Training acc: 0.7879472374916077\n",
      "Training acc: 0.7872925400733948\n",
      "Training acc: 0.7836562991142273\n",
      "Training acc: 0.7877853512763977\n",
      "Training acc: 0.7865010499954224\n",
      "Training acc: 0.7854476571083069\n",
      "Training acc: 0.7867140769958496\n",
      "Training acc: 0.7874056696891785\n",
      "Training acc: 0.7875472903251648\n",
      "Training acc: 0.7865164875984192\n",
      "Training acc: 0.7866807579994202\n",
      "Training acc: 0.7797867059707642\n",
      "Training acc: 0.7870402336120605\n",
      "Training acc: 0.787080705165863\n",
      "Training acc: 0.7875806093215942\n",
      "Training acc: 0.7873104214668274\n"
     ]
    }
   ],
   "source": [
    "node_features = G.ndata['h']\n",
    "edge_features = G.edata['h']\n",
    "\n",
    "edge_label = G.edata['label']\n",
    "train_mask = G.edata['train_mask']\n",
    "\n",
    "model = Model(G.ndata['h'].shape[2], 128, G.ndata['h'].shape[2], F.relu, 0.2).cuda()\n",
    "opt = th.optim.Adam(model.parameters())\n",
    "\n",
    "for epoch in range(1,8000):\n",
    "    pred = model(G, node_features,edge_features).cuda()\n",
    "    loss = criterion(pred[train_mask] ,edge_label[train_mask])\n",
    "    opt.zero_grad()\n",
    "    loss.backward()\n",
    "    opt.step()\n",
    "    if epoch % 100 == 0:\n",
    "      print('Training acc:', compute_accuracy(pred[train_mask], edge_label[train_mask]))\n"
   ]
  },
  {
   "cell_type": "code",
   "execution_count": 40,
   "metadata": {
    "id": "p7gYo6lVtHCN"
   },
   "outputs": [],
   "source": [
    "X_test = encoder.transform(X_test)"
   ]
  },
  {
   "cell_type": "code",
   "execution_count": 41,
   "metadata": {
    "id": "OUGIEbMFtSnf"
   },
   "outputs": [],
   "source": [
    "X_test[cols_to_norm] = scaler.transform(X_test[cols_to_norm])"
   ]
  },
  {
   "cell_type": "code",
   "execution_count": 42,
   "metadata": {
    "colab": {
     "base_uri": "https://localhost:8080/",
     "height": 439
    },
    "id": "VlyqlEqjtb9s",
    "outputId": "6b637a23-7f60-4810-9348-38c50d09d30c"
   },
   "outputs": [
    {
     "data": {
      "text/html": [
       "<div>\n",
       "<style scoped>\n",
       "    .dataframe tbody tr th:only-of-type {\n",
       "        vertical-align: middle;\n",
       "    }\n",
       "\n",
       "    .dataframe tbody tr th {\n",
       "        vertical-align: top;\n",
       "    }\n",
       "\n",
       "    .dataframe thead th {\n",
       "        text-align: right;\n",
       "    }\n",
       "</style>\n",
       "<table border=\"1\" class=\"dataframe\">\n",
       "  <thead>\n",
       "    <tr style=\"text-align: right;\">\n",
       "      <th></th>\n",
       "      <th>IPV4_SRC_ADDR</th>\n",
       "      <th>IPV4_DST_ADDR</th>\n",
       "      <th>PROTOCOL</th>\n",
       "      <th>L7_PROTO</th>\n",
       "      <th>IN_BYTES</th>\n",
       "      <th>OUT_BYTES</th>\n",
       "      <th>IN_PKTS</th>\n",
       "      <th>OUT_PKTS</th>\n",
       "      <th>TCP_FLAGS</th>\n",
       "      <th>FLOW_DURATION_MILLISECONDS</th>\n",
       "      <th>label</th>\n",
       "    </tr>\n",
       "  </thead>\n",
       "  <tbody>\n",
       "    <tr>\n",
       "      <th>508964</th>\n",
       "      <td>172.29.7.137:3851</td>\n",
       "      <td>192.168.100.148:57874</td>\n",
       "      <td>0.256954</td>\n",
       "      <td>0.565451</td>\n",
       "      <td>-0.017440</td>\n",
       "      <td>-0.008374</td>\n",
       "      <td>-0.045641</td>\n",
       "      <td>-0.024336</td>\n",
       "      <td>0.676025</td>\n",
       "      <td>0.496292</td>\n",
       "      <td>3</td>\n",
       "    </tr>\n",
       "    <tr>\n",
       "      <th>550351</th>\n",
       "      <td>172.18.117.162:59388</td>\n",
       "      <td>192.168.100.3:80</td>\n",
       "      <td>0.256954</td>\n",
       "      <td>-1.668013</td>\n",
       "      <td>-0.015694</td>\n",
       "      <td>-0.007551</td>\n",
       "      <td>-0.021496</td>\n",
       "      <td>-0.003471</td>\n",
       "      <td>-1.558214</td>\n",
       "      <td>-2.082482</td>\n",
       "      <td>3</td>\n",
       "    </tr>\n",
       "    <tr>\n",
       "      <th>126326</th>\n",
       "      <td>172.22.35.9:14903</td>\n",
       "      <td>192.168.100.3:12625</td>\n",
       "      <td>0.256954</td>\n",
       "      <td>0.565451</td>\n",
       "      <td>-0.017440</td>\n",
       "      <td>-0.008378</td>\n",
       "      <td>-0.045641</td>\n",
       "      <td>-0.024336</td>\n",
       "      <td>0.676025</td>\n",
       "      <td>0.496292</td>\n",
       "      <td>3</td>\n",
       "    </tr>\n",
       "    <tr>\n",
       "      <th>75198</th>\n",
       "      <td>172.22.130.110:33223</td>\n",
       "      <td>192.168.100.5:2383</td>\n",
       "      <td>0.256954</td>\n",
       "      <td>0.565451</td>\n",
       "      <td>-0.017433</td>\n",
       "      <td>-0.008378</td>\n",
       "      <td>-0.045641</td>\n",
       "      <td>-0.024336</td>\n",
       "      <td>0.676025</td>\n",
       "      <td>0.496290</td>\n",
       "      <td>3</td>\n",
       "    </tr>\n",
       "    <tr>\n",
       "      <th>459608</th>\n",
       "      <td>172.18.128.1:53308</td>\n",
       "      <td>192.168.100.3:3306</td>\n",
       "      <td>0.256954</td>\n",
       "      <td>0.565451</td>\n",
       "      <td>-0.016705</td>\n",
       "      <td>-0.007860</td>\n",
       "      <td>-0.021496</td>\n",
       "      <td>0.001745</td>\n",
       "      <td>-1.379682</td>\n",
       "      <td>0.496174</td>\n",
       "      <td>3</td>\n",
       "    </tr>\n",
       "    <tr>\n",
       "      <th>...</th>\n",
       "      <td>...</td>\n",
       "      <td>...</td>\n",
       "      <td>...</td>\n",
       "      <td>...</td>\n",
       "      <td>...</td>\n",
       "      <td>...</td>\n",
       "      <td>...</td>\n",
       "      <td>...</td>\n",
       "      <td>...</td>\n",
       "      <td>...</td>\n",
       "      <td>...</td>\n",
       "    </tr>\n",
       "    <tr>\n",
       "      <th>219108</th>\n",
       "      <td>172.22.68.206:45576</td>\n",
       "      <td>192.168.100.3:1114</td>\n",
       "      <td>0.256954</td>\n",
       "      <td>0.565451</td>\n",
       "      <td>-0.017433</td>\n",
       "      <td>-0.008378</td>\n",
       "      <td>-0.045641</td>\n",
       "      <td>-0.024336</td>\n",
       "      <td>0.676025</td>\n",
       "      <td>0.496292</td>\n",
       "      <td>3</td>\n",
       "    </tr>\n",
       "    <tr>\n",
       "      <th>527997</th>\n",
       "      <td>172.26.54.221:40850</td>\n",
       "      <td>192.168.100.3:60161</td>\n",
       "      <td>0.256954</td>\n",
       "      <td>0.565451</td>\n",
       "      <td>-0.017433</td>\n",
       "      <td>-0.008378</td>\n",
       "      <td>-0.045641</td>\n",
       "      <td>-0.024336</td>\n",
       "      <td>0.676025</td>\n",
       "      <td>0.496292</td>\n",
       "      <td>3</td>\n",
       "    </tr>\n",
       "    <tr>\n",
       "      <th>38363</th>\n",
       "      <td>172.20.88.224:57088</td>\n",
       "      <td>192.168.100.7:80</td>\n",
       "      <td>0.256954</td>\n",
       "      <td>-1.668013</td>\n",
       "      <td>-0.016455</td>\n",
       "      <td>-0.006905</td>\n",
       "      <td>-0.029544</td>\n",
       "      <td>-0.008687</td>\n",
       "      <td>-1.379682</td>\n",
       "      <td>0.486699</td>\n",
       "      <td>1</td>\n",
       "    </tr>\n",
       "    <tr>\n",
       "      <th>159958</th>\n",
       "      <td>172.22.121.221:39747</td>\n",
       "      <td>192.168.100.7:2251</td>\n",
       "      <td>0.256954</td>\n",
       "      <td>0.565451</td>\n",
       "      <td>-0.017433</td>\n",
       "      <td>-0.008378</td>\n",
       "      <td>-0.045641</td>\n",
       "      <td>-0.024336</td>\n",
       "      <td>0.676025</td>\n",
       "      <td>0.496292</td>\n",
       "      <td>3</td>\n",
       "    </tr>\n",
       "    <tr>\n",
       "      <th>541341</th>\n",
       "      <td>172.19.244.197:53054</td>\n",
       "      <td>192.168.100.3:80</td>\n",
       "      <td>0.256954</td>\n",
       "      <td>-1.668013</td>\n",
       "      <td>-0.016222</td>\n",
       "      <td>-0.007551</td>\n",
       "      <td>-0.021496</td>\n",
       "      <td>-0.003471</td>\n",
       "      <td>-1.558214</td>\n",
       "      <td>-2.082482</td>\n",
       "      <td>2</td>\n",
       "    </tr>\n",
       "  </tbody>\n",
       "</table>\n",
       "<p>180030 rows × 11 columns</p>\n",
       "</div>"
      ],
      "text/plain": [
       "               IPV4_SRC_ADDR          IPV4_DST_ADDR  PROTOCOL  L7_PROTO  \\\n",
       "508964     172.29.7.137:3851  192.168.100.148:57874  0.256954  0.565451   \n",
       "550351  172.18.117.162:59388       192.168.100.3:80  0.256954 -1.668013   \n",
       "126326     172.22.35.9:14903    192.168.100.3:12625  0.256954  0.565451   \n",
       "75198   172.22.130.110:33223     192.168.100.5:2383  0.256954  0.565451   \n",
       "459608    172.18.128.1:53308     192.168.100.3:3306  0.256954  0.565451   \n",
       "...                      ...                    ...       ...       ...   \n",
       "219108   172.22.68.206:45576     192.168.100.3:1114  0.256954  0.565451   \n",
       "527997   172.26.54.221:40850    192.168.100.3:60161  0.256954  0.565451   \n",
       "38363    172.20.88.224:57088       192.168.100.7:80  0.256954 -1.668013   \n",
       "159958  172.22.121.221:39747     192.168.100.7:2251  0.256954  0.565451   \n",
       "541341  172.19.244.197:53054       192.168.100.3:80  0.256954 -1.668013   \n",
       "\n",
       "        IN_BYTES  OUT_BYTES   IN_PKTS  OUT_PKTS  TCP_FLAGS  \\\n",
       "508964 -0.017440  -0.008374 -0.045641 -0.024336   0.676025   \n",
       "550351 -0.015694  -0.007551 -0.021496 -0.003471  -1.558214   \n",
       "126326 -0.017440  -0.008378 -0.045641 -0.024336   0.676025   \n",
       "75198  -0.017433  -0.008378 -0.045641 -0.024336   0.676025   \n",
       "459608 -0.016705  -0.007860 -0.021496  0.001745  -1.379682   \n",
       "...          ...        ...       ...       ...        ...   \n",
       "219108 -0.017433  -0.008378 -0.045641 -0.024336   0.676025   \n",
       "527997 -0.017433  -0.008378 -0.045641 -0.024336   0.676025   \n",
       "38363  -0.016455  -0.006905 -0.029544 -0.008687  -1.379682   \n",
       "159958 -0.017433  -0.008378 -0.045641 -0.024336   0.676025   \n",
       "541341 -0.016222  -0.007551 -0.021496 -0.003471  -1.558214   \n",
       "\n",
       "        FLOW_DURATION_MILLISECONDS  label  \n",
       "508964                    0.496292      3  \n",
       "550351                   -2.082482      3  \n",
       "126326                    0.496292      3  \n",
       "75198                     0.496290      3  \n",
       "459608                    0.496174      3  \n",
       "...                            ...    ...  \n",
       "219108                    0.496292      3  \n",
       "527997                    0.496292      3  \n",
       "38363                     0.486699      1  \n",
       "159958                    0.496292      3  \n",
       "541341                   -2.082482      2  \n",
       "\n",
       "[180030 rows x 11 columns]"
      ]
     },
     "execution_count": 42,
     "metadata": {},
     "output_type": "execute_result"
    }
   ],
   "source": [
    "X_test"
   ]
  },
  {
   "cell_type": "code",
   "execution_count": 43,
   "metadata": {
    "id": "q5CMxVe5xIDb"
   },
   "outputs": [],
   "source": [
    "X_test['h'] = X_test[ cols_to_norm ].values.tolist()"
   ]
  },
  {
   "cell_type": "code",
   "execution_count": 44,
   "metadata": {
    "id": "VsAmtLAbxN_6"
   },
   "outputs": [],
   "source": [
    "G_test = nx.from_pandas_edgelist(X_test, \"IPV4_SRC_ADDR\", \"IPV4_DST_ADDR\", ['h','label'],create_using=nx.MultiGraph())\n",
    "G_test = G_test.to_directed()\n",
    "G_test = from_networkx(G_test,edge_attrs=['h','label'] )\n",
    "actual = G_test.edata.pop('label')\n",
    "G_test.ndata['feature'] = th.ones(G_test.num_nodes(), G.ndata['h'].shape[2])"
   ]
  },
  {
   "cell_type": "code",
   "execution_count": 45,
   "metadata": {
    "id": "Eeux6JIxxQtC"
   },
   "outputs": [],
   "source": [
    "G_test.ndata['feature'] = th.reshape(G_test.ndata['feature'], (G_test.ndata['feature'].shape[0], 1, G_test.ndata['feature'].shape[1]))"
   ]
  },
  {
   "cell_type": "code",
   "execution_count": 46,
   "metadata": {
    "id": "PBETQI3YxYay"
   },
   "outputs": [],
   "source": [
    "G_test.edata['h'] = th.reshape(G_test.edata['h'], (G_test.edata['h'].shape[0], 1, G_test.edata['h'].shape[1]))\n"
   ]
  },
  {
   "cell_type": "code",
   "execution_count": 47,
   "metadata": {
    "id": "qlTOyVN6xZZB"
   },
   "outputs": [],
   "source": [
    "G_test = G_test.to('cuda:0')\n"
   ]
  },
  {
   "cell_type": "code",
   "execution_count": 48,
   "metadata": {
    "id": "QyugNIt9xac6"
   },
   "outputs": [],
   "source": [
    "import timeit\n",
    "start_time = timeit.default_timer()\n",
    "node_features_test = G_test.ndata['feature']\n",
    "edge_features_test = G_test.edata['h']\n",
    "test_pred = model(G_test, node_features_test, edge_features_test).cuda()\n",
    "elapsed = timeit.default_timer() - start_time"
   ]
  },
  {
   "cell_type": "code",
   "execution_count": 49,
   "metadata": {
    "colab": {
     "base_uri": "https://localhost:8080/"
    },
    "id": "KecCvilSxcFK",
    "outputId": "8e974877-889d-43a1-e5c7-06e1e731e1d0"
   },
   "outputs": [
    {
     "name": "stdout",
     "output_type": "stream",
     "text": [
      "0.03043600171804428 seconds\n"
     ]
    }
   ],
   "source": [
    "print(str(elapsed) + ' seconds')\n"
   ]
  },
  {
   "cell_type": "code",
   "execution_count": 50,
   "metadata": {
    "id": "BNQLnLoAxdST"
   },
   "outputs": [],
   "source": [
    "test_pred = test_pred.argmax(1)\n"
   ]
  },
  {
   "cell_type": "code",
   "execution_count": 51,
   "metadata": {
    "id": "9dtggXXsxevx"
   },
   "outputs": [],
   "source": [
    "test_pred = th.Tensor.cpu(test_pred).detach().numpy()\n"
   ]
  },
  {
   "cell_type": "code",
   "execution_count": 52,
   "metadata": {
    "id": "5TGb_KWRxfzS"
   },
   "outputs": [],
   "source": [
    "actual = le.inverse_transform(actual)\n",
    "test_pred = le.inverse_transform(test_pred)"
   ]
  },
  {
   "cell_type": "code",
   "execution_count": 56,
   "metadata": {
    "id": "uMRairwzxiBC"
   },
   "outputs": [],
   "source": [
    "import numpy as np\n",
    "\n",
    "\n",
    "def plot_confusion_matrix(cm,\n",
    "                          target_names,\n",
    "                          title='Confusion matrix',\n",
    "                          cmap=None,\n",
    "                          normalize=True):\n",
    "    \n",
    "    import matplotlib.pyplot as plt\n",
    "    import numpy as np\n",
    "    import itertools\n",
    "\n",
    "    accuracy = np.trace(cm) / float(np.sum(cm))\n",
    "    misclass = 1 - accuracy\n",
    "\n",
    "    if cmap is None:\n",
    "        cmap = plt.get_cmap('Blues')\n",
    "\n",
    "    plt.figure(figsize=(12, 12))\n",
    "    plt.imshow(cm, interpolation='nearest', cmap=cmap)\n",
    "    plt.title(title)\n",
    "    plt.colorbar()\n",
    "\n",
    "    if target_names is not None:\n",
    "        tick_marks = np.arange(len(target_names))\n",
    "        plt.xticks(tick_marks, target_names, rotation=45)\n",
    "        plt.yticks(tick_marks, target_names)\n",
    "\n",
    "    if normalize:\n",
    "        cm = cm.astype('float') / cm.sum(axis=1)[:, np.newaxis]\n",
    "\n",
    "\n",
    "    thresh = cm.max() / 1.5 if normalize else cm.max() / 2\n",
    "    for i, j in itertools.product(range(cm.shape[0]), range(cm.shape[1])):\n",
    "        if normalize:\n",
    "            plt.text(j, i, \"{:0.4f}\".format(cm[i, j]),\n",
    "                     horizontalalignment=\"center\",\n",
    "                     color=\"white\" if cm[i, j] > thresh else \"black\")\n",
    "        else:\n",
    "            plt.text(j, i, \"{:,}\".format(cm[i, j]),\n",
    "                     horizontalalignment=\"center\",\n",
    "                     color=\"white\" if cm[i, j] > thresh else \"black\")\n",
    "\n",
    "\n",
    "    plt.tight_layout()\n",
    "    plt.ylabel('True label')\n",
    "    plt.xlabel('Predicted label\\naccuracy={:0.4f}; misclass={:0.4f}'.format(accuracy, misclass))\n",
    "    plt.show()"
   ]
  },
  {
   "cell_type": "code",
   "execution_count": 55,
   "metadata": {
    "colab": {
     "base_uri": "https://localhost:8080/",
     "height": 718
    },
    "id": "KNCkVWyqxjaR",
    "outputId": "3af8ef73-a011-49a7-9335-52ba77ea7dd4"
   },
   "outputs": [
    {
     "data": {
      "image/png": "[encoded data removed]",
      "text/plain": [
       "<Figure size 1200x1200 with 2 Axes>"
      ]
     },
     "metadata": {},
     "output_type": "display_data"
    }
   ],
   "source": [
    "from sklearn.metrics import confusion_matrix\n",
    "\n",
    "plot_confusion_matrix(cm = confusion_matrix(actual, test_pred), \n",
    "                      normalize    = False,\n",
    "                      target_names = np.unique(actual),\n",
    "                      title        = \"Confusion Matrix\")"
   ]
  },
  {
   "cell_type": "code",
   "execution_count": null,
   "metadata": {
    "id": "rC9-S7j9A48K"
   },
   "outputs": [],
   "source": []
  }
 ],
 "metadata": {
  "accelerator": "GPU",
  "colab": {
   "collapsed_sections": [],
   "machine_shape": "hm",
   "name": "Unsw_bot_iot_multiclass_mean_agg.ipynb",
   "provenance": []
  },
  "kernelspec": {
   "display_name": "gnn_cuda_env",
   "language": "python",
   "name": "python3"
  },
  "language_info": {
   "codemirror_mode": {
    "name": "ipython",
    "version": 3
   },
   "file_extension": ".py",
   "mimetype": "text/x-python",
   "name": "python",
   "nbconvert_exporter": "python",
   "pygments_lexer": "ipython3",
   "version": "3.8.10"
  }
 },
 "nbformat": 4,
 "nbformat_minor": 1
}
