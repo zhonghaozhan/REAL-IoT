{
 "cells": [
  {
   "cell_type": "markdown",
   "id": "bc0e703b",
   "metadata": {},
   "source": [
    "# Network Intrusion Detection with Graph Convolutional Networks (GCN)\n",
    "\n",
    "This notebook implements a Graph Convolutional Network (GCN) model for network intrusion detection using the UNSW-NB15 dataset. We'll go through the following steps:\n",
    "\n",
    "1. Loading and preprocessing the UNSW-NB15 dataset\n",
    "2. Constructing a graph from the network traffic data\n",
    "3. Implementing a GCN model using PyTorch Geometric\n",
    "4. Training and evaluating the model\n",
    "5. Analyzing the results\n"
   ]
  },
  {
   "cell_type": "markdown",
   "id": "8cb1d6e6",
   "metadata": {},
   "source": [
    "## 1. Setup and Dependencies"
   ]
  },
  {
   "cell_type": "code",
   "execution_count": 1,
   "id": "c605ff45",
   "metadata": {},
   "outputs": [
    {
     "name": "stdout",
     "output_type": "stream",
     "text": [
      "Using device: cuda\n"
     ]
    }
   ],
   "source": [
    "import numpy as np\n",
    "import pandas as pd\n",
    "import matplotlib.pyplot as plt\n",
    "import seaborn as sns\n",
    "from sklearn.preprocessing import StandardScaler, OneHotEncoder\n",
    "from sklearn.compose import ColumnTransformer\n",
    "from sklearn.model_selection import train_test_split\n",
    "from sklearn.metrics import accuracy_score, precision_score, recall_score, f1_score, confusion_matrix, roc_curve, auc\n",
    "\n",
    "import torch\n",
    "import torch.nn.functional as F\n",
    "from torch_geometric.nn import GCNConv, global_mean_pool\n",
    "from torch_geometric.data import Data, Dataset, DataLoader\n",
    "\n",
    "# Set random seeds for reproducibility\n",
    "np.random.seed(42)\n",
    "torch.manual_seed(42)\n",
    "\n",
    "# Check if CUDA is available\n",
    "device = torch.device('cuda' if torch.cuda.is_available() else 'cpu')\n",
    "print(f\"Using device: {device}\")"
   ]
  },
  {
   "cell_type": "markdown",
   "id": "cb15e650",
   "metadata": {},
   "source": [
    "## 2. Loading and Preprocessing the UNSW-NB15 Dataset\n",
    "\n",
    "The UNSW-NB15 dataset contains network traffic data with various features and attack types."
   ]
  },
  {
   "cell_type": "code",
   "execution_count": 3,
   "id": "5d4cd78f",
   "metadata": {},
   "outputs": [
    {
     "name": "stdout",
     "output_type": "stream",
     "text": [
      "Training dataset loaded successfully. Shape: (82332, 45)\n",
      "Testing dataset loaded successfully. Shape: (175341, 45)\n",
      "\n",
      "Training dataset info:\n",
      "<class 'pandas.core.frame.DataFrame'>\n",
      "RangeIndex: 82332 entries, 0 to 82331\n",
      "Columns: 45 entries, id to label\n",
      "dtypes: float64(11), int64(30), object(4)\n",
      "memory usage: 28.3+ MB\n",
      "\n",
      "Testing dataset info:\n",
      "<class 'pandas.core.frame.DataFrame'>\n",
      "RangeIndex: 175341 entries, 0 to 175340\n",
      "Columns: 45 entries, id to label\n",
      "dtypes: float64(11), int64(30), object(4)\n",
      "memory usage: 60.2+ MB\n"
     ]
    }
   ],
   "source": [
    "# Load the dataset\n",
    "# I'll use the files already in the directory: UNSW_2018_IoT_Botnet_Final_10_best_Training.csv and UNSW_2018_IoT_Botnet_Final_10_best_Testing.csv\n",
    "\n",
    "# Load training set\n",
    "try:\n",
    "    train_df = pd.read_csv('UNSW_NB15_training-set.csv')\n",
    "    print(f\"Training dataset loaded successfully. Shape: {train_df.shape}\")\n",
    "except FileNotFoundError:\n",
    "    print(\"Training dataset file not found.\")\n",
    "    \n",
    "# Load testing set\n",
    "try:\n",
    "    test_df = pd.read_csv('UNSW_NB15_testing-set.csv')\n",
    "    print(f\"Testing dataset loaded successfully. Shape: {test_df.shape}\")\n",
    "except FileNotFoundError:\n",
    "    print(\"Testing dataset file not found.\")\n",
    "\n",
    "# Display basic information about the datasets\n",
    "print(\"\\nTraining dataset info:\")\n",
    "train_df.info(verbose=False)\n",
    "print(\"\\nTesting dataset info:\")\n",
    "test_df.info(verbose=False)"
   ]
  },
  {
   "cell_type": "code",
   "execution_count": 4,
   "id": "aa9df9d8",
   "metadata": {},
   "outputs": [
    {
     "data": {
      "text/html": [
       "<div>\n",
       "<style scoped>\n",
       "    .dataframe tbody tr th:only-of-type {\n",
       "        vertical-align: middle;\n",
       "    }\n",
       "\n",
       "    .dataframe tbody tr th {\n",
       "        vertical-align: top;\n",
       "    }\n",
       "\n",
       "    .dataframe thead th {\n",
       "        text-align: right;\n",
       "    }\n",
       "</style>\n",
       "<table border=\"1\" class=\"dataframe\">\n",
       "  <thead>\n",
       "    <tr style=\"text-align: right;\">\n",
       "      <th></th>\n",
       "      <th>id</th>\n",
       "      <th>dur</th>\n",
       "      <th>proto</th>\n",
       "      <th>service</th>\n",
       "      <th>state</th>\n",
       "      <th>spkts</th>\n",
       "      <th>dpkts</th>\n",
       "      <th>sbytes</th>\n",
       "      <th>dbytes</th>\n",
       "      <th>rate</th>\n",
       "      <th>...</th>\n",
       "      <th>ct_dst_sport_ltm</th>\n",
       "      <th>ct_dst_src_ltm</th>\n",
       "      <th>is_ftp_login</th>\n",
       "      <th>ct_ftp_cmd</th>\n",
       "      <th>ct_flw_http_mthd</th>\n",
       "      <th>ct_src_ltm</th>\n",
       "      <th>ct_srv_dst</th>\n",
       "      <th>is_sm_ips_ports</th>\n",
       "      <th>attack_cat</th>\n",
       "      <th>label</th>\n",
       "    </tr>\n",
       "  </thead>\n",
       "  <tbody>\n",
       "    <tr>\n",
       "      <th>0</th>\n",
       "      <td>1</td>\n",
       "      <td>0.000011</td>\n",
       "      <td>udp</td>\n",
       "      <td>-</td>\n",
       "      <td>INT</td>\n",
       "      <td>2</td>\n",
       "      <td>0</td>\n",
       "      <td>496</td>\n",
       "      <td>0</td>\n",
       "      <td>90909.0902</td>\n",
       "      <td>...</td>\n",
       "      <td>1</td>\n",
       "      <td>2</td>\n",
       "      <td>0</td>\n",
       "      <td>0</td>\n",
       "      <td>0</td>\n",
       "      <td>1</td>\n",
       "      <td>2</td>\n",
       "      <td>0</td>\n",
       "      <td>Normal</td>\n",
       "      <td>0</td>\n",
       "    </tr>\n",
       "    <tr>\n",
       "      <th>1</th>\n",
       "      <td>2</td>\n",
       "      <td>0.000008</td>\n",
       "      <td>udp</td>\n",
       "      <td>-</td>\n",
       "      <td>INT</td>\n",
       "      <td>2</td>\n",
       "      <td>0</td>\n",
       "      <td>1762</td>\n",
       "      <td>0</td>\n",
       "      <td>125000.0003</td>\n",
       "      <td>...</td>\n",
       "      <td>1</td>\n",
       "      <td>2</td>\n",
       "      <td>0</td>\n",
       "      <td>0</td>\n",
       "      <td>0</td>\n",
       "      <td>1</td>\n",
       "      <td>2</td>\n",
       "      <td>0</td>\n",
       "      <td>Normal</td>\n",
       "      <td>0</td>\n",
       "    </tr>\n",
       "    <tr>\n",
       "      <th>2</th>\n",
       "      <td>3</td>\n",
       "      <td>0.000005</td>\n",
       "      <td>udp</td>\n",
       "      <td>-</td>\n",
       "      <td>INT</td>\n",
       "      <td>2</td>\n",
       "      <td>0</td>\n",
       "      <td>1068</td>\n",
       "      <td>0</td>\n",
       "      <td>200000.0051</td>\n",
       "      <td>...</td>\n",
       "      <td>1</td>\n",
       "      <td>3</td>\n",
       "      <td>0</td>\n",
       "      <td>0</td>\n",
       "      <td>0</td>\n",
       "      <td>1</td>\n",
       "      <td>3</td>\n",
       "      <td>0</td>\n",
       "      <td>Normal</td>\n",
       "      <td>0</td>\n",
       "    </tr>\n",
       "    <tr>\n",
       "      <th>3</th>\n",
       "      <td>4</td>\n",
       "      <td>0.000006</td>\n",
       "      <td>udp</td>\n",
       "      <td>-</td>\n",
       "      <td>INT</td>\n",
       "      <td>2</td>\n",
       "      <td>0</td>\n",
       "      <td>900</td>\n",
       "      <td>0</td>\n",
       "      <td>166666.6608</td>\n",
       "      <td>...</td>\n",
       "      <td>1</td>\n",
       "      <td>3</td>\n",
       "      <td>0</td>\n",
       "      <td>0</td>\n",
       "      <td>0</td>\n",
       "      <td>2</td>\n",
       "      <td>3</td>\n",
       "      <td>0</td>\n",
       "      <td>Normal</td>\n",
       "      <td>0</td>\n",
       "    </tr>\n",
       "    <tr>\n",
       "      <th>4</th>\n",
       "      <td>5</td>\n",
       "      <td>0.000010</td>\n",
       "      <td>udp</td>\n",
       "      <td>-</td>\n",
       "      <td>INT</td>\n",
       "      <td>2</td>\n",
       "      <td>0</td>\n",
       "      <td>2126</td>\n",
       "      <td>0</td>\n",
       "      <td>100000.0025</td>\n",
       "      <td>...</td>\n",
       "      <td>1</td>\n",
       "      <td>3</td>\n",
       "      <td>0</td>\n",
       "      <td>0</td>\n",
       "      <td>0</td>\n",
       "      <td>2</td>\n",
       "      <td>3</td>\n",
       "      <td>0</td>\n",
       "      <td>Normal</td>\n",
       "      <td>0</td>\n",
       "    </tr>\n",
       "  </tbody>\n",
       "</table>\n",
       "<p>5 rows × 45 columns</p>\n",
       "</div>"
      ],
      "text/plain": [
       "   id       dur proto service state  spkts  dpkts  sbytes  dbytes  \\\n",
       "0   1  0.000011   udp       -   INT      2      0     496       0   \n",
       "1   2  0.000008   udp       -   INT      2      0    1762       0   \n",
       "2   3  0.000005   udp       -   INT      2      0    1068       0   \n",
       "3   4  0.000006   udp       -   INT      2      0     900       0   \n",
       "4   5  0.000010   udp       -   INT      2      0    2126       0   \n",
       "\n",
       "          rate  ...  ct_dst_sport_ltm  ct_dst_src_ltm  is_ftp_login  \\\n",
       "0   90909.0902  ...                 1               2             0   \n",
       "1  125000.0003  ...                 1               2             0   \n",
       "2  200000.0051  ...                 1               3             0   \n",
       "3  166666.6608  ...                 1               3             0   \n",
       "4  100000.0025  ...                 1               3             0   \n",
       "\n",
       "   ct_ftp_cmd  ct_flw_http_mthd  ct_src_ltm  ct_srv_dst  is_sm_ips_ports  \\\n",
       "0           0                 0           1           2                0   \n",
       "1           0                 0           1           2                0   \n",
       "2           0                 0           1           3                0   \n",
       "3           0                 0           2           3                0   \n",
       "4           0                 0           2           3                0   \n",
       "\n",
       "   attack_cat  label  \n",
       "0      Normal      0  \n",
       "1      Normal      0  \n",
       "2      Normal      0  \n",
       "3      Normal      0  \n",
       "4      Normal      0  \n",
       "\n",
       "[5 rows x 45 columns]"
      ]
     },
     "execution_count": 4,
     "metadata": {},
     "output_type": "execute_result"
    }
   ],
   "source": [
    "# Display the first few rows of the training dataset\n",
    "train_df.head()"
   ]
  },
  {
   "cell_type": "code",
   "execution_count": 5,
   "id": "e1b231a9",
   "metadata": {},
   "outputs": [
    {
     "name": "stdout",
     "output_type": "stream",
     "text": [
      "Training columns with missing values:\n",
      "Series([], dtype: int64)\n",
      "\n",
      "Testing columns with missing values:\n",
      "Series([], dtype: int64)\n"
     ]
    }
   ],
   "source": [
    "# Check for missing values\n",
    "train_missing = train_df.isnull().sum()\n",
    "print(\"Training columns with missing values:\")\n",
    "print(train_missing[train_missing > 0])\n",
    "\n",
    "test_missing = test_df.isnull().sum()\n",
    "print(\"\\nTesting columns with missing values:\")\n",
    "print(test_missing[test_missing > 0])"
   ]
  },
  {
   "cell_type": "code",
   "execution_count": 6,
   "id": "ed0b636b",
   "metadata": {},
   "outputs": [
    {
     "name": "stdout",
     "output_type": "stream",
     "text": [
      "Using 'label' as the target variable\n",
      "\n",
      "Distribution in training set:\n",
      "label\n",
      "1    45332\n",
      "0    37000\n",
      "Name: count, dtype: int64\n",
      "\n",
      "Percentage:\n",
      "label\n",
      "1    55.060001\n",
      "0    44.939999\n",
      "Name: proportion, dtype: float64\n",
      "\n",
      "Distribution in testing set:\n",
      "label\n",
      "1    119341\n",
      "0     56000\n",
      "Name: count, dtype: int64\n",
      "\n",
      "Percentage:\n",
      "label\n",
      "1    68.062233\n",
      "0    31.937767\n",
      "Name: proportion, dtype: float64\n"
     ]
    },
    {
     "data": {
      "image/png": "[encoded data removed]",
      "text/plain": [
       "<Figure size 1500x600 with 2 Axes>"
      ]
     },
     "metadata": {},
     "output_type": "display_data"
    }
   ],
   "source": [
    "# Check the distribution of the target variable\n",
    "# Assuming 'attack' or 'label' is the target column - adjust if different\n",
    "# First determine the label column\n",
    "label_cols = [col for col in train_df.columns if col.lower() in ['label', 'attack', 'class', 'is_attack']]\n",
    "if label_cols:\n",
    "    label_col = label_cols[0]\n",
    "    print(f\"Using '{label_col}' as the target variable\")\n",
    "    \n",
    "    print(\"\\nDistribution in training set:\")\n",
    "    print(train_df[label_col].value_counts())\n",
    "    print(\"\\nPercentage:\")\n",
    "    print(train_df[label_col].value_counts(normalize=True) * 100)\n",
    "    \n",
    "    print(\"\\nDistribution in testing set:\")\n",
    "    print(test_df[label_col].value_counts())\n",
    "    print(\"\\nPercentage:\")\n",
    "    print(test_df[label_col].value_counts(normalize=True) * 100)\n",
    "    \n",
    "    # Plot the distribution\n",
    "    fig, axes = plt.subplots(1, 2, figsize=(15, 6))\n",
    "    \n",
    "    sns.countplot(x=label_col, data=train_df, ax=axes[0])\n",
    "    axes[0].set_title('Distribution in Training Set')\n",
    "    axes[0].set_ylabel('Count')\n",
    "    \n",
    "    sns.countplot(x=label_col, data=test_df, ax=axes[1])\n",
    "    axes[1].set_title('Distribution in Testing Set')\n",
    "    axes[1].set_ylabel('Count')\n",
    "    \n",
    "    plt.tight_layout()\n",
    "    plt.show()\n",
    "else:\n",
    "    print(\"Could not identify the target column. Please specify the correct column name.\")"
   ]
  },
  {
   "cell_type": "markdown",
   "id": "fd98169e",
   "metadata": {},
   "source": [
    "## 3. Data Preprocessing and Feature Engineering"
   ]
  },
  {
   "cell_type": "code",
   "execution_count": 7,
   "id": "bc6a0f2c",
   "metadata": {},
   "outputs": [
    {
     "name": "stdout",
     "output_type": "stream",
     "text": [
      "Categorical features: ['proto', 'service', 'state', 'attack_cat']\n",
      "Numerical features: ['id', 'dur', 'spkts', 'dpkts', 'sbytes', 'dbytes', 'rate', 'sttl', 'dttl', 'sload', 'dload', 'sloss', 'dloss', 'sinpkt', 'dinpkt', 'sjit', 'djit', 'swin', 'stcpb', 'dtcpb', 'dwin', 'tcprtt', 'synack', 'ackdat', 'smean', 'dmean', 'trans_depth', 'response_body_len', 'ct_srv_src', 'ct_state_ttl', 'ct_dst_ltm', 'ct_src_dport_ltm', 'ct_dst_sport_ltm', 'ct_dst_src_ltm', 'is_ftp_login', 'ct_ftp_cmd', 'ct_flw_http_mthd', 'ct_src_ltm', 'ct_srv_dst', 'is_sm_ips_ports']\n"
     ]
    }
   ],
   "source": [
    "# Identify categorical and numerical features\n",
    "categorical_features = train_df.select_dtypes(include=['object']).columns.tolist()\n",
    "numerical_features = train_df.select_dtypes(include=['int64', 'float64']).columns.tolist()\n",
    "\n",
    "# Remove the target variable from the feature lists\n",
    "if label_col in numerical_features:\n",
    "    numerical_features.remove(label_col)\n",
    "if label_col in categorical_features:\n",
    "    categorical_features.remove(label_col)\n",
    "\n",
    "print(f\"Categorical features: {categorical_features}\")\n",
    "print(f\"Numerical features: {numerical_features}\")"
   ]
  },
  {
   "cell_type": "code",
   "execution_count": 8,
   "id": "841c1f12",
   "metadata": {},
   "outputs": [
    {
     "name": "stdout",
     "output_type": "stream",
     "text": [
      "Remaining missing values in training set:\n",
      "0\n",
      "Remaining missing values in testing set:\n",
      "0\n"
     ]
    }
   ],
   "source": [
    "# Handle missing values\n",
    "# Replace missing values in numerical features with median\n",
    "for col in numerical_features:\n",
    "    if train_df[col].isnull().sum() > 0:\n",
    "        median_val = train_df[col].median()\n",
    "        train_df[col] = train_df[col].fillna(median_val)\n",
    "        test_df[col] = test_df[col].fillna(median_val)\n",
    "\n",
    "# Replace missing values in categorical features with the most frequent value\n",
    "for col in categorical_features:\n",
    "    if train_df[col].isnull().sum() > 0:\n",
    "        mode_val = train_df[col].mode()[0]\n",
    "        train_df[col] = train_df[col].fillna(mode_val)\n",
    "        test_df[col] = test_df[col].fillna(mode_val)\n",
    "\n",
    "# Verify no missing values remain\n",
    "print(\"Remaining missing values in training set:\")\n",
    "print(train_df.isnull().sum().sum())\n",
    "print(\"Remaining missing values in testing set:\")\n",
    "print(test_df.isnull().sum().sum())"
   ]
  },
  {
   "cell_type": "code",
   "execution_count": 9,
   "id": "5ba36f12",
   "metadata": {},
   "outputs": [
    {
     "name": "stdout",
     "output_type": "stream",
     "text": [
      "Training set shape after transformation: (82332, 201)\n",
      "Testing set shape after transformation: (175341, 201)\n"
     ]
    }
   ],
   "source": [
    "# Create a preprocessing pipeline\n",
    "# One-hot encode categorical features and standardize numerical features\n",
    "preprocessor = ColumnTransformer(\n",
    "    transformers=[\n",
    "        ('num', StandardScaler(), numerical_features),\n",
    "        ('cat', OneHotEncoder(handle_unknown='ignore'), categorical_features)\n",
    "    ]\n",
    ")\n",
    "\n",
    "# Extract features and target variable\n",
    "X_train = train_df.drop([label_col], axis=1)\n",
    "y_train = train_df[label_col]\n",
    "X_test = test_df.drop([label_col], axis=1)\n",
    "y_test = test_df[label_col]\n",
    "\n",
    "# Apply the preprocessing\n",
    "X_train_transformed = preprocessor.fit_transform(X_train)\n",
    "X_test_transformed = preprocessor.transform(X_test)\n",
    "\n",
    "print(f\"Training set shape after transformation: {X_train_transformed.shape}\")\n",
    "print(f\"Testing set shape after transformation: {X_test_transformed.shape}\")"
   ]
  },
  {
   "cell_type": "markdown",
   "id": "32c9f9f5",
   "metadata": {},
   "source": [
    "## 4. Graph Construction\n",
    "\n",
    "For GCN, we need to represent the data as a graph. We'll create a graph where each node represents a network flow and edges connect similar flows."
   ]
  },
  {
   "cell_type": "code",
   "execution_count": 10,
   "id": "ebdc37f8",
   "metadata": {},
   "outputs": [
    {
     "name": "stdout",
     "output_type": "stream",
     "text": [
      "Training graph: Data(x=[82332, 201], edge_index=[2, 1088170], y=[82332])\n",
      "Testing graph: Data(x=[175341, 201], edge_index=[2, 2314854], y=[175341])\n"
     ]
    }
   ],
   "source": [
    "# Convert sparse matrix to dense if needed\n",
    "if hasattr(X_train_transformed, 'toarray'):\n",
    "    X_train_transformed = X_train_transformed.toarray()\n",
    "if hasattr(X_test_transformed, 'toarray'):\n",
    "    X_test_transformed = X_test_transformed.toarray()\n",
    "\n",
    "# Create kNN graph for training data\n",
    "def create_knn_graph(features, k=10):\n",
    "    \"\"\"Create a k-nearest neighbors graph from features.\"\"\"\n",
    "    from sklearn.neighbors import kneighbors_graph\n",
    "    # Create adjacency matrix using k-nearest neighbors\n",
    "    adjacency = kneighbors_graph(features, n_neighbors=k, mode='connectivity', include_self=False)\n",
    "    # Convert to symmetric adjacency matrix\n",
    "    adjacency = adjacency.maximum(adjacency.transpose())\n",
    "    # Get edge indices from sparse adjacency matrix\n",
    "    edge_indices = np.array(adjacency.nonzero())\n",
    "    return edge_indices\n",
    "\n",
    "# Create graphs for training and testing data\n",
    "train_edge_index = create_knn_graph(X_train_transformed, k=10)\n",
    "test_edge_index = create_knn_graph(X_test_transformed, k=10)\n",
    "\n",
    "# Convert to PyTorch tensors\n",
    "X_train_tensor = torch.FloatTensor(X_train_transformed).to(device)\n",
    "y_train_tensor = torch.LongTensor(y_train.values).to(device)\n",
    "train_edge_index_tensor = torch.LongTensor(train_edge_index).to(device)\n",
    "\n",
    "X_test_tensor = torch.FloatTensor(X_test_transformed).to(device)\n",
    "y_test_tensor = torch.LongTensor(y_test.values).to(device)\n",
    "test_edge_index_tensor = torch.LongTensor(test_edge_index).to(device)\n",
    "\n",
    "# Create PyTorch Geometric Data objects\n",
    "train_data = Data(x=X_train_tensor, edge_index=train_edge_index_tensor, y=y_train_tensor)\n",
    "test_data = Data(x=X_test_tensor, edge_index=test_edge_index_tensor, y=y_test_tensor)\n",
    "\n",
    "print(f\"Training graph: {train_data}\")\n",
    "print(f\"Testing graph: {test_data}\")"
   ]
  },
  {
   "cell_type": "markdown",
   "id": "c6fc9ac1",
   "metadata": {},
   "source": [
    "## 5. Graph Convolutional Network (GCN) Model Implementation"
   ]
  },
  {
   "cell_type": "code",
   "execution_count": 11,
   "id": "86c35cdc",
   "metadata": {},
   "outputs": [],
   "source": [
    "class GCN(torch.nn.Module):\n",
    "    def __init__(self, in_channels, hidden_channels, out_channels):\n",
    "        super(GCN, self).__init__()\n",
    "        self.conv1 = GCNConv(in_channels, hidden_channels)\n",
    "        self.conv2 = GCNConv(hidden_channels, hidden_channels)\n",
    "        self.out = torch.nn.Linear(hidden_channels, out_channels)\n",
    "    \n",
    "    def forward(self, x, edge_index):\n",
    "        # First Graph Convolution Layer\n",
    "        x = self.conv1(x, edge_index)\n",
    "        x = F.relu(x)\n",
    "        x = F.dropout(x, p=0.3, training=self.training)\n",
    "        \n",
    "        # Second Graph Convolution Layer\n",
    "        x = self.conv2(x, edge_index)\n",
    "        x = F.relu(x)\n",
    "        x = F.dropout(x, p=0.3, training=self.training)\n",
    "        \n",
    "        # Output Layer\n",
    "        x = self.out(x)\n",
    "        \n",
    "        return x"
   ]
  },
  {
   "cell_type": "code",
   "execution_count": 12,
   "id": "15f6bc3e",
   "metadata": {},
   "outputs": [
    {
     "name": "stdout",
     "output_type": "stream",
     "text": [
      "Number of classes: 2\n",
      "GCN(\n",
      "  (conv1): GCNConv(201, 64)\n",
      "  (conv2): GCNConv(64, 64)\n",
      "  (out): Linear(in_features=64, out_features=2, bias=True)\n",
      ")\n"
     ]
    }
   ],
   "source": [
    "# Determine the number of output classes\n",
    "num_classes = len(y_train.unique())\n",
    "print(f\"Number of classes: {num_classes}\")\n",
    "\n",
    "# Initialize the model\n",
    "model = GCN(\n",
    "    in_channels=X_train_transformed.shape[1],  # Number of input features\n",
    "    hidden_channels=64,                       # Hidden layer size\n",
    "    out_channels=num_classes                  # Number of classes\n",
    ").to(device)\n",
    "\n",
    "# Define loss function and optimizer\n",
    "criterion = torch.nn.CrossEntropyLoss()\n",
    "optimizer = torch.optim.Adam(model.parameters(), lr=0.01, weight_decay=5e-4)\n",
    "\n",
    "print(model)"
   ]
  },
  {
   "cell_type": "markdown",
   "id": "05437391",
   "metadata": {},
   "source": [
    "## 6. Training the GCN Model"
   ]
  },
  {
   "cell_type": "code",
   "execution_count": 13,
   "id": "3d409358",
   "metadata": {},
   "outputs": [],
   "source": [
    "def train(model, data, optimizer, criterion):\n",
    "    model.train()\n",
    "    optimizer.zero_grad()\n",
    "    # Forward pass\n",
    "    out = model(data.x, data.edge_index)\n",
    "    # Calculate loss\n",
    "    loss = criterion(out, data.y)\n",
    "    # Backward pass\n",
    "    loss.backward()\n",
    "    # Update parameters\n",
    "    optimizer.step()\n",
    "    return loss.item()\n",
    "\n",
    "def evaluate(model, data):\n",
    "    model.eval()\n",
    "    with torch.no_grad():\n",
    "        out = model(data.x, data.edge_index)\n",
    "        pred = out.argmax(dim=1)\n",
    "        correct = (pred == data.y).sum().item()\n",
    "        acc = correct / data.y.size(0)\n",
    "    return acc, pred"
   ]
  },
  {
   "cell_type": "code",
   "execution_count": 14,
   "id": "18a1d0e0",
   "metadata": {},
   "outputs": [
    {
     "name": "stdout",
     "output_type": "stream",
     "text": [
      "Epoch: 010, Loss: 0.0712, Train Acc: 0.9897, Test Acc: 0.6562\n",
      "Epoch: 020, Loss: 0.0221, Train Acc: 0.9957, Test Acc: 0.6939\n",
      "Epoch: 030, Loss: 0.0129, Train Acc: 0.9973, Test Acc: 0.9161\n",
      "Epoch: 040, Loss: 0.0088, Train Acc: 0.9977, Test Acc: 0.9900\n",
      "Epoch: 050, Loss: 0.0077, Train Acc: 0.9980, Test Acc: 0.9958\n",
      "Epoch: 060, Loss: 0.0069, Train Acc: 0.9980, Test Acc: 0.9955\n",
      "Epoch: 070, Loss: 0.0069, Train Acc: 0.9979, Test Acc: 0.9954\n",
      "Epoch: 080, Loss: 0.0065, Train Acc: 0.9981, Test Acc: 0.9958\n",
      "Epoch: 090, Loss: 0.0065, Train Acc: 0.9980, Test Acc: 0.9958\n",
      "Epoch: 100, Loss: 0.0066, Train Acc: 0.9980, Test Acc: 0.9953\n",
      "Epoch: 110, Loss: 0.0072, Train Acc: 0.9981, Test Acc: 0.9961\n",
      "Epoch: 120, Loss: 0.0065, Train Acc: 0.9979, Test Acc: 0.9958\n",
      "Epoch: 130, Loss: 0.0064, Train Acc: 0.9980, Test Acc: 0.9961\n",
      "Epoch: 140, Loss: 0.0063, Train Acc: 0.9981, Test Acc: 0.9963\n",
      "Epoch: 150, Loss: 0.0060, Train Acc: 0.9981, Test Acc: 0.9964\n",
      "Epoch: 160, Loss: 0.0061, Train Acc: 0.9981, Test Acc: 0.9967\n",
      "Epoch: 170, Loss: 0.0061, Train Acc: 0.9981, Test Acc: 0.9965\n",
      "Epoch: 180, Loss: 0.0061, Train Acc: 0.9981, Test Acc: 0.9966\n",
      "Epoch: 190, Loss: 0.0060, Train Acc: 0.9980, Test Acc: 0.9966\n",
      "Epoch: 200, Loss: 0.0060, Train Acc: 0.9981, Test Acc: 0.9968\n"
     ]
    }
   ],
   "source": [
    "# Training loop\n",
    "epochs = 200\n",
    "best_val_acc = 0\n",
    "losses = []\n",
    "train_accuracies = []\n",
    "test_accuracies = []\n",
    "\n",
    "for epoch in range(1, epochs + 1):\n",
    "    # Train\n",
    "    loss = train(model, train_data, optimizer, criterion)\n",
    "    losses.append(loss)\n",
    "    \n",
    "    # Evaluate on training and testing data\n",
    "    train_acc, _ = evaluate(model, train_data)\n",
    "    test_acc, _ = evaluate(model, test_data)\n",
    "    \n",
    "    train_accuracies.append(train_acc)\n",
    "    test_accuracies.append(test_acc)\n",
    "    \n",
    "    # Print progress\n",
    "    if epoch % 10 == 0:\n",
    "        print(f'Epoch: {epoch:03d}, Loss: {loss:.4f}, Train Acc: {train_acc:.4f}, Test Acc: {test_acc:.4f}')\n",
    "    \n",
    "    # Save the best model\n",
    "    if test_acc > best_val_acc:\n",
    "        best_val_acc = test_acc\n",
    "        torch.save(model.state_dict(), 'best_gcn_model.pt')"
   ]
  },
  {
   "cell_type": "code",
   "execution_count": 15,
   "id": "be534b95",
   "metadata": {},
   "outputs": [
    {
     "data": {
      "image/png": "[encoded data removed]",
      "text/plain": [
       "<Figure size 1200x500 with 2 Axes>"
      ]
     },
     "metadata": {},
     "output_type": "display_data"
    }
   ],
   "source": [
    "# Plot training metrics\n",
    "plt.figure(figsize=(12, 5))\n",
    "\n",
    "plt.subplot(1, 2, 1)\n",
    "plt.plot(losses)\n",
    "plt.title('Training Loss')\n",
    "plt.xlabel('Epoch')\n",
    "plt.ylabel('Loss')\n",
    "\n",
    "plt.subplot(1, 2, 2)\n",
    "plt.plot(train_accuracies, label='Train')\n",
    "plt.plot(test_accuracies, label='Test')\n",
    "plt.title('Model Accuracy')\n",
    "plt.xlabel('Epoch')\n",
    "plt.ylabel('Accuracy')\n",
    "plt.legend()\n",
    "\n",
    "plt.tight_layout()\n",
    "plt.show()"
   ]
  },
  {
   "cell_type": "markdown",
   "id": "a6c59208",
   "metadata": {},
   "source": [
    "## 7. Evaluating the Best Model"
   ]
  },
  {
   "cell_type": "code",
   "execution_count": 16,
   "id": "eb579751",
   "metadata": {},
   "outputs": [
    {
     "name": "stderr",
     "output_type": "stream",
     "text": [
      "/tmp/ipykernel_814752/3962206210.py:7: FutureWarning: You are using `torch.load` with `weights_only=False` (the current default value), which uses the default pickle module implicitly. It is possible to construct malicious pickle data which will execute arbitrary code during unpickling (See https://github.com/pytorch/pytorch/blob/main/SECURITY.md#untrusted-models for more details). In a future release, the default value for `weights_only` will be flipped to `True`. This limits the functions that could be executed during unpickling. Arbitrary objects will no longer be allowed to be loaded via this mode unless they are explicitly allowlisted by the user via `torch.serialization.add_safe_globals`. We recommend you start setting `weights_only=True` for any use case where you don't have full control of the loaded file. Please open an issue on GitHub for any issues related to this experimental feature.\n",
      "  best_model.load_state_dict(torch.load('best_gcn_model.pt'))\n"
     ]
    }
   ],
   "source": [
    "# Load the best model\n",
    "best_model = GCN(\n",
    "    in_channels=X_train_transformed.shape[1],\n",
    "    hidden_channels=64,\n",
    "    out_channels=num_classes\n",
    ").to(device)\n",
    "best_model.load_state_dict(torch.load('best_gcn_model.pt'))\n",
    "\n",
    "# Evaluate on test data\n",
    "best_model.eval()\n",
    "with torch.no_grad():\n",
    "    out = best_model(test_data.x, test_data.edge_index)\n",
    "    pred = out.argmax(dim=1)\n",
    "    \n",
    "# Convert predictions to numpy for evaluation\n",
    "y_true = test_data.y.cpu().numpy()\n",
    "y_pred = pred.cpu().numpy()"
   ]
  },
  {
   "cell_type": "code",
   "execution_count": 17,
   "id": "32a8515b",
   "metadata": {},
   "outputs": [
    {
     "name": "stdout",
     "output_type": "stream",
     "text": [
      "Accuracy: 0.9968\n",
      "Precision: 0.9966\n",
      "Recall: 0.9988\n",
      "F1 Score: 0.9977\n"
     ]
    },
    {
     "data": {
      "image/png": "[encoded data removed]",
      "text/plain": [
       "<Figure size 800x600 with 1 Axes>"
      ]
     },
     "metadata": {},
     "output_type": "display_data"
    }
   ],
   "source": [
    "# Calculate evaluation metrics for binary and multi-class classification\n",
    "if num_classes == 2:\n",
    "    accuracy = accuracy_score(y_true, y_pred)\n",
    "    precision = precision_score(y_true, y_pred)\n",
    "    recall = recall_score(y_true, y_pred)\n",
    "    f1 = f1_score(y_true, y_pred)\n",
    "    \n",
    "    print(f\"Accuracy: {accuracy:.4f}\")\n",
    "    print(f\"Precision: {precision:.4f}\")\n",
    "    print(f\"Recall: {recall:.4f}\")\n",
    "    print(f\"F1 Score: {f1:.4f}\")\n",
    "    \n",
    "    # Compute probabilities for ROC curve\n",
    "    with torch.no_grad():\n",
    "        probabilities = F.softmax(out, dim=1)[:, 1].cpu().numpy()\n",
    "    \n",
    "    # ROC Curve and AUC\n",
    "    fpr, tpr, _ = roc_curve(y_true, probabilities)\n",
    "    roc_auc = auc(fpr, tpr)\n",
    "    \n",
    "    plt.figure(figsize=(8, 6))\n",
    "    plt.plot(fpr, tpr, color='darkorange', lw=2, label=f'ROC curve (area = {roc_auc:.4f})')\n",
    "    plt.plot([0, 1], [0, 1], color='navy', lw=2, linestyle='--')\n",
    "    plt.xlim([0.0, 1.0])\n",
    "    plt.ylim([0.0, 1.05])\n",
    "    plt.xlabel('False Positive Rate')\n",
    "    plt.ylabel('True Positive Rate')\n",
    "    plt.title('Receiver Operating Characteristic (ROC)')\n",
    "    plt.legend(loc=\"lower right\")\n",
    "    plt.show()\n",
    "else:\n",
    "    # Multi-class metrics\n",
    "    accuracy = accuracy_score(y_true, y_pred)\n",
    "    precision_macro = precision_score(y_true, y_pred, average='macro')\n",
    "    recall_macro = recall_score(y_true, y_pred, average='macro')\n",
    "    f1_macro = f1_score(y_true, y_pred, average='macro')\n",
    "    \n",
    "    print(f\"Accuracy: {accuracy:.4f}\")\n",
    "    print(f\"Macro Precision: {precision_macro:.4f}\")\n",
    "    print(f\"Macro Recall: {recall_macro:.4f}\")\n",
    "    print(f\"Macro F1 Score: {f1_macro:.4f}\")"
   ]
  },
  {
   "cell_type": "code",
   "execution_count": 18,
   "id": "95d2573a",
   "metadata": {},
   "outputs": [
    {
     "data": {
      "image/png": "[encoded data removed]",
      "text/plain": [
       "<Figure size 1000x800 with 1 Axes>"
      ]
     },
     "metadata": {},
     "output_type": "display_data"
    }
   ],
   "source": [
    "# Confusion Matrix\n",
    "cm = confusion_matrix(y_true, y_pred)\n",
    "plt.figure(figsize=(10, 8))\n",
    "\n",
    "# For binary classification\n",
    "if num_classes == 2:\n",
    "    sns.heatmap(cm, annot=True, fmt='d', cmap='Blues', cbar=False,\n",
    "                xticklabels=['Normal', 'Attack'], yticklabels=['Normal', 'Attack'])\n",
    "# For multi-class classification\n",
    "else:\n",
    "    sns.heatmap(cm, annot=True, fmt='d', cmap='Blues', cbar=False)\n",
    "    \n",
    "plt.title('Confusion Matrix')\n",
    "plt.xlabel('Predicted Label')\n",
    "plt.ylabel('True Label')\n",
    "plt.show()"
   ]
  },
  {
   "cell_type": "markdown",
   "id": "a2390f11",
   "metadata": {},
   "source": [
    "## 8. Conclusion\n",
    "\n",
    "In this notebook, we have implemented a Graph Convolutional Network (GCN) for network intrusion detection using the UNSW-NB15 dataset. The model transforms network traffic data into a graph where each node represents a network flow, and then applies graph convolutions to learn patterns that distinguish between normal and attack traffic.\n",
    "\n",
    "The evaluation metrics show how well our GCN model performs on the classification task of identifying network intrusions. This approach demonstrates the potential of graph-based deep learning for cybersecurity applications.\n",
    "\n",
    "Next steps could include:\n",
    "1. Experimenting with different graph construction methods\n",
    "2. Trying different GNN architectures like GAT (Graph Attention Networks)\n",
    "3. Fine-tuning hyperparameters to improve performance\n",
    "4. Analyzing the model's performance on specific types of attacks"
   ]
  },
  {
   "cell_type": "code",
   "execution_count": 19,
   "id": "d4fcf2ce",
   "metadata": {},
   "outputs": [
    {
     "name": "stdout",
     "output_type": "stream",
     "text": [
      "Results saved for comparison with other models.\n"
     ]
    }
   ],
   "source": [
    "# Save the results for comparison with other models\n",
    "import pickle\n",
    "\n",
    "if num_classes == 2:\n",
    "    results = {\n",
    "        'accuracy': accuracy,\n",
    "        'precision': precision,\n",
    "        'recall': recall,\n",
    "        'f1': f1,\n",
    "        'roc_auc': roc_auc\n",
    "    }\n",
    "else:\n",
    "    results = {\n",
    "        'accuracy': accuracy,\n",
    "        'precision_macro': precision_macro,\n",
    "        'recall_macro': recall_macro,\n",
    "        'f1_macro': f1_macro\n",
    "    }\n",
    "\n",
    "with open('gcn_results.pkl', 'wb') as f:\n",
    "    pickle.dump(results, f)\n",
    "\n",
    "print(\"Results saved for comparison with other models.\")"
   ]
  }
 ],
 "metadata": {
  "kernelspec": {
   "display_name": "venv",
   "language": "python",
   "name": "python3"
  },
  "language_info": {
   "codemirror_mode": {
    "name": "ipython",
    "version": 3
   },
   "file_extension": ".py",
   "mimetype": "text/x-python",
   "name": "python",
   "nbconvert_exporter": "python",
   "pygments_lexer": "ipython3",
   "version": "3.8.10"
  }
 },
 "nbformat": 4,
 "nbformat_minor": 5
}
