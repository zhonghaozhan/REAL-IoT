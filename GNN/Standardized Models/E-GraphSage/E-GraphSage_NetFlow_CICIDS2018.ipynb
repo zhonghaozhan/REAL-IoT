{
 "cells": [
  {
   "cell_type": "code",
   "execution_count": 4,
   "metadata": {
    "colab": {
     "base_uri": "https://localhost:8080/"
    },
    "id": "mS0bWISTqhMI",
    "outputId": "a6cbe1aa-ab9a-4d02-cc1c-d3e9514e8748"
   },
   "outputs": [],
   "source": [
    "import dgl.nn as dglnn\n",
    "from dgl import from_networkx\n",
    "import torch.nn as nn\n",
    "import torch as th\n",
    "import torch.nn.functional as F\n",
    "import dgl.function as fn\n",
    "import networkx as nx\n",
    "import pandas as pd\n",
    "import socket\n",
    "import struct\n",
    "import random\n",
    "from sklearn.preprocessing import LabelEncoder\n",
    "from sklearn.preprocessing import StandardScaler\n",
    "from sklearn.model_selection import train_test_split\n",
    "import category_encoders as ce\n",
    "from sklearn.decomposition import PCA\n",
    "import seaborn as sns\n",
    "import matplotlib.pyplot as plt\n",
    "import numpy as np"
   ]
  },
  {
   "cell_type": "code",
   "execution_count": 5,
   "metadata": {},
   "outputs": [
    {
     "name": "stdout",
     "output_type": "stream",
     "text": [
      "Using device: cuda:0\n"
     ]
    }
   ],
   "source": [
    "# Set CUDA device to 1 explicitly\n",
    "import os\n",
    "import torch\n",
    "os.environ[\"CUDA_VISIBLE_DEVICES\"] = \"1\"  # Make only GPU 1 visible\n",
    "# Alternatively, you can use:\n",
    "device = torch.device(\"cuda:0\")  # This will now refer to the first visible device (CUDA 1)\n",
    "print(f\"Using device: {device}\")"
   ]
  },
  {
   "cell_type": "code",
   "execution_count": 6,
   "metadata": {
    "id": "ki0watiErdJp"
   },
   "outputs": [],
   "source": [
    "data = pd.read_csv('/media/ssd/test/standardized-datasets/netflow/nf_cic_ids2018_reduced.csv')"
   ]
  },
  {
   "cell_type": "code",
   "execution_count": 7,
   "metadata": {},
   "outputs": [],
   "source": [
    "# Example if you wanted to keep only certain columns\n",
    "columns_to_keep = ['IPV4_SRC_ADDR', 'L4_SRC_PORT', 'IPV4_DST_ADDR', 'L4_DST_PORT', 'PROTOCOL', 'L7_PROTO',\n",
    "                   'IN_BYTES', 'OUT_BYTES', 'IN_PKTS', 'OUT_PKTS', 'TCP_FLAGS', 'FLOW_DURATION_MILLISECONDS', 'Label', 'Attack']\n",
    "data = data[columns_to_keep]"
   ]
  },
  {
   "cell_type": "code",
   "execution_count": 8,
   "metadata": {
    "colab": {
     "base_uri": "https://localhost:8080/",
     "height": 439
    },
    "id": "0JmyVopVrqWQ",
    "outputId": "7dd4b901-c0c4-4bb4-b5fa-d504fe9821f2"
   },
   "outputs": [
    {
     "data": {
      "text/html": [
       "<div>\n",
       "<style scoped>\n",
       "    .dataframe tbody tr th:only-of-type {\n",
       "        vertical-align: middle;\n",
       "    }\n",
       "\n",
       "    .dataframe tbody tr th {\n",
       "        vertical-align: top;\n",
       "    }\n",
       "\n",
       "    .dataframe thead th {\n",
       "        text-align: right;\n",
       "    }\n",
       "</style>\n",
       "<table border=\"1\" class=\"dataframe\">\n",
       "  <thead>\n",
       "    <tr style=\"text-align: right;\">\n",
       "      <th></th>\n",
       "      <th>IPV4_SRC_ADDR</th>\n",
       "      <th>L4_SRC_PORT</th>\n",
       "      <th>IPV4_DST_ADDR</th>\n",
       "      <th>L4_DST_PORT</th>\n",
       "      <th>PROTOCOL</th>\n",
       "      <th>L7_PROTO</th>\n",
       "      <th>IN_BYTES</th>\n",
       "      <th>OUT_BYTES</th>\n",
       "      <th>IN_PKTS</th>\n",
       "      <th>OUT_PKTS</th>\n",
       "      <th>TCP_FLAGS</th>\n",
       "      <th>FLOW_DURATION_MILLISECONDS</th>\n",
       "      <th>Label</th>\n",
       "      <th>Attack</th>\n",
       "    </tr>\n",
       "  </thead>\n",
       "  <tbody>\n",
       "    <tr>\n",
       "      <th>0</th>\n",
       "      <td>193.111.198.10</td>\n",
       "      <td>14738</td>\n",
       "      <td>172.31.64.83</td>\n",
       "      <td>3389</td>\n",
       "      <td>6</td>\n",
       "      <td>0.000</td>\n",
       "      <td>1918.0</td>\n",
       "      <td>804.0</td>\n",
       "      <td>13</td>\n",
       "      <td>10</td>\n",
       "      <td>223</td>\n",
       "      <td>0.0</td>\n",
       "      <td>0</td>\n",
       "      <td>Benign</td>\n",
       "    </tr>\n",
       "    <tr>\n",
       "      <th>1</th>\n",
       "      <td>172.31.67.56</td>\n",
       "      <td>60565</td>\n",
       "      <td>172.31.0.2</td>\n",
       "      <td>53</td>\n",
       "      <td>17</td>\n",
       "      <td>0.000</td>\n",
       "      <td>69.0</td>\n",
       "      <td>197.0</td>\n",
       "      <td>1</td>\n",
       "      <td>1</td>\n",
       "      <td>0</td>\n",
       "      <td>0.0</td>\n",
       "      <td>0</td>\n",
       "      <td>Benign</td>\n",
       "    </tr>\n",
       "    <tr>\n",
       "      <th>2</th>\n",
       "      <td>172.31.67.104</td>\n",
       "      <td>49574</td>\n",
       "      <td>23.36.34.146</td>\n",
       "      <td>443</td>\n",
       "      <td>6</td>\n",
       "      <td>0.000</td>\n",
       "      <td>1848.0</td>\n",
       "      <td>55067.0</td>\n",
       "      <td>37</td>\n",
       "      <td>57</td>\n",
       "      <td>31</td>\n",
       "      <td>4294951.0</td>\n",
       "      <td>0</td>\n",
       "      <td>Benign</td>\n",
       "    </tr>\n",
       "    <tr>\n",
       "      <th>3</th>\n",
       "      <td>172.31.65.65</td>\n",
       "      <td>57848</td>\n",
       "      <td>172.31.0.2</td>\n",
       "      <td>53</td>\n",
       "      <td>17</td>\n",
       "      <td>0.000</td>\n",
       "      <td>66.0</td>\n",
       "      <td>163.0</td>\n",
       "      <td>1</td>\n",
       "      <td>1</td>\n",
       "      <td>0</td>\n",
       "      <td>0.0</td>\n",
       "      <td>0</td>\n",
       "      <td>Benign</td>\n",
       "    </tr>\n",
       "    <tr>\n",
       "      <th>4</th>\n",
       "      <td>172.31.64.115</td>\n",
       "      <td>58226</td>\n",
       "      <td>172.31.0.2</td>\n",
       "      <td>53</td>\n",
       "      <td>17</td>\n",
       "      <td>5.126</td>\n",
       "      <td>60.0</td>\n",
       "      <td>156.0</td>\n",
       "      <td>1</td>\n",
       "      <td>1</td>\n",
       "      <td>0</td>\n",
       "      <td>0.0</td>\n",
       "      <td>0</td>\n",
       "      <td>Benign</td>\n",
       "    </tr>\n",
       "    <tr>\n",
       "      <th>...</th>\n",
       "      <td>...</td>\n",
       "      <td>...</td>\n",
       "      <td>...</td>\n",
       "      <td>...</td>\n",
       "      <td>...</td>\n",
       "      <td>...</td>\n",
       "      <td>...</td>\n",
       "      <td>...</td>\n",
       "      <td>...</td>\n",
       "      <td>...</td>\n",
       "      <td>...</td>\n",
       "      <td>...</td>\n",
       "      <td>...</td>\n",
       "      <td>...</td>\n",
       "    </tr>\n",
       "    <tr>\n",
       "      <th>2080705</th>\n",
       "      <td>172.31.65.45</td>\n",
       "      <td>60500</td>\n",
       "      <td>172.31.0.2</td>\n",
       "      <td>53</td>\n",
       "      <td>17</td>\n",
       "      <td>5.126</td>\n",
       "      <td>65.0</td>\n",
       "      <td>105.0</td>\n",
       "      <td>1</td>\n",
       "      <td>1</td>\n",
       "      <td>0</td>\n",
       "      <td>0.0</td>\n",
       "      <td>0</td>\n",
       "      <td>Benign</td>\n",
       "    </tr>\n",
       "    <tr>\n",
       "      <th>2080706</th>\n",
       "      <td>54.36.122.140</td>\n",
       "      <td>58370</td>\n",
       "      <td>172.31.64.70</td>\n",
       "      <td>8545</td>\n",
       "      <td>6</td>\n",
       "      <td>0.000</td>\n",
       "      <td>40.0</td>\n",
       "      <td>0.0</td>\n",
       "      <td>1</td>\n",
       "      <td>0</td>\n",
       "      <td>2</td>\n",
       "      <td>0.0</td>\n",
       "      <td>0</td>\n",
       "      <td>Benign</td>\n",
       "    </tr>\n",
       "    <tr>\n",
       "      <th>2080707</th>\n",
       "      <td>172.31.67.60</td>\n",
       "      <td>60255</td>\n",
       "      <td>172.31.0.2</td>\n",
       "      <td>53</td>\n",
       "      <td>17</td>\n",
       "      <td>0.000</td>\n",
       "      <td>68.0</td>\n",
       "      <td>167.0</td>\n",
       "      <td>1</td>\n",
       "      <td>1</td>\n",
       "      <td>0</td>\n",
       "      <td>0.0</td>\n",
       "      <td>0</td>\n",
       "      <td>Benign</td>\n",
       "    </tr>\n",
       "    <tr>\n",
       "      <th>2080708</th>\n",
       "      <td>209.90.32.82</td>\n",
       "      <td>55365</td>\n",
       "      <td>172.31.65.91</td>\n",
       "      <td>445</td>\n",
       "      <td>6</td>\n",
       "      <td>41.000</td>\n",
       "      <td>132.0</td>\n",
       "      <td>132.0</td>\n",
       "      <td>3</td>\n",
       "      <td>3</td>\n",
       "      <td>23</td>\n",
       "      <td>0.0</td>\n",
       "      <td>0</td>\n",
       "      <td>Benign</td>\n",
       "    </tr>\n",
       "    <tr>\n",
       "      <th>2080709</th>\n",
       "      <td>212.92.116.6</td>\n",
       "      <td>64015</td>\n",
       "      <td>172.31.65.80</td>\n",
       "      <td>3389</td>\n",
       "      <td>6</td>\n",
       "      <td>0.000</td>\n",
       "      <td>1606.0</td>\n",
       "      <td>2122.0</td>\n",
       "      <td>10</td>\n",
       "      <td>12</td>\n",
       "      <td>30</td>\n",
       "      <td>0.0</td>\n",
       "      <td>0</td>\n",
       "      <td>Benign</td>\n",
       "    </tr>\n",
       "  </tbody>\n",
       "</table>\n",
       "<p>2080710 rows × 14 columns</p>\n",
       "</div>"
      ],
      "text/plain": [
       "          IPV4_SRC_ADDR  L4_SRC_PORT IPV4_DST_ADDR  L4_DST_PORT  PROTOCOL  \\\n",
       "0        193.111.198.10        14738  172.31.64.83         3389         6   \n",
       "1          172.31.67.56        60565    172.31.0.2           53        17   \n",
       "2         172.31.67.104        49574  23.36.34.146          443         6   \n",
       "3          172.31.65.65        57848    172.31.0.2           53        17   \n",
       "4         172.31.64.115        58226    172.31.0.2           53        17   \n",
       "...                 ...          ...           ...          ...       ...   \n",
       "2080705    172.31.65.45        60500    172.31.0.2           53        17   \n",
       "2080706   54.36.122.140        58370  172.31.64.70         8545         6   \n",
       "2080707    172.31.67.60        60255    172.31.0.2           53        17   \n",
       "2080708    209.90.32.82        55365  172.31.65.91          445         6   \n",
       "2080709    212.92.116.6        64015  172.31.65.80         3389         6   \n",
       "\n",
       "         L7_PROTO  IN_BYTES  OUT_BYTES  IN_PKTS  OUT_PKTS  TCP_FLAGS  \\\n",
       "0           0.000    1918.0      804.0       13        10        223   \n",
       "1           0.000      69.0      197.0        1         1          0   \n",
       "2           0.000    1848.0    55067.0       37        57         31   \n",
       "3           0.000      66.0      163.0        1         1          0   \n",
       "4           5.126      60.0      156.0        1         1          0   \n",
       "...           ...       ...        ...      ...       ...        ...   \n",
       "2080705     5.126      65.0      105.0        1         1          0   \n",
       "2080706     0.000      40.0        0.0        1         0          2   \n",
       "2080707     0.000      68.0      167.0        1         1          0   \n",
       "2080708    41.000     132.0      132.0        3         3         23   \n",
       "2080709     0.000    1606.0     2122.0       10        12         30   \n",
       "\n",
       "         FLOW_DURATION_MILLISECONDS  Label  Attack  \n",
       "0                               0.0      0  Benign  \n",
       "1                               0.0      0  Benign  \n",
       "2                         4294951.0      0  Benign  \n",
       "3                               0.0      0  Benign  \n",
       "4                               0.0      0  Benign  \n",
       "...                             ...    ...     ...  \n",
       "2080705                         0.0      0  Benign  \n",
       "2080706                         0.0      0  Benign  \n",
       "2080707                         0.0      0  Benign  \n",
       "2080708                         0.0      0  Benign  \n",
       "2080709                         0.0      0  Benign  \n",
       "\n",
       "[2080710 rows x 14 columns]"
      ]
     },
     "execution_count": 8,
     "metadata": {},
     "output_type": "execute_result"
    }
   ],
   "source": [
    "data"
   ]
  },
  {
   "cell_type": "code",
   "execution_count": 9,
   "metadata": {
    "id": "PoVYaeFZtJBd"
   },
   "outputs": [],
   "source": [
    "data['IPV4_SRC_ADDR'] = data.IPV4_SRC_ADDR.apply(lambda x: socket.inet_ntoa(struct.pack('>I', random.randint(0xac100001, 0xac1f0001))))"
   ]
  },
  {
   "cell_type": "code",
   "execution_count": 10,
   "metadata": {
    "id": "zs4z58WCtu8k"
   },
   "outputs": [],
   "source": [
    "data['IPV4_SRC_ADDR'] = data.IPV4_SRC_ADDR.apply(str)\n",
    "data['L4_SRC_PORT'] = data.L4_SRC_PORT.apply(str)\n",
    "data['IPV4_DST_ADDR'] = data.IPV4_DST_ADDR.apply(str)\n",
    "data['L4_DST_PORT'] = data.L4_DST_PORT.apply(str)"
   ]
  },
  {
   "cell_type": "code",
   "execution_count": 11,
   "metadata": {
    "id": "9EEwTAK3tle9"
   },
   "outputs": [],
   "source": [
    "data['IPV4_SRC_ADDR'] = data['IPV4_SRC_ADDR'] + ':' + data['L4_SRC_PORT']\n",
    "data['IPV4_DST_ADDR'] = data['IPV4_DST_ADDR'] + ':' + data['L4_DST_PORT']"
   ]
  },
  {
   "cell_type": "code",
   "execution_count": 12,
   "metadata": {
    "id": "xbdaHUxOtzd-"
   },
   "outputs": [],
   "source": [
    "data.drop(columns=['L4_SRC_PORT','L4_DST_PORT'],inplace=True)"
   ]
  },
  {
   "cell_type": "code",
   "execution_count": 13,
   "metadata": {
    "colab": {
     "base_uri": "https://localhost:8080/",
     "height": 419
    },
    "id": "CN9rLLmr0eeI",
    "outputId": "ccd523c2-0cba-46a4-aef1-434f6a2b741b"
   },
   "outputs": [
    {
     "data": {
      "text/html": [
       "<div>\n",
       "<style scoped>\n",
       "    .dataframe tbody tr th:only-of-type {\n",
       "        vertical-align: middle;\n",
       "    }\n",
       "\n",
       "    .dataframe tbody tr th {\n",
       "        vertical-align: top;\n",
       "    }\n",
       "\n",
       "    .dataframe thead th {\n",
       "        text-align: right;\n",
       "    }\n",
       "</style>\n",
       "<table border=\"1\" class=\"dataframe\">\n",
       "  <thead>\n",
       "    <tr style=\"text-align: right;\">\n",
       "      <th></th>\n",
       "      <th>IPV4_SRC_ADDR</th>\n",
       "      <th>IPV4_DST_ADDR</th>\n",
       "      <th>PROTOCOL</th>\n",
       "      <th>L7_PROTO</th>\n",
       "      <th>IN_BYTES</th>\n",
       "      <th>OUT_BYTES</th>\n",
       "      <th>IN_PKTS</th>\n",
       "      <th>OUT_PKTS</th>\n",
       "      <th>TCP_FLAGS</th>\n",
       "      <th>FLOW_DURATION_MILLISECONDS</th>\n",
       "      <th>Label</th>\n",
       "      <th>Attack</th>\n",
       "    </tr>\n",
       "  </thead>\n",
       "  <tbody>\n",
       "    <tr>\n",
       "      <th>0</th>\n",
       "      <td>172.20.49.121:14738</td>\n",
       "      <td>172.31.64.83:3389</td>\n",
       "      <td>6</td>\n",
       "      <td>0.000</td>\n",
       "      <td>1918.0</td>\n",
       "      <td>804.0</td>\n",
       "      <td>13</td>\n",
       "      <td>10</td>\n",
       "      <td>223</td>\n",
       "      <td>0.0</td>\n",
       "      <td>0</td>\n",
       "      <td>Benign</td>\n",
       "    </tr>\n",
       "    <tr>\n",
       "      <th>1</th>\n",
       "      <td>172.30.68.243:60565</td>\n",
       "      <td>172.31.0.2:53</td>\n",
       "      <td>17</td>\n",
       "      <td>0.000</td>\n",
       "      <td>69.0</td>\n",
       "      <td>197.0</td>\n",
       "      <td>1</td>\n",
       "      <td>1</td>\n",
       "      <td>0</td>\n",
       "      <td>0.0</td>\n",
       "      <td>0</td>\n",
       "      <td>Benign</td>\n",
       "    </tr>\n",
       "    <tr>\n",
       "      <th>2</th>\n",
       "      <td>172.24.92.161:49574</td>\n",
       "      <td>23.36.34.146:443</td>\n",
       "      <td>6</td>\n",
       "      <td>0.000</td>\n",
       "      <td>1848.0</td>\n",
       "      <td>55067.0</td>\n",
       "      <td>37</td>\n",
       "      <td>57</td>\n",
       "      <td>31</td>\n",
       "      <td>4294951.0</td>\n",
       "      <td>0</td>\n",
       "      <td>Benign</td>\n",
       "    </tr>\n",
       "    <tr>\n",
       "      <th>3</th>\n",
       "      <td>172.17.195.6:57848</td>\n",
       "      <td>172.31.0.2:53</td>\n",
       "      <td>17</td>\n",
       "      <td>0.000</td>\n",
       "      <td>66.0</td>\n",
       "      <td>163.0</td>\n",
       "      <td>1</td>\n",
       "      <td>1</td>\n",
       "      <td>0</td>\n",
       "      <td>0.0</td>\n",
       "      <td>0</td>\n",
       "      <td>Benign</td>\n",
       "    </tr>\n",
       "    <tr>\n",
       "      <th>4</th>\n",
       "      <td>172.26.51.55:58226</td>\n",
       "      <td>172.31.0.2:53</td>\n",
       "      <td>17</td>\n",
       "      <td>5.126</td>\n",
       "      <td>60.0</td>\n",
       "      <td>156.0</td>\n",
       "      <td>1</td>\n",
       "      <td>1</td>\n",
       "      <td>0</td>\n",
       "      <td>0.0</td>\n",
       "      <td>0</td>\n",
       "      <td>Benign</td>\n",
       "    </tr>\n",
       "    <tr>\n",
       "      <th>...</th>\n",
       "      <td>...</td>\n",
       "      <td>...</td>\n",
       "      <td>...</td>\n",
       "      <td>...</td>\n",
       "      <td>...</td>\n",
       "      <td>...</td>\n",
       "      <td>...</td>\n",
       "      <td>...</td>\n",
       "      <td>...</td>\n",
       "      <td>...</td>\n",
       "      <td>...</td>\n",
       "      <td>...</td>\n",
       "    </tr>\n",
       "    <tr>\n",
       "      <th>2080705</th>\n",
       "      <td>172.24.120.248:60500</td>\n",
       "      <td>172.31.0.2:53</td>\n",
       "      <td>17</td>\n",
       "      <td>5.126</td>\n",
       "      <td>65.0</td>\n",
       "      <td>105.0</td>\n",
       "      <td>1</td>\n",
       "      <td>1</td>\n",
       "      <td>0</td>\n",
       "      <td>0.0</td>\n",
       "      <td>0</td>\n",
       "      <td>Benign</td>\n",
       "    </tr>\n",
       "    <tr>\n",
       "      <th>2080706</th>\n",
       "      <td>172.28.11.68:58370</td>\n",
       "      <td>172.31.64.70:8545</td>\n",
       "      <td>6</td>\n",
       "      <td>0.000</td>\n",
       "      <td>40.0</td>\n",
       "      <td>0.0</td>\n",
       "      <td>1</td>\n",
       "      <td>0</td>\n",
       "      <td>2</td>\n",
       "      <td>0.0</td>\n",
       "      <td>0</td>\n",
       "      <td>Benign</td>\n",
       "    </tr>\n",
       "    <tr>\n",
       "      <th>2080707</th>\n",
       "      <td>172.28.146.201:60255</td>\n",
       "      <td>172.31.0.2:53</td>\n",
       "      <td>17</td>\n",
       "      <td>0.000</td>\n",
       "      <td>68.0</td>\n",
       "      <td>167.0</td>\n",
       "      <td>1</td>\n",
       "      <td>1</td>\n",
       "      <td>0</td>\n",
       "      <td>0.0</td>\n",
       "      <td>0</td>\n",
       "      <td>Benign</td>\n",
       "    </tr>\n",
       "    <tr>\n",
       "      <th>2080708</th>\n",
       "      <td>172.16.119.229:55365</td>\n",
       "      <td>172.31.65.91:445</td>\n",
       "      <td>6</td>\n",
       "      <td>41.000</td>\n",
       "      <td>132.0</td>\n",
       "      <td>132.0</td>\n",
       "      <td>3</td>\n",
       "      <td>3</td>\n",
       "      <td>23</td>\n",
       "      <td>0.0</td>\n",
       "      <td>0</td>\n",
       "      <td>Benign</td>\n",
       "    </tr>\n",
       "    <tr>\n",
       "      <th>2080709</th>\n",
       "      <td>172.25.220.219:64015</td>\n",
       "      <td>172.31.65.80:3389</td>\n",
       "      <td>6</td>\n",
       "      <td>0.000</td>\n",
       "      <td>1606.0</td>\n",
       "      <td>2122.0</td>\n",
       "      <td>10</td>\n",
       "      <td>12</td>\n",
       "      <td>30</td>\n",
       "      <td>0.0</td>\n",
       "      <td>0</td>\n",
       "      <td>Benign</td>\n",
       "    </tr>\n",
       "  </tbody>\n",
       "</table>\n",
       "<p>2080710 rows × 12 columns</p>\n",
       "</div>"
      ],
      "text/plain": [
       "                IPV4_SRC_ADDR      IPV4_DST_ADDR  PROTOCOL  L7_PROTO  \\\n",
       "0         172.20.49.121:14738  172.31.64.83:3389         6     0.000   \n",
       "1         172.30.68.243:60565      172.31.0.2:53        17     0.000   \n",
       "2         172.24.92.161:49574   23.36.34.146:443         6     0.000   \n",
       "3          172.17.195.6:57848      172.31.0.2:53        17     0.000   \n",
       "4          172.26.51.55:58226      172.31.0.2:53        17     5.126   \n",
       "...                       ...                ...       ...       ...   \n",
       "2080705  172.24.120.248:60500      172.31.0.2:53        17     5.126   \n",
       "2080706    172.28.11.68:58370  172.31.64.70:8545         6     0.000   \n",
       "2080707  172.28.146.201:60255      172.31.0.2:53        17     0.000   \n",
       "2080708  172.16.119.229:55365   172.31.65.91:445         6    41.000   \n",
       "2080709  172.25.220.219:64015  172.31.65.80:3389         6     0.000   \n",
       "\n",
       "         IN_BYTES  OUT_BYTES  IN_PKTS  OUT_PKTS  TCP_FLAGS  \\\n",
       "0          1918.0      804.0       13        10        223   \n",
       "1            69.0      197.0        1         1          0   \n",
       "2          1848.0    55067.0       37        57         31   \n",
       "3            66.0      163.0        1         1          0   \n",
       "4            60.0      156.0        1         1          0   \n",
       "...           ...        ...      ...       ...        ...   \n",
       "2080705      65.0      105.0        1         1          0   \n",
       "2080706      40.0        0.0        1         0          2   \n",
       "2080707      68.0      167.0        1         1          0   \n",
       "2080708     132.0      132.0        3         3         23   \n",
       "2080709    1606.0     2122.0       10        12         30   \n",
       "\n",
       "         FLOW_DURATION_MILLISECONDS  Label  Attack  \n",
       "0                               0.0      0  Benign  \n",
       "1                               0.0      0  Benign  \n",
       "2                         4294951.0      0  Benign  \n",
       "3                               0.0      0  Benign  \n",
       "4                               0.0      0  Benign  \n",
       "...                             ...    ...     ...  \n",
       "2080705                         0.0      0  Benign  \n",
       "2080706                         0.0      0  Benign  \n",
       "2080707                         0.0      0  Benign  \n",
       "2080708                         0.0      0  Benign  \n",
       "2080709                         0.0      0  Benign  \n",
       "\n",
       "[2080710 rows x 12 columns]"
      ]
     },
     "execution_count": 13,
     "metadata": {},
     "output_type": "execute_result"
    }
   ],
   "source": [
    "data"
   ]
  },
  {
   "cell_type": "code",
   "execution_count": 14,
   "metadata": {
    "id": "C_WU15ngvnBM"
   },
   "outputs": [],
   "source": [
    "data.drop(columns=['Label'],inplace = True)"
   ]
  },
  {
   "cell_type": "code",
   "execution_count": 15,
   "metadata": {
    "id": "Q0d3nbdiv37j"
   },
   "outputs": [],
   "source": [
    "data.rename(columns={\"Attack\": \"label\"},inplace = True)"
   ]
  },
  {
   "cell_type": "code",
   "execution_count": 16,
   "metadata": {
    "id": "yjS-hTKDzI29"
   },
   "outputs": [],
   "source": [
    "le = LabelEncoder()\n",
    "le.fit_transform(data.label.values)\n",
    "data['label'] = le.transform(data['label'])"
   ]
  },
  {
   "cell_type": "code",
   "execution_count": 17,
   "metadata": {
    "id": "SVgjPVfg03XG"
   },
   "outputs": [],
   "source": [
    "label = data.label"
   ]
  },
  {
   "cell_type": "code",
   "execution_count": 18,
   "metadata": {
    "id": "ADl2Fj7H08Rr"
   },
   "outputs": [],
   "source": [
    "data.drop(columns=['label'],inplace = True)"
   ]
  },
  {
   "cell_type": "code",
   "execution_count": 19,
   "metadata": {
    "id": "qhsZMD3uwLk7"
   },
   "outputs": [],
   "source": [
    "scaler = StandardScaler()"
   ]
  },
  {
   "cell_type": "code",
   "execution_count": 20,
   "metadata": {
    "id": "aukoVdNf2zcp"
   },
   "outputs": [],
   "source": [
    "data =  pd.concat([data, label], axis=1)"
   ]
  },
  {
   "cell_type": "code",
   "execution_count": 21,
   "metadata": {
    "colab": {
     "base_uri": "https://localhost:8080/",
     "height": 419
    },
    "id": "IP-ZEZW4nxSm",
    "outputId": "d3f123dd-51b2-447d-958b-05c3109bb362"
   },
   "outputs": [
    {
     "data": {
      "text/html": [
       "<div>\n",
       "<style scoped>\n",
       "    .dataframe tbody tr th:only-of-type {\n",
       "        vertical-align: middle;\n",
       "    }\n",
       "\n",
       "    .dataframe tbody tr th {\n",
       "        vertical-align: top;\n",
       "    }\n",
       "\n",
       "    .dataframe thead th {\n",
       "        text-align: right;\n",
       "    }\n",
       "</style>\n",
       "<table border=\"1\" class=\"dataframe\">\n",
       "  <thead>\n",
       "    <tr style=\"text-align: right;\">\n",
       "      <th></th>\n",
       "      <th>IPV4_SRC_ADDR</th>\n",
       "      <th>IPV4_DST_ADDR</th>\n",
       "      <th>PROTOCOL</th>\n",
       "      <th>L7_PROTO</th>\n",
       "      <th>IN_BYTES</th>\n",
       "      <th>OUT_BYTES</th>\n",
       "      <th>IN_PKTS</th>\n",
       "      <th>OUT_PKTS</th>\n",
       "      <th>TCP_FLAGS</th>\n",
       "      <th>FLOW_DURATION_MILLISECONDS</th>\n",
       "      <th>label</th>\n",
       "    </tr>\n",
       "  </thead>\n",
       "  <tbody>\n",
       "    <tr>\n",
       "      <th>0</th>\n",
       "      <td>172.20.49.121:14738</td>\n",
       "      <td>172.31.64.83:3389</td>\n",
       "      <td>6</td>\n",
       "      <td>0.000</td>\n",
       "      <td>1918.0</td>\n",
       "      <td>804.0</td>\n",
       "      <td>13</td>\n",
       "      <td>10</td>\n",
       "      <td>223</td>\n",
       "      <td>0.0</td>\n",
       "      <td>0</td>\n",
       "    </tr>\n",
       "    <tr>\n",
       "      <th>1</th>\n",
       "      <td>172.30.68.243:60565</td>\n",
       "      <td>172.31.0.2:53</td>\n",
       "      <td>17</td>\n",
       "      <td>0.000</td>\n",
       "      <td>69.0</td>\n",
       "      <td>197.0</td>\n",
       "      <td>1</td>\n",
       "      <td>1</td>\n",
       "      <td>0</td>\n",
       "      <td>0.0</td>\n",
       "      <td>0</td>\n",
       "    </tr>\n",
       "    <tr>\n",
       "      <th>2</th>\n",
       "      <td>172.24.92.161:49574</td>\n",
       "      <td>23.36.34.146:443</td>\n",
       "      <td>6</td>\n",
       "      <td>0.000</td>\n",
       "      <td>1848.0</td>\n",
       "      <td>55067.0</td>\n",
       "      <td>37</td>\n",
       "      <td>57</td>\n",
       "      <td>31</td>\n",
       "      <td>4294951.0</td>\n",
       "      <td>0</td>\n",
       "    </tr>\n",
       "    <tr>\n",
       "      <th>3</th>\n",
       "      <td>172.17.195.6:57848</td>\n",
       "      <td>172.31.0.2:53</td>\n",
       "      <td>17</td>\n",
       "      <td>0.000</td>\n",
       "      <td>66.0</td>\n",
       "      <td>163.0</td>\n",
       "      <td>1</td>\n",
       "      <td>1</td>\n",
       "      <td>0</td>\n",
       "      <td>0.0</td>\n",
       "      <td>0</td>\n",
       "    </tr>\n",
       "    <tr>\n",
       "      <th>4</th>\n",
       "      <td>172.26.51.55:58226</td>\n",
       "      <td>172.31.0.2:53</td>\n",
       "      <td>17</td>\n",
       "      <td>5.126</td>\n",
       "      <td>60.0</td>\n",
       "      <td>156.0</td>\n",
       "      <td>1</td>\n",
       "      <td>1</td>\n",
       "      <td>0</td>\n",
       "      <td>0.0</td>\n",
       "      <td>0</td>\n",
       "    </tr>\n",
       "    <tr>\n",
       "      <th>...</th>\n",
       "      <td>...</td>\n",
       "      <td>...</td>\n",
       "      <td>...</td>\n",
       "      <td>...</td>\n",
       "      <td>...</td>\n",
       "      <td>...</td>\n",
       "      <td>...</td>\n",
       "      <td>...</td>\n",
       "      <td>...</td>\n",
       "      <td>...</td>\n",
       "      <td>...</td>\n",
       "    </tr>\n",
       "    <tr>\n",
       "      <th>2080705</th>\n",
       "      <td>172.24.120.248:60500</td>\n",
       "      <td>172.31.0.2:53</td>\n",
       "      <td>17</td>\n",
       "      <td>5.126</td>\n",
       "      <td>65.0</td>\n",
       "      <td>105.0</td>\n",
       "      <td>1</td>\n",
       "      <td>1</td>\n",
       "      <td>0</td>\n",
       "      <td>0.0</td>\n",
       "      <td>0</td>\n",
       "    </tr>\n",
       "    <tr>\n",
       "      <th>2080706</th>\n",
       "      <td>172.28.11.68:58370</td>\n",
       "      <td>172.31.64.70:8545</td>\n",
       "      <td>6</td>\n",
       "      <td>0.000</td>\n",
       "      <td>40.0</td>\n",
       "      <td>0.0</td>\n",
       "      <td>1</td>\n",
       "      <td>0</td>\n",
       "      <td>2</td>\n",
       "      <td>0.0</td>\n",
       "      <td>0</td>\n",
       "    </tr>\n",
       "    <tr>\n",
       "      <th>2080707</th>\n",
       "      <td>172.28.146.201:60255</td>\n",
       "      <td>172.31.0.2:53</td>\n",
       "      <td>17</td>\n",
       "      <td>0.000</td>\n",
       "      <td>68.0</td>\n",
       "      <td>167.0</td>\n",
       "      <td>1</td>\n",
       "      <td>1</td>\n",
       "      <td>0</td>\n",
       "      <td>0.0</td>\n",
       "      <td>0</td>\n",
       "    </tr>\n",
       "    <tr>\n",
       "      <th>2080708</th>\n",
       "      <td>172.16.119.229:55365</td>\n",
       "      <td>172.31.65.91:445</td>\n",
       "      <td>6</td>\n",
       "      <td>41.000</td>\n",
       "      <td>132.0</td>\n",
       "      <td>132.0</td>\n",
       "      <td>3</td>\n",
       "      <td>3</td>\n",
       "      <td>23</td>\n",
       "      <td>0.0</td>\n",
       "      <td>0</td>\n",
       "    </tr>\n",
       "    <tr>\n",
       "      <th>2080709</th>\n",
       "      <td>172.25.220.219:64015</td>\n",
       "      <td>172.31.65.80:3389</td>\n",
       "      <td>6</td>\n",
       "      <td>0.000</td>\n",
       "      <td>1606.0</td>\n",
       "      <td>2122.0</td>\n",
       "      <td>10</td>\n",
       "      <td>12</td>\n",
       "      <td>30</td>\n",
       "      <td>0.0</td>\n",
       "      <td>0</td>\n",
       "    </tr>\n",
       "  </tbody>\n",
       "</table>\n",
       "<p>2080710 rows × 11 columns</p>\n",
       "</div>"
      ],
      "text/plain": [
       "                IPV4_SRC_ADDR      IPV4_DST_ADDR  PROTOCOL  L7_PROTO  \\\n",
       "0         172.20.49.121:14738  172.31.64.83:3389         6     0.000   \n",
       "1         172.30.68.243:60565      172.31.0.2:53        17     0.000   \n",
       "2         172.24.92.161:49574   23.36.34.146:443         6     0.000   \n",
       "3          172.17.195.6:57848      172.31.0.2:53        17     0.000   \n",
       "4          172.26.51.55:58226      172.31.0.2:53        17     5.126   \n",
       "...                       ...                ...       ...       ...   \n",
       "2080705  172.24.120.248:60500      172.31.0.2:53        17     5.126   \n",
       "2080706    172.28.11.68:58370  172.31.64.70:8545         6     0.000   \n",
       "2080707  172.28.146.201:60255      172.31.0.2:53        17     0.000   \n",
       "2080708  172.16.119.229:55365   172.31.65.91:445         6    41.000   \n",
       "2080709  172.25.220.219:64015  172.31.65.80:3389         6     0.000   \n",
       "\n",
       "         IN_BYTES  OUT_BYTES  IN_PKTS  OUT_PKTS  TCP_FLAGS  \\\n",
       "0          1918.0      804.0       13        10        223   \n",
       "1            69.0      197.0        1         1          0   \n",
       "2          1848.0    55067.0       37        57         31   \n",
       "3            66.0      163.0        1         1          0   \n",
       "4            60.0      156.0        1         1          0   \n",
       "...           ...        ...      ...       ...        ...   \n",
       "2080705      65.0      105.0        1         1          0   \n",
       "2080706      40.0        0.0        1         0          2   \n",
       "2080707      68.0      167.0        1         1          0   \n",
       "2080708     132.0      132.0        3         3         23   \n",
       "2080709    1606.0     2122.0       10        12         30   \n",
       "\n",
       "         FLOW_DURATION_MILLISECONDS  label  \n",
       "0                               0.0      0  \n",
       "1                               0.0      0  \n",
       "2                         4294951.0      0  \n",
       "3                               0.0      0  \n",
       "4                               0.0      0  \n",
       "...                             ...    ...  \n",
       "2080705                         0.0      0  \n",
       "2080706                         0.0      0  \n",
       "2080707                         0.0      0  \n",
       "2080708                         0.0      0  \n",
       "2080709                         0.0      0  \n",
       "\n",
       "[2080710 rows x 11 columns]"
      ]
     },
     "execution_count": 21,
     "metadata": {},
     "output_type": "execute_result"
    }
   ],
   "source": [
    "data"
   ]
  },
  {
   "cell_type": "code",
   "execution_count": 22,
   "metadata": {
    "id": "PUa4uJbewQc7"
   },
   "outputs": [],
   "source": [
    "X_train, X_test, y_train, y_test = train_test_split(\n",
    "     data, label, test_size=0.3, random_state=123,stratify= label)"
   ]
  },
  {
   "cell_type": "code",
   "execution_count": 23,
   "metadata": {
    "colab": {
     "base_uri": "https://localhost:8080/"
    },
    "id": "z3DrIWDHqNxp",
    "outputId": "e2777f43-f37e-4596-eb7b-21186d3bf389"
   },
   "outputs": [],
   "source": [
    "encoder = ce.TargetEncoder(cols=['TCP_FLAGS','L7_PROTO','PROTOCOL'])\n",
    "encoder.fit(X_train, y_train)\n",
    "X_train = encoder.transform(X_train)"
   ]
  },
  {
   "cell_type": "code",
   "execution_count": 24,
   "metadata": {
    "id": "EDKYHCbcqN81"
   },
   "outputs": [],
   "source": [
    "cols_to_norm = list(set(list(X_train.iloc[:, 2:].columns ))  - set(list(['label'])) )\n",
    "X_train[cols_to_norm] = scaler.fit_transform(X_train[cols_to_norm])"
   ]
  },
  {
   "cell_type": "code",
   "execution_count": 25,
   "metadata": {
    "id": "ek535MkWwUHN"
   },
   "outputs": [],
   "source": [
    "X_train['h'] = X_train[ cols_to_norm ].values.tolist()"
   ]
  },
  {
   "cell_type": "code",
   "execution_count": 26,
   "metadata": {
    "colab": {
     "base_uri": "https://localhost:8080/",
     "height": 711
    },
    "id": "v4mfPB0X9rRX",
    "outputId": "29a8752f-28cd-49b4-c4c1-15e0d58d4a6a"
   },
   "outputs": [
    {
     "data": {
      "text/html": [
       "<div>\n",
       "<style scoped>\n",
       "    .dataframe tbody tr th:only-of-type {\n",
       "        vertical-align: middle;\n",
       "    }\n",
       "\n",
       "    .dataframe tbody tr th {\n",
       "        vertical-align: top;\n",
       "    }\n",
       "\n",
       "    .dataframe thead th {\n",
       "        text-align: right;\n",
       "    }\n",
       "</style>\n",
       "<table border=\"1\" class=\"dataframe\">\n",
       "  <thead>\n",
       "    <tr style=\"text-align: right;\">\n",
       "      <th></th>\n",
       "      <th>IPV4_SRC_ADDR</th>\n",
       "      <th>IPV4_DST_ADDR</th>\n",
       "      <th>PROTOCOL</th>\n",
       "      <th>L7_PROTO</th>\n",
       "      <th>IN_BYTES</th>\n",
       "      <th>OUT_BYTES</th>\n",
       "      <th>IN_PKTS</th>\n",
       "      <th>OUT_PKTS</th>\n",
       "      <th>TCP_FLAGS</th>\n",
       "      <th>FLOW_DURATION_MILLISECONDS</th>\n",
       "      <th>label</th>\n",
       "      <th>h</th>\n",
       "    </tr>\n",
       "  </thead>\n",
       "  <tbody>\n",
       "    <tr>\n",
       "      <th>662098</th>\n",
       "      <td>172.20.212.210:64971</td>\n",
       "      <td>172.31.0.2:53</td>\n",
       "      <td>-1.350981</td>\n",
       "      <td>-0.500059</td>\n",
       "      <td>-0.031336</td>\n",
       "      <td>-0.013214</td>\n",
       "      <td>-0.028302</td>\n",
       "      <td>-0.029044</td>\n",
       "      <td>-0.565404</td>\n",
       "      <td>-0.537159</td>\n",
       "      <td>0</td>\n",
       "      <td>[-0.5371585203105935, -0.029043717301218522, -...</td>\n",
       "    </tr>\n",
       "    <tr>\n",
       "      <th>626381</th>\n",
       "      <td>172.20.14.113:65207</td>\n",
       "      <td>172.31.0.2:53</td>\n",
       "      <td>-1.350981</td>\n",
       "      <td>-0.500059</td>\n",
       "      <td>-0.031351</td>\n",
       "      <td>-0.013218</td>\n",
       "      <td>-0.028302</td>\n",
       "      <td>-0.029044</td>\n",
       "      <td>-0.565404</td>\n",
       "      <td>-0.537159</td>\n",
       "      <td>0</td>\n",
       "      <td>[-0.5371585203105935, -0.029043717301218522, -...</td>\n",
       "    </tr>\n",
       "    <tr>\n",
       "      <th>1611644</th>\n",
       "      <td>172.17.49.77:61821</td>\n",
       "      <td>172.31.64.12:3389</td>\n",
       "      <td>0.740421</td>\n",
       "      <td>-0.683276</td>\n",
       "      <td>-0.021280</td>\n",
       "      <td>-0.009217</td>\n",
       "      <td>-0.025276</td>\n",
       "      <td>-0.009540</td>\n",
       "      <td>-0.760873</td>\n",
       "      <td>-0.537159</td>\n",
       "      <td>0</td>\n",
       "      <td>[-0.5371585203105935, -0.009540311696007508, -...</td>\n",
       "    </tr>\n",
       "    <tr>\n",
       "      <th>1904377</th>\n",
       "      <td>172.25.147.6:50830</td>\n",
       "      <td>172.31.0.2:53</td>\n",
       "      <td>-1.350981</td>\n",
       "      <td>-0.500059</td>\n",
       "      <td>-0.030808</td>\n",
       "      <td>-0.012869</td>\n",
       "      <td>-0.027870</td>\n",
       "      <td>-0.025793</td>\n",
       "      <td>-0.565404</td>\n",
       "      <td>-0.537159</td>\n",
       "      <td>0</td>\n",
       "      <td>[-0.5371585203105935, -0.02579314970035002, -0...</td>\n",
       "    </tr>\n",
       "    <tr>\n",
       "      <th>1467018</th>\n",
       "      <td>172.28.204.165:34779</td>\n",
       "      <td>172.31.69.22:50389</td>\n",
       "      <td>0.740421</td>\n",
       "      <td>-0.500059</td>\n",
       "      <td>-0.031536</td>\n",
       "      <td>-0.013321</td>\n",
       "      <td>-0.028302</td>\n",
       "      <td>-0.029044</td>\n",
       "      <td>3.566358</td>\n",
       "      <td>-0.537159</td>\n",
       "      <td>12</td>\n",
       "      <td>[-0.5371585203105935, -0.029043717301218522, -...</td>\n",
       "    </tr>\n",
       "    <tr>\n",
       "      <th>...</th>\n",
       "      <td>...</td>\n",
       "      <td>...</td>\n",
       "      <td>...</td>\n",
       "      <td>...</td>\n",
       "      <td>...</td>\n",
       "      <td>...</td>\n",
       "      <td>...</td>\n",
       "      <td>...</td>\n",
       "      <td>...</td>\n",
       "      <td>...</td>\n",
       "      <td>...</td>\n",
       "      <td>...</td>\n",
       "    </tr>\n",
       "    <tr>\n",
       "      <th>1524661</th>\n",
       "      <td>172.21.52.137:53892</td>\n",
       "      <td>50.23.200.73:443</td>\n",
       "      <td>0.740421</td>\n",
       "      <td>-0.500059</td>\n",
       "      <td>-0.023023</td>\n",
       "      <td>0.006816</td>\n",
       "      <td>-0.024411</td>\n",
       "      <td>0.006713</td>\n",
       "      <td>2.287135</td>\n",
       "      <td>-0.537159</td>\n",
       "      <td>0</td>\n",
       "      <td>[-0.5371585203105935, 0.006712526308335004, -0...</td>\n",
       "    </tr>\n",
       "    <tr>\n",
       "      <th>1599096</th>\n",
       "      <td>172.28.68.246:62761</td>\n",
       "      <td>172.31.69.28:80</td>\n",
       "      <td>0.740421</td>\n",
       "      <td>0.836642</td>\n",
       "      <td>-0.028094</td>\n",
       "      <td>-0.010842</td>\n",
       "      <td>-0.026573</td>\n",
       "      <td>-0.016041</td>\n",
       "      <td>0.341172</td>\n",
       "      <td>1.861826</td>\n",
       "      <td>4</td>\n",
       "      <td>[1.8618260861120282, -0.01604144689774451, 0.8...</td>\n",
       "    </tr>\n",
       "    <tr>\n",
       "      <th>1949518</th>\n",
       "      <td>172.18.209.158:55966</td>\n",
       "      <td>172.31.66.85:445</td>\n",
       "      <td>0.740421</td>\n",
       "      <td>-0.500059</td>\n",
       "      <td>-0.027165</td>\n",
       "      <td>-0.011454</td>\n",
       "      <td>-0.025708</td>\n",
       "      <td>-0.009540</td>\n",
       "      <td>0.087529</td>\n",
       "      <td>-0.537159</td>\n",
       "      <td>0</td>\n",
       "      <td>[-0.5371585203105935, -0.009540311696007508, -...</td>\n",
       "    </tr>\n",
       "    <tr>\n",
       "      <th>939365</th>\n",
       "      <td>172.18.172.241:58994</td>\n",
       "      <td>172.31.0.2:53</td>\n",
       "      <td>-1.350981</td>\n",
       "      <td>-0.460561</td>\n",
       "      <td>-0.031358</td>\n",
       "      <td>-0.013064</td>\n",
       "      <td>-0.028302</td>\n",
       "      <td>-0.029044</td>\n",
       "      <td>-0.565404</td>\n",
       "      <td>-0.537159</td>\n",
       "      <td>0</td>\n",
       "      <td>[-0.5371585203105935, -0.029043717301218522, -...</td>\n",
       "    </tr>\n",
       "    <tr>\n",
       "      <th>405505</th>\n",
       "      <td>172.27.182.176:54904</td>\n",
       "      <td>172.31.69.28:80</td>\n",
       "      <td>0.740421</td>\n",
       "      <td>1.044102</td>\n",
       "      <td>-0.028394</td>\n",
       "      <td>-0.010842</td>\n",
       "      <td>-0.026573</td>\n",
       "      <td>-0.016041</td>\n",
       "      <td>0.341172</td>\n",
       "      <td>1.861838</td>\n",
       "      <td>4</td>\n",
       "      <td>[1.8618378158808435, -0.01604144689774451, 1.0...</td>\n",
       "    </tr>\n",
       "  </tbody>\n",
       "</table>\n",
       "<p>1456497 rows × 12 columns</p>\n",
       "</div>"
      ],
      "text/plain": [
       "                IPV4_SRC_ADDR       IPV4_DST_ADDR  PROTOCOL  L7_PROTO  \\\n",
       "662098   172.20.212.210:64971       172.31.0.2:53 -1.350981 -0.500059   \n",
       "626381    172.20.14.113:65207       172.31.0.2:53 -1.350981 -0.500059   \n",
       "1611644    172.17.49.77:61821   172.31.64.12:3389  0.740421 -0.683276   \n",
       "1904377    172.25.147.6:50830       172.31.0.2:53 -1.350981 -0.500059   \n",
       "1467018  172.28.204.165:34779  172.31.69.22:50389  0.740421 -0.500059   \n",
       "...                       ...                 ...       ...       ...   \n",
       "1524661   172.21.52.137:53892    50.23.200.73:443  0.740421 -0.500059   \n",
       "1599096   172.28.68.246:62761     172.31.69.28:80  0.740421  0.836642   \n",
       "1949518  172.18.209.158:55966    172.31.66.85:445  0.740421 -0.500059   \n",
       "939365   172.18.172.241:58994       172.31.0.2:53 -1.350981 -0.460561   \n",
       "405505   172.27.182.176:54904     172.31.69.28:80  0.740421  1.044102   \n",
       "\n",
       "         IN_BYTES  OUT_BYTES   IN_PKTS  OUT_PKTS  TCP_FLAGS  \\\n",
       "662098  -0.031336  -0.013214 -0.028302 -0.029044  -0.565404   \n",
       "626381  -0.031351  -0.013218 -0.028302 -0.029044  -0.565404   \n",
       "1611644 -0.021280  -0.009217 -0.025276 -0.009540  -0.760873   \n",
       "1904377 -0.030808  -0.012869 -0.027870 -0.025793  -0.565404   \n",
       "1467018 -0.031536  -0.013321 -0.028302 -0.029044   3.566358   \n",
       "...           ...        ...       ...       ...        ...   \n",
       "1524661 -0.023023   0.006816 -0.024411  0.006713   2.287135   \n",
       "1599096 -0.028094  -0.010842 -0.026573 -0.016041   0.341172   \n",
       "1949518 -0.027165  -0.011454 -0.025708 -0.009540   0.087529   \n",
       "939365  -0.031358  -0.013064 -0.028302 -0.029044  -0.565404   \n",
       "405505  -0.028394  -0.010842 -0.026573 -0.016041   0.341172   \n",
       "\n",
       "         FLOW_DURATION_MILLISECONDS  label  \\\n",
       "662098                    -0.537159      0   \n",
       "626381                    -0.537159      0   \n",
       "1611644                   -0.537159      0   \n",
       "1904377                   -0.537159      0   \n",
       "1467018                   -0.537159     12   \n",
       "...                             ...    ...   \n",
       "1524661                   -0.537159      0   \n",
       "1599096                    1.861826      4   \n",
       "1949518                   -0.537159      0   \n",
       "939365                    -0.537159      0   \n",
       "405505                     1.861838      4   \n",
       "\n",
       "                                                         h  \n",
       "662098   [-0.5371585203105935, -0.029043717301218522, -...  \n",
       "626381   [-0.5371585203105935, -0.029043717301218522, -...  \n",
       "1611644  [-0.5371585203105935, -0.009540311696007508, -...  \n",
       "1904377  [-0.5371585203105935, -0.02579314970035002, -0...  \n",
       "1467018  [-0.5371585203105935, -0.029043717301218522, -...  \n",
       "...                                                    ...  \n",
       "1524661  [-0.5371585203105935, 0.006712526308335004, -0...  \n",
       "1599096  [1.8618260861120282, -0.01604144689774451, 0.8...  \n",
       "1949518  [-0.5371585203105935, -0.009540311696007508, -...  \n",
       "939365   [-0.5371585203105935, -0.029043717301218522, -...  \n",
       "405505   [1.8618378158808435, -0.01604144689774451, 1.0...  \n",
       "\n",
       "[1456497 rows x 12 columns]"
      ]
     },
     "execution_count": 26,
     "metadata": {},
     "output_type": "execute_result"
    }
   ],
   "source": [
    "X_train"
   ]
  },
  {
   "cell_type": "code",
   "execution_count": 27,
   "metadata": {
    "id": "OIrcNfMSwa0j"
   },
   "outputs": [],
   "source": [
    "G = nx.from_pandas_edgelist(X_train, \"IPV4_SRC_ADDR\", \"IPV4_DST_ADDR\", ['h','label'],create_using=nx.MultiGraph())"
   ]
  },
  {
   "cell_type": "code",
   "execution_count": 28,
   "metadata": {
    "id": "QluLSxbiwn7M"
   },
   "outputs": [],
   "source": [
    "G = G.to_directed()\n"
   ]
  },
  {
   "cell_type": "code",
   "execution_count": 29,
   "metadata": {
    "id": "2zClkKEzwrVb"
   },
   "outputs": [],
   "source": [
    "G = from_networkx(G,edge_attrs=['h','label'] )\n"
   ]
  },
  {
   "cell_type": "code",
   "execution_count": 30,
   "metadata": {
    "id": "9jlBYgE8wsW7"
   },
   "outputs": [],
   "source": [
    "# Eq1\n",
    "G.ndata['h'] = th.ones(G.num_nodes(), G.edata['h'].shape[1])"
   ]
  },
  {
   "cell_type": "code",
   "execution_count": 31,
   "metadata": {
    "id": "E7Vc6IELwuJr"
   },
   "outputs": [],
   "source": [
    "G.edata['train_mask'] = th.ones(len(G.edata['h']), dtype=th.bool)\n"
   ]
  },
  {
   "cell_type": "code",
   "execution_count": 32,
   "metadata": {
    "colab": {
     "base_uri": "https://localhost:8080/"
    },
    "id": "BIx7-W6s46Ju",
    "outputId": "234c56a1-9958-4e82-e244-b2a41dcf2855"
   },
   "outputs": [
    {
     "data": {
      "text/plain": [
       "tensor([True, True, True,  ..., True, True, True])"
      ]
     },
     "execution_count": 32,
     "metadata": {},
     "output_type": "execute_result"
    }
   ],
   "source": [
    "G.edata['train_mask'] "
   ]
  },
  {
   "cell_type": "code",
   "execution_count": 33,
   "metadata": {
    "id": "DzDap1MR5e95"
   },
   "outputs": [],
   "source": [
    "def compute_accuracy(pred, labels):\n",
    "    return (pred.argmax(1) == labels).float().mean().item()"
   ]
  },
  {
   "cell_type": "code",
   "execution_count": 34,
   "metadata": {
    "id": "5VzTQxAR5HoT"
   },
   "outputs": [],
   "source": [
    "class SAGELayer(nn.Module):\n",
    "    def __init__(self, ndim_in, edims, ndim_out, activation):\n",
    "        super(SAGELayer, self).__init__()\n",
    "        ### force to outut fix dimensions\n",
    "        self.W_msg = nn.Linear(ndim_in + edims, ndim_out)\n",
    "        ### apply weight\n",
    "        self.W_apply = nn.Linear(ndim_in + ndim_out, ndim_out)\n",
    "        self.activation = activation\n",
    "\n",
    "    def message_func(self, edges):\n",
    "        return {'m': self.W_msg(th.cat([edges.src['h'], edges.data['h']], 2))}\n",
    "\n",
    "    def forward(self, g_dgl, nfeats, efeats):\n",
    "        with g_dgl.local_scope():\n",
    "            g = g_dgl\n",
    "            g.ndata['h'] = nfeats\n",
    "            g.edata['h'] = efeats\n",
    "            # Eq4\n",
    "            g.update_all(self.message_func, fn.mean('m', 'h_neigh'))\n",
    "            # Eq5          \n",
    "            g.ndata['h'] = F.relu(self.W_apply(th.cat([g.ndata['h'], g.ndata['h_neigh']], 2)))\n",
    "            return g.ndata['h']\n",
    "\n",
    "\n",
    "class SAGE(nn.Module):\n",
    "    def __init__(self, ndim_in, ndim_out, edim, activation, dropout):\n",
    "        super(SAGE, self).__init__()\n",
    "        self.layers = nn.ModuleList()\n",
    "        self.layers.append(SAGELayer(ndim_in, edim, 128, activation))\n",
    "        self.layers.append(SAGELayer(128, edim, ndim_out, activation))\n",
    "        self.dropout = nn.Dropout(p=dropout)\n",
    "\n",
    "    def forward(self, g, nfeats, efeats):\n",
    "        for i, layer in enumerate(self.layers):\n",
    "            if i != 0:\n",
    "                nfeats = self.dropout(nfeats)\n",
    "            nfeats = layer(g, nfeats, efeats)\n",
    "        return nfeats.sum(1)"
   ]
  },
  {
   "cell_type": "code",
   "execution_count": 35,
   "metadata": {
    "id": "hrLYvze5wwMi"
   },
   "outputs": [],
   "source": [
    "class MLPPredictor(nn.Module):\n",
    "    def __init__(self, in_features, out_classes):\n",
    "        super().__init__()\n",
    "        self.W = nn.Linear(in_features * 2, out_classes)\n",
    "\n",
    "    def apply_edges(self, edges):\n",
    "        h_u = edges.src['h']\n",
    "        h_v = edges.dst['h']\n",
    "        score = self.W(th.cat([h_u, h_v], 1))\n",
    "        return {'score': score}\n",
    "\n",
    "    def forward(self, graph, h):\n",
    "        with graph.local_scope():\n",
    "            graph.ndata['h'] = h\n",
    "            graph.apply_edges(self.apply_edges)\n",
    "            return graph.edata['score']"
   ]
  },
  {
   "cell_type": "code",
   "execution_count": 36,
   "metadata": {
    "id": "GPLg-kCcwxLa"
   },
   "outputs": [],
   "source": [
    "G.ndata['h'] = th.reshape(G.ndata['h'], (G.ndata['h'].shape[0], 1,G.ndata['h'].shape[1]))\n",
    "G.edata['h'] = th.reshape(G.edata['h'], (G.edata['h'].shape[0], 1,G.edata['h'].shape[1]))"
   ]
  },
  {
   "cell_type": "code",
   "execution_count": 37,
   "metadata": {
    "id": "SwdZs785w1dT"
   },
   "outputs": [],
   "source": [
    "class Model(nn.Module):\n",
    "    def __init__(self, ndim_in, ndim_out, edim, activation, dropout):\n",
    "        super().__init__()\n",
    "        self.gnn = SAGE(ndim_in, ndim_out, edim, activation, dropout)\n",
    "        self.pred = MLPPredictor(ndim_out, 15)\n",
    "    def forward(self, g, nfeats, efeats):\n",
    "        h = self.gnn(g, nfeats, efeats)\n",
    "        return self.pred(g, h)"
   ]
  },
  {
   "cell_type": "code",
   "execution_count": 38,
   "metadata": {
    "id": "BEw7J1Z45R62"
   },
   "outputs": [
    {
     "name": "stdout",
     "output_type": "stream",
     "text": [
      "Class Weights Dictionary: {0: 0.09264885629474419, 1: 1.9387389186167239, 2: 129.29400798934753, 3: 149.6144838212635, 4: 0.6416851704996035, 5: 131.3935047361299, 6: 2.2569801496908557, 7: 10.007193651448006, 8: 1.603074078354328, 9: 19.651851851851852, 10: 29.167858215680383, 11: 10.698523578669016, 12: 2.384221381918185, 13: 321.5225165562914, 14: 2.920909665192672}\n"
     ]
    }
   ],
   "source": [
    "from sklearn.utils import class_weight\n",
    "import numpy as np # Ensure numpy is imported\n",
    "\n",
    "# Calculate unique classes and labels once\n",
    "labels_array = G.edata['label'].cpu().numpy()\n",
    "unique_classes = np.unique(labels_array)\n",
    "\n",
    "class_weights = class_weight.compute_class_weight(\n",
    "    'balanced',\n",
    "    classes=unique_classes, # Use keyword 'classes='\n",
    "    y=labels_array          # Use keyword 'y='\n",
    ")\n",
    "\n",
    "# Optional: Convert to a dictionary usable by many frameworks\n",
    "class_weights_dict = dict(zip(unique_classes, class_weights))\n",
    "print(\"Class Weights Dictionary:\", class_weights_dict)"
   ]
  },
  {
   "cell_type": "code",
   "execution_count": 39,
   "metadata": {
    "id": "Cti0vAFYw3A0"
   },
   "outputs": [],
   "source": [
    "class_weights = th.FloatTensor(class_weights).cuda()\n",
    "criterion = nn.CrossEntropyLoss(weight = class_weights)"
   ]
  },
  {
   "cell_type": "code",
   "execution_count": 40,
   "metadata": {
    "colab": {
     "base_uri": "https://localhost:8080/"
    },
    "id": "Rj3DHIZmw4IM",
    "outputId": "25d6e453-935e-4132-e67b-f6dbc46c699a"
   },
   "outputs": [
    {
     "data": {
      "text/plain": [
       "device(type='cuda', index=0)"
      ]
     },
     "execution_count": 40,
     "metadata": {},
     "output_type": "execute_result"
    }
   ],
   "source": [
    "G = G.to('cuda:0')\n",
    "G.device"
   ]
  },
  {
   "cell_type": "code",
   "execution_count": 41,
   "metadata": {
    "colab": {
     "base_uri": "https://localhost:8080/"
    },
    "id": "qdlVG3JOw5Qj",
    "outputId": "48880507-da3a-41d5-f470-b594953d822c"
   },
   "outputs": [
    {
     "data": {
      "text/plain": [
       "device(type='cuda', index=0)"
      ]
     },
     "execution_count": 41,
     "metadata": {},
     "output_type": "execute_result"
    }
   ],
   "source": [
    "G.ndata['h'].device\n"
   ]
  },
  {
   "cell_type": "code",
   "execution_count": 42,
   "metadata": {
    "colab": {
     "base_uri": "https://localhost:8080/"
    },
    "id": "dvt3pnXmw6U7",
    "outputId": "9f97f898-6d60-4295-dac3-16efa108353c"
   },
   "outputs": [
    {
     "data": {
      "text/plain": [
       "device(type='cuda', index=0)"
      ]
     },
     "execution_count": 42,
     "metadata": {},
     "output_type": "execute_result"
    }
   ],
   "source": [
    "G.edata['h'].device\n"
   ]
  },
  {
   "cell_type": "code",
   "execution_count": 43,
   "metadata": {
    "colab": {
     "base_uri": "https://localhost:8080/"
    },
    "id": "-_eTiHzWw8Cz",
    "outputId": "a9129648-590f-433f-99e1-f7cf871283d7"
   },
   "outputs": [
    {
     "name": "stdout",
     "output_type": "stream",
     "text": [
      "Training acc: 0.897104799747467\n",
      "Training acc: 0.6369515061378479\n",
      "Training acc: 0.5999414920806885\n",
      "Training acc: 0.7833204865455627\n",
      "Training acc: 0.634310245513916\n",
      "Training acc: 0.6234990358352661\n",
      "Training acc: 0.7000827789306641\n",
      "Training acc: 0.6528005003929138\n",
      "Training acc: 0.6410775184631348\n",
      "Training acc: 0.5609283447265625\n",
      "Training acc: 0.6359439492225647\n",
      "Training acc: 0.8672478795051575\n",
      "Training acc: 0.637125551700592\n",
      "Training acc: 0.6054739356040955\n",
      "Training acc: 0.6275275349617004\n",
      "Training acc: 0.6081608533859253\n",
      "Training acc: 0.6221433877944946\n",
      "Training acc: 0.6910759210586548\n",
      "Training acc: 0.6272563338279724\n",
      "Training acc: 0.6297461986541748\n",
      "Training acc: 0.5779204964637756\n",
      "Training acc: 0.5472221970558167\n",
      "Training acc: 0.5746166706085205\n",
      "Training acc: 0.6355416178703308\n",
      "Training acc: 0.5656242370605469\n",
      "Training acc: 0.5927107930183411\n",
      "Training acc: 0.8990381956100464\n",
      "Training acc: 0.5716801881790161\n",
      "Training acc: 0.6069644689559937\n",
      "Training acc: 0.6333006024360657\n",
      "Training acc: 0.617746889591217\n",
      "Training acc: 0.6264272928237915\n",
      "Training acc: 0.6225082874298096\n",
      "Training acc: 0.6089610457420349\n",
      "Training acc: 0.9445624947547913\n",
      "Training acc: 0.6182364225387573\n",
      "Training acc: 0.59438157081604\n",
      "Training acc: 0.6141526103019714\n",
      "Training acc: 0.5497137904167175\n",
      "Training acc: 0.5937502384185791\n",
      "Training acc: 0.5967231392860413\n",
      "Training acc: 0.5816712975502014\n",
      "Training acc: 0.5671998858451843\n",
      "Training acc: 0.7173959016799927\n",
      "Training acc: 0.5529338121414185\n",
      "Training acc: 0.6277156472206116\n",
      "Training acc: 0.5967296957969666\n",
      "Training acc: 0.5692095160484314\n",
      "Training acc: 0.870644748210907\n",
      "Training acc: 0.5581951141357422\n",
      "Training acc: 0.6392357349395752\n",
      "Training acc: 0.6081955432891846\n",
      "Training acc: 0.6240414381027222\n",
      "Training acc: 0.5569952726364136\n",
      "Training acc: 0.6094774007797241\n",
      "Training acc: 0.581169068813324\n",
      "Training acc: 0.6390589475631714\n",
      "Training acc: 0.5980145931243896\n",
      "Training acc: 0.6329054832458496\n",
      "Training acc: 0.5797358155250549\n",
      "Training acc: 0.6373706459999084\n",
      "Training acc: 0.719484806060791\n",
      "Training acc: 0.5674333572387695\n",
      "Training acc: 0.6246521472930908\n",
      "Training acc: 0.7966068387031555\n",
      "Training acc: 0.5536454916000366\n",
      "Training acc: 0.6402649283409119\n",
      "Training acc: 0.621857762336731\n",
      "Training acc: 0.5781099796295166\n",
      "Training acc: 0.6108580827713013\n",
      "Training acc: 0.7165204882621765\n",
      "Training acc: 0.6507658362388611\n",
      "Training acc: 0.5745881795883179\n",
      "Training acc: 0.5088345408439636\n",
      "Training acc: 0.5994917750358582\n",
      "Training acc: 0.5973438024520874\n",
      "Training acc: 0.6377132534980774\n",
      "Training acc: 0.6187025904655457\n",
      "Training acc: 0.6128509044647217\n"
     ]
    }
   ],
   "source": [
    "node_features = G.ndata['h']\n",
    "edge_features = G.edata['h']\n",
    "\n",
    "edge_label = G.edata['label']\n",
    "train_mask = G.edata['train_mask']\n",
    "\n",
    "model = Model(G.ndata['h'].shape[2], 128, G.ndata['h'].shape[2], F.relu, 0.2).cuda()\n",
    "opt = th.optim.Adam(model.parameters())\n",
    "\n",
    "for epoch in range(1,8000):\n",
    "    pred = model(G, node_features,edge_features).cuda()\n",
    "    loss = criterion(pred[train_mask] ,edge_label[train_mask])\n",
    "    opt.zero_grad()\n",
    "    loss.backward()\n",
    "    opt.step()\n",
    "    if epoch % 100 == 0:\n",
    "      print('Training acc:', compute_accuracy(pred[train_mask], edge_label[train_mask]))\n"
   ]
  },
  {
   "cell_type": "code",
   "execution_count": 44,
   "metadata": {
    "id": "p7gYo6lVtHCN"
   },
   "outputs": [],
   "source": [
    "X_test = encoder.transform(X_test)"
   ]
  },
  {
   "cell_type": "code",
   "execution_count": 45,
   "metadata": {
    "id": "OUGIEbMFtSnf"
   },
   "outputs": [],
   "source": [
    "X_test[cols_to_norm] = scaler.transform(X_test[cols_to_norm])"
   ]
  },
  {
   "cell_type": "code",
   "execution_count": 46,
   "metadata": {
    "colab": {
     "base_uri": "https://localhost:8080/",
     "height": 439
    },
    "id": "VlyqlEqjtb9s",
    "outputId": "6b637a23-7f60-4810-9348-38c50d09d30c"
   },
   "outputs": [
    {
     "data": {
      "text/html": [
       "<div>\n",
       "<style scoped>\n",
       "    .dataframe tbody tr th:only-of-type {\n",
       "        vertical-align: middle;\n",
       "    }\n",
       "\n",
       "    .dataframe tbody tr th {\n",
       "        vertical-align: top;\n",
       "    }\n",
       "\n",
       "    .dataframe thead th {\n",
       "        text-align: right;\n",
       "    }\n",
       "</style>\n",
       "<table border=\"1\" class=\"dataframe\">\n",
       "  <thead>\n",
       "    <tr style=\"text-align: right;\">\n",
       "      <th></th>\n",
       "      <th>IPV4_SRC_ADDR</th>\n",
       "      <th>IPV4_DST_ADDR</th>\n",
       "      <th>PROTOCOL</th>\n",
       "      <th>L7_PROTO</th>\n",
       "      <th>IN_BYTES</th>\n",
       "      <th>OUT_BYTES</th>\n",
       "      <th>IN_PKTS</th>\n",
       "      <th>OUT_PKTS</th>\n",
       "      <th>TCP_FLAGS</th>\n",
       "      <th>FLOW_DURATION_MILLISECONDS</th>\n",
       "      <th>label</th>\n",
       "    </tr>\n",
       "  </thead>\n",
       "  <tbody>\n",
       "    <tr>\n",
       "      <th>1828944</th>\n",
       "      <td>172.24.130.106:443</td>\n",
       "      <td>172.31.69.30:50082</td>\n",
       "      <td>0.740421</td>\n",
       "      <td>-0.625317</td>\n",
       "      <td>-0.005825</td>\n",
       "      <td>-0.011443</td>\n",
       "      <td>-0.024843</td>\n",
       "      <td>-0.003039</td>\n",
       "      <td>0.087529</td>\n",
       "      <td>1.861831</td>\n",
       "      <td>0</td>\n",
       "    </tr>\n",
       "    <tr>\n",
       "      <th>361110</th>\n",
       "      <td>172.21.129.160:52151</td>\n",
       "      <td>18.219.211.138:8080</td>\n",
       "      <td>0.740421</td>\n",
       "      <td>-0.304888</td>\n",
       "      <td>-0.027730</td>\n",
       "      <td>-0.012647</td>\n",
       "      <td>-0.026573</td>\n",
       "      <td>-0.016041</td>\n",
       "      <td>0.341172</td>\n",
       "      <td>-0.537159</td>\n",
       "      <td>1</td>\n",
       "    </tr>\n",
       "    <tr>\n",
       "      <th>1653785</th>\n",
       "      <td>172.17.140.97:54819</td>\n",
       "      <td>172.31.0.2:53</td>\n",
       "      <td>-1.350981</td>\n",
       "      <td>-0.500059</td>\n",
       "      <td>-0.031365</td>\n",
       "      <td>-0.013037</td>\n",
       "      <td>-0.028302</td>\n",
       "      <td>-0.029044</td>\n",
       "      <td>-0.565404</td>\n",
       "      <td>-0.537159</td>\n",
       "      <td>0</td>\n",
       "    </tr>\n",
       "    <tr>\n",
       "      <th>767616</th>\n",
       "      <td>172.20.174.46:58498</td>\n",
       "      <td>172.31.69.25:80</td>\n",
       "      <td>0.740421</td>\n",
       "      <td>1.044102</td>\n",
       "      <td>-0.009575</td>\n",
       "      <td>0.000057</td>\n",
       "      <td>-0.017925</td>\n",
       "      <td>0.048970</td>\n",
       "      <td>2.287135</td>\n",
       "      <td>1.861691</td>\n",
       "      <td>8</td>\n",
       "    </tr>\n",
       "    <tr>\n",
       "      <th>16179</th>\n",
       "      <td>172.22.2.135:52524</td>\n",
       "      <td>172.31.0.2:53</td>\n",
       "      <td>-1.350981</td>\n",
       "      <td>-0.500059</td>\n",
       "      <td>-0.031351</td>\n",
       "      <td>-0.013218</td>\n",
       "      <td>-0.028302</td>\n",
       "      <td>-0.029044</td>\n",
       "      <td>-0.565404</td>\n",
       "      <td>-0.537159</td>\n",
       "      <td>0</td>\n",
       "    </tr>\n",
       "    <tr>\n",
       "      <th>...</th>\n",
       "      <td>...</td>\n",
       "      <td>...</td>\n",
       "      <td>...</td>\n",
       "      <td>...</td>\n",
       "      <td>...</td>\n",
       "      <td>...</td>\n",
       "      <td>...</td>\n",
       "      <td>...</td>\n",
       "      <td>...</td>\n",
       "      <td>...</td>\n",
       "      <td>...</td>\n",
       "    </tr>\n",
       "    <tr>\n",
       "      <th>89776</th>\n",
       "      <td>172.30.6.50:37450</td>\n",
       "      <td>172.31.64.83:3389</td>\n",
       "      <td>0.740421</td>\n",
       "      <td>-0.500059</td>\n",
       "      <td>-0.020038</td>\n",
       "      <td>-0.006279</td>\n",
       "      <td>-0.023546</td>\n",
       "      <td>-0.003039</td>\n",
       "      <td>-0.644160</td>\n",
       "      <td>-0.537159</td>\n",
       "      <td>0</td>\n",
       "    </tr>\n",
       "    <tr>\n",
       "      <th>654063</th>\n",
       "      <td>172.16.67.224:61317</td>\n",
       "      <td>172.31.69.28:80</td>\n",
       "      <td>0.740421</td>\n",
       "      <td>1.044102</td>\n",
       "      <td>-0.028008</td>\n",
       "      <td>-0.010842</td>\n",
       "      <td>-0.026573</td>\n",
       "      <td>-0.016041</td>\n",
       "      <td>0.341172</td>\n",
       "      <td>1.861830</td>\n",
       "      <td>4</td>\n",
       "    </tr>\n",
       "    <tr>\n",
       "      <th>1441617</th>\n",
       "      <td>172.20.195.69:54744</td>\n",
       "      <td>172.31.68.25:3389</td>\n",
       "      <td>0.740421</td>\n",
       "      <td>-0.500059</td>\n",
       "      <td>-0.021280</td>\n",
       "      <td>-0.009217</td>\n",
       "      <td>-0.025276</td>\n",
       "      <td>-0.009540</td>\n",
       "      <td>-0.760873</td>\n",
       "      <td>-0.537159</td>\n",
       "      <td>0</td>\n",
       "    </tr>\n",
       "    <tr>\n",
       "      <th>1448461</th>\n",
       "      <td>172.22.171.108:51030</td>\n",
       "      <td>108.161.189.121:443</td>\n",
       "      <td>0.740421</td>\n",
       "      <td>-0.500059</td>\n",
       "      <td>-0.021552</td>\n",
       "      <td>-0.000373</td>\n",
       "      <td>-0.020952</td>\n",
       "      <td>0.016464</td>\n",
       "      <td>0.341172</td>\n",
       "      <td>-0.537159</td>\n",
       "      <td>0</td>\n",
       "    </tr>\n",
       "    <tr>\n",
       "      <th>71509</th>\n",
       "      <td>172.20.166.146:54684</td>\n",
       "      <td>172.31.0.2:53</td>\n",
       "      <td>-1.350981</td>\n",
       "      <td>-0.482667</td>\n",
       "      <td>-0.031229</td>\n",
       "      <td>-0.013180</td>\n",
       "      <td>-0.028302</td>\n",
       "      <td>-0.029044</td>\n",
       "      <td>-0.565404</td>\n",
       "      <td>-0.537159</td>\n",
       "      <td>0</td>\n",
       "    </tr>\n",
       "  </tbody>\n",
       "</table>\n",
       "<p>624213 rows × 11 columns</p>\n",
       "</div>"
      ],
      "text/plain": [
       "                IPV4_SRC_ADDR        IPV4_DST_ADDR  PROTOCOL  L7_PROTO  \\\n",
       "1828944    172.24.130.106:443   172.31.69.30:50082  0.740421 -0.625317   \n",
       "361110   172.21.129.160:52151  18.219.211.138:8080  0.740421 -0.304888   \n",
       "1653785   172.17.140.97:54819        172.31.0.2:53 -1.350981 -0.500059   \n",
       "767616    172.20.174.46:58498      172.31.69.25:80  0.740421  1.044102   \n",
       "16179      172.22.2.135:52524        172.31.0.2:53 -1.350981 -0.500059   \n",
       "...                       ...                  ...       ...       ...   \n",
       "89776       172.30.6.50:37450    172.31.64.83:3389  0.740421 -0.500059   \n",
       "654063    172.16.67.224:61317      172.31.69.28:80  0.740421  1.044102   \n",
       "1441617   172.20.195.69:54744    172.31.68.25:3389  0.740421 -0.500059   \n",
       "1448461  172.22.171.108:51030  108.161.189.121:443  0.740421 -0.500059   \n",
       "71509    172.20.166.146:54684        172.31.0.2:53 -1.350981 -0.482667   \n",
       "\n",
       "         IN_BYTES  OUT_BYTES   IN_PKTS  OUT_PKTS  TCP_FLAGS  \\\n",
       "1828944 -0.005825  -0.011443 -0.024843 -0.003039   0.087529   \n",
       "361110  -0.027730  -0.012647 -0.026573 -0.016041   0.341172   \n",
       "1653785 -0.031365  -0.013037 -0.028302 -0.029044  -0.565404   \n",
       "767616  -0.009575   0.000057 -0.017925  0.048970   2.287135   \n",
       "16179   -0.031351  -0.013218 -0.028302 -0.029044  -0.565404   \n",
       "...           ...        ...       ...       ...        ...   \n",
       "89776   -0.020038  -0.006279 -0.023546 -0.003039  -0.644160   \n",
       "654063  -0.028008  -0.010842 -0.026573 -0.016041   0.341172   \n",
       "1441617 -0.021280  -0.009217 -0.025276 -0.009540  -0.760873   \n",
       "1448461 -0.021552  -0.000373 -0.020952  0.016464   0.341172   \n",
       "71509   -0.031229  -0.013180 -0.028302 -0.029044  -0.565404   \n",
       "\n",
       "         FLOW_DURATION_MILLISECONDS  label  \n",
       "1828944                    1.861831      0  \n",
       "361110                    -0.537159      1  \n",
       "1653785                   -0.537159      0  \n",
       "767616                     1.861691      8  \n",
       "16179                     -0.537159      0  \n",
       "...                             ...    ...  \n",
       "89776                     -0.537159      0  \n",
       "654063                     1.861830      4  \n",
       "1441617                   -0.537159      0  \n",
       "1448461                   -0.537159      0  \n",
       "71509                     -0.537159      0  \n",
       "\n",
       "[624213 rows x 11 columns]"
      ]
     },
     "execution_count": 46,
     "metadata": {},
     "output_type": "execute_result"
    }
   ],
   "source": [
    "X_test"
   ]
  },
  {
   "cell_type": "code",
   "execution_count": 47,
   "metadata": {
    "id": "q5CMxVe5xIDb"
   },
   "outputs": [],
   "source": [
    "X_test['h'] = X_test[ cols_to_norm ].values.tolist()"
   ]
  },
  {
   "cell_type": "code",
   "execution_count": 48,
   "metadata": {
    "id": "VsAmtLAbxN_6"
   },
   "outputs": [],
   "source": [
    "G_test = nx.from_pandas_edgelist(X_test, \"IPV4_SRC_ADDR\", \"IPV4_DST_ADDR\", ['h','label'],create_using=nx.MultiGraph())\n",
    "G_test = G_test.to_directed()\n",
    "G_test = from_networkx(G_test,edge_attrs=['h','label'] )\n",
    "actual = G_test.edata.pop('label')\n",
    "G_test.ndata['feature'] = th.ones(G_test.num_nodes(), G.ndata['h'].shape[2])"
   ]
  },
  {
   "cell_type": "code",
   "execution_count": 49,
   "metadata": {
    "id": "Eeux6JIxxQtC"
   },
   "outputs": [],
   "source": [
    "G_test.ndata['feature'] = th.reshape(G_test.ndata['feature'], (G_test.ndata['feature'].shape[0], 1, G_test.ndata['feature'].shape[1]))"
   ]
  },
  {
   "cell_type": "code",
   "execution_count": 50,
   "metadata": {
    "id": "PBETQI3YxYay"
   },
   "outputs": [],
   "source": [
    "G_test.edata['h'] = th.reshape(G_test.edata['h'], (G_test.edata['h'].shape[0], 1, G_test.edata['h'].shape[1]))\n"
   ]
  },
  {
   "cell_type": "code",
   "execution_count": 51,
   "metadata": {
    "id": "qlTOyVN6xZZB"
   },
   "outputs": [],
   "source": [
    "G_test = G_test.to('cuda:0')\n"
   ]
  },
  {
   "cell_type": "code",
   "execution_count": 52,
   "metadata": {
    "id": "QyugNIt9xac6"
   },
   "outputs": [],
   "source": [
    "import timeit\n",
    "start_time = timeit.default_timer()\n",
    "node_features_test = G_test.ndata['feature']\n",
    "edge_features_test = G_test.edata['h']\n",
    "test_pred = model(G_test, node_features_test, edge_features_test).cuda()\n",
    "elapsed = timeit.default_timer() - start_time"
   ]
  },
  {
   "cell_type": "code",
   "execution_count": 53,
   "metadata": {
    "colab": {
     "base_uri": "https://localhost:8080/"
    },
    "id": "KecCvilSxcFK",
    "outputId": "8e974877-889d-43a1-e5c7-06e1e731e1d0"
   },
   "outputs": [
    {
     "name": "stdout",
     "output_type": "stream",
     "text": [
      "0.12739259004592896 seconds\n"
     ]
    }
   ],
   "source": [
    "print(str(elapsed) + ' seconds')\n"
   ]
  },
  {
   "cell_type": "code",
   "execution_count": 54,
   "metadata": {
    "id": "BNQLnLoAxdST"
   },
   "outputs": [],
   "source": [
    "test_pred = test_pred.argmax(1)\n"
   ]
  },
  {
   "cell_type": "code",
   "execution_count": 55,
   "metadata": {
    "id": "9dtggXXsxevx"
   },
   "outputs": [],
   "source": [
    "test_pred = th.Tensor.cpu(test_pred).detach().numpy()\n"
   ]
  },
  {
   "cell_type": "code",
   "execution_count": 56,
   "metadata": {
    "id": "5TGb_KWRxfzS"
   },
   "outputs": [],
   "source": [
    "actual = le.inverse_transform(actual)\n",
    "test_pred = le.inverse_transform(test_pred)"
   ]
  },
  {
   "cell_type": "code",
   "execution_count": 57,
   "metadata": {
    "id": "uMRairwzxiBC"
   },
   "outputs": [],
   "source": [
    "import numpy as np\n",
    "\n",
    "\n",
    "def plot_confusion_matrix(cm,\n",
    "                          target_names,\n",
    "                          title='Confusion matrix',\n",
    "                          cmap=None,\n",
    "                          normalize=True):\n",
    "    \n",
    "    import matplotlib.pyplot as plt\n",
    "    import numpy as np\n",
    "    import itertools\n",
    "\n",
    "    accuracy = np.trace(cm) / float(np.sum(cm))\n",
    "    misclass = 1 - accuracy\n",
    "\n",
    "    if cmap is None:\n",
    "        cmap = plt.get_cmap('Blues')\n",
    "\n",
    "    plt.figure(figsize=(12, 12))\n",
    "    plt.imshow(cm, interpolation='nearest', cmap=cmap)\n",
    "    plt.title(title)\n",
    "    plt.colorbar()\n",
    "\n",
    "    if target_names is not None:\n",
    "        tick_marks = np.arange(len(target_names))\n",
    "        plt.xticks(tick_marks, target_names, rotation=45)\n",
    "        plt.yticks(tick_marks, target_names)\n",
    "\n",
    "    if normalize:\n",
    "        cm = cm.astype('float') / cm.sum(axis=1)[:, np.newaxis]\n",
    "\n",
    "\n",
    "    thresh = cm.max() / 1.5 if normalize else cm.max() / 2\n",
    "    for i, j in itertools.product(range(cm.shape[0]), range(cm.shape[1])):\n",
    "        if normalize:\n",
    "            plt.text(j, i, \"{:0.4f}\".format(cm[i, j]),\n",
    "                     horizontalalignment=\"center\",\n",
    "                     color=\"white\" if cm[i, j] > thresh else \"black\")\n",
    "        else:\n",
    "            plt.text(j, i, \"{:,}\".format(cm[i, j]),\n",
    "                     horizontalalignment=\"center\",\n",
    "                     color=\"white\" if cm[i, j] > thresh else \"black\")\n",
    "\n",
    "\n",
    "    plt.tight_layout()\n",
    "    plt.ylabel('True label')\n",
    "    plt.xlabel('Predicted label\\naccuracy={:0.4f}; misclass={:0.4f}'.format(accuracy, misclass))\n",
    "    plt.show()"
   ]
  },
  {
   "cell_type": "code",
   "execution_count": 58,
   "metadata": {
    "colab": {
     "base_uri": "https://localhost:8080/",
     "height": 718
    },
    "id": "KNCkVWyqxjaR",
    "outputId": "3af8ef73-a011-49a7-9335-52ba77ea7dd4"
   },
   "outputs": [
    {
     "data": {
      "image/png": "[encoded data removed]",
      "text/plain": [
       "<Figure size 1200x1200 with 2 Axes>"
      ]
     },
     "metadata": {},
     "output_type": "display_data"
    }
   ],
   "source": [
    "from sklearn.metrics import confusion_matrix\n",
    "\n",
    "plot_confusion_matrix(cm = confusion_matrix(actual, test_pred), \n",
    "                      normalize    = False,\n",
    "                      target_names = np.unique(actual),\n",
    "                      title        = \"Confusion Matrix\")"
   ]
  },
  {
   "cell_type": "code",
   "execution_count": null,
   "metadata": {
    "id": "rC9-S7j9A48K"
   },
   "outputs": [],
   "source": []
  }
 ],
 "metadata": {
  "accelerator": "GPU",
  "colab": {
   "collapsed_sections": [],
   "machine_shape": "hm",
   "name": "Unsw_bot_iot_multiclass_mean_agg.ipynb",
   "provenance": []
  },
  "kernelspec": {
   "display_name": "gnn_cuda_env",
   "language": "python",
   "name": "python3"
  },
  "language_info": {
   "codemirror_mode": {
    "name": "ipython",
    "version": 3
   },
   "file_extension": ".py",
   "mimetype": "text/x-python",
   "name": "python",
   "nbconvert_exporter": "python",
   "pygments_lexer": "ipython3",
   "version": "3.8.10"
  }
 },
 "nbformat": 4,
 "nbformat_minor": 1
}
