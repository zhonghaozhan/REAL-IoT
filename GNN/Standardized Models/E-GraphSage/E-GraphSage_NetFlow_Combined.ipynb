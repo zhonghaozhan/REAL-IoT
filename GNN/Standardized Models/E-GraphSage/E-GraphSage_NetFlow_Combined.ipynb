{
 "cells": [
  {
   "cell_type": "code",
   "execution_count": 4,
   "metadata": {
    "colab": {
     "base_uri": "https://localhost:8080/"
    },
    "id": "mS0bWISTqhMI",
    "outputId": "a6cbe1aa-ab9a-4d02-cc1c-d3e9514e8748"
   },
   "outputs": [],
   "source": [
    "import dgl.nn as dglnn\n",
    "from dgl import from_networkx\n",
    "import torch.nn as nn\n",
    "import torch as th\n",
    "import torch.nn.functional as F\n",
    "import dgl.function as fn\n",
    "import networkx as nx\n",
    "import pandas as pd\n",
    "import socket\n",
    "import struct\n",
    "import random\n",
    "from sklearn.preprocessing import LabelEncoder\n",
    "from sklearn.preprocessing import StandardScaler\n",
    "from sklearn.model_selection import train_test_split\n",
    "import category_encoders as ce\n",
    "from sklearn.decomposition import PCA\n",
    "import seaborn as sns\n",
    "import matplotlib.pyplot as plt\n",
    "import numpy as np"
   ]
  },
  {
   "cell_type": "code",
   "execution_count": 5,
   "metadata": {},
   "outputs": [
    {
     "name": "stdout",
     "output_type": "stream",
     "text": [
      "Using device: cuda:0\n"
     ]
    }
   ],
   "source": [
    "# Set CUDA device to 1 explicitly\n",
    "import os\n",
    "import torch\n",
    "os.environ[\"CUDA_VISIBLE_DEVICES\"] = \"3\"  # Make only GPU 1 visible\n",
    "# Alternatively, you can use:\n",
    "device = torch.device(\"cuda:0\")  # This will now refer to the first visible device (CUDA 1)\n",
    "print(f\"Using device: {device}\")"
   ]
  },
  {
   "cell_type": "code",
   "execution_count": 6,
   "metadata": {
    "id": "ki0watiErdJp"
   },
   "outputs": [],
   "source": [
    "data = pd.read_csv('/media/ssd/test/standardized-datasets/combined/combined_unsw_cicRed_botRed_netflow_10pct.csv')"
   ]
  },
  {
   "cell_type": "code",
   "execution_count": 7,
   "metadata": {},
   "outputs": [],
   "source": [
    "# Example if you wanted to keep only certain columns\n",
    "columns_to_keep = ['IPV4_SRC_ADDR', 'L4_SRC_PORT', 'IPV4_DST_ADDR', 'L4_DST_PORT', 'PROTOCOL', 'L7_PROTO',\n",
    "                   'IN_BYTES', 'OUT_BYTES', 'IN_PKTS', 'OUT_PKTS', 'TCP_FLAGS', 'FLOW_DURATION_MILLISECONDS', 'Label', 'Attack']\n",
    "data = data[columns_to_keep]"
   ]
  },
  {
   "cell_type": "code",
   "execution_count": 8,
   "metadata": {
    "colab": {
     "base_uri": "https://localhost:8080/",
     "height": 439
    },
    "id": "0JmyVopVrqWQ",
    "outputId": "7dd4b901-c0c4-4bb4-b5fa-d504fe9821f2"
   },
   "outputs": [
    {
     "data": {
      "text/html": [
       "<div>\n",
       "<style scoped>\n",
       "    .dataframe tbody tr th:only-of-type {\n",
       "        vertical-align: middle;\n",
       "    }\n",
       "\n",
       "    .dataframe tbody tr th {\n",
       "        vertical-align: top;\n",
       "    }\n",
       "\n",
       "    .dataframe thead th {\n",
       "        text-align: right;\n",
       "    }\n",
       "</style>\n",
       "<table border=\"1\" class=\"dataframe\">\n",
       "  <thead>\n",
       "    <tr style=\"text-align: right;\">\n",
       "      <th></th>\n",
       "      <th>IPV4_SRC_ADDR</th>\n",
       "      <th>L4_SRC_PORT</th>\n",
       "      <th>IPV4_DST_ADDR</th>\n",
       "      <th>L4_DST_PORT</th>\n",
       "      <th>PROTOCOL</th>\n",
       "      <th>L7_PROTO</th>\n",
       "      <th>IN_BYTES</th>\n",
       "      <th>OUT_BYTES</th>\n",
       "      <th>IN_PKTS</th>\n",
       "      <th>OUT_PKTS</th>\n",
       "      <th>TCP_FLAGS</th>\n",
       "      <th>FLOW_DURATION_MILLISECONDS</th>\n",
       "      <th>Label</th>\n",
       "      <th>Attack</th>\n",
       "    </tr>\n",
       "  </thead>\n",
       "  <tbody>\n",
       "    <tr>\n",
       "      <th>0</th>\n",
       "      <td>59.166.0.9</td>\n",
       "      <td>36583</td>\n",
       "      <td>149.171.126.0</td>\n",
       "      <td>5190</td>\n",
       "      <td>6</td>\n",
       "      <td>0.0</td>\n",
       "      <td>2158.0</td>\n",
       "      <td>2464.0</td>\n",
       "      <td>24</td>\n",
       "      <td>24</td>\n",
       "      <td>27</td>\n",
       "      <td>0.0</td>\n",
       "      <td>0</td>\n",
       "      <td>Benign</td>\n",
       "    </tr>\n",
       "    <tr>\n",
       "      <th>1</th>\n",
       "      <td>172.31.66.62</td>\n",
       "      <td>52131</td>\n",
       "      <td>169.254.169.254</td>\n",
       "      <td>80</td>\n",
       "      <td>6</td>\n",
       "      <td>7.0</td>\n",
       "      <td>373.0</td>\n",
       "      <td>700.0</td>\n",
       "      <td>5</td>\n",
       "      <td>5</td>\n",
       "      <td>27</td>\n",
       "      <td>0.0</td>\n",
       "      <td>0</td>\n",
       "      <td>Benign</td>\n",
       "    </tr>\n",
       "    <tr>\n",
       "      <th>2</th>\n",
       "      <td>59.166.0.3</td>\n",
       "      <td>41889</td>\n",
       "      <td>149.171.126.6</td>\n",
       "      <td>80</td>\n",
       "      <td>6</td>\n",
       "      <td>7.0</td>\n",
       "      <td>1684.0</td>\n",
       "      <td>10168.0</td>\n",
       "      <td>14</td>\n",
       "      <td>18</td>\n",
       "      <td>27</td>\n",
       "      <td>0.0</td>\n",
       "      <td>0</td>\n",
       "      <td>Benign</td>\n",
       "    </tr>\n",
       "    <tr>\n",
       "      <th>3</th>\n",
       "      <td>18.219.32.43</td>\n",
       "      <td>49243</td>\n",
       "      <td>172.31.69.28</td>\n",
       "      <td>80</td>\n",
       "      <td>6</td>\n",
       "      <td>7.0</td>\n",
       "      <td>522.0</td>\n",
       "      <td>1147.0</td>\n",
       "      <td>5</td>\n",
       "      <td>5</td>\n",
       "      <td>219</td>\n",
       "      <td>4294957.0</td>\n",
       "      <td>1</td>\n",
       "      <td>DDOS attack-HOIC</td>\n",
       "    </tr>\n",
       "    <tr>\n",
       "      <th>4</th>\n",
       "      <td>172.31.69.6</td>\n",
       "      <td>50462</td>\n",
       "      <td>172.31.0.2</td>\n",
       "      <td>53</td>\n",
       "      <td>17</td>\n",
       "      <td>0.0</td>\n",
       "      <td>68.0</td>\n",
       "      <td>196.0</td>\n",
       "      <td>1</td>\n",
       "      <td>1</td>\n",
       "      <td>0</td>\n",
       "      <td>0.0</td>\n",
       "      <td>1</td>\n",
       "      <td>Infilteration</td>\n",
       "    </tr>\n",
       "    <tr>\n",
       "      <th>...</th>\n",
       "      <td>...</td>\n",
       "      <td>...</td>\n",
       "      <td>...</td>\n",
       "      <td>...</td>\n",
       "      <td>...</td>\n",
       "      <td>...</td>\n",
       "      <td>...</td>\n",
       "      <td>...</td>\n",
       "      <td>...</td>\n",
       "      <td>...</td>\n",
       "      <td>...</td>\n",
       "      <td>...</td>\n",
       "      <td>...</td>\n",
       "      <td>...</td>\n",
       "    </tr>\n",
       "    <tr>\n",
       "      <th>655089</th>\n",
       "      <td>13.58.98.64</td>\n",
       "      <td>51524</td>\n",
       "      <td>172.31.69.25</td>\n",
       "      <td>22</td>\n",
       "      <td>6</td>\n",
       "      <td>92.0</td>\n",
       "      <td>3236.0</td>\n",
       "      <td>3765.0</td>\n",
       "      <td>25</td>\n",
       "      <td>21</td>\n",
       "      <td>27</td>\n",
       "      <td>0.0</td>\n",
       "      <td>1</td>\n",
       "      <td>SSH-Bruteforce</td>\n",
       "    </tr>\n",
       "    <tr>\n",
       "      <th>655090</th>\n",
       "      <td>59.166.0.4</td>\n",
       "      <td>59990</td>\n",
       "      <td>149.171.126.0</td>\n",
       "      <td>5190</td>\n",
       "      <td>6</td>\n",
       "      <td>0.0</td>\n",
       "      <td>1036.0</td>\n",
       "      <td>2262.0</td>\n",
       "      <td>12</td>\n",
       "      <td>12</td>\n",
       "      <td>27</td>\n",
       "      <td>0.0</td>\n",
       "      <td>0</td>\n",
       "      <td>Benign</td>\n",
       "    </tr>\n",
       "    <tr>\n",
       "      <th>655091</th>\n",
       "      <td>18.218.115.60</td>\n",
       "      <td>50839</td>\n",
       "      <td>172.31.69.28</td>\n",
       "      <td>80</td>\n",
       "      <td>6</td>\n",
       "      <td>7.0</td>\n",
       "      <td>471.0</td>\n",
       "      <td>1147.0</td>\n",
       "      <td>5</td>\n",
       "      <td>5</td>\n",
       "      <td>219</td>\n",
       "      <td>4294941.0</td>\n",
       "      <td>1</td>\n",
       "      <td>Brute Force -XSS</td>\n",
       "    </tr>\n",
       "    <tr>\n",
       "      <th>655092</th>\n",
       "      <td>5.188.9.25</td>\n",
       "      <td>50099</td>\n",
       "      <td>172.31.66.110</td>\n",
       "      <td>30488</td>\n",
       "      <td>6</td>\n",
       "      <td>0.0</td>\n",
       "      <td>40.0</td>\n",
       "      <td>0.0</td>\n",
       "      <td>1</td>\n",
       "      <td>0</td>\n",
       "      <td>2</td>\n",
       "      <td>0.0</td>\n",
       "      <td>0</td>\n",
       "      <td>Benign</td>\n",
       "    </tr>\n",
       "    <tr>\n",
       "      <th>655093</th>\n",
       "      <td>172.31.65.104</td>\n",
       "      <td>49443</td>\n",
       "      <td>169.254.169.254</td>\n",
       "      <td>80</td>\n",
       "      <td>6</td>\n",
       "      <td>7.0</td>\n",
       "      <td>373.0</td>\n",
       "      <td>700.0</td>\n",
       "      <td>5</td>\n",
       "      <td>5</td>\n",
       "      <td>219</td>\n",
       "      <td>0.0</td>\n",
       "      <td>0</td>\n",
       "      <td>Benign</td>\n",
       "    </tr>\n",
       "  </tbody>\n",
       "</table>\n",
       "<p>655094 rows × 14 columns</p>\n",
       "</div>"
      ],
      "text/plain": [
       "        IPV4_SRC_ADDR  L4_SRC_PORT    IPV4_DST_ADDR  L4_DST_PORT  PROTOCOL  \\\n",
       "0          59.166.0.9        36583    149.171.126.0         5190         6   \n",
       "1        172.31.66.62        52131  169.254.169.254           80         6   \n",
       "2          59.166.0.3        41889    149.171.126.6           80         6   \n",
       "3        18.219.32.43        49243     172.31.69.28           80         6   \n",
       "4         172.31.69.6        50462       172.31.0.2           53        17   \n",
       "...               ...          ...              ...          ...       ...   \n",
       "655089    13.58.98.64        51524     172.31.69.25           22         6   \n",
       "655090     59.166.0.4        59990    149.171.126.0         5190         6   \n",
       "655091  18.218.115.60        50839     172.31.69.28           80         6   \n",
       "655092     5.188.9.25        50099    172.31.66.110        30488         6   \n",
       "655093  172.31.65.104        49443  169.254.169.254           80         6   \n",
       "\n",
       "        L7_PROTO  IN_BYTES  OUT_BYTES  IN_PKTS  OUT_PKTS  TCP_FLAGS  \\\n",
       "0            0.0    2158.0     2464.0       24        24         27   \n",
       "1            7.0     373.0      700.0        5         5         27   \n",
       "2            7.0    1684.0    10168.0       14        18         27   \n",
       "3            7.0     522.0     1147.0        5         5        219   \n",
       "4            0.0      68.0      196.0        1         1          0   \n",
       "...          ...       ...        ...      ...       ...        ...   \n",
       "655089      92.0    3236.0     3765.0       25        21         27   \n",
       "655090       0.0    1036.0     2262.0       12        12         27   \n",
       "655091       7.0     471.0     1147.0        5         5        219   \n",
       "655092       0.0      40.0        0.0        1         0          2   \n",
       "655093       7.0     373.0      700.0        5         5        219   \n",
       "\n",
       "        FLOW_DURATION_MILLISECONDS  Label            Attack  \n",
       "0                              0.0      0            Benign  \n",
       "1                              0.0      0            Benign  \n",
       "2                              0.0      0            Benign  \n",
       "3                        4294957.0      1  DDOS attack-HOIC  \n",
       "4                              0.0      1     Infilteration  \n",
       "...                            ...    ...               ...  \n",
       "655089                         0.0      1    SSH-Bruteforce  \n",
       "655090                         0.0      0            Benign  \n",
       "655091                   4294941.0      1  Brute Force -XSS  \n",
       "655092                         0.0      0            Benign  \n",
       "655093                         0.0      0            Benign  \n",
       "\n",
       "[655094 rows x 14 columns]"
      ]
     },
     "execution_count": 8,
     "metadata": {},
     "output_type": "execute_result"
    }
   ],
   "source": [
    "data"
   ]
  },
  {
   "cell_type": "code",
   "execution_count": 9,
   "metadata": {
    "id": "PoVYaeFZtJBd"
   },
   "outputs": [],
   "source": [
    "data['IPV4_SRC_ADDR'] = data.IPV4_SRC_ADDR.apply(lambda x: socket.inet_ntoa(struct.pack('>I', random.randint(0xac100001, 0xac1f0001))))"
   ]
  },
  {
   "cell_type": "code",
   "execution_count": 10,
   "metadata": {
    "id": "zs4z58WCtu8k"
   },
   "outputs": [],
   "source": [
    "data['IPV4_SRC_ADDR'] = data.IPV4_SRC_ADDR.apply(str)\n",
    "data['L4_SRC_PORT'] = data.L4_SRC_PORT.apply(str)\n",
    "data['IPV4_DST_ADDR'] = data.IPV4_DST_ADDR.apply(str)\n",
    "data['L4_DST_PORT'] = data.L4_DST_PORT.apply(str)"
   ]
  },
  {
   "cell_type": "code",
   "execution_count": 11,
   "metadata": {
    "id": "9EEwTAK3tle9"
   },
   "outputs": [],
   "source": [
    "data['IPV4_SRC_ADDR'] = data['IPV4_SRC_ADDR'] + ':' + data['L4_SRC_PORT']\n",
    "data['IPV4_DST_ADDR'] = data['IPV4_DST_ADDR'] + ':' + data['L4_DST_PORT']"
   ]
  },
  {
   "cell_type": "code",
   "execution_count": 12,
   "metadata": {
    "id": "xbdaHUxOtzd-"
   },
   "outputs": [],
   "source": [
    "data.drop(columns=['L4_SRC_PORT','L4_DST_PORT'],inplace=True)"
   ]
  },
  {
   "cell_type": "code",
   "execution_count": 13,
   "metadata": {
    "colab": {
     "base_uri": "https://localhost:8080/",
     "height": 419
    },
    "id": "CN9rLLmr0eeI",
    "outputId": "ccd523c2-0cba-46a4-aef1-434f6a2b741b"
   },
   "outputs": [
    {
     "data": {
      "text/html": [
       "<div>\n",
       "<style scoped>\n",
       "    .dataframe tbody tr th:only-of-type {\n",
       "        vertical-align: middle;\n",
       "    }\n",
       "\n",
       "    .dataframe tbody tr th {\n",
       "        vertical-align: top;\n",
       "    }\n",
       "\n",
       "    .dataframe thead th {\n",
       "        text-align: right;\n",
       "    }\n",
       "</style>\n",
       "<table border=\"1\" class=\"dataframe\">\n",
       "  <thead>\n",
       "    <tr style=\"text-align: right;\">\n",
       "      <th></th>\n",
       "      <th>IPV4_SRC_ADDR</th>\n",
       "      <th>IPV4_DST_ADDR</th>\n",
       "      <th>PROTOCOL</th>\n",
       "      <th>L7_PROTO</th>\n",
       "      <th>IN_BYTES</th>\n",
       "      <th>OUT_BYTES</th>\n",
       "      <th>IN_PKTS</th>\n",
       "      <th>OUT_PKTS</th>\n",
       "      <th>TCP_FLAGS</th>\n",
       "      <th>FLOW_DURATION_MILLISECONDS</th>\n",
       "      <th>Label</th>\n",
       "      <th>Attack</th>\n",
       "    </tr>\n",
       "  </thead>\n",
       "  <tbody>\n",
       "    <tr>\n",
       "      <th>0</th>\n",
       "      <td>172.21.125.14:36583</td>\n",
       "      <td>149.171.126.0:5190</td>\n",
       "      <td>6</td>\n",
       "      <td>0.0</td>\n",
       "      <td>2158.0</td>\n",
       "      <td>2464.0</td>\n",
       "      <td>24</td>\n",
       "      <td>24</td>\n",
       "      <td>27</td>\n",
       "      <td>0.0</td>\n",
       "      <td>0</td>\n",
       "      <td>Benign</td>\n",
       "    </tr>\n",
       "    <tr>\n",
       "      <th>1</th>\n",
       "      <td>172.30.214.66:52131</td>\n",
       "      <td>169.254.169.254:80</td>\n",
       "      <td>6</td>\n",
       "      <td>7.0</td>\n",
       "      <td>373.0</td>\n",
       "      <td>700.0</td>\n",
       "      <td>5</td>\n",
       "      <td>5</td>\n",
       "      <td>27</td>\n",
       "      <td>0.0</td>\n",
       "      <td>0</td>\n",
       "      <td>Benign</td>\n",
       "    </tr>\n",
       "    <tr>\n",
       "      <th>2</th>\n",
       "      <td>172.27.3.173:41889</td>\n",
       "      <td>149.171.126.6:80</td>\n",
       "      <td>6</td>\n",
       "      <td>7.0</td>\n",
       "      <td>1684.0</td>\n",
       "      <td>10168.0</td>\n",
       "      <td>14</td>\n",
       "      <td>18</td>\n",
       "      <td>27</td>\n",
       "      <td>0.0</td>\n",
       "      <td>0</td>\n",
       "      <td>Benign</td>\n",
       "    </tr>\n",
       "    <tr>\n",
       "      <th>3</th>\n",
       "      <td>172.23.157.51:49243</td>\n",
       "      <td>172.31.69.28:80</td>\n",
       "      <td>6</td>\n",
       "      <td>7.0</td>\n",
       "      <td>522.0</td>\n",
       "      <td>1147.0</td>\n",
       "      <td>5</td>\n",
       "      <td>5</td>\n",
       "      <td>219</td>\n",
       "      <td>4294957.0</td>\n",
       "      <td>1</td>\n",
       "      <td>DDOS attack-HOIC</td>\n",
       "    </tr>\n",
       "    <tr>\n",
       "      <th>4</th>\n",
       "      <td>172.16.81.14:50462</td>\n",
       "      <td>172.31.0.2:53</td>\n",
       "      <td>17</td>\n",
       "      <td>0.0</td>\n",
       "      <td>68.0</td>\n",
       "      <td>196.0</td>\n",
       "      <td>1</td>\n",
       "      <td>1</td>\n",
       "      <td>0</td>\n",
       "      <td>0.0</td>\n",
       "      <td>1</td>\n",
       "      <td>Infilteration</td>\n",
       "    </tr>\n",
       "    <tr>\n",
       "      <th>...</th>\n",
       "      <td>...</td>\n",
       "      <td>...</td>\n",
       "      <td>...</td>\n",
       "      <td>...</td>\n",
       "      <td>...</td>\n",
       "      <td>...</td>\n",
       "      <td>...</td>\n",
       "      <td>...</td>\n",
       "      <td>...</td>\n",
       "      <td>...</td>\n",
       "      <td>...</td>\n",
       "      <td>...</td>\n",
       "    </tr>\n",
       "    <tr>\n",
       "      <th>655089</th>\n",
       "      <td>172.19.189.7:51524</td>\n",
       "      <td>172.31.69.25:22</td>\n",
       "      <td>6</td>\n",
       "      <td>92.0</td>\n",
       "      <td>3236.0</td>\n",
       "      <td>3765.0</td>\n",
       "      <td>25</td>\n",
       "      <td>21</td>\n",
       "      <td>27</td>\n",
       "      <td>0.0</td>\n",
       "      <td>1</td>\n",
       "      <td>SSH-Bruteforce</td>\n",
       "    </tr>\n",
       "    <tr>\n",
       "      <th>655090</th>\n",
       "      <td>172.24.201.82:59990</td>\n",
       "      <td>149.171.126.0:5190</td>\n",
       "      <td>6</td>\n",
       "      <td>0.0</td>\n",
       "      <td>1036.0</td>\n",
       "      <td>2262.0</td>\n",
       "      <td>12</td>\n",
       "      <td>12</td>\n",
       "      <td>27</td>\n",
       "      <td>0.0</td>\n",
       "      <td>0</td>\n",
       "      <td>Benign</td>\n",
       "    </tr>\n",
       "    <tr>\n",
       "      <th>655091</th>\n",
       "      <td>172.27.46.150:50839</td>\n",
       "      <td>172.31.69.28:80</td>\n",
       "      <td>6</td>\n",
       "      <td>7.0</td>\n",
       "      <td>471.0</td>\n",
       "      <td>1147.0</td>\n",
       "      <td>5</td>\n",
       "      <td>5</td>\n",
       "      <td>219</td>\n",
       "      <td>4294941.0</td>\n",
       "      <td>1</td>\n",
       "      <td>Brute Force -XSS</td>\n",
       "    </tr>\n",
       "    <tr>\n",
       "      <th>655092</th>\n",
       "      <td>172.17.171.37:50099</td>\n",
       "      <td>172.31.66.110:30488</td>\n",
       "      <td>6</td>\n",
       "      <td>0.0</td>\n",
       "      <td>40.0</td>\n",
       "      <td>0.0</td>\n",
       "      <td>1</td>\n",
       "      <td>0</td>\n",
       "      <td>2</td>\n",
       "      <td>0.0</td>\n",
       "      <td>0</td>\n",
       "      <td>Benign</td>\n",
       "    </tr>\n",
       "    <tr>\n",
       "      <th>655093</th>\n",
       "      <td>172.27.127.231:49443</td>\n",
       "      <td>169.254.169.254:80</td>\n",
       "      <td>6</td>\n",
       "      <td>7.0</td>\n",
       "      <td>373.0</td>\n",
       "      <td>700.0</td>\n",
       "      <td>5</td>\n",
       "      <td>5</td>\n",
       "      <td>219</td>\n",
       "      <td>0.0</td>\n",
       "      <td>0</td>\n",
       "      <td>Benign</td>\n",
       "    </tr>\n",
       "  </tbody>\n",
       "</table>\n",
       "<p>655094 rows × 12 columns</p>\n",
       "</div>"
      ],
      "text/plain": [
       "               IPV4_SRC_ADDR        IPV4_DST_ADDR  PROTOCOL  L7_PROTO  \\\n",
       "0        172.21.125.14:36583   149.171.126.0:5190         6       0.0   \n",
       "1        172.30.214.66:52131   169.254.169.254:80         6       7.0   \n",
       "2         172.27.3.173:41889     149.171.126.6:80         6       7.0   \n",
       "3        172.23.157.51:49243      172.31.69.28:80         6       7.0   \n",
       "4         172.16.81.14:50462        172.31.0.2:53        17       0.0   \n",
       "...                      ...                  ...       ...       ...   \n",
       "655089    172.19.189.7:51524      172.31.69.25:22         6      92.0   \n",
       "655090   172.24.201.82:59990   149.171.126.0:5190         6       0.0   \n",
       "655091   172.27.46.150:50839      172.31.69.28:80         6       7.0   \n",
       "655092   172.17.171.37:50099  172.31.66.110:30488         6       0.0   \n",
       "655093  172.27.127.231:49443   169.254.169.254:80         6       7.0   \n",
       "\n",
       "        IN_BYTES  OUT_BYTES  IN_PKTS  OUT_PKTS  TCP_FLAGS  \\\n",
       "0         2158.0     2464.0       24        24         27   \n",
       "1          373.0      700.0        5         5         27   \n",
       "2         1684.0    10168.0       14        18         27   \n",
       "3          522.0     1147.0        5         5        219   \n",
       "4           68.0      196.0        1         1          0   \n",
       "...          ...        ...      ...       ...        ...   \n",
       "655089    3236.0     3765.0       25        21         27   \n",
       "655090    1036.0     2262.0       12        12         27   \n",
       "655091     471.0     1147.0        5         5        219   \n",
       "655092      40.0        0.0        1         0          2   \n",
       "655093     373.0      700.0        5         5        219   \n",
       "\n",
       "        FLOW_DURATION_MILLISECONDS  Label            Attack  \n",
       "0                              0.0      0            Benign  \n",
       "1                              0.0      0            Benign  \n",
       "2                              0.0      0            Benign  \n",
       "3                        4294957.0      1  DDOS attack-HOIC  \n",
       "4                              0.0      1     Infilteration  \n",
       "...                            ...    ...               ...  \n",
       "655089                         0.0      1    SSH-Bruteforce  \n",
       "655090                         0.0      0            Benign  \n",
       "655091                   4294941.0      1  Brute Force -XSS  \n",
       "655092                         0.0      0            Benign  \n",
       "655093                         0.0      0            Benign  \n",
       "\n",
       "[655094 rows x 12 columns]"
      ]
     },
     "execution_count": 13,
     "metadata": {},
     "output_type": "execute_result"
    }
   ],
   "source": [
    "data"
   ]
  },
  {
   "cell_type": "code",
   "execution_count": 14,
   "metadata": {
    "id": "C_WU15ngvnBM"
   },
   "outputs": [],
   "source": [
    "data.drop(columns=['Label'],inplace = True)"
   ]
  },
  {
   "cell_type": "code",
   "execution_count": 15,
   "metadata": {
    "id": "Q0d3nbdiv37j"
   },
   "outputs": [],
   "source": [
    "data.rename(columns={\"Attack\": \"label\"},inplace = True)"
   ]
  },
  {
   "cell_type": "code",
   "execution_count": 16,
   "metadata": {
    "id": "yjS-hTKDzI29"
   },
   "outputs": [],
   "source": [
    "le = LabelEncoder()\n",
    "le.fit_transform(data.label.values)\n",
    "data['label'] = le.transform(data['label'])"
   ]
  },
  {
   "cell_type": "code",
   "execution_count": 17,
   "metadata": {
    "id": "SVgjPVfg03XG"
   },
   "outputs": [],
   "source": [
    "label = data.label"
   ]
  },
  {
   "cell_type": "code",
   "execution_count": 18,
   "metadata": {
    "id": "ADl2Fj7H08Rr"
   },
   "outputs": [],
   "source": [
    "data.drop(columns=['label'],inplace = True)"
   ]
  },
  {
   "cell_type": "code",
   "execution_count": 19,
   "metadata": {
    "id": "qhsZMD3uwLk7"
   },
   "outputs": [],
   "source": [
    "scaler = StandardScaler()"
   ]
  },
  {
   "cell_type": "code",
   "execution_count": 20,
   "metadata": {
    "id": "aukoVdNf2zcp"
   },
   "outputs": [],
   "source": [
    "data =  pd.concat([data, label], axis=1)"
   ]
  },
  {
   "cell_type": "code",
   "execution_count": 21,
   "metadata": {
    "colab": {
     "base_uri": "https://localhost:8080/",
     "height": 419
    },
    "id": "IP-ZEZW4nxSm",
    "outputId": "d3f123dd-51b2-447d-958b-05c3109bb362"
   },
   "outputs": [
    {
     "data": {
      "text/html": [
       "<div>\n",
       "<style scoped>\n",
       "    .dataframe tbody tr th:only-of-type {\n",
       "        vertical-align: middle;\n",
       "    }\n",
       "\n",
       "    .dataframe tbody tr th {\n",
       "        vertical-align: top;\n",
       "    }\n",
       "\n",
       "    .dataframe thead th {\n",
       "        text-align: right;\n",
       "    }\n",
       "</style>\n",
       "<table border=\"1\" class=\"dataframe\">\n",
       "  <thead>\n",
       "    <tr style=\"text-align: right;\">\n",
       "      <th></th>\n",
       "      <th>IPV4_SRC_ADDR</th>\n",
       "      <th>IPV4_DST_ADDR</th>\n",
       "      <th>PROTOCOL</th>\n",
       "      <th>L7_PROTO</th>\n",
       "      <th>IN_BYTES</th>\n",
       "      <th>OUT_BYTES</th>\n",
       "      <th>IN_PKTS</th>\n",
       "      <th>OUT_PKTS</th>\n",
       "      <th>TCP_FLAGS</th>\n",
       "      <th>FLOW_DURATION_MILLISECONDS</th>\n",
       "      <th>label</th>\n",
       "    </tr>\n",
       "  </thead>\n",
       "  <tbody>\n",
       "    <tr>\n",
       "      <th>0</th>\n",
       "      <td>172.21.125.14:36583</td>\n",
       "      <td>149.171.126.0:5190</td>\n",
       "      <td>6</td>\n",
       "      <td>0.0</td>\n",
       "      <td>2158.0</td>\n",
       "      <td>2464.0</td>\n",
       "      <td>24</td>\n",
       "      <td>24</td>\n",
       "      <td>27</td>\n",
       "      <td>0.0</td>\n",
       "      <td>2</td>\n",
       "    </tr>\n",
       "    <tr>\n",
       "      <th>1</th>\n",
       "      <td>172.30.214.66:52131</td>\n",
       "      <td>169.254.169.254:80</td>\n",
       "      <td>6</td>\n",
       "      <td>7.0</td>\n",
       "      <td>373.0</td>\n",
       "      <td>700.0</td>\n",
       "      <td>5</td>\n",
       "      <td>5</td>\n",
       "      <td>27</td>\n",
       "      <td>0.0</td>\n",
       "      <td>2</td>\n",
       "    </tr>\n",
       "    <tr>\n",
       "      <th>2</th>\n",
       "      <td>172.27.3.173:41889</td>\n",
       "      <td>149.171.126.6:80</td>\n",
       "      <td>6</td>\n",
       "      <td>7.0</td>\n",
       "      <td>1684.0</td>\n",
       "      <td>10168.0</td>\n",
       "      <td>14</td>\n",
       "      <td>18</td>\n",
       "      <td>27</td>\n",
       "      <td>0.0</td>\n",
       "      <td>2</td>\n",
       "    </tr>\n",
       "    <tr>\n",
       "      <th>3</th>\n",
       "      <td>172.23.157.51:49243</td>\n",
       "      <td>172.31.69.28:80</td>\n",
       "      <td>6</td>\n",
       "      <td>7.0</td>\n",
       "      <td>522.0</td>\n",
       "      <td>1147.0</td>\n",
       "      <td>5</td>\n",
       "      <td>5</td>\n",
       "      <td>219</td>\n",
       "      <td>4294957.0</td>\n",
       "      <td>6</td>\n",
       "    </tr>\n",
       "    <tr>\n",
       "      <th>4</th>\n",
       "      <td>172.16.81.14:50462</td>\n",
       "      <td>172.31.0.2:53</td>\n",
       "      <td>17</td>\n",
       "      <td>0.0</td>\n",
       "      <td>68.0</td>\n",
       "      <td>196.0</td>\n",
       "      <td>1</td>\n",
       "      <td>1</td>\n",
       "      <td>0</td>\n",
       "      <td>0.0</td>\n",
       "      <td>19</td>\n",
       "    </tr>\n",
       "    <tr>\n",
       "      <th>...</th>\n",
       "      <td>...</td>\n",
       "      <td>...</td>\n",
       "      <td>...</td>\n",
       "      <td>...</td>\n",
       "      <td>...</td>\n",
       "      <td>...</td>\n",
       "      <td>...</td>\n",
       "      <td>...</td>\n",
       "      <td>...</td>\n",
       "      <td>...</td>\n",
       "      <td>...</td>\n",
       "    </tr>\n",
       "    <tr>\n",
       "      <th>655089</th>\n",
       "      <td>172.19.189.7:51524</td>\n",
       "      <td>172.31.69.25:22</td>\n",
       "      <td>6</td>\n",
       "      <td>92.0</td>\n",
       "      <td>3236.0</td>\n",
       "      <td>3765.0</td>\n",
       "      <td>25</td>\n",
       "      <td>21</td>\n",
       "      <td>27</td>\n",
       "      <td>0.0</td>\n",
       "      <td>22</td>\n",
       "    </tr>\n",
       "    <tr>\n",
       "      <th>655090</th>\n",
       "      <td>172.24.201.82:59990</td>\n",
       "      <td>149.171.126.0:5190</td>\n",
       "      <td>6</td>\n",
       "      <td>0.0</td>\n",
       "      <td>1036.0</td>\n",
       "      <td>2262.0</td>\n",
       "      <td>12</td>\n",
       "      <td>12</td>\n",
       "      <td>27</td>\n",
       "      <td>0.0</td>\n",
       "      <td>2</td>\n",
       "    </tr>\n",
       "    <tr>\n",
       "      <th>655091</th>\n",
       "      <td>172.27.46.150:50839</td>\n",
       "      <td>172.31.69.28:80</td>\n",
       "      <td>6</td>\n",
       "      <td>7.0</td>\n",
       "      <td>471.0</td>\n",
       "      <td>1147.0</td>\n",
       "      <td>5</td>\n",
       "      <td>5</td>\n",
       "      <td>219</td>\n",
       "      <td>4294941.0</td>\n",
       "      <td>5</td>\n",
       "    </tr>\n",
       "    <tr>\n",
       "      <th>655092</th>\n",
       "      <td>172.17.171.37:50099</td>\n",
       "      <td>172.31.66.110:30488</td>\n",
       "      <td>6</td>\n",
       "      <td>0.0</td>\n",
       "      <td>40.0</td>\n",
       "      <td>0.0</td>\n",
       "      <td>1</td>\n",
       "      <td>0</td>\n",
       "      <td>2</td>\n",
       "      <td>0.0</td>\n",
       "      <td>2</td>\n",
       "    </tr>\n",
       "    <tr>\n",
       "      <th>655093</th>\n",
       "      <td>172.27.127.231:49443</td>\n",
       "      <td>169.254.169.254:80</td>\n",
       "      <td>6</td>\n",
       "      <td>7.0</td>\n",
       "      <td>373.0</td>\n",
       "      <td>700.0</td>\n",
       "      <td>5</td>\n",
       "      <td>5</td>\n",
       "      <td>219</td>\n",
       "      <td>0.0</td>\n",
       "      <td>2</td>\n",
       "    </tr>\n",
       "  </tbody>\n",
       "</table>\n",
       "<p>655094 rows × 11 columns</p>\n",
       "</div>"
      ],
      "text/plain": [
       "               IPV4_SRC_ADDR        IPV4_DST_ADDR  PROTOCOL  L7_PROTO  \\\n",
       "0        172.21.125.14:36583   149.171.126.0:5190         6       0.0   \n",
       "1        172.30.214.66:52131   169.254.169.254:80         6       7.0   \n",
       "2         172.27.3.173:41889     149.171.126.6:80         6       7.0   \n",
       "3        172.23.157.51:49243      172.31.69.28:80         6       7.0   \n",
       "4         172.16.81.14:50462        172.31.0.2:53        17       0.0   \n",
       "...                      ...                  ...       ...       ...   \n",
       "655089    172.19.189.7:51524      172.31.69.25:22         6      92.0   \n",
       "655090   172.24.201.82:59990   149.171.126.0:5190         6       0.0   \n",
       "655091   172.27.46.150:50839      172.31.69.28:80         6       7.0   \n",
       "655092   172.17.171.37:50099  172.31.66.110:30488         6       0.0   \n",
       "655093  172.27.127.231:49443   169.254.169.254:80         6       7.0   \n",
       "\n",
       "        IN_BYTES  OUT_BYTES  IN_PKTS  OUT_PKTS  TCP_FLAGS  \\\n",
       "0         2158.0     2464.0       24        24         27   \n",
       "1          373.0      700.0        5         5         27   \n",
       "2         1684.0    10168.0       14        18         27   \n",
       "3          522.0     1147.0        5         5        219   \n",
       "4           68.0      196.0        1         1          0   \n",
       "...          ...        ...      ...       ...        ...   \n",
       "655089    3236.0     3765.0       25        21         27   \n",
       "655090    1036.0     2262.0       12        12         27   \n",
       "655091     471.0     1147.0        5         5        219   \n",
       "655092      40.0        0.0        1         0          2   \n",
       "655093     373.0      700.0        5         5        219   \n",
       "\n",
       "        FLOW_DURATION_MILLISECONDS  label  \n",
       "0                              0.0      2  \n",
       "1                              0.0      2  \n",
       "2                              0.0      2  \n",
       "3                        4294957.0      6  \n",
       "4                              0.0     19  \n",
       "...                            ...    ...  \n",
       "655089                         0.0     22  \n",
       "655090                         0.0      2  \n",
       "655091                   4294941.0      5  \n",
       "655092                         0.0      2  \n",
       "655093                         0.0      2  \n",
       "\n",
       "[655094 rows x 11 columns]"
      ]
     },
     "execution_count": 21,
     "metadata": {},
     "output_type": "execute_result"
    }
   ],
   "source": [
    "data"
   ]
  },
  {
   "cell_type": "code",
   "execution_count": 22,
   "metadata": {
    "id": "PUa4uJbewQc7"
   },
   "outputs": [],
   "source": [
    "X_train, X_test, y_train, y_test = train_test_split(\n",
    "     data, label, test_size=0.3, random_state=123,stratify= label)"
   ]
  },
  {
   "cell_type": "code",
   "execution_count": 23,
   "metadata": {
    "colab": {
     "base_uri": "https://localhost:8080/"
    },
    "id": "z3DrIWDHqNxp",
    "outputId": "e2777f43-f37e-4596-eb7b-21186d3bf389"
   },
   "outputs": [],
   "source": [
    "encoder = ce.TargetEncoder(cols=['TCP_FLAGS','L7_PROTO','PROTOCOL'])\n",
    "encoder.fit(X_train, y_train)\n",
    "X_train = encoder.transform(X_train)"
   ]
  },
  {
   "cell_type": "code",
   "execution_count": 24,
   "metadata": {
    "id": "EDKYHCbcqN81"
   },
   "outputs": [],
   "source": [
    "cols_to_norm = list(set(list(X_train.iloc[:, 2:].columns ))  - set(list(['label'])) )\n",
    "X_train[cols_to_norm] = scaler.fit_transform(X_train[cols_to_norm])"
   ]
  },
  {
   "cell_type": "code",
   "execution_count": 25,
   "metadata": {
    "id": "ek535MkWwUHN"
   },
   "outputs": [],
   "source": [
    "X_train['h'] = X_train[ cols_to_norm ].values.tolist()"
   ]
  },
  {
   "cell_type": "code",
   "execution_count": 26,
   "metadata": {
    "colab": {
     "base_uri": "https://localhost:8080/",
     "height": 711
    },
    "id": "v4mfPB0X9rRX",
    "outputId": "29a8752f-28cd-49b4-c4c1-15e0d58d4a6a"
   },
   "outputs": [
    {
     "data": {
      "text/html": [
       "<div>\n",
       "<style scoped>\n",
       "    .dataframe tbody tr th:only-of-type {\n",
       "        vertical-align: middle;\n",
       "    }\n",
       "\n",
       "    .dataframe tbody tr th {\n",
       "        vertical-align: top;\n",
       "    }\n",
       "\n",
       "    .dataframe thead th {\n",
       "        text-align: right;\n",
       "    }\n",
       "</style>\n",
       "<table border=\"1\" class=\"dataframe\">\n",
       "  <thead>\n",
       "    <tr style=\"text-align: right;\">\n",
       "      <th></th>\n",
       "      <th>IPV4_SRC_ADDR</th>\n",
       "      <th>IPV4_DST_ADDR</th>\n",
       "      <th>PROTOCOL</th>\n",
       "      <th>L7_PROTO</th>\n",
       "      <th>IN_BYTES</th>\n",
       "      <th>OUT_BYTES</th>\n",
       "      <th>IN_PKTS</th>\n",
       "      <th>OUT_PKTS</th>\n",
       "      <th>TCP_FLAGS</th>\n",
       "      <th>FLOW_DURATION_MILLISECONDS</th>\n",
       "      <th>label</th>\n",
       "      <th>h</th>\n",
       "    </tr>\n",
       "  </thead>\n",
       "  <tbody>\n",
       "    <tr>\n",
       "      <th>209112</th>\n",
       "      <td>172.25.96.190:57038</td>\n",
       "      <td>172.31.67.18:445</td>\n",
       "      <td>0.475151</td>\n",
       "      <td>-0.665634</td>\n",
       "      <td>-0.032126</td>\n",
       "      <td>-0.030287</td>\n",
       "      <td>-0.043967</td>\n",
       "      <td>-0.121009</td>\n",
       "      <td>-1.485086</td>\n",
       "      <td>-0.712034</td>\n",
       "      <td>2</td>\n",
       "      <td>[-1.4850863121411761, -0.6656338082097226, -0....</td>\n",
       "    </tr>\n",
       "    <tr>\n",
       "      <th>106705</th>\n",
       "      <td>172.22.72.108:21127</td>\n",
       "      <td>149.171.126.2:53</td>\n",
       "      <td>-1.464643</td>\n",
       "      <td>-0.542602</td>\n",
       "      <td>-0.032093</td>\n",
       "      <td>-0.030196</td>\n",
       "      <td>-0.044212</td>\n",
       "      <td>-0.127740</td>\n",
       "      <td>-0.297535</td>\n",
       "      <td>-0.712034</td>\n",
       "      <td>2</td>\n",
       "      <td>[-0.2975348945775958, -0.542602470757504, -0.1...</td>\n",
       "    </tr>\n",
       "    <tr>\n",
       "      <th>496306</th>\n",
       "      <td>172.27.228.36:55668</td>\n",
       "      <td>172.31.69.28:80</td>\n",
       "      <td>0.475151</td>\n",
       "      <td>0.608191</td>\n",
       "      <td>-0.031284</td>\n",
       "      <td>-0.028286</td>\n",
       "      <td>-0.043478</td>\n",
       "      <td>-0.107548</td>\n",
       "      <td>-0.469003</td>\n",
       "      <td>1.404893</td>\n",
       "      <td>6</td>\n",
       "      <td>[-0.469002901061805, 0.6081913714808415, -0.10...</td>\n",
       "    </tr>\n",
       "    <tr>\n",
       "      <th>426607</th>\n",
       "      <td>172.25.41.135:57560</td>\n",
       "      <td>172.31.69.25:22</td>\n",
       "      <td>0.475151</td>\n",
       "      <td>3.665247</td>\n",
       "      <td>-0.024890</td>\n",
       "      <td>-0.023126</td>\n",
       "      <td>-0.038831</td>\n",
       "      <td>0.000145</td>\n",
       "      <td>-0.012258</td>\n",
       "      <td>-0.712034</td>\n",
       "      <td>22</td>\n",
       "      <td>[-0.012257638291948614, 3.66524663166353, 0.00...</td>\n",
       "    </tr>\n",
       "    <tr>\n",
       "      <th>305755</th>\n",
       "      <td>172.20.62.233:51638</td>\n",
       "      <td>172.31.0.2:53</td>\n",
       "      <td>-1.464643</td>\n",
       "      <td>-0.542602</td>\n",
       "      <td>-0.032273</td>\n",
       "      <td>-0.030378</td>\n",
       "      <td>-0.044456</td>\n",
       "      <td>-0.134471</td>\n",
       "      <td>-0.297535</td>\n",
       "      <td>-0.712034</td>\n",
       "      <td>2</td>\n",
       "      <td>[-0.2975348945775958, -0.542602470757504, -0.1...</td>\n",
       "    </tr>\n",
       "    <tr>\n",
       "      <th>...</th>\n",
       "      <td>...</td>\n",
       "      <td>...</td>\n",
       "      <td>...</td>\n",
       "      <td>...</td>\n",
       "      <td>...</td>\n",
       "      <td>...</td>\n",
       "      <td>...</td>\n",
       "      <td>...</td>\n",
       "      <td>...</td>\n",
       "      <td>...</td>\n",
       "      <td>...</td>\n",
       "      <td>...</td>\n",
       "    </tr>\n",
       "    <tr>\n",
       "      <th>267957</th>\n",
       "      <td>172.24.91.194:51163</td>\n",
       "      <td>172.31.69.28:80</td>\n",
       "      <td>0.475151</td>\n",
       "      <td>0.608191</td>\n",
       "      <td>-0.031192</td>\n",
       "      <td>-0.028286</td>\n",
       "      <td>-0.043478</td>\n",
       "      <td>-0.107548</td>\n",
       "      <td>-0.469003</td>\n",
       "      <td>1.404861</td>\n",
       "      <td>6</td>\n",
       "      <td>[-0.469002901061805, 0.6081913714808415, -0.10...</td>\n",
       "    </tr>\n",
       "    <tr>\n",
       "      <th>565842</th>\n",
       "      <td>172.30.33.6:52874</td>\n",
       "      <td>172.31.0.2:53</td>\n",
       "      <td>-1.464643</td>\n",
       "      <td>-0.542602</td>\n",
       "      <td>-0.032276</td>\n",
       "      <td>-0.030108</td>\n",
       "      <td>-0.044456</td>\n",
       "      <td>-0.134471</td>\n",
       "      <td>-0.297535</td>\n",
       "      <td>-0.712034</td>\n",
       "      <td>2</td>\n",
       "      <td>[-0.2975348945775958, -0.542602470757504, -0.1...</td>\n",
       "    </tr>\n",
       "    <tr>\n",
       "      <th>317766</th>\n",
       "      <td>172.18.6.142:62358</td>\n",
       "      <td>18.219.211.138:8080</td>\n",
       "      <td>0.475151</td>\n",
       "      <td>-1.037106</td>\n",
       "      <td>-0.031164</td>\n",
       "      <td>-0.029875</td>\n",
       "      <td>-0.043478</td>\n",
       "      <td>-0.107548</td>\n",
       "      <td>-0.469003</td>\n",
       "      <td>-0.712034</td>\n",
       "      <td>3</td>\n",
       "      <td>[-0.469002901061805, -1.0371057563975392, -0.1...</td>\n",
       "    </tr>\n",
       "    <tr>\n",
       "      <th>464679</th>\n",
       "      <td>172.19.164.175:49802</td>\n",
       "      <td>18.219.211.138:8080</td>\n",
       "      <td>0.475151</td>\n",
       "      <td>-1.037106</td>\n",
       "      <td>-0.031164</td>\n",
       "      <td>-0.029875</td>\n",
       "      <td>-0.043478</td>\n",
       "      <td>-0.107548</td>\n",
       "      <td>-0.469003</td>\n",
       "      <td>-0.712034</td>\n",
       "      <td>3</td>\n",
       "      <td>[-0.469002901061805, -1.0371057563975392, -0.1...</td>\n",
       "    </tr>\n",
       "    <tr>\n",
       "      <th>80100</th>\n",
       "      <td>172.25.27.225:20864</td>\n",
       "      <td>149.171.126.2:65228</td>\n",
       "      <td>-1.464643</td>\n",
       "      <td>-0.542602</td>\n",
       "      <td>-0.031168</td>\n",
       "      <td>-0.029948</td>\n",
       "      <td>-0.043722</td>\n",
       "      <td>-0.114279</td>\n",
       "      <td>-0.297535</td>\n",
       "      <td>-0.712034</td>\n",
       "      <td>2</td>\n",
       "      <td>[-0.2975348945775958, -0.542602470757504, -0.1...</td>\n",
       "    </tr>\n",
       "  </tbody>\n",
       "</table>\n",
       "<p>458565 rows × 12 columns</p>\n",
       "</div>"
      ],
      "text/plain": [
       "               IPV4_SRC_ADDR        IPV4_DST_ADDR  PROTOCOL  L7_PROTO  \\\n",
       "209112   172.25.96.190:57038     172.31.67.18:445  0.475151 -0.665634   \n",
       "106705   172.22.72.108:21127     149.171.126.2:53 -1.464643 -0.542602   \n",
       "496306   172.27.228.36:55668      172.31.69.28:80  0.475151  0.608191   \n",
       "426607   172.25.41.135:57560      172.31.69.25:22  0.475151  3.665247   \n",
       "305755   172.20.62.233:51638        172.31.0.2:53 -1.464643 -0.542602   \n",
       "...                      ...                  ...       ...       ...   \n",
       "267957   172.24.91.194:51163      172.31.69.28:80  0.475151  0.608191   \n",
       "565842     172.30.33.6:52874        172.31.0.2:53 -1.464643 -0.542602   \n",
       "317766    172.18.6.142:62358  18.219.211.138:8080  0.475151 -1.037106   \n",
       "464679  172.19.164.175:49802  18.219.211.138:8080  0.475151 -1.037106   \n",
       "80100    172.25.27.225:20864  149.171.126.2:65228 -1.464643 -0.542602   \n",
       "\n",
       "        IN_BYTES  OUT_BYTES   IN_PKTS  OUT_PKTS  TCP_FLAGS  \\\n",
       "209112 -0.032126  -0.030287 -0.043967 -0.121009  -1.485086   \n",
       "106705 -0.032093  -0.030196 -0.044212 -0.127740  -0.297535   \n",
       "496306 -0.031284  -0.028286 -0.043478 -0.107548  -0.469003   \n",
       "426607 -0.024890  -0.023126 -0.038831  0.000145  -0.012258   \n",
       "305755 -0.032273  -0.030378 -0.044456 -0.134471  -0.297535   \n",
       "...          ...        ...       ...       ...        ...   \n",
       "267957 -0.031192  -0.028286 -0.043478 -0.107548  -0.469003   \n",
       "565842 -0.032276  -0.030108 -0.044456 -0.134471  -0.297535   \n",
       "317766 -0.031164  -0.029875 -0.043478 -0.107548  -0.469003   \n",
       "464679 -0.031164  -0.029875 -0.043478 -0.107548  -0.469003   \n",
       "80100  -0.031168  -0.029948 -0.043722 -0.114279  -0.297535   \n",
       "\n",
       "        FLOW_DURATION_MILLISECONDS  label  \\\n",
       "209112                   -0.712034      2   \n",
       "106705                   -0.712034      2   \n",
       "496306                    1.404893      6   \n",
       "426607                   -0.712034     22   \n",
       "305755                   -0.712034      2   \n",
       "...                            ...    ...   \n",
       "267957                    1.404861      6   \n",
       "565842                   -0.712034      2   \n",
       "317766                   -0.712034      3   \n",
       "464679                   -0.712034      3   \n",
       "80100                    -0.712034      2   \n",
       "\n",
       "                                                        h  \n",
       "209112  [-1.4850863121411761, -0.6656338082097226, -0....  \n",
       "106705  [-0.2975348945775958, -0.542602470757504, -0.1...  \n",
       "496306  [-0.469002901061805, 0.6081913714808415, -0.10...  \n",
       "426607  [-0.012257638291948614, 3.66524663166353, 0.00...  \n",
       "305755  [-0.2975348945775958, -0.542602470757504, -0.1...  \n",
       "...                                                   ...  \n",
       "267957  [-0.469002901061805, 0.6081913714808415, -0.10...  \n",
       "565842  [-0.2975348945775958, -0.542602470757504, -0.1...  \n",
       "317766  [-0.469002901061805, -1.0371057563975392, -0.1...  \n",
       "464679  [-0.469002901061805, -1.0371057563975392, -0.1...  \n",
       "80100   [-0.2975348945775958, -0.542602470757504, -0.1...  \n",
       "\n",
       "[458565 rows x 12 columns]"
      ]
     },
     "execution_count": 26,
     "metadata": {},
     "output_type": "execute_result"
    }
   ],
   "source": [
    "X_train"
   ]
  },
  {
   "cell_type": "code",
   "execution_count": 27,
   "metadata": {
    "id": "OIrcNfMSwa0j"
   },
   "outputs": [],
   "source": [
    "G = nx.from_pandas_edgelist(X_train, \"IPV4_SRC_ADDR\", \"IPV4_DST_ADDR\", ['h','label'],create_using=nx.MultiGraph())"
   ]
  },
  {
   "cell_type": "code",
   "execution_count": 28,
   "metadata": {
    "id": "QluLSxbiwn7M"
   },
   "outputs": [],
   "source": [
    "G = G.to_directed()\n"
   ]
  },
  {
   "cell_type": "code",
   "execution_count": 29,
   "metadata": {
    "id": "2zClkKEzwrVb"
   },
   "outputs": [],
   "source": [
    "G = from_networkx(G,edge_attrs=['h','label'] )\n"
   ]
  },
  {
   "cell_type": "code",
   "execution_count": 30,
   "metadata": {
    "id": "9jlBYgE8wsW7"
   },
   "outputs": [],
   "source": [
    "# Eq1\n",
    "G.ndata['h'] = th.ones(G.num_nodes(), G.edata['h'].shape[1])"
   ]
  },
  {
   "cell_type": "code",
   "execution_count": 31,
   "metadata": {
    "id": "E7Vc6IELwuJr"
   },
   "outputs": [],
   "source": [
    "G.edata['train_mask'] = th.ones(len(G.edata['h']), dtype=th.bool)\n"
   ]
  },
  {
   "cell_type": "code",
   "execution_count": 32,
   "metadata": {
    "colab": {
     "base_uri": "https://localhost:8080/"
    },
    "id": "BIx7-W6s46Ju",
    "outputId": "234c56a1-9958-4e82-e244-b2a41dcf2855"
   },
   "outputs": [
    {
     "data": {
      "text/plain": [
       "tensor([True, True, True,  ..., True, True, True])"
      ]
     },
     "execution_count": 32,
     "metadata": {},
     "output_type": "execute_result"
    }
   ],
   "source": [
    "G.edata['train_mask'] "
   ]
  },
  {
   "cell_type": "code",
   "execution_count": 33,
   "metadata": {
    "id": "DzDap1MR5e95"
   },
   "outputs": [],
   "source": [
    "def compute_accuracy(pred, labels):\n",
    "    return (pred.argmax(1) == labels).float().mean().item()"
   ]
  },
  {
   "cell_type": "code",
   "execution_count": 34,
   "metadata": {
    "id": "5VzTQxAR5HoT"
   },
   "outputs": [],
   "source": [
    "class SAGELayer(nn.Module):\n",
    "    def __init__(self, ndim_in, edims, ndim_out, activation):\n",
    "        super(SAGELayer, self).__init__()\n",
    "        ### force to outut fix dimensions\n",
    "        self.W_msg = nn.Linear(ndim_in + edims, ndim_out)\n",
    "        ### apply weight\n",
    "        self.W_apply = nn.Linear(ndim_in + ndim_out, ndim_out)\n",
    "        self.activation = activation\n",
    "\n",
    "    def message_func(self, edges):\n",
    "        return {'m': self.W_msg(th.cat([edges.src['h'], edges.data['h']], 2))}\n",
    "\n",
    "    def forward(self, g_dgl, nfeats, efeats):\n",
    "        with g_dgl.local_scope():\n",
    "            g = g_dgl\n",
    "            g.ndata['h'] = nfeats\n",
    "            g.edata['h'] = efeats\n",
    "            # Eq4\n",
    "            g.update_all(self.message_func, fn.mean('m', 'h_neigh'))\n",
    "            # Eq5          \n",
    "            g.ndata['h'] = F.relu(self.W_apply(th.cat([g.ndata['h'], g.ndata['h_neigh']], 2)))\n",
    "            return g.ndata['h']\n",
    "\n",
    "\n",
    "class SAGE(nn.Module):\n",
    "    def __init__(self, ndim_in, ndim_out, edim, activation, dropout):\n",
    "        super(SAGE, self).__init__()\n",
    "        self.layers = nn.ModuleList()\n",
    "        self.layers.append(SAGELayer(ndim_in, edim, 128, activation))\n",
    "        self.layers.append(SAGELayer(128, edim, ndim_out, activation))\n",
    "        self.dropout = nn.Dropout(p=dropout)\n",
    "\n",
    "    def forward(self, g, nfeats, efeats):\n",
    "        for i, layer in enumerate(self.layers):\n",
    "            if i != 0:\n",
    "                nfeats = self.dropout(nfeats)\n",
    "            nfeats = layer(g, nfeats, efeats)\n",
    "        return nfeats.sum(1)"
   ]
  },
  {
   "cell_type": "code",
   "execution_count": 35,
   "metadata": {
    "id": "hrLYvze5wwMi"
   },
   "outputs": [],
   "source": [
    "class MLPPredictor(nn.Module):\n",
    "    def __init__(self, in_features, out_classes):\n",
    "        super().__init__()\n",
    "        self.W = nn.Linear(in_features * 2, out_classes)\n",
    "\n",
    "    def apply_edges(self, edges):\n",
    "        h_u = edges.src['h']\n",
    "        h_v = edges.dst['h']\n",
    "        score = self.W(th.cat([h_u, h_v], 1))\n",
    "        return {'score': score}\n",
    "\n",
    "    def forward(self, graph, h):\n",
    "        with graph.local_scope():\n",
    "            graph.ndata['h'] = h\n",
    "            graph.apply_edges(self.apply_edges)\n",
    "            return graph.edata['score']"
   ]
  },
  {
   "cell_type": "code",
   "execution_count": 36,
   "metadata": {
    "id": "GPLg-kCcwxLa"
   },
   "outputs": [],
   "source": [
    "G.ndata['h'] = th.reshape(G.ndata['h'], (G.ndata['h'].shape[0], 1,G.ndata['h'].shape[1]))\n",
    "G.edata['h'] = th.reshape(G.edata['h'], (G.edata['h'].shape[0], 1,G.edata['h'].shape[1]))"
   ]
  },
  {
   "cell_type": "code",
   "execution_count": 37,
   "metadata": {
    "id": "SwdZs785w1dT"
   },
   "outputs": [],
   "source": [
    "class Model(nn.Module):\n",
    "    def __init__(self, ndim_in, ndim_out, edim, activation, dropout):\n",
    "        super().__init__()\n",
    "        self.gnn = SAGE(ndim_in, ndim_out, edim, activation, dropout)\n",
    "        self.pred = MLPPredictor(ndim_out, 26)\n",
    "    def forward(self, g, nfeats, efeats):\n",
    "        h = self.gnn(g, nfeats, efeats)\n",
    "        return self.pred(g, h)"
   ]
  },
  {
   "cell_type": "code",
   "execution_count": 38,
   "metadata": {
    "id": "BEw7J1Z45R62"
   },
   "outputs": [
    {
     "name": "stdout",
     "output_type": "stream",
     "text": [
      "Class Weights Dictionary: {0: 10.961538461538462, 1: 11.61865308604439, 2: 0.07371403714982357, 3: 1.4086027781020194, 4: 23.516153846153845, 5: 27.17583264193434, 6: 0.46622033794912465, 7: 23.86619131883002, 8: 0.6108515008698571, 9: 1.6397466887890837, 10: 0.6466403440738913, 11: 3.6350196588242754, 12: 1.1647041791332884, 13: 7.140532544378698, 14: 5.29802204404187, 15: 1.5971307963973, 16: 3.8865393090822797, 17: 2.258562605277934, 18: 3.042980570154483, 19: 1.7321857576719097, 20: 1.3856941691244016, 21: 58.40104431991849, 22: 1.0611344314190112, 23: 17.654770154770155, 24: 20.65235993514682, 25: 153.36622073578596}\n"
     ]
    }
   ],
   "source": [
    "from sklearn.utils import class_weight\n",
    "import numpy as np # Ensure numpy is imported\n",
    "\n",
    "# Calculate unique classes and labels once\n",
    "labels_array = G.edata['label'].cpu().numpy()\n",
    "unique_classes = np.unique(labels_array)\n",
    "\n",
    "class_weights = class_weight.compute_class_weight(\n",
    "    'balanced',\n",
    "    classes=unique_classes, # Use keyword 'classes='\n",
    "    y=labels_array          # Use keyword 'y='\n",
    ")\n",
    "\n",
    "# Optional: Convert to a dictionary usable by many frameworks\n",
    "class_weights_dict = dict(zip(unique_classes, class_weights))\n",
    "print(\"Class Weights Dictionary:\", class_weights_dict)"
   ]
  },
  {
   "cell_type": "code",
   "execution_count": 39,
   "metadata": {
    "id": "Cti0vAFYw3A0"
   },
   "outputs": [],
   "source": [
    "class_weights = th.FloatTensor(class_weights).cuda()\n",
    "criterion = nn.CrossEntropyLoss(weight = class_weights)"
   ]
  },
  {
   "cell_type": "code",
   "execution_count": 40,
   "metadata": {
    "colab": {
     "base_uri": "https://localhost:8080/"
    },
    "id": "Rj3DHIZmw4IM",
    "outputId": "25d6e453-935e-4132-e67b-f6dbc46c699a"
   },
   "outputs": [
    {
     "data": {
      "text/plain": [
       "device(type='cuda', index=0)"
      ]
     },
     "execution_count": 40,
     "metadata": {},
     "output_type": "execute_result"
    }
   ],
   "source": [
    "G = G.to('cuda:0')\n",
    "G.device"
   ]
  },
  {
   "cell_type": "code",
   "execution_count": 41,
   "metadata": {
    "colab": {
     "base_uri": "https://localhost:8080/"
    },
    "id": "qdlVG3JOw5Qj",
    "outputId": "48880507-da3a-41d5-f470-b594953d822c"
   },
   "outputs": [
    {
     "data": {
      "text/plain": [
       "device(type='cuda', index=0)"
      ]
     },
     "execution_count": 41,
     "metadata": {},
     "output_type": "execute_result"
    }
   ],
   "source": [
    "G.ndata['h'].device\n"
   ]
  },
  {
   "cell_type": "code",
   "execution_count": 42,
   "metadata": {
    "colab": {
     "base_uri": "https://localhost:8080/"
    },
    "id": "dvt3pnXmw6U7",
    "outputId": "9f97f898-6d60-4295-dac3-16efa108353c"
   },
   "outputs": [
    {
     "data": {
      "text/plain": [
       "device(type='cuda', index=0)"
      ]
     },
     "execution_count": 42,
     "metadata": {},
     "output_type": "execute_result"
    }
   ],
   "source": [
    "G.edata['h'].device\n"
   ]
  },
  {
   "cell_type": "code",
   "execution_count": 46,
   "metadata": {
    "colab": {
     "base_uri": "https://localhost:8080/"
    },
    "id": "-_eTiHzWw8Cz",
    "outputId": "a9129648-590f-433f-99e1-f7cf871283d7"
   },
   "outputs": [
    {
     "ename": "KeyboardInterrupt",
     "evalue": "",
     "output_type": "error",
     "traceback": [
      "\u001b[0;31m---------------------------------------------------------------------------\u001b[0m",
      "\u001b[0;31mKeyboardInterrupt\u001b[0m                         Traceback (most recent call last)",
      "Cell \u001b[0;32mIn[46], line 12\u001b[0m\n\u001b[1;32m      9\u001b[0m opt \u001b[38;5;241m=\u001b[39m th\u001b[38;5;241m.\u001b[39moptim\u001b[38;5;241m.\u001b[39mAdam(model\u001b[38;5;241m.\u001b[39mparameters())\n\u001b[1;32m     11\u001b[0m \u001b[38;5;28;01mfor\u001b[39;00m epoch \u001b[38;5;129;01min\u001b[39;00m \u001b[38;5;28mrange\u001b[39m(\u001b[38;5;241m1\u001b[39m,\u001b[38;5;241m8000\u001b[39m):\n\u001b[0;32m---> 12\u001b[0m     pred \u001b[38;5;241m=\u001b[39m \u001b[43mmodel\u001b[49m\u001b[43m(\u001b[49m\u001b[43mG\u001b[49m\u001b[43m,\u001b[49m\u001b[43m \u001b[49m\u001b[43mnode_features\u001b[49m\u001b[43m,\u001b[49m\u001b[43medge_features\u001b[49m\u001b[43m)\u001b[49m\u001b[38;5;241m.\u001b[39mcuda()\n\u001b[1;32m     13\u001b[0m     loss \u001b[38;5;241m=\u001b[39m criterion(pred[train_mask] ,edge_label[train_mask])\n\u001b[1;32m     14\u001b[0m     opt\u001b[38;5;241m.\u001b[39mzero_grad()\n",
      "File \u001b[0;32m/media/ssd/test/gnn_cuda_env/lib/python3.8/site-packages/torch/nn/modules/module.py:1553\u001b[0m, in \u001b[0;36mModule._wrapped_call_impl\u001b[0;34m(self, *args, **kwargs)\u001b[0m\n\u001b[1;32m   1551\u001b[0m     \u001b[38;5;28;01mreturn\u001b[39;00m \u001b[38;5;28mself\u001b[39m\u001b[38;5;241m.\u001b[39m_compiled_call_impl(\u001b[38;5;241m*\u001b[39margs, \u001b[38;5;241m*\u001b[39m\u001b[38;5;241m*\u001b[39mkwargs)  \u001b[38;5;66;03m# type: ignore[misc]\u001b[39;00m\n\u001b[1;32m   1552\u001b[0m \u001b[38;5;28;01melse\u001b[39;00m:\n\u001b[0;32m-> 1553\u001b[0m     \u001b[38;5;28;01mreturn\u001b[39;00m \u001b[38;5;28;43mself\u001b[39;49m\u001b[38;5;241;43m.\u001b[39;49m\u001b[43m_call_impl\u001b[49m\u001b[43m(\u001b[49m\u001b[38;5;241;43m*\u001b[39;49m\u001b[43margs\u001b[49m\u001b[43m,\u001b[49m\u001b[43m \u001b[49m\u001b[38;5;241;43m*\u001b[39;49m\u001b[38;5;241;43m*\u001b[39;49m\u001b[43mkwargs\u001b[49m\u001b[43m)\u001b[49m\n",
      "File \u001b[0;32m/media/ssd/test/gnn_cuda_env/lib/python3.8/site-packages/torch/nn/modules/module.py:1562\u001b[0m, in \u001b[0;36mModule._call_impl\u001b[0;34m(self, *args, **kwargs)\u001b[0m\n\u001b[1;32m   1557\u001b[0m \u001b[38;5;66;03m# If we don't have any hooks, we want to skip the rest of the logic in\u001b[39;00m\n\u001b[1;32m   1558\u001b[0m \u001b[38;5;66;03m# this function, and just call forward.\u001b[39;00m\n\u001b[1;32m   1559\u001b[0m \u001b[38;5;28;01mif\u001b[39;00m \u001b[38;5;129;01mnot\u001b[39;00m (\u001b[38;5;28mself\u001b[39m\u001b[38;5;241m.\u001b[39m_backward_hooks \u001b[38;5;129;01mor\u001b[39;00m \u001b[38;5;28mself\u001b[39m\u001b[38;5;241m.\u001b[39m_backward_pre_hooks \u001b[38;5;129;01mor\u001b[39;00m \u001b[38;5;28mself\u001b[39m\u001b[38;5;241m.\u001b[39m_forward_hooks \u001b[38;5;129;01mor\u001b[39;00m \u001b[38;5;28mself\u001b[39m\u001b[38;5;241m.\u001b[39m_forward_pre_hooks\n\u001b[1;32m   1560\u001b[0m         \u001b[38;5;129;01mor\u001b[39;00m _global_backward_pre_hooks \u001b[38;5;129;01mor\u001b[39;00m _global_backward_hooks\n\u001b[1;32m   1561\u001b[0m         \u001b[38;5;129;01mor\u001b[39;00m _global_forward_hooks \u001b[38;5;129;01mor\u001b[39;00m _global_forward_pre_hooks):\n\u001b[0;32m-> 1562\u001b[0m     \u001b[38;5;28;01mreturn\u001b[39;00m \u001b[43mforward_call\u001b[49m\u001b[43m(\u001b[49m\u001b[38;5;241;43m*\u001b[39;49m\u001b[43margs\u001b[49m\u001b[43m,\u001b[49m\u001b[43m \u001b[49m\u001b[38;5;241;43m*\u001b[39;49m\u001b[38;5;241;43m*\u001b[39;49m\u001b[43mkwargs\u001b[49m\u001b[43m)\u001b[49m\n\u001b[1;32m   1564\u001b[0m \u001b[38;5;28;01mtry\u001b[39;00m:\n\u001b[1;32m   1565\u001b[0m     result \u001b[38;5;241m=\u001b[39m \u001b[38;5;28;01mNone\u001b[39;00m\n",
      "Cell \u001b[0;32mIn[37], line 7\u001b[0m, in \u001b[0;36mModel.forward\u001b[0;34m(self, g, nfeats, efeats)\u001b[0m\n\u001b[1;32m      6\u001b[0m \u001b[38;5;28;01mdef\u001b[39;00m\u001b[38;5;250m \u001b[39m\u001b[38;5;21mforward\u001b[39m(\u001b[38;5;28mself\u001b[39m, g, nfeats, efeats):\n\u001b[0;32m----> 7\u001b[0m     h \u001b[38;5;241m=\u001b[39m \u001b[38;5;28;43mself\u001b[39;49m\u001b[38;5;241;43m.\u001b[39;49m\u001b[43mgnn\u001b[49m\u001b[43m(\u001b[49m\u001b[43mg\u001b[49m\u001b[43m,\u001b[49m\u001b[43m \u001b[49m\u001b[43mnfeats\u001b[49m\u001b[43m,\u001b[49m\u001b[43m \u001b[49m\u001b[43mefeats\u001b[49m\u001b[43m)\u001b[49m\n\u001b[1;32m      8\u001b[0m     \u001b[38;5;28;01mreturn\u001b[39;00m \u001b[38;5;28mself\u001b[39m\u001b[38;5;241m.\u001b[39mpred(g, h)\n",
      "File \u001b[0;32m/media/ssd/test/gnn_cuda_env/lib/python3.8/site-packages/torch/nn/modules/module.py:1553\u001b[0m, in \u001b[0;36mModule._wrapped_call_impl\u001b[0;34m(self, *args, **kwargs)\u001b[0m\n\u001b[1;32m   1551\u001b[0m     \u001b[38;5;28;01mreturn\u001b[39;00m \u001b[38;5;28mself\u001b[39m\u001b[38;5;241m.\u001b[39m_compiled_call_impl(\u001b[38;5;241m*\u001b[39margs, \u001b[38;5;241m*\u001b[39m\u001b[38;5;241m*\u001b[39mkwargs)  \u001b[38;5;66;03m# type: ignore[misc]\u001b[39;00m\n\u001b[1;32m   1552\u001b[0m \u001b[38;5;28;01melse\u001b[39;00m:\n\u001b[0;32m-> 1553\u001b[0m     \u001b[38;5;28;01mreturn\u001b[39;00m \u001b[38;5;28;43mself\u001b[39;49m\u001b[38;5;241;43m.\u001b[39;49m\u001b[43m_call_impl\u001b[49m\u001b[43m(\u001b[49m\u001b[38;5;241;43m*\u001b[39;49m\u001b[43margs\u001b[49m\u001b[43m,\u001b[49m\u001b[43m \u001b[49m\u001b[38;5;241;43m*\u001b[39;49m\u001b[38;5;241;43m*\u001b[39;49m\u001b[43mkwargs\u001b[49m\u001b[43m)\u001b[49m\n",
      "File \u001b[0;32m/media/ssd/test/gnn_cuda_env/lib/python3.8/site-packages/torch/nn/modules/module.py:1562\u001b[0m, in \u001b[0;36mModule._call_impl\u001b[0;34m(self, *args, **kwargs)\u001b[0m\n\u001b[1;32m   1557\u001b[0m \u001b[38;5;66;03m# If we don't have any hooks, we want to skip the rest of the logic in\u001b[39;00m\n\u001b[1;32m   1558\u001b[0m \u001b[38;5;66;03m# this function, and just call forward.\u001b[39;00m\n\u001b[1;32m   1559\u001b[0m \u001b[38;5;28;01mif\u001b[39;00m \u001b[38;5;129;01mnot\u001b[39;00m (\u001b[38;5;28mself\u001b[39m\u001b[38;5;241m.\u001b[39m_backward_hooks \u001b[38;5;129;01mor\u001b[39;00m \u001b[38;5;28mself\u001b[39m\u001b[38;5;241m.\u001b[39m_backward_pre_hooks \u001b[38;5;129;01mor\u001b[39;00m \u001b[38;5;28mself\u001b[39m\u001b[38;5;241m.\u001b[39m_forward_hooks \u001b[38;5;129;01mor\u001b[39;00m \u001b[38;5;28mself\u001b[39m\u001b[38;5;241m.\u001b[39m_forward_pre_hooks\n\u001b[1;32m   1560\u001b[0m         \u001b[38;5;129;01mor\u001b[39;00m _global_backward_pre_hooks \u001b[38;5;129;01mor\u001b[39;00m _global_backward_hooks\n\u001b[1;32m   1561\u001b[0m         \u001b[38;5;129;01mor\u001b[39;00m _global_forward_hooks \u001b[38;5;129;01mor\u001b[39;00m _global_forward_pre_hooks):\n\u001b[0;32m-> 1562\u001b[0m     \u001b[38;5;28;01mreturn\u001b[39;00m \u001b[43mforward_call\u001b[49m\u001b[43m(\u001b[49m\u001b[38;5;241;43m*\u001b[39;49m\u001b[43margs\u001b[49m\u001b[43m,\u001b[49m\u001b[43m \u001b[49m\u001b[38;5;241;43m*\u001b[39;49m\u001b[38;5;241;43m*\u001b[39;49m\u001b[43mkwargs\u001b[49m\u001b[43m)\u001b[49m\n\u001b[1;32m   1564\u001b[0m \u001b[38;5;28;01mtry\u001b[39;00m:\n\u001b[1;32m   1565\u001b[0m     result \u001b[38;5;241m=\u001b[39m \u001b[38;5;28;01mNone\u001b[39;00m\n",
      "Cell \u001b[0;32mIn[34], line 37\u001b[0m, in \u001b[0;36mSAGE.forward\u001b[0;34m(self, g, nfeats, efeats)\u001b[0m\n\u001b[1;32m     35\u001b[0m     \u001b[38;5;28;01mif\u001b[39;00m i \u001b[38;5;241m!=\u001b[39m \u001b[38;5;241m0\u001b[39m:\n\u001b[1;32m     36\u001b[0m         nfeats \u001b[38;5;241m=\u001b[39m \u001b[38;5;28mself\u001b[39m\u001b[38;5;241m.\u001b[39mdropout(nfeats)\n\u001b[0;32m---> 37\u001b[0m     nfeats \u001b[38;5;241m=\u001b[39m \u001b[43mlayer\u001b[49m\u001b[43m(\u001b[49m\u001b[43mg\u001b[49m\u001b[43m,\u001b[49m\u001b[43m \u001b[49m\u001b[43mnfeats\u001b[49m\u001b[43m,\u001b[49m\u001b[43m \u001b[49m\u001b[43mefeats\u001b[49m\u001b[43m)\u001b[49m\n\u001b[1;32m     38\u001b[0m \u001b[38;5;28;01mreturn\u001b[39;00m nfeats\u001b[38;5;241m.\u001b[39msum(\u001b[38;5;241m1\u001b[39m)\n",
      "File \u001b[0;32m/media/ssd/test/gnn_cuda_env/lib/python3.8/site-packages/torch/nn/modules/module.py:1553\u001b[0m, in \u001b[0;36mModule._wrapped_call_impl\u001b[0;34m(self, *args, **kwargs)\u001b[0m\n\u001b[1;32m   1551\u001b[0m     \u001b[38;5;28;01mreturn\u001b[39;00m \u001b[38;5;28mself\u001b[39m\u001b[38;5;241m.\u001b[39m_compiled_call_impl(\u001b[38;5;241m*\u001b[39margs, \u001b[38;5;241m*\u001b[39m\u001b[38;5;241m*\u001b[39mkwargs)  \u001b[38;5;66;03m# type: ignore[misc]\u001b[39;00m\n\u001b[1;32m   1552\u001b[0m \u001b[38;5;28;01melse\u001b[39;00m:\n\u001b[0;32m-> 1553\u001b[0m     \u001b[38;5;28;01mreturn\u001b[39;00m \u001b[38;5;28;43mself\u001b[39;49m\u001b[38;5;241;43m.\u001b[39;49m\u001b[43m_call_impl\u001b[49m\u001b[43m(\u001b[49m\u001b[38;5;241;43m*\u001b[39;49m\u001b[43margs\u001b[49m\u001b[43m,\u001b[49m\u001b[43m \u001b[49m\u001b[38;5;241;43m*\u001b[39;49m\u001b[38;5;241;43m*\u001b[39;49m\u001b[43mkwargs\u001b[49m\u001b[43m)\u001b[49m\n",
      "File \u001b[0;32m/media/ssd/test/gnn_cuda_env/lib/python3.8/site-packages/torch/nn/modules/module.py:1562\u001b[0m, in \u001b[0;36mModule._call_impl\u001b[0;34m(self, *args, **kwargs)\u001b[0m\n\u001b[1;32m   1557\u001b[0m \u001b[38;5;66;03m# If we don't have any hooks, we want to skip the rest of the logic in\u001b[39;00m\n\u001b[1;32m   1558\u001b[0m \u001b[38;5;66;03m# this function, and just call forward.\u001b[39;00m\n\u001b[1;32m   1559\u001b[0m \u001b[38;5;28;01mif\u001b[39;00m \u001b[38;5;129;01mnot\u001b[39;00m (\u001b[38;5;28mself\u001b[39m\u001b[38;5;241m.\u001b[39m_backward_hooks \u001b[38;5;129;01mor\u001b[39;00m \u001b[38;5;28mself\u001b[39m\u001b[38;5;241m.\u001b[39m_backward_pre_hooks \u001b[38;5;129;01mor\u001b[39;00m \u001b[38;5;28mself\u001b[39m\u001b[38;5;241m.\u001b[39m_forward_hooks \u001b[38;5;129;01mor\u001b[39;00m \u001b[38;5;28mself\u001b[39m\u001b[38;5;241m.\u001b[39m_forward_pre_hooks\n\u001b[1;32m   1560\u001b[0m         \u001b[38;5;129;01mor\u001b[39;00m _global_backward_pre_hooks \u001b[38;5;129;01mor\u001b[39;00m _global_backward_hooks\n\u001b[1;32m   1561\u001b[0m         \u001b[38;5;129;01mor\u001b[39;00m _global_forward_hooks \u001b[38;5;129;01mor\u001b[39;00m _global_forward_pre_hooks):\n\u001b[0;32m-> 1562\u001b[0m     \u001b[38;5;28;01mreturn\u001b[39;00m \u001b[43mforward_call\u001b[49m\u001b[43m(\u001b[49m\u001b[38;5;241;43m*\u001b[39;49m\u001b[43margs\u001b[49m\u001b[43m,\u001b[49m\u001b[43m \u001b[49m\u001b[38;5;241;43m*\u001b[39;49m\u001b[38;5;241;43m*\u001b[39;49m\u001b[43mkwargs\u001b[49m\u001b[43m)\u001b[49m\n\u001b[1;32m   1564\u001b[0m \u001b[38;5;28;01mtry\u001b[39;00m:\n\u001b[1;32m   1565\u001b[0m     result \u001b[38;5;241m=\u001b[39m \u001b[38;5;28;01mNone\u001b[39;00m\n",
      "Cell \u001b[0;32mIn[34], line 19\u001b[0m, in \u001b[0;36mSAGELayer.forward\u001b[0;34m(self, g_dgl, nfeats, efeats)\u001b[0m\n\u001b[1;32m     17\u001b[0m g\u001b[38;5;241m.\u001b[39medata[\u001b[38;5;124m'\u001b[39m\u001b[38;5;124mh\u001b[39m\u001b[38;5;124m'\u001b[39m] \u001b[38;5;241m=\u001b[39m efeats\n\u001b[1;32m     18\u001b[0m \u001b[38;5;66;03m# Eq4\u001b[39;00m\n\u001b[0;32m---> 19\u001b[0m \u001b[43mg\u001b[49m\u001b[38;5;241;43m.\u001b[39;49m\u001b[43mupdate_all\u001b[49m\u001b[43m(\u001b[49m\u001b[38;5;28;43mself\u001b[39;49m\u001b[38;5;241;43m.\u001b[39;49m\u001b[43mmessage_func\u001b[49m\u001b[43m,\u001b[49m\u001b[43m \u001b[49m\u001b[43mfn\u001b[49m\u001b[38;5;241;43m.\u001b[39;49m\u001b[43mmean\u001b[49m\u001b[43m(\u001b[49m\u001b[38;5;124;43m'\u001b[39;49m\u001b[38;5;124;43mm\u001b[39;49m\u001b[38;5;124;43m'\u001b[39;49m\u001b[43m,\u001b[49m\u001b[43m \u001b[49m\u001b[38;5;124;43m'\u001b[39;49m\u001b[38;5;124;43mh_neigh\u001b[39;49m\u001b[38;5;124;43m'\u001b[39;49m\u001b[43m)\u001b[49m\u001b[43m)\u001b[49m\n\u001b[1;32m     20\u001b[0m \u001b[38;5;66;03m# Eq5          \u001b[39;00m\n\u001b[1;32m     21\u001b[0m g\u001b[38;5;241m.\u001b[39mndata[\u001b[38;5;124m'\u001b[39m\u001b[38;5;124mh\u001b[39m\u001b[38;5;124m'\u001b[39m] \u001b[38;5;241m=\u001b[39m F\u001b[38;5;241m.\u001b[39mrelu(\u001b[38;5;28mself\u001b[39m\u001b[38;5;241m.\u001b[39mW_apply(th\u001b[38;5;241m.\u001b[39mcat([g\u001b[38;5;241m.\u001b[39mndata[\u001b[38;5;124m'\u001b[39m\u001b[38;5;124mh\u001b[39m\u001b[38;5;124m'\u001b[39m], g\u001b[38;5;241m.\u001b[39mndata[\u001b[38;5;124m'\u001b[39m\u001b[38;5;124mh_neigh\u001b[39m\u001b[38;5;124m'\u001b[39m]], \u001b[38;5;241m2\u001b[39m)))\n",
      "File \u001b[0;32m/media/ssd/test/gnn_cuda_env/lib/python3.8/site-packages/dgl/heterograph.py:5110\u001b[0m, in \u001b[0;36mDGLGraph.update_all\u001b[0;34m(self, message_func, reduce_func, apply_node_func, etype)\u001b[0m\n\u001b[1;32m   5108\u001b[0m _, dtid \u001b[38;5;241m=\u001b[39m \u001b[38;5;28mself\u001b[39m\u001b[38;5;241m.\u001b[39m_graph\u001b[38;5;241m.\u001b[39mmetagraph\u001b[38;5;241m.\u001b[39mfind_edge(etid)\n\u001b[1;32m   5109\u001b[0m g \u001b[38;5;241m=\u001b[39m \u001b[38;5;28mself\u001b[39m \u001b[38;5;28;01mif\u001b[39;00m etype \u001b[38;5;129;01mis\u001b[39;00m \u001b[38;5;28;01mNone\u001b[39;00m \u001b[38;5;28;01melse\u001b[39;00m \u001b[38;5;28mself\u001b[39m[etype]\n\u001b[0;32m-> 5110\u001b[0m ndata \u001b[38;5;241m=\u001b[39m \u001b[43mcore\u001b[49m\u001b[38;5;241;43m.\u001b[39;49m\u001b[43mmessage_passing\u001b[49m\u001b[43m(\u001b[49m\n\u001b[1;32m   5111\u001b[0m \u001b[43m    \u001b[49m\u001b[43mg\u001b[49m\u001b[43m,\u001b[49m\u001b[43m \u001b[49m\u001b[43mmessage_func\u001b[49m\u001b[43m,\u001b[49m\u001b[43m \u001b[49m\u001b[43mreduce_func\u001b[49m\u001b[43m,\u001b[49m\u001b[43m \u001b[49m\u001b[43mapply_node_func\u001b[49m\n\u001b[1;32m   5112\u001b[0m \u001b[43m\u001b[49m\u001b[43m)\u001b[49m\n\u001b[1;32m   5113\u001b[0m \u001b[38;5;28;01mif\u001b[39;00m (\n\u001b[1;32m   5114\u001b[0m     core\u001b[38;5;241m.\u001b[39mis_builtin(reduce_func)\n\u001b[1;32m   5115\u001b[0m     \u001b[38;5;129;01mand\u001b[39;00m reduce_func\u001b[38;5;241m.\u001b[39mname \u001b[38;5;129;01min\u001b[39;00m [\u001b[38;5;124m\"\u001b[39m\u001b[38;5;124mmin\u001b[39m\u001b[38;5;124m\"\u001b[39m, \u001b[38;5;124m\"\u001b[39m\u001b[38;5;124mmax\u001b[39m\u001b[38;5;124m\"\u001b[39m]\n\u001b[1;32m   5116\u001b[0m     \u001b[38;5;129;01mand\u001b[39;00m ndata\n\u001b[1;32m   5117\u001b[0m ):\n\u001b[1;32m   5118\u001b[0m     \u001b[38;5;66;03m# Replace infinity with zero for isolated nodes\u001b[39;00m\n\u001b[1;32m   5119\u001b[0m     key \u001b[38;5;241m=\u001b[39m \u001b[38;5;28mlist\u001b[39m(ndata\u001b[38;5;241m.\u001b[39mkeys())[\u001b[38;5;241m0\u001b[39m]\n",
      "File \u001b[0;32m/media/ssd/test/gnn_cuda_env/lib/python3.8/site-packages/dgl/core.py:412\u001b[0m, in \u001b[0;36mmessage_passing\u001b[0;34m(g, mfunc, rfunc, afunc)\u001b[0m\n\u001b[1;32m    410\u001b[0m \u001b[38;5;28;01mif\u001b[39;00m is_builtin(rfunc):\n\u001b[1;32m    411\u001b[0m     msg \u001b[38;5;241m=\u001b[39m rfunc\u001b[38;5;241m.\u001b[39mmsg_field\n\u001b[0;32m--> 412\u001b[0m     ndata \u001b[38;5;241m=\u001b[39m \u001b[43minvoke_gspmm\u001b[49m\u001b[43m(\u001b[49m\u001b[43mg\u001b[49m\u001b[43m,\u001b[49m\u001b[43m \u001b[49m\u001b[43mfn\u001b[49m\u001b[38;5;241;43m.\u001b[39;49m\u001b[43mcopy_e\u001b[49m\u001b[43m(\u001b[49m\u001b[43mmsg\u001b[49m\u001b[43m,\u001b[49m\u001b[43m \u001b[49m\u001b[43mmsg\u001b[49m\u001b[43m)\u001b[49m\u001b[43m,\u001b[49m\u001b[43m \u001b[49m\u001b[43mrfunc\u001b[49m\u001b[43m,\u001b[49m\u001b[43m \u001b[49m\u001b[43medata\u001b[49m\u001b[38;5;241;43m=\u001b[39;49m\u001b[43mmsgdata\u001b[49m\u001b[43m)\u001b[49m\n\u001b[1;32m    413\u001b[0m \u001b[38;5;28;01melse\u001b[39;00m:\n\u001b[1;32m    414\u001b[0m     orig_nid \u001b[38;5;241m=\u001b[39m g\u001b[38;5;241m.\u001b[39mdstdata\u001b[38;5;241m.\u001b[39mget(NID, \u001b[38;5;28;01mNone\u001b[39;00m)\n",
      "File \u001b[0;32m/media/ssd/test/gnn_cuda_env/lib/python3.8/site-packages/dgl/core.py:368\u001b[0m, in \u001b[0;36minvoke_gspmm\u001b[0;34m(graph, mfunc, rfunc, srcdata, dstdata, edata)\u001b[0m\n\u001b[1;32m    366\u001b[0m         \u001b[38;5;28;01melse\u001b[39;00m:  \u001b[38;5;66;03m# \"copy_e\"\u001b[39;00m\n\u001b[1;32m    367\u001b[0m             x \u001b[38;5;241m=\u001b[39m data_dict_to_list(graph, x, mfunc, \u001b[38;5;124m\"\u001b[39m\u001b[38;5;124me\u001b[39m\u001b[38;5;124m\"\u001b[39m)\n\u001b[0;32m--> 368\u001b[0m     z \u001b[38;5;241m=\u001b[39m \u001b[43mop\u001b[49m\u001b[43m(\u001b[49m\u001b[43mgraph\u001b[49m\u001b[43m,\u001b[49m\u001b[43m \u001b[49m\u001b[43mx\u001b[49m\u001b[43m)\u001b[49m\n\u001b[1;32m    369\u001b[0m \u001b[38;5;28;01mreturn\u001b[39;00m {rfunc\u001b[38;5;241m.\u001b[39mout_field: z}\n",
      "File \u001b[0;32m/media/ssd/test/gnn_cuda_env/lib/python3.8/site-packages/dgl/ops/spmm.py:217\u001b[0m, in \u001b[0;36m_gen_copy_reduce_func.<locals>.func\u001b[0;34m(g, x)\u001b[0m\n\u001b[1;32m    215\u001b[0m     \u001b[38;5;28;01mreturn\u001b[39;00m gspmm(g, \u001b[38;5;124m\"\u001b[39m\u001b[38;5;124mcopy_lhs\u001b[39m\u001b[38;5;124m\"\u001b[39m, reduce_op, x, \u001b[38;5;28;01mNone\u001b[39;00m)\n\u001b[1;32m    216\u001b[0m \u001b[38;5;28;01melse\u001b[39;00m:\n\u001b[0;32m--> 217\u001b[0m     \u001b[38;5;28;01mreturn\u001b[39;00m \u001b[43mgspmm\u001b[49m\u001b[43m(\u001b[49m\u001b[43mg\u001b[49m\u001b[43m,\u001b[49m\u001b[43m \u001b[49m\u001b[38;5;124;43m\"\u001b[39;49m\u001b[38;5;124;43mcopy_rhs\u001b[39;49m\u001b[38;5;124;43m\"\u001b[39;49m\u001b[43m,\u001b[49m\u001b[43m \u001b[49m\u001b[43mreduce_op\u001b[49m\u001b[43m,\u001b[49m\u001b[43m \u001b[49m\u001b[38;5;28;43;01mNone\u001b[39;49;00m\u001b[43m,\u001b[49m\u001b[43m \u001b[49m\u001b[43mx\u001b[49m\u001b[43m)\u001b[49m\n",
      "File \u001b[0;32m/media/ssd/test/gnn_cuda_env/lib/python3.8/site-packages/dgl/ops/spmm.py:113\u001b[0m, in \u001b[0;36mgspmm\u001b[0;34m(g, op, reduce_op, lhs_data, rhs_data)\u001b[0m\n\u001b[1;32m    111\u001b[0m     deg \u001b[38;5;241m=\u001b[39m g\u001b[38;5;241m.\u001b[39min_degrees()\n\u001b[1;32m    112\u001b[0m     deg \u001b[38;5;241m=\u001b[39m F\u001b[38;5;241m.\u001b[39mastype(F\u001b[38;5;241m.\u001b[39mclamp(deg, \u001b[38;5;241m1\u001b[39m, \u001b[38;5;28mmax\u001b[39m(g\u001b[38;5;241m.\u001b[39mnum_edges(), \u001b[38;5;241m1\u001b[39m)), F\u001b[38;5;241m.\u001b[39mdtype(ret))\n\u001b[0;32m--> 113\u001b[0m     deg_shape \u001b[38;5;241m=\u001b[39m (\u001b[43mret_shape\u001b[49m\u001b[43m[\u001b[49m\u001b[38;5;241;43m0\u001b[39;49m\u001b[43m]\u001b[49m,) \u001b[38;5;241m+\u001b[39m (\u001b[38;5;241m1\u001b[39m,) \u001b[38;5;241m*\u001b[39m (\u001b[38;5;28mlen\u001b[39m(ret_shape) \u001b[38;5;241m-\u001b[39m \u001b[38;5;241m1\u001b[39m)\n\u001b[1;32m    114\u001b[0m     \u001b[38;5;28;01mreturn\u001b[39;00m ret \u001b[38;5;241m/\u001b[39m F\u001b[38;5;241m.\u001b[39mreshape(deg, deg_shape)\n\u001b[1;32m    115\u001b[0m \u001b[38;5;28;01melse\u001b[39;00m:\n",
      "\u001b[0;31mKeyboardInterrupt\u001b[0m: "
     ]
    }
   ],
   "source": [
    "node_features = G.ndata['h']\n",
    "edge_features = G.edata['h']\n",
    "\n",
    "edge_label = G.edata['label']\n",
    "train_mask = G.edata['train_mask']\n",
    "\n",
    "model = Model(G.ndata['h'].shape[2], 128, G.ndata['h'].shape[2], F.relu, 0.2).cuda()\n",
    "opt = th.optim.Adam(model.parameters())\n",
    "\n",
    "for epoch in range(1,8000):\n",
    "    pred = model(G, node_features,edge_features).cuda()\n",
    "    loss = criterion(pred[train_mask] ,edge_label[train_mask])\n",
    "    opt.zero_grad()\n",
    "    loss.backward()\n",
    "    opt.step()\n",
    "    if epoch % 100 == 0:\n",
    "      print('Training acc:', compute_accuracy(pred[train_mask], edge_label[train_mask]))\n",
    "\n",
    "\n",
    "torch.save(model.state_dict(), '/media/ssd/test/GNN/Standardized Models/E-GraphSage/best_model.pt')\n"
   ]
  },
  {
   "cell_type": "code",
   "execution_count": 41,
   "metadata": {
    "id": "p7gYo6lVtHCN"
   },
   "outputs": [],
   "source": [
    "X_test = encoder.transform(X_test)"
   ]
  },
  {
   "cell_type": "code",
   "execution_count": 42,
   "metadata": {
    "id": "OUGIEbMFtSnf"
   },
   "outputs": [],
   "source": [
    "X_test[cols_to_norm] = scaler.transform(X_test[cols_to_norm])"
   ]
  },
  {
   "cell_type": "code",
   "execution_count": 43,
   "metadata": {
    "colab": {
     "base_uri": "https://localhost:8080/",
     "height": 439
    },
    "id": "VlyqlEqjtb9s",
    "outputId": "6b637a23-7f60-4810-9348-38c50d09d30c"
   },
   "outputs": [
    {
     "data": {
      "text/html": [
       "<div>\n",
       "<style scoped>\n",
       "    .dataframe tbody tr th:only-of-type {\n",
       "        vertical-align: middle;\n",
       "    }\n",
       "\n",
       "    .dataframe tbody tr th {\n",
       "        vertical-align: top;\n",
       "    }\n",
       "\n",
       "    .dataframe thead th {\n",
       "        text-align: right;\n",
       "    }\n",
       "</style>\n",
       "<table border=\"1\" class=\"dataframe\">\n",
       "  <thead>\n",
       "    <tr style=\"text-align: right;\">\n",
       "      <th></th>\n",
       "      <th>IPV4_SRC_ADDR</th>\n",
       "      <th>IPV4_DST_ADDR</th>\n",
       "      <th>PROTOCOL</th>\n",
       "      <th>L7_PROTO</th>\n",
       "      <th>IN_BYTES</th>\n",
       "      <th>OUT_BYTES</th>\n",
       "      <th>IN_PKTS</th>\n",
       "      <th>OUT_PKTS</th>\n",
       "      <th>TCP_FLAGS</th>\n",
       "      <th>FLOW_DURATION_MILLISECONDS</th>\n",
       "      <th>label</th>\n",
       "    </tr>\n",
       "  </thead>\n",
       "  <tbody>\n",
       "    <tr>\n",
       "      <th>1206654</th>\n",
       "      <td>172.29.218.179:52119</td>\n",
       "      <td>209.85.203.156:443</td>\n",
       "      <td>0.638945</td>\n",
       "      <td>-1.115472</td>\n",
       "      <td>-0.018389</td>\n",
       "      <td>-0.007713</td>\n",
       "      <td>-0.025332</td>\n",
       "      <td>0.019293</td>\n",
       "      <td>0.842164</td>\n",
       "      <td>-0.640512</td>\n",
       "      <td>2</td>\n",
       "    </tr>\n",
       "    <tr>\n",
       "      <th>2287215</th>\n",
       "      <td>172.24.97.207:39304</td>\n",
       "      <td>172.31.66.70:8081</td>\n",
       "      <td>-1.525936</td>\n",
       "      <td>-0.319908</td>\n",
       "      <td>-0.024185</td>\n",
       "      <td>-0.018148</td>\n",
       "      <td>-0.032421</td>\n",
       "      <td>-0.049512</td>\n",
       "      <td>-0.541244</td>\n",
       "      <td>-0.640512</td>\n",
       "      <td>2</td>\n",
       "    </tr>\n",
       "    <tr>\n",
       "      <th>1265399</th>\n",
       "      <td>172.23.148.207:50133</td>\n",
       "      <td>192.168.100.7:38292</td>\n",
       "      <td>0.638945</td>\n",
       "      <td>-0.319908</td>\n",
       "      <td>-0.025993</td>\n",
       "      <td>-0.018058</td>\n",
       "      <td>-0.032421</td>\n",
       "      <td>-0.045465</td>\n",
       "      <td>3.271065</td>\n",
       "      <td>1.565255</td>\n",
       "      <td>20</td>\n",
       "    </tr>\n",
       "    <tr>\n",
       "      <th>2110420</th>\n",
       "      <td>172.19.224.116:51150</td>\n",
       "      <td>216.58.198.66:80</td>\n",
       "      <td>0.638945</td>\n",
       "      <td>-1.107265</td>\n",
       "      <td>-0.021445</td>\n",
       "      <td>0.019608</td>\n",
       "      <td>-0.024959</td>\n",
       "      <td>0.051672</td>\n",
       "      <td>0.842164</td>\n",
       "      <td>-0.640512</td>\n",
       "      <td>2</td>\n",
       "    </tr>\n",
       "    <tr>\n",
       "      <th>2218560</th>\n",
       "      <td>172.18.164.216:51092</td>\n",
       "      <td>149.171.126.7:21</td>\n",
       "      <td>0.638945</td>\n",
       "      <td>0.350787</td>\n",
       "      <td>-0.026136</td>\n",
       "      <td>-0.017714</td>\n",
       "      <td>-0.032421</td>\n",
       "      <td>-0.037370</td>\n",
       "      <td>-0.666685</td>\n",
       "      <td>-0.640512</td>\n",
       "      <td>2</td>\n",
       "    </tr>\n",
       "    <tr>\n",
       "      <th>...</th>\n",
       "      <td>...</td>\n",
       "      <td>...</td>\n",
       "      <td>...</td>\n",
       "      <td>...</td>\n",
       "      <td>...</td>\n",
       "      <td>...</td>\n",
       "      <td>...</td>\n",
       "      <td>...</td>\n",
       "      <td>...</td>\n",
       "      <td>...</td>\n",
       "      <td>...</td>\n",
       "    </tr>\n",
       "    <tr>\n",
       "      <th>1249056</th>\n",
       "      <td>172.20.176.138:54889</td>\n",
       "      <td>172.31.64.117:3389</td>\n",
       "      <td>0.638945</td>\n",
       "      <td>-0.319908</td>\n",
       "      <td>-0.019874</td>\n",
       "      <td>-0.013848</td>\n",
       "      <td>-0.029063</td>\n",
       "      <td>-0.017133</td>\n",
       "      <td>-0.650354</td>\n",
       "      <td>-0.640512</td>\n",
       "      <td>2</td>\n",
       "    </tr>\n",
       "    <tr>\n",
       "      <th>740595</th>\n",
       "      <td>172.27.148.170:49796</td>\n",
       "      <td>172.31.0.2:53</td>\n",
       "      <td>-1.525936</td>\n",
       "      <td>-0.319908</td>\n",
       "      <td>-0.025891</td>\n",
       "      <td>-0.017957</td>\n",
       "      <td>-0.032421</td>\n",
       "      <td>-0.045465</td>\n",
       "      <td>-0.541244</td>\n",
       "      <td>-0.640512</td>\n",
       "      <td>2</td>\n",
       "    </tr>\n",
       "    <tr>\n",
       "      <th>393464</th>\n",
       "      <td>172.23.207.26:57686</td>\n",
       "      <td>172.31.69.25:80</td>\n",
       "      <td>0.638945</td>\n",
       "      <td>0.751012</td>\n",
       "      <td>-0.008462</td>\n",
       "      <td>-0.007197</td>\n",
       "      <td>-0.023094</td>\n",
       "      <td>0.035482</td>\n",
       "      <td>0.842164</td>\n",
       "      <td>1.565143</td>\n",
       "      <td>12</td>\n",
       "    </tr>\n",
       "    <tr>\n",
       "      <th>2310753</th>\n",
       "      <td>172.26.42.238:50764</td>\n",
       "      <td>23.15.7.96:80</td>\n",
       "      <td>0.638945</td>\n",
       "      <td>0.751012</td>\n",
       "      <td>-0.025470</td>\n",
       "      <td>-0.017941</td>\n",
       "      <td>-0.031302</td>\n",
       "      <td>-0.041418</td>\n",
       "      <td>-0.901498</td>\n",
       "      <td>-0.640512</td>\n",
       "      <td>2</td>\n",
       "    </tr>\n",
       "    <tr>\n",
       "      <th>1722011</th>\n",
       "      <td>172.20.232.221:64104</td>\n",
       "      <td>172.31.0.2:53</td>\n",
       "      <td>-1.525936</td>\n",
       "      <td>-0.875540</td>\n",
       "      <td>-0.025903</td>\n",
       "      <td>-0.017936</td>\n",
       "      <td>-0.032421</td>\n",
       "      <td>-0.045465</td>\n",
       "      <td>-0.541244</td>\n",
       "      <td>-0.640512</td>\n",
       "      <td>2</td>\n",
       "    </tr>\n",
       "  </tbody>\n",
       "</table>\n",
       "<p>727644 rows × 11 columns</p>\n",
       "</div>"
      ],
      "text/plain": [
       "                IPV4_SRC_ADDR        IPV4_DST_ADDR  PROTOCOL  L7_PROTO  \\\n",
       "1206654  172.29.218.179:52119   209.85.203.156:443  0.638945 -1.115472   \n",
       "2287215   172.24.97.207:39304    172.31.66.70:8081 -1.525936 -0.319908   \n",
       "1265399  172.23.148.207:50133  192.168.100.7:38292  0.638945 -0.319908   \n",
       "2110420  172.19.224.116:51150     216.58.198.66:80  0.638945 -1.107265   \n",
       "2218560  172.18.164.216:51092     149.171.126.7:21  0.638945  0.350787   \n",
       "...                       ...                  ...       ...       ...   \n",
       "1249056  172.20.176.138:54889   172.31.64.117:3389  0.638945 -0.319908   \n",
       "740595   172.27.148.170:49796        172.31.0.2:53 -1.525936 -0.319908   \n",
       "393464    172.23.207.26:57686      172.31.69.25:80  0.638945  0.751012   \n",
       "2310753   172.26.42.238:50764        23.15.7.96:80  0.638945  0.751012   \n",
       "1722011  172.20.232.221:64104        172.31.0.2:53 -1.525936 -0.875540   \n",
       "\n",
       "         IN_BYTES  OUT_BYTES   IN_PKTS  OUT_PKTS  TCP_FLAGS  \\\n",
       "1206654 -0.018389  -0.007713 -0.025332  0.019293   0.842164   \n",
       "2287215 -0.024185  -0.018148 -0.032421 -0.049512  -0.541244   \n",
       "1265399 -0.025993  -0.018058 -0.032421 -0.045465   3.271065   \n",
       "2110420 -0.021445   0.019608 -0.024959  0.051672   0.842164   \n",
       "2218560 -0.026136  -0.017714 -0.032421 -0.037370  -0.666685   \n",
       "...           ...        ...       ...       ...        ...   \n",
       "1249056 -0.019874  -0.013848 -0.029063 -0.017133  -0.650354   \n",
       "740595  -0.025891  -0.017957 -0.032421 -0.045465  -0.541244   \n",
       "393464  -0.008462  -0.007197 -0.023094  0.035482   0.842164   \n",
       "2310753 -0.025470  -0.017941 -0.031302 -0.041418  -0.901498   \n",
       "1722011 -0.025903  -0.017936 -0.032421 -0.045465  -0.541244   \n",
       "\n",
       "         FLOW_DURATION_MILLISECONDS  label  \n",
       "1206654                   -0.640512      2  \n",
       "2287215                   -0.640512      2  \n",
       "1265399                    1.565255     20  \n",
       "2110420                   -0.640512      2  \n",
       "2218560                   -0.640512      2  \n",
       "...                             ...    ...  \n",
       "1249056                   -0.640512      2  \n",
       "740595                    -0.640512      2  \n",
       "393464                     1.565143     12  \n",
       "2310753                   -0.640512      2  \n",
       "1722011                   -0.640512      2  \n",
       "\n",
       "[727644 rows x 11 columns]"
      ]
     },
     "execution_count": 43,
     "metadata": {},
     "output_type": "execute_result"
    }
   ],
   "source": [
    "X_test"
   ]
  },
  {
   "cell_type": "code",
   "execution_count": 44,
   "metadata": {
    "id": "q5CMxVe5xIDb"
   },
   "outputs": [],
   "source": [
    "X_test['h'] = X_test[ cols_to_norm ].values.tolist()"
   ]
  },
  {
   "cell_type": "code",
   "execution_count": 45,
   "metadata": {
    "id": "VsAmtLAbxN_6"
   },
   "outputs": [],
   "source": [
    "G_test = nx.from_pandas_edgelist(X_test, \"IPV4_SRC_ADDR\", \"IPV4_DST_ADDR\", ['h','label'],create_using=nx.MultiGraph())\n",
    "G_test = G_test.to_directed()\n",
    "G_test = from_networkx(G_test,edge_attrs=['h','label'] )\n",
    "actual = G_test.edata.pop('label')\n",
    "G_test.ndata['feature'] = th.ones(G_test.num_nodes(), G.ndata['h'].shape[2])"
   ]
  },
  {
   "cell_type": "code",
   "execution_count": 46,
   "metadata": {
    "id": "Eeux6JIxxQtC"
   },
   "outputs": [],
   "source": [
    "G_test.ndata['feature'] = th.reshape(G_test.ndata['feature'], (G_test.ndata['feature'].shape[0], 1, G_test.ndata['feature'].shape[1]))"
   ]
  },
  {
   "cell_type": "code",
   "execution_count": 47,
   "metadata": {
    "id": "PBETQI3YxYay"
   },
   "outputs": [],
   "source": [
    "G_test.edata['h'] = th.reshape(G_test.edata['h'], (G_test.edata['h'].shape[0], 1, G_test.edata['h'].shape[1]))\n"
   ]
  },
  {
   "cell_type": "code",
   "execution_count": 48,
   "metadata": {
    "id": "qlTOyVN6xZZB"
   },
   "outputs": [],
   "source": [
    "G_test = G_test.to('cuda:0')\n"
   ]
  },
  {
   "cell_type": "code",
   "execution_count": 49,
   "metadata": {
    "id": "QyugNIt9xac6"
   },
   "outputs": [],
   "source": [
    "import timeit\n",
    "start_time = timeit.default_timer()\n",
    "node_features_test = G_test.ndata['feature']\n",
    "edge_features_test = G_test.edata['h']\n",
    "test_pred = model(G_test, node_features_test, edge_features_test).cuda()\n",
    "elapsed = timeit.default_timer() - start_time"
   ]
  },
  {
   "cell_type": "code",
   "execution_count": 50,
   "metadata": {
    "colab": {
     "base_uri": "https://localhost:8080/"
    },
    "id": "KecCvilSxcFK",
    "outputId": "8e974877-889d-43a1-e5c7-06e1e731e1d0"
   },
   "outputs": [
    {
     "name": "stdout",
     "output_type": "stream",
     "text": [
      "0.12831923365592957 seconds\n"
     ]
    }
   ],
   "source": [
    "print(str(elapsed) + ' seconds')\n"
   ]
  },
  {
   "cell_type": "code",
   "execution_count": 51,
   "metadata": {
    "id": "BNQLnLoAxdST"
   },
   "outputs": [],
   "source": [
    "test_pred = test_pred.argmax(1)\n"
   ]
  },
  {
   "cell_type": "code",
   "execution_count": 52,
   "metadata": {
    "id": "9dtggXXsxevx"
   },
   "outputs": [],
   "source": [
    "test_pred = th.Tensor.cpu(test_pred).detach().numpy()\n"
   ]
  },
  {
   "cell_type": "code",
   "execution_count": 53,
   "metadata": {
    "id": "5TGb_KWRxfzS"
   },
   "outputs": [],
   "source": [
    "actual = le.inverse_transform(actual)\n",
    "test_pred = le.inverse_transform(test_pred)"
   ]
  },
  {
   "cell_type": "code",
   "execution_count": 54,
   "metadata": {
    "id": "uMRairwzxiBC"
   },
   "outputs": [],
   "source": [
    "import numpy as np\n",
    "\n",
    "\n",
    "def plot_confusion_matrix(cm,\n",
    "                          target_names,\n",
    "                          title='Confusion matrix',\n",
    "                          cmap=None,\n",
    "                          normalize=True):\n",
    "    \n",
    "    import matplotlib.pyplot as plt\n",
    "    import numpy as np\n",
    "    import itertools\n",
    "\n",
    "    accuracy = np.trace(cm) / float(np.sum(cm))\n",
    "    misclass = 1 - accuracy\n",
    "\n",
    "    if cmap is None:\n",
    "        cmap = plt.get_cmap('Blues')\n",
    "\n",
    "    plt.figure(figsize=(12, 12))\n",
    "    plt.imshow(cm, interpolation='nearest', cmap=cmap)\n",
    "    plt.title(title)\n",
    "    plt.colorbar()\n",
    "\n",
    "    if target_names is not None:\n",
    "        tick_marks = np.arange(len(target_names))\n",
    "        plt.xticks(tick_marks, target_names, rotation=45)\n",
    "        plt.yticks(tick_marks, target_names)\n",
    "\n",
    "    if normalize:\n",
    "        cm = cm.astype('float') / cm.sum(axis=1)[:, np.newaxis]\n",
    "\n",
    "\n",
    "    thresh = cm.max() / 1.5 if normalize else cm.max() / 2\n",
    "    for i, j in itertools.product(range(cm.shape[0]), range(cm.shape[1])):\n",
    "        if normalize:\n",
    "            plt.text(j, i, \"{:0.4f}\".format(cm[i, j]),\n",
    "                     horizontalalignment=\"center\",\n",
    "                     color=\"white\" if cm[i, j] > thresh else \"black\")\n",
    "        else:\n",
    "            plt.text(j, i, \"{:,}\".format(cm[i, j]),\n",
    "                     horizontalalignment=\"center\",\n",
    "                     color=\"white\" if cm[i, j] > thresh else \"black\")\n",
    "\n",
    "\n",
    "    plt.tight_layout()\n",
    "    plt.ylabel('True label')\n",
    "    plt.xlabel('Predicted label\\naccuracy={:0.4f}; misclass={:0.4f}'.format(accuracy, misclass))\n",
    "    plt.show()"
   ]
  },
  {
   "cell_type": "code",
   "execution_count": 55,
   "metadata": {
    "colab": {
     "base_uri": "https://localhost:8080/",
     "height": 718
    },
    "id": "KNCkVWyqxjaR",
    "outputId": "3af8ef73-a011-49a7-9335-52ba77ea7dd4"
   },
   "outputs": [
    {
     "data": {
      "image/png": "[encoded data removed]",
      "text/plain": [
       "<Figure size 1200x1200 with 2 Axes>"
      ]
     },
     "metadata": {},
     "output_type": "display_data"
    }
   ],
   "source": [
    "from sklearn.metrics import confusion_matrix\n",
    "\n",
    "plot_confusion_matrix(cm = confusion_matrix(actual, test_pred), \n",
    "                      normalize    = False,\n",
    "                      target_names = np.unique(actual),\n",
    "                      title        = \"Confusion Matrix\")"
   ]
  },
  {
   "cell_type": "code",
   "execution_count": null,
   "metadata": {
    "id": "rC9-S7j9A48K"
   },
   "outputs": [],
   "source": []
  }
 ],
 "metadata": {
  "accelerator": "GPU",
  "colab": {
   "collapsed_sections": [],
   "machine_shape": "hm",
   "name": "Unsw_bot_iot_multiclass_mean_agg.ipynb",
   "provenance": []
  },
  "kernelspec": {
   "display_name": "gnn_cuda_env",
   "language": "python",
   "name": "python3"
  },
  "language_info": {
   "codemirror_mode": {
    "name": "ipython",
    "version": 3
   },
   "file_extension": ".py",
   "mimetype": "text/x-python",
   "name": "python",
   "nbconvert_exporter": "python",
   "pygments_lexer": "ipython3",
   "version": "3.8.10"
  }
 },
 "nbformat": 4,
 "nbformat_minor": 1
}
