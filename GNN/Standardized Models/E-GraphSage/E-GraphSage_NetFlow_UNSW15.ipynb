{
 "cells": [
  {
   "cell_type": "code",
   "execution_count": 1,
   "metadata": {
    "colab": {
     "base_uri": "https://localhost:8080/"
    },
    "id": "mS0bWISTqhMI",
    "outputId": "a6cbe1aa-ab9a-4d02-cc1c-d3e9514e8748"
   },
   "outputs": [],
   "source": [
    "import dgl.nn as dglnn\n",
    "from dgl import from_networkx\n",
    "import torch.nn as nn\n",
    "import torch as th\n",
    "import torch.nn.functional as F\n",
    "import dgl.function as fn\n",
    "import networkx as nx\n",
    "import pandas as pd\n",
    "import socket\n",
    "import struct\n",
    "import random\n",
    "from sklearn.preprocessing import LabelEncoder\n",
    "from sklearn.preprocessing import StandardScaler\n",
    "from sklearn.model_selection import train_test_split\n",
    "import category_encoders as ce\n",
    "from sklearn.decomposition import PCA\n",
    "import seaborn as sns\n",
    "import matplotlib.pyplot as plt\n",
    "import numpy as np"
   ]
  },
  {
   "cell_type": "code",
   "execution_count": 2,
   "metadata": {
    "id": "ki0watiErdJp"
   },
   "outputs": [],
   "source": [
    "data = pd.read_csv('/media/ssd/test/standardized-datasets/netflow/nf_unsw_nb15_standardized.csv')"
   ]
  },
  {
   "cell_type": "code",
   "execution_count": 3,
   "metadata": {},
   "outputs": [],
   "source": [
    "# Example if you wanted to keep only certain columns\n",
    "columns_to_keep = ['IPV4_SRC_ADDR', 'L4_SRC_PORT', 'IPV4_DST_ADDR', 'L4_DST_PORT', 'PROTOCOL', 'L7_PROTO',\n",
    "                   'IN_BYTES', 'OUT_BYTES', 'IN_PKTS', 'OUT_PKTS', 'TCP_FLAGS', 'FLOW_DURATION_MILLISECONDS', 'Label', 'Attack']\n",
    "data = data[columns_to_keep]"
   ]
  },
  {
   "cell_type": "code",
   "execution_count": null,
   "metadata": {
    "colab": {
     "base_uri": "https://localhost:8080/",
     "height": 439
    },
    "id": "0JmyVopVrqWQ",
    "outputId": "7dd4b901-c0c4-4bb4-b5fa-d504fe9821f2"
   },
   "outputs": [
    {
     "data": {
      "text/html": [
       "<div>\n",
       "<style scoped>\n",
       "    .dataframe tbody tr th:only-of-type {\n",
       "        vertical-align: middle;\n",
       "    }\n",
       "\n",
       "    .dataframe tbody tr th {\n",
       "        vertical-align: top;\n",
       "    }\n",
       "\n",
       "    .dataframe thead th {\n",
       "        text-align: right;\n",
       "    }\n",
       "</style>\n",
       "<table border=\"1\" class=\"dataframe\">\n",
       "  <thead>\n",
       "    <tr style=\"text-align: right;\">\n",
       "      <th></th>\n",
       "      <th>IPV4_SRC_ADDR</th>\n",
       "      <th>L4_SRC_PORT</th>\n",
       "      <th>IPV4_DST_ADDR</th>\n",
       "      <th>L4_DST_PORT</th>\n",
       "      <th>PROTOCOL</th>\n",
       "      <th>L7_PROTO</th>\n",
       "      <th>IN_BYTES</th>\n",
       "      <th>OUT_BYTES</th>\n",
       "      <th>IN_PKTS</th>\n",
       "      <th>OUT_PKTS</th>\n",
       "      <th>TCP_FLAGS</th>\n",
       "      <th>FLOW_DURATION_MILLISECONDS</th>\n",
       "      <th>Label</th>\n",
       "      <th>Attack</th>\n",
       "    </tr>\n",
       "  </thead>\n",
       "  <tbody>\n",
       "    <tr>\n",
       "      <th>0</th>\n",
       "      <td>59.166.0.5</td>\n",
       "      <td>1305</td>\n",
       "      <td>149.171.126.8</td>\n",
       "      <td>21</td>\n",
       "      <td>6</td>\n",
       "      <td>1.0</td>\n",
       "      <td>9.0</td>\n",
       "      <td>193.0</td>\n",
       "      <td>1</td>\n",
       "      <td>3</td>\n",
       "      <td>24</td>\n",
       "      <td>0.0</td>\n",
       "      <td>0</td>\n",
       "      <td>Benign</td>\n",
       "    </tr>\n",
       "    <tr>\n",
       "      <th>1</th>\n",
       "      <td>59.166.0.5</td>\n",
       "      <td>1305</td>\n",
       "      <td>149.171.126.8</td>\n",
       "      <td>21</td>\n",
       "      <td>6</td>\n",
       "      <td>1.0</td>\n",
       "      <td>261.0</td>\n",
       "      <td>469.0</td>\n",
       "      <td>5</td>\n",
       "      <td>7</td>\n",
       "      <td>24</td>\n",
       "      <td>0.0</td>\n",
       "      <td>0</td>\n",
       "      <td>Benign</td>\n",
       "    </tr>\n",
       "    <tr>\n",
       "      <th>2</th>\n",
       "      <td>59.166.0.5</td>\n",
       "      <td>1305</td>\n",
       "      <td>149.171.126.8</td>\n",
       "      <td>21</td>\n",
       "      <td>6</td>\n",
       "      <td>1.0</td>\n",
       "      <td>481.0</td>\n",
       "      <td>750.0</td>\n",
       "      <td>9</td>\n",
       "      <td>11</td>\n",
       "      <td>24</td>\n",
       "      <td>0.0</td>\n",
       "      <td>0</td>\n",
       "      <td>Benign</td>\n",
       "    </tr>\n",
       "    <tr>\n",
       "      <th>3</th>\n",
       "      <td>59.166.0.5</td>\n",
       "      <td>1305</td>\n",
       "      <td>149.171.126.8</td>\n",
       "      <td>21</td>\n",
       "      <td>6</td>\n",
       "      <td>1.0</td>\n",
       "      <td>701.0</td>\n",
       "      <td>1054.0</td>\n",
       "      <td>13</td>\n",
       "      <td>15</td>\n",
       "      <td>24</td>\n",
       "      <td>0.0</td>\n",
       "      <td>0</td>\n",
       "      <td>Benign</td>\n",
       "    </tr>\n",
       "    <tr>\n",
       "      <th>4</th>\n",
       "      <td>59.166.0.5</td>\n",
       "      <td>1305</td>\n",
       "      <td>149.171.126.8</td>\n",
       "      <td>21</td>\n",
       "      <td>6</td>\n",
       "      <td>1.0</td>\n",
       "      <td>1031.0</td>\n",
       "      <td>1474.0</td>\n",
       "      <td>19</td>\n",
       "      <td>21</td>\n",
       "      <td>24</td>\n",
       "      <td>0.0</td>\n",
       "      <td>0</td>\n",
       "      <td>Benign</td>\n",
       "    </tr>\n",
       "    <tr>\n",
       "      <th>...</th>\n",
       "      <td>...</td>\n",
       "      <td>...</td>\n",
       "      <td>...</td>\n",
       "      <td>...</td>\n",
       "      <td>...</td>\n",
       "      <td>...</td>\n",
       "      <td>...</td>\n",
       "      <td>...</td>\n",
       "      <td>...</td>\n",
       "      <td>...</td>\n",
       "      <td>...</td>\n",
       "      <td>...</td>\n",
       "      <td>...</td>\n",
       "      <td>...</td>\n",
       "    </tr>\n",
       "    <tr>\n",
       "      <th>2390270</th>\n",
       "      <td>59.166.0.4</td>\n",
       "      <td>58663</td>\n",
       "      <td>149.171.126.1</td>\n",
       "      <td>5190</td>\n",
       "      <td>6</td>\n",
       "      <td>0.0</td>\n",
       "      <td>1064.0</td>\n",
       "      <td>2364.0</td>\n",
       "      <td>12</td>\n",
       "      <td>14</td>\n",
       "      <td>27</td>\n",
       "      <td>0.0</td>\n",
       "      <td>0</td>\n",
       "      <td>Benign</td>\n",
       "    </tr>\n",
       "    <tr>\n",
       "      <th>2390271</th>\n",
       "      <td>59.166.0.6</td>\n",
       "      <td>60977</td>\n",
       "      <td>149.171.126.4</td>\n",
       "      <td>53</td>\n",
       "      <td>17</td>\n",
       "      <td>0.0</td>\n",
       "      <td>146.0</td>\n",
       "      <td>178.0</td>\n",
       "      <td>2</td>\n",
       "      <td>2</td>\n",
       "      <td>0</td>\n",
       "      <td>0.0</td>\n",
       "      <td>0</td>\n",
       "      <td>Benign</td>\n",
       "    </tr>\n",
       "    <tr>\n",
       "      <th>2390272</th>\n",
       "      <td>59.166.0.6</td>\n",
       "      <td>54553</td>\n",
       "      <td>149.171.126.9</td>\n",
       "      <td>80</td>\n",
       "      <td>6</td>\n",
       "      <td>7.0</td>\n",
       "      <td>994.0</td>\n",
       "      <td>8896.0</td>\n",
       "      <td>10</td>\n",
       "      <td>10</td>\n",
       "      <td>26</td>\n",
       "      <td>0.0</td>\n",
       "      <td>0</td>\n",
       "      <td>Benign</td>\n",
       "    </tr>\n",
       "    <tr>\n",
       "      <th>2390273</th>\n",
       "      <td>59.166.0.6</td>\n",
       "      <td>55026</td>\n",
       "      <td>149.171.126.5</td>\n",
       "      <td>8248</td>\n",
       "      <td>6</td>\n",
       "      <td>0.0</td>\n",
       "      <td>4014.0</td>\n",
       "      <td>60268.0</td>\n",
       "      <td>68</td>\n",
       "      <td>70</td>\n",
       "      <td>27</td>\n",
       "      <td>0.0</td>\n",
       "      <td>0</td>\n",
       "      <td>Benign</td>\n",
       "    </tr>\n",
       "    <tr>\n",
       "      <th>2390274</th>\n",
       "      <td>59.166.0.6</td>\n",
       "      <td>28987</td>\n",
       "      <td>149.171.126.6</td>\n",
       "      <td>26948</td>\n",
       "      <td>6</td>\n",
       "      <td>0.0</td>\n",
       "      <td>2246.0</td>\n",
       "      <td>13496.0</td>\n",
       "      <td>34</td>\n",
       "      <td>32</td>\n",
       "      <td>26</td>\n",
       "      <td>0.0</td>\n",
       "      <td>0</td>\n",
       "      <td>Benign</td>\n",
       "    </tr>\n",
       "  </tbody>\n",
       "</table>\n",
       "<p>2390275 rows × 14 columns</p>\n",
       "</div>"
      ],
      "text/plain": [
       "        IPV4_SRC_ADDR  L4_SRC_PORT  IPV4_DST_ADDR  L4_DST_PORT  PROTOCOL  \\\n",
       "0          59.166.0.5         1305  149.171.126.8           21         6   \n",
       "1          59.166.0.5         1305  149.171.126.8           21         6   \n",
       "2          59.166.0.5         1305  149.171.126.8           21         6   \n",
       "3          59.166.0.5         1305  149.171.126.8           21         6   \n",
       "4          59.166.0.5         1305  149.171.126.8           21         6   \n",
       "...               ...          ...            ...          ...       ...   \n",
       "2390270    59.166.0.4        58663  149.171.126.1         5190         6   \n",
       "2390271    59.166.0.6        60977  149.171.126.4           53        17   \n",
       "2390272    59.166.0.6        54553  149.171.126.9           80         6   \n",
       "2390273    59.166.0.6        55026  149.171.126.5         8248         6   \n",
       "2390274    59.166.0.6        28987  149.171.126.6        26948         6   \n",
       "\n",
       "         L7_PROTO  IN_BYTES  OUT_BYTES  IN_PKTS  OUT_PKTS  TCP_FLAGS  \\\n",
       "0             1.0       9.0      193.0        1         3         24   \n",
       "1             1.0     261.0      469.0        5         7         24   \n",
       "2             1.0     481.0      750.0        9        11         24   \n",
       "3             1.0     701.0     1054.0       13        15         24   \n",
       "4             1.0    1031.0     1474.0       19        21         24   \n",
       "...           ...       ...        ...      ...       ...        ...   \n",
       "2390270       0.0    1064.0     2364.0       12        14         27   \n",
       "2390271       0.0     146.0      178.0        2         2          0   \n",
       "2390272       7.0     994.0     8896.0       10        10         26   \n",
       "2390273       0.0    4014.0    60268.0       68        70         27   \n",
       "2390274       0.0    2246.0    13496.0       34        32         26   \n",
       "\n",
       "         FLOW_DURATION_MILLISECONDS  Label  Attack  \n",
       "0                               0.0      0  Benign  \n",
       "1                               0.0      0  Benign  \n",
       "2                               0.0      0  Benign  \n",
       "3                               0.0      0  Benign  \n",
       "4                               0.0      0  Benign  \n",
       "...                             ...    ...     ...  \n",
       "2390270                         0.0      0  Benign  \n",
       "2390271                         0.0      0  Benign  \n",
       "2390272                         0.0      0  Benign  \n",
       "2390273                         0.0      0  Benign  \n",
       "2390274                         0.0      0  Benign  \n",
       "\n",
       "[2390275 rows x 14 columns]"
      ]
     },
     "execution_count": 4,
     "metadata": {},
     "output_type": "execute_result"
    }
   ],
   "source": [
    "data"
   ]
  },
  {
   "cell_type": "code",
   "execution_count": 5,
   "metadata": {
    "id": "PoVYaeFZtJBd"
   },
   "outputs": [],
   "source": [
    "data['IPV4_SRC_ADDR'] = data.IPV4_SRC_ADDR.apply(lambda x: socket.inet_ntoa(struct.pack('>I', random.randint(0xac100001, 0xac1f0001))))"
   ]
  },
  {
   "cell_type": "code",
   "execution_count": 6,
   "metadata": {
    "id": "zs4z58WCtu8k"
   },
   "outputs": [],
   "source": [
    "data['IPV4_SRC_ADDR'] = data.IPV4_SRC_ADDR.apply(str)\n",
    "data['L4_SRC_PORT'] = data.L4_SRC_PORT.apply(str)\n",
    "data['IPV4_DST_ADDR'] = data.IPV4_DST_ADDR.apply(str)\n",
    "data['L4_DST_PORT'] = data.L4_DST_PORT.apply(str)"
   ]
  },
  {
   "cell_type": "code",
   "execution_count": 7,
   "metadata": {
    "id": "9EEwTAK3tle9"
   },
   "outputs": [],
   "source": [
    "data['IPV4_SRC_ADDR'] = data['IPV4_SRC_ADDR'] + ':' + data['L4_SRC_PORT']\n",
    "data['IPV4_DST_ADDR'] = data['IPV4_DST_ADDR'] + ':' + data['L4_DST_PORT']"
   ]
  },
  {
   "cell_type": "code",
   "execution_count": 8,
   "metadata": {
    "id": "xbdaHUxOtzd-"
   },
   "outputs": [],
   "source": [
    "data.drop(columns=['L4_SRC_PORT','L4_DST_PORT'],inplace=True)"
   ]
  },
  {
   "cell_type": "code",
   "execution_count": 9,
   "metadata": {
    "colab": {
     "base_uri": "https://localhost:8080/",
     "height": 419
    },
    "id": "CN9rLLmr0eeI",
    "outputId": "ccd523c2-0cba-46a4-aef1-434f6a2b741b"
   },
   "outputs": [
    {
     "data": {
      "text/html": [
       "<div>\n",
       "<style scoped>\n",
       "    .dataframe tbody tr th:only-of-type {\n",
       "        vertical-align: middle;\n",
       "    }\n",
       "\n",
       "    .dataframe tbody tr th {\n",
       "        vertical-align: top;\n",
       "    }\n",
       "\n",
       "    .dataframe thead th {\n",
       "        text-align: right;\n",
       "    }\n",
       "</style>\n",
       "<table border=\"1\" class=\"dataframe\">\n",
       "  <thead>\n",
       "    <tr style=\"text-align: right;\">\n",
       "      <th></th>\n",
       "      <th>IPV4_SRC_ADDR</th>\n",
       "      <th>IPV4_DST_ADDR</th>\n",
       "      <th>PROTOCOL</th>\n",
       "      <th>L7_PROTO</th>\n",
       "      <th>IN_BYTES</th>\n",
       "      <th>OUT_BYTES</th>\n",
       "      <th>IN_PKTS</th>\n",
       "      <th>OUT_PKTS</th>\n",
       "      <th>TCP_FLAGS</th>\n",
       "      <th>FLOW_DURATION_MILLISECONDS</th>\n",
       "      <th>Label</th>\n",
       "      <th>Attack</th>\n",
       "    </tr>\n",
       "  </thead>\n",
       "  <tbody>\n",
       "    <tr>\n",
       "      <th>0</th>\n",
       "      <td>172.24.97.245:1305</td>\n",
       "      <td>149.171.126.8:21</td>\n",
       "      <td>6</td>\n",
       "      <td>1.0</td>\n",
       "      <td>9.0</td>\n",
       "      <td>193.0</td>\n",
       "      <td>1</td>\n",
       "      <td>3</td>\n",
       "      <td>24</td>\n",
       "      <td>0.0</td>\n",
       "      <td>0</td>\n",
       "      <td>Benign</td>\n",
       "    </tr>\n",
       "    <tr>\n",
       "      <th>1</th>\n",
       "      <td>172.18.233.78:1305</td>\n",
       "      <td>149.171.126.8:21</td>\n",
       "      <td>6</td>\n",
       "      <td>1.0</td>\n",
       "      <td>261.0</td>\n",
       "      <td>469.0</td>\n",
       "      <td>5</td>\n",
       "      <td>7</td>\n",
       "      <td>24</td>\n",
       "      <td>0.0</td>\n",
       "      <td>0</td>\n",
       "      <td>Benign</td>\n",
       "    </tr>\n",
       "    <tr>\n",
       "      <th>2</th>\n",
       "      <td>172.17.235.26:1305</td>\n",
       "      <td>149.171.126.8:21</td>\n",
       "      <td>6</td>\n",
       "      <td>1.0</td>\n",
       "      <td>481.0</td>\n",
       "      <td>750.0</td>\n",
       "      <td>9</td>\n",
       "      <td>11</td>\n",
       "      <td>24</td>\n",
       "      <td>0.0</td>\n",
       "      <td>0</td>\n",
       "      <td>Benign</td>\n",
       "    </tr>\n",
       "    <tr>\n",
       "      <th>3</th>\n",
       "      <td>172.19.14.249:1305</td>\n",
       "      <td>149.171.126.8:21</td>\n",
       "      <td>6</td>\n",
       "      <td>1.0</td>\n",
       "      <td>701.0</td>\n",
       "      <td>1054.0</td>\n",
       "      <td>13</td>\n",
       "      <td>15</td>\n",
       "      <td>24</td>\n",
       "      <td>0.0</td>\n",
       "      <td>0</td>\n",
       "      <td>Benign</td>\n",
       "    </tr>\n",
       "    <tr>\n",
       "      <th>4</th>\n",
       "      <td>172.21.254.101:1305</td>\n",
       "      <td>149.171.126.8:21</td>\n",
       "      <td>6</td>\n",
       "      <td>1.0</td>\n",
       "      <td>1031.0</td>\n",
       "      <td>1474.0</td>\n",
       "      <td>19</td>\n",
       "      <td>21</td>\n",
       "      <td>24</td>\n",
       "      <td>0.0</td>\n",
       "      <td>0</td>\n",
       "      <td>Benign</td>\n",
       "    </tr>\n",
       "    <tr>\n",
       "      <th>...</th>\n",
       "      <td>...</td>\n",
       "      <td>...</td>\n",
       "      <td>...</td>\n",
       "      <td>...</td>\n",
       "      <td>...</td>\n",
       "      <td>...</td>\n",
       "      <td>...</td>\n",
       "      <td>...</td>\n",
       "      <td>...</td>\n",
       "      <td>...</td>\n",
       "      <td>...</td>\n",
       "      <td>...</td>\n",
       "    </tr>\n",
       "    <tr>\n",
       "      <th>2390270</th>\n",
       "      <td>172.29.169.185:58663</td>\n",
       "      <td>149.171.126.1:5190</td>\n",
       "      <td>6</td>\n",
       "      <td>0.0</td>\n",
       "      <td>1064.0</td>\n",
       "      <td>2364.0</td>\n",
       "      <td>12</td>\n",
       "      <td>14</td>\n",
       "      <td>27</td>\n",
       "      <td>0.0</td>\n",
       "      <td>0</td>\n",
       "      <td>Benign</td>\n",
       "    </tr>\n",
       "    <tr>\n",
       "      <th>2390271</th>\n",
       "      <td>172.26.234.113:60977</td>\n",
       "      <td>149.171.126.4:53</td>\n",
       "      <td>17</td>\n",
       "      <td>0.0</td>\n",
       "      <td>146.0</td>\n",
       "      <td>178.0</td>\n",
       "      <td>2</td>\n",
       "      <td>2</td>\n",
       "      <td>0</td>\n",
       "      <td>0.0</td>\n",
       "      <td>0</td>\n",
       "      <td>Benign</td>\n",
       "    </tr>\n",
       "    <tr>\n",
       "      <th>2390272</th>\n",
       "      <td>172.27.55.49:54553</td>\n",
       "      <td>149.171.126.9:80</td>\n",
       "      <td>6</td>\n",
       "      <td>7.0</td>\n",
       "      <td>994.0</td>\n",
       "      <td>8896.0</td>\n",
       "      <td>10</td>\n",
       "      <td>10</td>\n",
       "      <td>26</td>\n",
       "      <td>0.0</td>\n",
       "      <td>0</td>\n",
       "      <td>Benign</td>\n",
       "    </tr>\n",
       "    <tr>\n",
       "      <th>2390273</th>\n",
       "      <td>172.29.143.49:55026</td>\n",
       "      <td>149.171.126.5:8248</td>\n",
       "      <td>6</td>\n",
       "      <td>0.0</td>\n",
       "      <td>4014.0</td>\n",
       "      <td>60268.0</td>\n",
       "      <td>68</td>\n",
       "      <td>70</td>\n",
       "      <td>27</td>\n",
       "      <td>0.0</td>\n",
       "      <td>0</td>\n",
       "      <td>Benign</td>\n",
       "    </tr>\n",
       "    <tr>\n",
       "      <th>2390274</th>\n",
       "      <td>172.22.130.97:28987</td>\n",
       "      <td>149.171.126.6:26948</td>\n",
       "      <td>6</td>\n",
       "      <td>0.0</td>\n",
       "      <td>2246.0</td>\n",
       "      <td>13496.0</td>\n",
       "      <td>34</td>\n",
       "      <td>32</td>\n",
       "      <td>26</td>\n",
       "      <td>0.0</td>\n",
       "      <td>0</td>\n",
       "      <td>Benign</td>\n",
       "    </tr>\n",
       "  </tbody>\n",
       "</table>\n",
       "<p>2390275 rows × 12 columns</p>\n",
       "</div>"
      ],
      "text/plain": [
       "                IPV4_SRC_ADDR        IPV4_DST_ADDR  PROTOCOL  L7_PROTO  \\\n",
       "0          172.24.97.245:1305     149.171.126.8:21         6       1.0   \n",
       "1          172.18.233.78:1305     149.171.126.8:21         6       1.0   \n",
       "2          172.17.235.26:1305     149.171.126.8:21         6       1.0   \n",
       "3          172.19.14.249:1305     149.171.126.8:21         6       1.0   \n",
       "4         172.21.254.101:1305     149.171.126.8:21         6       1.0   \n",
       "...                       ...                  ...       ...       ...   \n",
       "2390270  172.29.169.185:58663   149.171.126.1:5190         6       0.0   \n",
       "2390271  172.26.234.113:60977     149.171.126.4:53        17       0.0   \n",
       "2390272    172.27.55.49:54553     149.171.126.9:80         6       7.0   \n",
       "2390273   172.29.143.49:55026   149.171.126.5:8248         6       0.0   \n",
       "2390274   172.22.130.97:28987  149.171.126.6:26948         6       0.0   \n",
       "\n",
       "         IN_BYTES  OUT_BYTES  IN_PKTS  OUT_PKTS  TCP_FLAGS  \\\n",
       "0             9.0      193.0        1         3         24   \n",
       "1           261.0      469.0        5         7         24   \n",
       "2           481.0      750.0        9        11         24   \n",
       "3           701.0     1054.0       13        15         24   \n",
       "4          1031.0     1474.0       19        21         24   \n",
       "...           ...        ...      ...       ...        ...   \n",
       "2390270    1064.0     2364.0       12        14         27   \n",
       "2390271     146.0      178.0        2         2          0   \n",
       "2390272     994.0     8896.0       10        10         26   \n",
       "2390273    4014.0    60268.0       68        70         27   \n",
       "2390274    2246.0    13496.0       34        32         26   \n",
       "\n",
       "         FLOW_DURATION_MILLISECONDS  Label  Attack  \n",
       "0                               0.0      0  Benign  \n",
       "1                               0.0      0  Benign  \n",
       "2                               0.0      0  Benign  \n",
       "3                               0.0      0  Benign  \n",
       "4                               0.0      0  Benign  \n",
       "...                             ...    ...     ...  \n",
       "2390270                         0.0      0  Benign  \n",
       "2390271                         0.0      0  Benign  \n",
       "2390272                         0.0      0  Benign  \n",
       "2390273                         0.0      0  Benign  \n",
       "2390274                         0.0      0  Benign  \n",
       "\n",
       "[2390275 rows x 12 columns]"
      ]
     },
     "execution_count": 9,
     "metadata": {},
     "output_type": "execute_result"
    }
   ],
   "source": [
    "data"
   ]
  },
  {
   "cell_type": "code",
   "execution_count": 10,
   "metadata": {
    "id": "C_WU15ngvnBM"
   },
   "outputs": [],
   "source": [
    "data.drop(columns=['Label'],inplace = True)"
   ]
  },
  {
   "cell_type": "code",
   "execution_count": 11,
   "metadata": {
    "id": "Q0d3nbdiv37j"
   },
   "outputs": [],
   "source": [
    "data.rename(columns={\"Attack\": \"label\"},inplace = True)"
   ]
  },
  {
   "cell_type": "code",
   "execution_count": 12,
   "metadata": {
    "id": "yjS-hTKDzI29"
   },
   "outputs": [],
   "source": [
    "le = LabelEncoder()\n",
    "le.fit_transform(data.label.values)\n",
    "data['label'] = le.transform(data['label'])"
   ]
  },
  {
   "cell_type": "code",
   "execution_count": 13,
   "metadata": {
    "id": "SVgjPVfg03XG"
   },
   "outputs": [],
   "source": [
    "label = data.label"
   ]
  },
  {
   "cell_type": "code",
   "execution_count": 14,
   "metadata": {
    "id": "ADl2Fj7H08Rr"
   },
   "outputs": [],
   "source": [
    "data.drop(columns=['label'],inplace = True)"
   ]
  },
  {
   "cell_type": "code",
   "execution_count": 15,
   "metadata": {
    "id": "qhsZMD3uwLk7"
   },
   "outputs": [],
   "source": [
    "scaler = StandardScaler()"
   ]
  },
  {
   "cell_type": "code",
   "execution_count": 16,
   "metadata": {
    "id": "aukoVdNf2zcp"
   },
   "outputs": [],
   "source": [
    "data =  pd.concat([data, label], axis=1)"
   ]
  },
  {
   "cell_type": "code",
   "execution_count": 17,
   "metadata": {
    "colab": {
     "base_uri": "https://localhost:8080/",
     "height": 419
    },
    "id": "IP-ZEZW4nxSm",
    "outputId": "d3f123dd-51b2-447d-958b-05c3109bb362"
   },
   "outputs": [
    {
     "data": {
      "text/html": [
       "<div>\n",
       "<style scoped>\n",
       "    .dataframe tbody tr th:only-of-type {\n",
       "        vertical-align: middle;\n",
       "    }\n",
       "\n",
       "    .dataframe tbody tr th {\n",
       "        vertical-align: top;\n",
       "    }\n",
       "\n",
       "    .dataframe thead th {\n",
       "        text-align: right;\n",
       "    }\n",
       "</style>\n",
       "<table border=\"1\" class=\"dataframe\">\n",
       "  <thead>\n",
       "    <tr style=\"text-align: right;\">\n",
       "      <th></th>\n",
       "      <th>IPV4_SRC_ADDR</th>\n",
       "      <th>IPV4_DST_ADDR</th>\n",
       "      <th>PROTOCOL</th>\n",
       "      <th>L7_PROTO</th>\n",
       "      <th>IN_BYTES</th>\n",
       "      <th>OUT_BYTES</th>\n",
       "      <th>IN_PKTS</th>\n",
       "      <th>OUT_PKTS</th>\n",
       "      <th>TCP_FLAGS</th>\n",
       "      <th>FLOW_DURATION_MILLISECONDS</th>\n",
       "      <th>label</th>\n",
       "    </tr>\n",
       "  </thead>\n",
       "  <tbody>\n",
       "    <tr>\n",
       "      <th>0</th>\n",
       "      <td>172.24.97.245:1305</td>\n",
       "      <td>149.171.126.8:21</td>\n",
       "      <td>6</td>\n",
       "      <td>1.0</td>\n",
       "      <td>9.0</td>\n",
       "      <td>193.0</td>\n",
       "      <td>1</td>\n",
       "      <td>3</td>\n",
       "      <td>24</td>\n",
       "      <td>0.0</td>\n",
       "      <td>2</td>\n",
       "    </tr>\n",
       "    <tr>\n",
       "      <th>1</th>\n",
       "      <td>172.18.233.78:1305</td>\n",
       "      <td>149.171.126.8:21</td>\n",
       "      <td>6</td>\n",
       "      <td>1.0</td>\n",
       "      <td>261.0</td>\n",
       "      <td>469.0</td>\n",
       "      <td>5</td>\n",
       "      <td>7</td>\n",
       "      <td>24</td>\n",
       "      <td>0.0</td>\n",
       "      <td>2</td>\n",
       "    </tr>\n",
       "    <tr>\n",
       "      <th>2</th>\n",
       "      <td>172.17.235.26:1305</td>\n",
       "      <td>149.171.126.8:21</td>\n",
       "      <td>6</td>\n",
       "      <td>1.0</td>\n",
       "      <td>481.0</td>\n",
       "      <td>750.0</td>\n",
       "      <td>9</td>\n",
       "      <td>11</td>\n",
       "      <td>24</td>\n",
       "      <td>0.0</td>\n",
       "      <td>2</td>\n",
       "    </tr>\n",
       "    <tr>\n",
       "      <th>3</th>\n",
       "      <td>172.19.14.249:1305</td>\n",
       "      <td>149.171.126.8:21</td>\n",
       "      <td>6</td>\n",
       "      <td>1.0</td>\n",
       "      <td>701.0</td>\n",
       "      <td>1054.0</td>\n",
       "      <td>13</td>\n",
       "      <td>15</td>\n",
       "      <td>24</td>\n",
       "      <td>0.0</td>\n",
       "      <td>2</td>\n",
       "    </tr>\n",
       "    <tr>\n",
       "      <th>4</th>\n",
       "      <td>172.21.254.101:1305</td>\n",
       "      <td>149.171.126.8:21</td>\n",
       "      <td>6</td>\n",
       "      <td>1.0</td>\n",
       "      <td>1031.0</td>\n",
       "      <td>1474.0</td>\n",
       "      <td>19</td>\n",
       "      <td>21</td>\n",
       "      <td>24</td>\n",
       "      <td>0.0</td>\n",
       "      <td>2</td>\n",
       "    </tr>\n",
       "    <tr>\n",
       "      <th>...</th>\n",
       "      <td>...</td>\n",
       "      <td>...</td>\n",
       "      <td>...</td>\n",
       "      <td>...</td>\n",
       "      <td>...</td>\n",
       "      <td>...</td>\n",
       "      <td>...</td>\n",
       "      <td>...</td>\n",
       "      <td>...</td>\n",
       "      <td>...</td>\n",
       "      <td>...</td>\n",
       "    </tr>\n",
       "    <tr>\n",
       "      <th>2390270</th>\n",
       "      <td>172.29.169.185:58663</td>\n",
       "      <td>149.171.126.1:5190</td>\n",
       "      <td>6</td>\n",
       "      <td>0.0</td>\n",
       "      <td>1064.0</td>\n",
       "      <td>2364.0</td>\n",
       "      <td>12</td>\n",
       "      <td>14</td>\n",
       "      <td>27</td>\n",
       "      <td>0.0</td>\n",
       "      <td>2</td>\n",
       "    </tr>\n",
       "    <tr>\n",
       "      <th>2390271</th>\n",
       "      <td>172.26.234.113:60977</td>\n",
       "      <td>149.171.126.4:53</td>\n",
       "      <td>17</td>\n",
       "      <td>0.0</td>\n",
       "      <td>146.0</td>\n",
       "      <td>178.0</td>\n",
       "      <td>2</td>\n",
       "      <td>2</td>\n",
       "      <td>0</td>\n",
       "      <td>0.0</td>\n",
       "      <td>2</td>\n",
       "    </tr>\n",
       "    <tr>\n",
       "      <th>2390272</th>\n",
       "      <td>172.27.55.49:54553</td>\n",
       "      <td>149.171.126.9:80</td>\n",
       "      <td>6</td>\n",
       "      <td>7.0</td>\n",
       "      <td>994.0</td>\n",
       "      <td>8896.0</td>\n",
       "      <td>10</td>\n",
       "      <td>10</td>\n",
       "      <td>26</td>\n",
       "      <td>0.0</td>\n",
       "      <td>2</td>\n",
       "    </tr>\n",
       "    <tr>\n",
       "      <th>2390273</th>\n",
       "      <td>172.29.143.49:55026</td>\n",
       "      <td>149.171.126.5:8248</td>\n",
       "      <td>6</td>\n",
       "      <td>0.0</td>\n",
       "      <td>4014.0</td>\n",
       "      <td>60268.0</td>\n",
       "      <td>68</td>\n",
       "      <td>70</td>\n",
       "      <td>27</td>\n",
       "      <td>0.0</td>\n",
       "      <td>2</td>\n",
       "    </tr>\n",
       "    <tr>\n",
       "      <th>2390274</th>\n",
       "      <td>172.22.130.97:28987</td>\n",
       "      <td>149.171.126.6:26948</td>\n",
       "      <td>6</td>\n",
       "      <td>0.0</td>\n",
       "      <td>2246.0</td>\n",
       "      <td>13496.0</td>\n",
       "      <td>34</td>\n",
       "      <td>32</td>\n",
       "      <td>26</td>\n",
       "      <td>0.0</td>\n",
       "      <td>2</td>\n",
       "    </tr>\n",
       "  </tbody>\n",
       "</table>\n",
       "<p>2390275 rows × 11 columns</p>\n",
       "</div>"
      ],
      "text/plain": [
       "                IPV4_SRC_ADDR        IPV4_DST_ADDR  PROTOCOL  L7_PROTO  \\\n",
       "0          172.24.97.245:1305     149.171.126.8:21         6       1.0   \n",
       "1          172.18.233.78:1305     149.171.126.8:21         6       1.0   \n",
       "2          172.17.235.26:1305     149.171.126.8:21         6       1.0   \n",
       "3          172.19.14.249:1305     149.171.126.8:21         6       1.0   \n",
       "4         172.21.254.101:1305     149.171.126.8:21         6       1.0   \n",
       "...                       ...                  ...       ...       ...   \n",
       "2390270  172.29.169.185:58663   149.171.126.1:5190         6       0.0   \n",
       "2390271  172.26.234.113:60977     149.171.126.4:53        17       0.0   \n",
       "2390272    172.27.55.49:54553     149.171.126.9:80         6       7.0   \n",
       "2390273   172.29.143.49:55026   149.171.126.5:8248         6       0.0   \n",
       "2390274   172.22.130.97:28987  149.171.126.6:26948         6       0.0   \n",
       "\n",
       "         IN_BYTES  OUT_BYTES  IN_PKTS  OUT_PKTS  TCP_FLAGS  \\\n",
       "0             9.0      193.0        1         3         24   \n",
       "1           261.0      469.0        5         7         24   \n",
       "2           481.0      750.0        9        11         24   \n",
       "3           701.0     1054.0       13        15         24   \n",
       "4          1031.0     1474.0       19        21         24   \n",
       "...           ...        ...      ...       ...        ...   \n",
       "2390270    1064.0     2364.0       12        14         27   \n",
       "2390271     146.0      178.0        2         2          0   \n",
       "2390272     994.0     8896.0       10        10         26   \n",
       "2390273    4014.0    60268.0       68        70         27   \n",
       "2390274    2246.0    13496.0       34        32         26   \n",
       "\n",
       "         FLOW_DURATION_MILLISECONDS  label  \n",
       "0                               0.0      2  \n",
       "1                               0.0      2  \n",
       "2                               0.0      2  \n",
       "3                               0.0      2  \n",
       "4                               0.0      2  \n",
       "...                             ...    ...  \n",
       "2390270                         0.0      2  \n",
       "2390271                         0.0      2  \n",
       "2390272                         0.0      2  \n",
       "2390273                         0.0      2  \n",
       "2390274                         0.0      2  \n",
       "\n",
       "[2390275 rows x 11 columns]"
      ]
     },
     "execution_count": 17,
     "metadata": {},
     "output_type": "execute_result"
    }
   ],
   "source": [
    "data"
   ]
  },
  {
   "cell_type": "code",
   "execution_count": 18,
   "metadata": {
    "id": "PUa4uJbewQc7"
   },
   "outputs": [],
   "source": [
    "X_train, X_test, y_train, y_test = train_test_split(\n",
    "     data, label, test_size=0.3, random_state=123,stratify= label)"
   ]
  },
  {
   "cell_type": "code",
   "execution_count": 19,
   "metadata": {
    "colab": {
     "base_uri": "https://localhost:8080/"
    },
    "id": "z3DrIWDHqNxp",
    "outputId": "e2777f43-f37e-4596-eb7b-21186d3bf389"
   },
   "outputs": [],
   "source": [
    "encoder = ce.TargetEncoder(cols=['TCP_FLAGS','L7_PROTO','PROTOCOL'])\n",
    "encoder.fit(X_train, y_train)\n",
    "X_train = encoder.transform(X_train)"
   ]
  },
  {
   "cell_type": "code",
   "execution_count": 20,
   "metadata": {
    "id": "EDKYHCbcqN81"
   },
   "outputs": [],
   "source": [
    "cols_to_norm = list(set(list(X_train.iloc[:, 2:].columns ))  - set(list(['label'])) )\n",
    "X_train[cols_to_norm] = scaler.fit_transform(X_train[cols_to_norm])"
   ]
  },
  {
   "cell_type": "code",
   "execution_count": 21,
   "metadata": {
    "id": "ek535MkWwUHN"
   },
   "outputs": [],
   "source": [
    "X_train['h'] = X_train[ cols_to_norm ].values.tolist()"
   ]
  },
  {
   "cell_type": "code",
   "execution_count": 22,
   "metadata": {
    "colab": {
     "base_uri": "https://localhost:8080/",
     "height": 711
    },
    "id": "v4mfPB0X9rRX",
    "outputId": "29a8752f-28cd-49b4-c4c1-15e0d58d4a6a"
   },
   "outputs": [
    {
     "data": {
      "text/html": [
       "<div>\n",
       "<style scoped>\n",
       "    .dataframe tbody tr th:only-of-type {\n",
       "        vertical-align: middle;\n",
       "    }\n",
       "\n",
       "    .dataframe tbody tr th {\n",
       "        vertical-align: top;\n",
       "    }\n",
       "\n",
       "    .dataframe thead th {\n",
       "        text-align: right;\n",
       "    }\n",
       "</style>\n",
       "<table border=\"1\" class=\"dataframe\">\n",
       "  <thead>\n",
       "    <tr style=\"text-align: right;\">\n",
       "      <th></th>\n",
       "      <th>IPV4_SRC_ADDR</th>\n",
       "      <th>IPV4_DST_ADDR</th>\n",
       "      <th>PROTOCOL</th>\n",
       "      <th>L7_PROTO</th>\n",
       "      <th>IN_BYTES</th>\n",
       "      <th>OUT_BYTES</th>\n",
       "      <th>IN_PKTS</th>\n",
       "      <th>OUT_PKTS</th>\n",
       "      <th>TCP_FLAGS</th>\n",
       "      <th>FLOW_DURATION_MILLISECONDS</th>\n",
       "      <th>label</th>\n",
       "      <th>h</th>\n",
       "    </tr>\n",
       "  </thead>\n",
       "  <tbody>\n",
       "    <tr>\n",
       "      <th>419626</th>\n",
       "      <td>172.16.229.158:7554</td>\n",
       "      <td>149.171.126.0:6638</td>\n",
       "      <td>0.517209</td>\n",
       "      <td>0.060679</td>\n",
       "      <td>-0.063184</td>\n",
       "      <td>-0.227326</td>\n",
       "      <td>-0.416496</td>\n",
       "      <td>-0.361598</td>\n",
       "      <td>0.265451</td>\n",
       "      <td>-0.253315</td>\n",
       "      <td>2</td>\n",
       "      <td>[0.5172094689060222, -0.06318407723213725, -0....</td>\n",
       "    </tr>\n",
       "    <tr>\n",
       "      <th>2211951</th>\n",
       "      <td>172.24.124.79:24875</td>\n",
       "      <td>149.171.126.7:21</td>\n",
       "      <td>-0.248948</td>\n",
       "      <td>-0.536876</td>\n",
       "      <td>-0.067618</td>\n",
       "      <td>-0.226251</td>\n",
       "      <td>-0.403474</td>\n",
       "      <td>-0.335544</td>\n",
       "      <td>-0.254089</td>\n",
       "      <td>-0.253315</td>\n",
       "      <td>2</td>\n",
       "      <td>[-0.24894778922919739, -0.06761799642695143, -...</td>\n",
       "    </tr>\n",
       "    <tr>\n",
       "      <th>1381420</th>\n",
       "      <td>172.17.87.159:40918</td>\n",
       "      <td>149.171.126.1:41712</td>\n",
       "      <td>-0.248948</td>\n",
       "      <td>0.060679</td>\n",
       "      <td>-0.003397</td>\n",
       "      <td>-0.209240</td>\n",
       "      <td>-0.103980</td>\n",
       "      <td>-0.135796</td>\n",
       "      <td>-0.255948</td>\n",
       "      <td>-0.253315</td>\n",
       "      <td>2</td>\n",
       "      <td>[-0.24894778922919739, -0.0033966721176110133,...</td>\n",
       "    </tr>\n",
       "    <tr>\n",
       "      <th>275782</th>\n",
       "      <td>172.18.62.145:26337</td>\n",
       "      <td>149.171.126.6:6881</td>\n",
       "      <td>-0.248948</td>\n",
       "      <td>0.060679</td>\n",
       "      <td>0.320859</td>\n",
       "      <td>6.903257</td>\n",
       "      <td>5.339008</td>\n",
       "      <td>7.055125</td>\n",
       "      <td>-0.255948</td>\n",
       "      <td>3.947647</td>\n",
       "      <td>2</td>\n",
       "      <td>[-0.24894778922919739, 0.3208591287865386, 5.3...</td>\n",
       "    </tr>\n",
       "    <tr>\n",
       "      <th>1769163</th>\n",
       "      <td>172.16.38.236:37286</td>\n",
       "      <td>149.171.126.7:35200</td>\n",
       "      <td>-0.248948</td>\n",
       "      <td>0.060679</td>\n",
       "      <td>-0.033510</td>\n",
       "      <td>-0.107619</td>\n",
       "      <td>0.026235</td>\n",
       "      <td>-0.048949</td>\n",
       "      <td>-0.255948</td>\n",
       "      <td>-0.253315</td>\n",
       "      <td>2</td>\n",
       "      <td>[-0.24894778922919739, -0.033509720500766, 0.0...</td>\n",
       "    </tr>\n",
       "    <tr>\n",
       "      <th>...</th>\n",
       "      <td>...</td>\n",
       "      <td>...</td>\n",
       "      <td>...</td>\n",
       "      <td>...</td>\n",
       "      <td>...</td>\n",
       "      <td>...</td>\n",
       "      <td>...</td>\n",
       "      <td>...</td>\n",
       "      <td>...</td>\n",
       "      <td>...</td>\n",
       "      <td>...</td>\n",
       "      <td>...</td>\n",
       "    </tr>\n",
       "    <tr>\n",
       "      <th>879374</th>\n",
       "      <td>172.17.125.206:10217</td>\n",
       "      <td>149.171.126.8:6881</td>\n",
       "      <td>-0.248948</td>\n",
       "      <td>0.060679</td>\n",
       "      <td>0.125234</td>\n",
       "      <td>3.195065</td>\n",
       "      <td>2.357084</td>\n",
       "      <td>3.259917</td>\n",
       "      <td>-0.255948</td>\n",
       "      <td>-0.253315</td>\n",
       "      <td>2</td>\n",
       "      <td>[-0.24894778922919739, 0.12523398720897713, 2....</td>\n",
       "    </tr>\n",
       "    <tr>\n",
       "      <th>321666</th>\n",
       "      <td>172.22.193.89:34828</td>\n",
       "      <td>149.171.126.9:111</td>\n",
       "      <td>0.517209</td>\n",
       "      <td>0.060679</td>\n",
       "      <td>-0.062808</td>\n",
       "      <td>-0.227274</td>\n",
       "      <td>-0.416496</td>\n",
       "      <td>-0.361598</td>\n",
       "      <td>0.265451</td>\n",
       "      <td>-0.253315</td>\n",
       "      <td>2</td>\n",
       "      <td>[0.5172094689060222, -0.06280805581632262, -0....</td>\n",
       "    </tr>\n",
       "    <tr>\n",
       "      <th>516183</th>\n",
       "      <td>172.21.84.8:15276</td>\n",
       "      <td>149.171.126.9:111</td>\n",
       "      <td>0.517209</td>\n",
       "      <td>0.060679</td>\n",
       "      <td>-0.062808</td>\n",
       "      <td>-0.227221</td>\n",
       "      <td>-0.416496</td>\n",
       "      <td>-0.361598</td>\n",
       "      <td>0.265451</td>\n",
       "      <td>-0.253315</td>\n",
       "      <td>2</td>\n",
       "      <td>[0.5172094689060222, -0.06280805581632262, -0....</td>\n",
       "    </tr>\n",
       "    <tr>\n",
       "      <th>1493944</th>\n",
       "      <td>172.20.249.161:1475</td>\n",
       "      <td>149.171.126.8:80</td>\n",
       "      <td>-0.248948</td>\n",
       "      <td>0.796664</td>\n",
       "      <td>-0.046952</td>\n",
       "      <td>-0.163062</td>\n",
       "      <td>-0.312324</td>\n",
       "      <td>-0.240012</td>\n",
       "      <td>-0.255948</td>\n",
       "      <td>-0.253315</td>\n",
       "      <td>2</td>\n",
       "      <td>[-0.24894778922919739, -0.04695248611613904, -...</td>\n",
       "    </tr>\n",
       "    <tr>\n",
       "      <th>1780606</th>\n",
       "      <td>172.23.88.147:0</td>\n",
       "      <td>149.171.126.17:0</td>\n",
       "      <td>8.957176</td>\n",
       "      <td>0.060679</td>\n",
       "      <td>-0.068574</td>\n",
       "      <td>-0.229306</td>\n",
       "      <td>-0.442539</td>\n",
       "      <td>-0.396337</td>\n",
       "      <td>0.265451</td>\n",
       "      <td>-0.253315</td>\n",
       "      <td>1</td>\n",
       "      <td>[8.957176073381408, -0.06857371752548029, -0.4...</td>\n",
       "    </tr>\n",
       "  </tbody>\n",
       "</table>\n",
       "<p>1673192 rows × 12 columns</p>\n",
       "</div>"
      ],
      "text/plain": [
       "                IPV4_SRC_ADDR        IPV4_DST_ADDR  PROTOCOL  L7_PROTO  \\\n",
       "419626    172.16.229.158:7554   149.171.126.0:6638  0.517209  0.060679   \n",
       "2211951   172.24.124.79:24875     149.171.126.7:21 -0.248948 -0.536876   \n",
       "1381420   172.17.87.159:40918  149.171.126.1:41712 -0.248948  0.060679   \n",
       "275782    172.18.62.145:26337   149.171.126.6:6881 -0.248948  0.060679   \n",
       "1769163   172.16.38.236:37286  149.171.126.7:35200 -0.248948  0.060679   \n",
       "...                       ...                  ...       ...       ...   \n",
       "879374   172.17.125.206:10217   149.171.126.8:6881 -0.248948  0.060679   \n",
       "321666    172.22.193.89:34828    149.171.126.9:111  0.517209  0.060679   \n",
       "516183      172.21.84.8:15276    149.171.126.9:111  0.517209  0.060679   \n",
       "1493944   172.20.249.161:1475     149.171.126.8:80 -0.248948  0.796664   \n",
       "1780606       172.23.88.147:0     149.171.126.17:0  8.957176  0.060679   \n",
       "\n",
       "         IN_BYTES  OUT_BYTES   IN_PKTS  OUT_PKTS  TCP_FLAGS  \\\n",
       "419626  -0.063184  -0.227326 -0.416496 -0.361598   0.265451   \n",
       "2211951 -0.067618  -0.226251 -0.403474 -0.335544  -0.254089   \n",
       "1381420 -0.003397  -0.209240 -0.103980 -0.135796  -0.255948   \n",
       "275782   0.320859   6.903257  5.339008  7.055125  -0.255948   \n",
       "1769163 -0.033510  -0.107619  0.026235 -0.048949  -0.255948   \n",
       "...           ...        ...       ...       ...        ...   \n",
       "879374   0.125234   3.195065  2.357084  3.259917  -0.255948   \n",
       "321666  -0.062808  -0.227274 -0.416496 -0.361598   0.265451   \n",
       "516183  -0.062808  -0.227221 -0.416496 -0.361598   0.265451   \n",
       "1493944 -0.046952  -0.163062 -0.312324 -0.240012  -0.255948   \n",
       "1780606 -0.068574  -0.229306 -0.442539 -0.396337   0.265451   \n",
       "\n",
       "         FLOW_DURATION_MILLISECONDS  label  \\\n",
       "419626                    -0.253315      2   \n",
       "2211951                   -0.253315      2   \n",
       "1381420                   -0.253315      2   \n",
       "275782                     3.947647      2   \n",
       "1769163                   -0.253315      2   \n",
       "...                             ...    ...   \n",
       "879374                    -0.253315      2   \n",
       "321666                    -0.253315      2   \n",
       "516183                    -0.253315      2   \n",
       "1493944                   -0.253315      2   \n",
       "1780606                   -0.253315      1   \n",
       "\n",
       "                                                         h  \n",
       "419626   [0.5172094689060222, -0.06318407723213725, -0....  \n",
       "2211951  [-0.24894778922919739, -0.06761799642695143, -...  \n",
       "1381420  [-0.24894778922919739, -0.0033966721176110133,...  \n",
       "275782   [-0.24894778922919739, 0.3208591287865386, 5.3...  \n",
       "1769163  [-0.24894778922919739, -0.033509720500766, 0.0...  \n",
       "...                                                    ...  \n",
       "879374   [-0.24894778922919739, 0.12523398720897713, 2....  \n",
       "321666   [0.5172094689060222, -0.06280805581632262, -0....  \n",
       "516183   [0.5172094689060222, -0.06280805581632262, -0....  \n",
       "1493944  [-0.24894778922919739, -0.04695248611613904, -...  \n",
       "1780606  [8.957176073381408, -0.06857371752548029, -0.4...  \n",
       "\n",
       "[1673192 rows x 12 columns]"
      ]
     },
     "execution_count": 22,
     "metadata": {},
     "output_type": "execute_result"
    }
   ],
   "source": [
    "X_train"
   ]
  },
  {
   "cell_type": "code",
   "execution_count": 23,
   "metadata": {
    "id": "OIrcNfMSwa0j"
   },
   "outputs": [],
   "source": [
    "G = nx.from_pandas_edgelist(X_train, \"IPV4_SRC_ADDR\", \"IPV4_DST_ADDR\", ['h','label'],create_using=nx.MultiGraph())"
   ]
  },
  {
   "cell_type": "code",
   "execution_count": 24,
   "metadata": {
    "id": "QluLSxbiwn7M"
   },
   "outputs": [],
   "source": [
    "G = G.to_directed()\n"
   ]
  },
  {
   "cell_type": "code",
   "execution_count": 25,
   "metadata": {
    "id": "2zClkKEzwrVb"
   },
   "outputs": [],
   "source": [
    "G = from_networkx(G,edge_attrs=['h','label'] )\n"
   ]
  },
  {
   "cell_type": "code",
   "execution_count": 26,
   "metadata": {
    "id": "9jlBYgE8wsW7"
   },
   "outputs": [],
   "source": [
    "# Eq1\n",
    "G.ndata['h'] = th.ones(G.num_nodes(), G.edata['h'].shape[1])"
   ]
  },
  {
   "cell_type": "code",
   "execution_count": 27,
   "metadata": {
    "id": "E7Vc6IELwuJr"
   },
   "outputs": [],
   "source": [
    "G.edata['train_mask'] = th.ones(len(G.edata['h']), dtype=th.bool)\n"
   ]
  },
  {
   "cell_type": "code",
   "execution_count": 28,
   "metadata": {
    "colab": {
     "base_uri": "https://localhost:8080/"
    },
    "id": "BIx7-W6s46Ju",
    "outputId": "234c56a1-9958-4e82-e244-b2a41dcf2855"
   },
   "outputs": [
    {
     "data": {
      "text/plain": [
       "tensor([True, True, True,  ..., True, True, True])"
      ]
     },
     "execution_count": 28,
     "metadata": {},
     "output_type": "execute_result"
    }
   ],
   "source": [
    "G.edata['train_mask'] "
   ]
  },
  {
   "cell_type": "code",
   "execution_count": 29,
   "metadata": {
    "id": "DzDap1MR5e95"
   },
   "outputs": [],
   "source": [
    "def compute_accuracy(pred, labels):\n",
    "    return (pred.argmax(1) == labels).float().mean().item()"
   ]
  },
  {
   "cell_type": "code",
   "execution_count": 30,
   "metadata": {
    "id": "5VzTQxAR5HoT"
   },
   "outputs": [],
   "source": [
    "class SAGELayer(nn.Module):\n",
    "    def __init__(self, ndim_in, edims, ndim_out, activation):\n",
    "        super(SAGELayer, self).__init__()\n",
    "        ### force to outut fix dimensions\n",
    "        self.W_msg = nn.Linear(ndim_in + edims, ndim_out)\n",
    "        ### apply weight\n",
    "        self.W_apply = nn.Linear(ndim_in + ndim_out, ndim_out)\n",
    "        self.activation = activation\n",
    "\n",
    "    def message_func(self, edges):\n",
    "        return {'m': self.W_msg(th.cat([edges.src['h'], edges.data['h']], 2))}\n",
    "\n",
    "    def forward(self, g_dgl, nfeats, efeats):\n",
    "        with g_dgl.local_scope():\n",
    "            g = g_dgl\n",
    "            g.ndata['h'] = nfeats\n",
    "            g.edata['h'] = efeats\n",
    "            # Eq4\n",
    "            g.update_all(self.message_func, fn.mean('m', 'h_neigh'))\n",
    "            # Eq5          \n",
    "            g.ndata['h'] = F.relu(self.W_apply(th.cat([g.ndata['h'], g.ndata['h_neigh']], 2)))\n",
    "            return g.ndata['h']\n",
    "\n",
    "\n",
    "class SAGE(nn.Module):\n",
    "    def __init__(self, ndim_in, ndim_out, edim, activation, dropout):\n",
    "        super(SAGE, self).__init__()\n",
    "        self.layers = nn.ModuleList()\n",
    "        self.layers.append(SAGELayer(ndim_in, edim, 128, activation))\n",
    "        self.layers.append(SAGELayer(128, edim, ndim_out, activation))\n",
    "        self.dropout = nn.Dropout(p=dropout)\n",
    "\n",
    "    def forward(self, g, nfeats, efeats):\n",
    "        for i, layer in enumerate(self.layers):\n",
    "            if i != 0:\n",
    "                nfeats = self.dropout(nfeats)\n",
    "            nfeats = layer(g, nfeats, efeats)\n",
    "        return nfeats.sum(1)"
   ]
  },
  {
   "cell_type": "code",
   "execution_count": 31,
   "metadata": {
    "id": "hrLYvze5wwMi"
   },
   "outputs": [],
   "source": [
    "class MLPPredictor(nn.Module):\n",
    "    def __init__(self, in_features, out_classes):\n",
    "        super().__init__()\n",
    "        self.W = nn.Linear(in_features * 2, out_classes)\n",
    "\n",
    "    def apply_edges(self, edges):\n",
    "        h_u = edges.src['h']\n",
    "        h_v = edges.dst['h']\n",
    "        score = self.W(th.cat([h_u, h_v], 1))\n",
    "        return {'score': score}\n",
    "\n",
    "    def forward(self, graph, h):\n",
    "        with graph.local_scope():\n",
    "            graph.ndata['h'] = h\n",
    "            graph.apply_edges(self.apply_edges)\n",
    "            return graph.edata['score']"
   ]
  },
  {
   "cell_type": "code",
   "execution_count": 32,
   "metadata": {
    "id": "GPLg-kCcwxLa"
   },
   "outputs": [],
   "source": [
    "G.ndata['h'] = th.reshape(G.ndata['h'], (G.ndata['h'].shape[0], 1,G.ndata['h'].shape[1]))\n",
    "G.edata['h'] = th.reshape(G.edata['h'], (G.edata['h'].shape[0], 1,G.edata['h'].shape[1]))"
   ]
  },
  {
   "cell_type": "code",
   "execution_count": 33,
   "metadata": {
    "id": "SwdZs785w1dT"
   },
   "outputs": [],
   "source": [
    "class Model(nn.Module):\n",
    "    def __init__(self, ndim_in, ndim_out, edim, activation, dropout):\n",
    "        super().__init__()\n",
    "        self.gnn = SAGE(ndim_in, ndim_out, edim, activation, dropout)\n",
    "        self.pred = MLPPredictor(ndim_out, 10)\n",
    "    def forward(self, g, nfeats, efeats):\n",
    "        h = self.gnn(g, nfeats, efeats)\n",
    "        return self.pred(g, h)"
   ]
  },
  {
   "cell_type": "code",
   "execution_count": 34,
   "metadata": {
    "id": "BEw7J1Z45R62"
   },
   "outputs": [
    {
     "name": "stdout",
     "output_type": "stream",
     "text": [
      "Class Weights Dictionary: {0: 103.98955873213175, 1: 110.22345191040843, 2: 0.10414133712589199, 3: 41.25226824457594, 4: 7.575803676537173, 5: 10.713914324133956, 6: 14.434023464458248, 7: 18.70533258803801, 8: 167.48668668668668, 9: 1454.9495652173914}\n"
     ]
    }
   ],
   "source": [
    "from sklearn.utils import class_weight\n",
    "import numpy as np # Ensure numpy is imported\n",
    "\n",
    "# Calculate unique classes and labels once\n",
    "labels_array = G.edata['label'].cpu().numpy()\n",
    "unique_classes = np.unique(labels_array)\n",
    "\n",
    "class_weights = class_weight.compute_class_weight(\n",
    "    'balanced',\n",
    "    classes=unique_classes, # Use keyword 'classes='\n",
    "    y=labels_array          # Use keyword 'y='\n",
    ")\n",
    "\n",
    "# Optional: Convert to a dictionary usable by many frameworks\n",
    "class_weights_dict = dict(zip(unique_classes, class_weights))\n",
    "print(\"Class Weights Dictionary:\", class_weights_dict)"
   ]
  },
  {
   "cell_type": "code",
   "execution_count": 35,
   "metadata": {
    "id": "Cti0vAFYw3A0"
   },
   "outputs": [],
   "source": [
    "class_weights = th.FloatTensor(class_weights).cuda()\n",
    "criterion = nn.CrossEntropyLoss(weight = class_weights)"
   ]
  },
  {
   "cell_type": "code",
   "execution_count": 36,
   "metadata": {
    "colab": {
     "base_uri": "https://localhost:8080/"
    },
    "id": "Rj3DHIZmw4IM",
    "outputId": "25d6e453-935e-4132-e67b-f6dbc46c699a"
   },
   "outputs": [
    {
     "data": {
      "text/plain": [
       "device(type='cuda', index=0)"
      ]
     },
     "execution_count": 36,
     "metadata": {},
     "output_type": "execute_result"
    }
   ],
   "source": [
    "G = G.to('cuda:0')\n",
    "G.device"
   ]
  },
  {
   "cell_type": "code",
   "execution_count": 37,
   "metadata": {
    "colab": {
     "base_uri": "https://localhost:8080/"
    },
    "id": "qdlVG3JOw5Qj",
    "outputId": "48880507-da3a-41d5-f470-b594953d822c"
   },
   "outputs": [
    {
     "data": {
      "text/plain": [
       "device(type='cuda', index=0)"
      ]
     },
     "execution_count": 37,
     "metadata": {},
     "output_type": "execute_result"
    }
   ],
   "source": [
    "G.ndata['h'].device\n"
   ]
  },
  {
   "cell_type": "code",
   "execution_count": 38,
   "metadata": {
    "colab": {
     "base_uri": "https://localhost:8080/"
    },
    "id": "dvt3pnXmw6U7",
    "outputId": "9f97f898-6d60-4295-dac3-16efa108353c"
   },
   "outputs": [
    {
     "data": {
      "text/plain": [
       "device(type='cuda', index=0)"
      ]
     },
     "execution_count": 38,
     "metadata": {},
     "output_type": "execute_result"
    }
   ],
   "source": [
    "G.edata['h'].device\n"
   ]
  },
  {
   "cell_type": "code",
   "execution_count": 39,
   "metadata": {
    "colab": {
     "base_uri": "https://localhost:8080/"
    },
    "id": "-_eTiHzWw8Cz",
    "outputId": "a9129648-590f-433f-99e1-f7cf871283d7"
   },
   "outputs": [
    {
     "name": "stdout",
     "output_type": "stream",
     "text": [
      "Training acc: 0.7737698554992676\n",
      "Training acc: 0.7739025354385376\n",
      "Training acc: 0.7787970900535583\n",
      "Training acc: 0.78614741563797\n",
      "Training acc: 0.7961241602897644\n",
      "Training acc: 0.8083286881446838\n",
      "Training acc: 0.8954411745071411\n",
      "Training acc: 0.8712592720985413\n",
      "Training acc: 0.9585633873939514\n",
      "Training acc: 0.959266185760498\n",
      "Training acc: 0.9615448117256165\n",
      "Training acc: 0.9744022488594055\n",
      "Training acc: 0.9741395711898804\n",
      "Training acc: 0.9742376208305359\n",
      "Training acc: 0.9419260025024414\n",
      "Training acc: 0.9745714068412781\n",
      "Training acc: 0.9740062952041626\n",
      "Training acc: 0.9750865697860718\n",
      "Training acc: 0.9737783074378967\n",
      "Training acc: 0.9668015241622925\n",
      "Training acc: 0.974903404712677\n",
      "Training acc: 0.9760386347770691\n",
      "Training acc: 0.9556154012680054\n",
      "Training acc: 0.9690600633621216\n",
      "Training acc: 0.9754875898361206\n",
      "Training acc: 0.9740708470344543\n",
      "Training acc: 0.9761626720428467\n",
      "Training acc: 0.9748774170875549\n",
      "Training acc: 0.8955947756767273\n",
      "Training acc: 0.9728366732597351\n",
      "Training acc: 0.9751391410827637\n",
      "Training acc: 0.9745896458625793\n",
      "Training acc: 0.9754849076271057\n",
      "Training acc: 0.9746296405792236\n",
      "Training acc: 0.9753342866897583\n",
      "Training acc: 0.9749685525894165\n",
      "Training acc: 0.9682415723800659\n",
      "Training acc: 0.9737914204597473\n",
      "Training acc: 0.9753226637840271\n",
      "Training acc: 0.9746054410934448\n",
      "Training acc: 0.9743541479110718\n",
      "Training acc: 0.9746009707450867\n",
      "Training acc: 0.975628674030304\n",
      "Training acc: 0.975038468837738\n",
      "Training acc: 0.9749515056610107\n",
      "Training acc: 0.9752392768859863\n",
      "Training acc: 0.9740015268325806\n",
      "Training acc: 0.9748911261558533\n",
      "Training acc: 0.9743906259536743\n",
      "Training acc: 0.9765777587890625\n",
      "Training acc: 0.974649965763092\n",
      "Training acc: 0.9792588353157043\n",
      "Training acc: 0.9750552177429199\n",
      "Training acc: 0.974924623966217\n",
      "Training acc: 0.9752912521362305\n",
      "Training acc: 0.9747925400733948\n",
      "Training acc: 0.9764952659606934\n",
      "Training acc: 0.9746831655502319\n",
      "Training acc: 0.9749903678894043\n",
      "Training acc: 0.9753047227859497\n",
      "Training acc: 0.9751209616661072\n",
      "Training acc: 0.9749078750610352\n",
      "Training acc: 0.9744067192077637\n",
      "Training acc: 0.9767420887947083\n",
      "Training acc: 0.9752324223518372\n",
      "Training acc: 0.9725247025489807\n",
      "Training acc: 0.9756839275360107\n",
      "Training acc: 0.9754911661148071\n",
      "Training acc: 0.9753875136375427\n",
      "Training acc: 0.9753333926200867\n",
      "Training acc: 0.9751864075660706\n",
      "Training acc: 0.9775310158729553\n",
      "Training acc: 0.9758832454681396\n",
      "Training acc: 0.9749365448951721\n",
      "Training acc: 0.9773789048194885\n",
      "Training acc: 0.9749377369880676\n",
      "Training acc: 0.9782583713531494\n",
      "Training acc: 0.97520911693573\n",
      "Training acc: 0.9755350947380066\n"
     ]
    }
   ],
   "source": [
    "node_features = G.ndata['h']\n",
    "edge_features = G.edata['h']\n",
    "\n",
    "edge_label = G.edata['label']\n",
    "train_mask = G.edata['train_mask']\n",
    "\n",
    "model = Model(G.ndata['h'].shape[2], 128, G.ndata['h'].shape[2], F.relu, 0.2).cuda()\n",
    "opt = th.optim.Adam(model.parameters())\n",
    "\n",
    "for epoch in range(1,8000):\n",
    "    pred = model(G, node_features,edge_features).cuda()\n",
    "    loss = criterion(pred[train_mask] ,edge_label[train_mask])\n",
    "    opt.zero_grad()\n",
    "    loss.backward()\n",
    "    opt.step()\n",
    "    if epoch % 100 == 0:\n",
    "      print('Training acc:', compute_accuracy(pred[train_mask], edge_label[train_mask]))\n"
   ]
  },
  {
   "cell_type": "code",
   "execution_count": 40,
   "metadata": {
    "id": "p7gYo6lVtHCN"
   },
   "outputs": [],
   "source": [
    "X_test = encoder.transform(X_test)"
   ]
  },
  {
   "cell_type": "code",
   "execution_count": 41,
   "metadata": {
    "id": "OUGIEbMFtSnf"
   },
   "outputs": [],
   "source": [
    "X_test[cols_to_norm] = scaler.transform(X_test[cols_to_norm])"
   ]
  },
  {
   "cell_type": "code",
   "execution_count": 42,
   "metadata": {
    "colab": {
     "base_uri": "https://localhost:8080/",
     "height": 439
    },
    "id": "VlyqlEqjtb9s",
    "outputId": "6b637a23-7f60-4810-9348-38c50d09d30c"
   },
   "outputs": [
    {
     "data": {
      "text/html": [
       "<div>\n",
       "<style scoped>\n",
       "    .dataframe tbody tr th:only-of-type {\n",
       "        vertical-align: middle;\n",
       "    }\n",
       "\n",
       "    .dataframe tbody tr th {\n",
       "        vertical-align: top;\n",
       "    }\n",
       "\n",
       "    .dataframe thead th {\n",
       "        text-align: right;\n",
       "    }\n",
       "</style>\n",
       "<table border=\"1\" class=\"dataframe\">\n",
       "  <thead>\n",
       "    <tr style=\"text-align: right;\">\n",
       "      <th></th>\n",
       "      <th>IPV4_SRC_ADDR</th>\n",
       "      <th>IPV4_DST_ADDR</th>\n",
       "      <th>PROTOCOL</th>\n",
       "      <th>L7_PROTO</th>\n",
       "      <th>IN_BYTES</th>\n",
       "      <th>OUT_BYTES</th>\n",
       "      <th>IN_PKTS</th>\n",
       "      <th>OUT_PKTS</th>\n",
       "      <th>TCP_FLAGS</th>\n",
       "      <th>FLOW_DURATION_MILLISECONDS</th>\n",
       "      <th>label</th>\n",
       "    </tr>\n",
       "  </thead>\n",
       "  <tbody>\n",
       "    <tr>\n",
       "      <th>534260</th>\n",
       "      <td>172.29.240.58:56776</td>\n",
       "      <td>149.171.126.2:21</td>\n",
       "      <td>-0.248948</td>\n",
       "      <td>-0.536876</td>\n",
       "      <td>-0.055554</td>\n",
       "      <td>-0.219703</td>\n",
       "      <td>-0.221173</td>\n",
       "      <td>-0.213958</td>\n",
       "      <td>-0.254089</td>\n",
       "      <td>-0.253315</td>\n",
       "      <td>2</td>\n",
       "    </tr>\n",
       "    <tr>\n",
       "      <th>899556</th>\n",
       "      <td>172.30.110.199:36091</td>\n",
       "      <td>149.171.126.8:45496</td>\n",
       "      <td>-0.248948</td>\n",
       "      <td>0.060679</td>\n",
       "      <td>-0.033510</td>\n",
       "      <td>-0.102863</td>\n",
       "      <td>0.026235</td>\n",
       "      <td>-0.048949</td>\n",
       "      <td>-0.255948</td>\n",
       "      <td>-0.253315</td>\n",
       "      <td>2</td>\n",
       "    </tr>\n",
       "    <tr>\n",
       "      <th>1388723</th>\n",
       "      <td>172.23.2.200:30592</td>\n",
       "      <td>149.171.126.0:80</td>\n",
       "      <td>-0.248948</td>\n",
       "      <td>0.796664</td>\n",
       "      <td>-0.045323</td>\n",
       "      <td>-0.163062</td>\n",
       "      <td>-0.286281</td>\n",
       "      <td>-0.240012</td>\n",
       "      <td>-0.255948</td>\n",
       "      <td>3.947662</td>\n",
       "      <td>2</td>\n",
       "    </tr>\n",
       "    <tr>\n",
       "      <th>710340</th>\n",
       "      <td>172.22.133.173:48922</td>\n",
       "      <td>149.171.126.5:21</td>\n",
       "      <td>-0.248948</td>\n",
       "      <td>-0.536876</td>\n",
       "      <td>-0.052107</td>\n",
       "      <td>-0.217892</td>\n",
       "      <td>-0.169087</td>\n",
       "      <td>-0.179219</td>\n",
       "      <td>-0.254089</td>\n",
       "      <td>-0.253315</td>\n",
       "      <td>2</td>\n",
       "    </tr>\n",
       "    <tr>\n",
       "      <th>749797</th>\n",
       "      <td>172.20.122.186:44476</td>\n",
       "      <td>149.171.126.5:35425</td>\n",
       "      <td>-0.248948</td>\n",
       "      <td>0.060679</td>\n",
       "      <td>-0.026992</td>\n",
       "      <td>-0.048645</td>\n",
       "      <td>0.130407</td>\n",
       "      <td>0.003159</td>\n",
       "      <td>-0.255948</td>\n",
       "      <td>-0.253315</td>\n",
       "      <td>2</td>\n",
       "    </tr>\n",
       "    <tr>\n",
       "      <th>...</th>\n",
       "      <td>...</td>\n",
       "      <td>...</td>\n",
       "      <td>...</td>\n",
       "      <td>...</td>\n",
       "      <td>...</td>\n",
       "      <td>...</td>\n",
       "      <td>...</td>\n",
       "      <td>...</td>\n",
       "      <td>...</td>\n",
       "      <td>...</td>\n",
       "      <td>...</td>\n",
       "    </tr>\n",
       "    <tr>\n",
       "      <th>79694</th>\n",
       "      <td>172.28.157.32:61726</td>\n",
       "      <td>149.171.126.0:21911</td>\n",
       "      <td>-0.248948</td>\n",
       "      <td>0.060679</td>\n",
       "      <td>0.004468</td>\n",
       "      <td>0.290579</td>\n",
       "      <td>0.625224</td>\n",
       "      <td>0.350546</td>\n",
       "      <td>-0.255948</td>\n",
       "      <td>-0.253315</td>\n",
       "      <td>2</td>\n",
       "    </tr>\n",
       "    <tr>\n",
       "      <th>78342</th>\n",
       "      <td>172.21.13.17:56861</td>\n",
       "      <td>149.171.126.7:21</td>\n",
       "      <td>-0.248948</td>\n",
       "      <td>-0.536876</td>\n",
       "      <td>-0.032742</td>\n",
       "      <td>-0.206517</td>\n",
       "      <td>0.117386</td>\n",
       "      <td>0.037898</td>\n",
       "      <td>-0.220219</td>\n",
       "      <td>-0.253315</td>\n",
       "      <td>2</td>\n",
       "    </tr>\n",
       "    <tr>\n",
       "      <th>817024</th>\n",
       "      <td>172.27.96.214:33728</td>\n",
       "      <td>149.171.126.7:21</td>\n",
       "      <td>-0.248948</td>\n",
       "      <td>-0.536876</td>\n",
       "      <td>-0.043239</td>\n",
       "      <td>-0.212941</td>\n",
       "      <td>-0.038872</td>\n",
       "      <td>-0.092373</td>\n",
       "      <td>-0.254089</td>\n",
       "      <td>-0.253315</td>\n",
       "      <td>2</td>\n",
       "    </tr>\n",
       "    <tr>\n",
       "      <th>2194933</th>\n",
       "      <td>172.28.18.22:65407</td>\n",
       "      <td>149.171.126.17:179</td>\n",
       "      <td>-0.248948</td>\n",
       "      <td>0.060679</td>\n",
       "      <td>-0.059769</td>\n",
       "      <td>-0.225762</td>\n",
       "      <td>-0.286281</td>\n",
       "      <td>-0.309490</td>\n",
       "      <td>7.429918</td>\n",
       "      <td>-0.253315</td>\n",
       "      <td>5</td>\n",
       "    </tr>\n",
       "    <tr>\n",
       "      <th>1678934</th>\n",
       "      <td>172.23.134.8:55092</td>\n",
       "      <td>149.171.126.1:53</td>\n",
       "      <td>0.517209</td>\n",
       "      <td>0.060679</td>\n",
       "      <td>-0.069670</td>\n",
       "      <td>-0.228251</td>\n",
       "      <td>-0.442539</td>\n",
       "      <td>-0.378967</td>\n",
       "      <td>0.265451</td>\n",
       "      <td>-0.253315</td>\n",
       "      <td>2</td>\n",
       "    </tr>\n",
       "  </tbody>\n",
       "</table>\n",
       "<p>717083 rows × 11 columns</p>\n",
       "</div>"
      ],
      "text/plain": [
       "                IPV4_SRC_ADDR        IPV4_DST_ADDR  PROTOCOL  L7_PROTO  \\\n",
       "534260    172.29.240.58:56776     149.171.126.2:21 -0.248948 -0.536876   \n",
       "899556   172.30.110.199:36091  149.171.126.8:45496 -0.248948  0.060679   \n",
       "1388723    172.23.2.200:30592     149.171.126.0:80 -0.248948  0.796664   \n",
       "710340   172.22.133.173:48922     149.171.126.5:21 -0.248948 -0.536876   \n",
       "749797   172.20.122.186:44476  149.171.126.5:35425 -0.248948  0.060679   \n",
       "...                       ...                  ...       ...       ...   \n",
       "79694     172.28.157.32:61726  149.171.126.0:21911 -0.248948  0.060679   \n",
       "78342      172.21.13.17:56861     149.171.126.7:21 -0.248948 -0.536876   \n",
       "817024    172.27.96.214:33728     149.171.126.7:21 -0.248948 -0.536876   \n",
       "2194933    172.28.18.22:65407   149.171.126.17:179 -0.248948  0.060679   \n",
       "1678934    172.23.134.8:55092     149.171.126.1:53  0.517209  0.060679   \n",
       "\n",
       "         IN_BYTES  OUT_BYTES   IN_PKTS  OUT_PKTS  TCP_FLAGS  \\\n",
       "534260  -0.055554  -0.219703 -0.221173 -0.213958  -0.254089   \n",
       "899556  -0.033510  -0.102863  0.026235 -0.048949  -0.255948   \n",
       "1388723 -0.045323  -0.163062 -0.286281 -0.240012  -0.255948   \n",
       "710340  -0.052107  -0.217892 -0.169087 -0.179219  -0.254089   \n",
       "749797  -0.026992  -0.048645  0.130407  0.003159  -0.255948   \n",
       "...           ...        ...       ...       ...        ...   \n",
       "79694    0.004468   0.290579  0.625224  0.350546  -0.255948   \n",
       "78342   -0.032742  -0.206517  0.117386  0.037898  -0.220219   \n",
       "817024  -0.043239  -0.212941 -0.038872 -0.092373  -0.254089   \n",
       "2194933 -0.059769  -0.225762 -0.286281 -0.309490   7.429918   \n",
       "1678934 -0.069670  -0.228251 -0.442539 -0.378967   0.265451   \n",
       "\n",
       "         FLOW_DURATION_MILLISECONDS  label  \n",
       "534260                    -0.253315      2  \n",
       "899556                    -0.253315      2  \n",
       "1388723                    3.947662      2  \n",
       "710340                    -0.253315      2  \n",
       "749797                    -0.253315      2  \n",
       "...                             ...    ...  \n",
       "79694                     -0.253315      2  \n",
       "78342                     -0.253315      2  \n",
       "817024                    -0.253315      2  \n",
       "2194933                   -0.253315      5  \n",
       "1678934                   -0.253315      2  \n",
       "\n",
       "[717083 rows x 11 columns]"
      ]
     },
     "execution_count": 42,
     "metadata": {},
     "output_type": "execute_result"
    }
   ],
   "source": [
    "X_test"
   ]
  },
  {
   "cell_type": "code",
   "execution_count": 43,
   "metadata": {
    "id": "q5CMxVe5xIDb"
   },
   "outputs": [],
   "source": [
    "X_test['h'] = X_test[ cols_to_norm ].values.tolist()"
   ]
  },
  {
   "cell_type": "code",
   "execution_count": 44,
   "metadata": {
    "id": "VsAmtLAbxN_6"
   },
   "outputs": [],
   "source": [
    "G_test = nx.from_pandas_edgelist(X_test, \"IPV4_SRC_ADDR\", \"IPV4_DST_ADDR\", ['h','label'],create_using=nx.MultiGraph())\n",
    "G_test = G_test.to_directed()\n",
    "G_test = from_networkx(G_test,edge_attrs=['h','label'] )\n",
    "actual = G_test.edata.pop('label')\n",
    "G_test.ndata['feature'] = th.ones(G_test.num_nodes(), G.ndata['h'].shape[2])"
   ]
  },
  {
   "cell_type": "code",
   "execution_count": 45,
   "metadata": {
    "id": "Eeux6JIxxQtC"
   },
   "outputs": [],
   "source": [
    "G_test.ndata['feature'] = th.reshape(G_test.ndata['feature'], (G_test.ndata['feature'].shape[0], 1, G_test.ndata['feature'].shape[1]))"
   ]
  },
  {
   "cell_type": "code",
   "execution_count": 46,
   "metadata": {
    "id": "PBETQI3YxYay"
   },
   "outputs": [],
   "source": [
    "G_test.edata['h'] = th.reshape(G_test.edata['h'], (G_test.edata['h'].shape[0], 1, G_test.edata['h'].shape[1]))\n"
   ]
  },
  {
   "cell_type": "code",
   "execution_count": 47,
   "metadata": {
    "id": "qlTOyVN6xZZB"
   },
   "outputs": [],
   "source": [
    "G_test = G_test.to('cuda:0')\n"
   ]
  },
  {
   "cell_type": "code",
   "execution_count": 48,
   "metadata": {
    "id": "QyugNIt9xac6"
   },
   "outputs": [],
   "source": [
    "import timeit\n",
    "start_time = timeit.default_timer()\n",
    "node_features_test = G_test.ndata['feature']\n",
    "edge_features_test = G_test.edata['h']\n",
    "test_pred = model(G_test, node_features_test, edge_features_test).cuda()\n",
    "elapsed = timeit.default_timer() - start_time"
   ]
  },
  {
   "cell_type": "code",
   "execution_count": 49,
   "metadata": {
    "colab": {
     "base_uri": "https://localhost:8080/"
    },
    "id": "KecCvilSxcFK",
    "outputId": "8e974877-889d-43a1-e5c7-06e1e731e1d0"
   },
   "outputs": [
    {
     "name": "stdout",
     "output_type": "stream",
     "text": [
      "0.07705394551157951 seconds\n"
     ]
    }
   ],
   "source": [
    "print(str(elapsed) + ' seconds')\n"
   ]
  },
  {
   "cell_type": "code",
   "execution_count": 50,
   "metadata": {
    "id": "BNQLnLoAxdST"
   },
   "outputs": [],
   "source": [
    "test_pred = test_pred.argmax(1)\n"
   ]
  },
  {
   "cell_type": "code",
   "execution_count": 51,
   "metadata": {
    "id": "9dtggXXsxevx"
   },
   "outputs": [],
   "source": [
    "test_pred = th.Tensor.cpu(test_pred).detach().numpy()\n"
   ]
  },
  {
   "cell_type": "code",
   "execution_count": 52,
   "metadata": {
    "id": "5TGb_KWRxfzS"
   },
   "outputs": [],
   "source": [
    "actual = le.inverse_transform(actual)\n",
    "test_pred = le.inverse_transform(test_pred)"
   ]
  },
  {
   "cell_type": "code",
   "execution_count": 53,
   "metadata": {
    "id": "uMRairwzxiBC"
   },
   "outputs": [],
   "source": [
    "import numpy as np\n",
    "\n",
    "\n",
    "def plot_confusion_matrix(cm,\n",
    "                          target_names,\n",
    "                          title='Confusion matrix',\n",
    "                          cmap=None,\n",
    "                          normalize=True):\n",
    "    \n",
    "    import matplotlib.pyplot as plt\n",
    "    import numpy as np\n",
    "    import itertools\n",
    "\n",
    "    accuracy = np.trace(cm) / float(np.sum(cm))\n",
    "    misclass = 1 - accuracy\n",
    "\n",
    "    if cmap is None:\n",
    "        cmap = plt.get_cmap('Blues')\n",
    "\n",
    "    plt.figure(figsize=(12, 12))\n",
    "    plt.imshow(cm, interpolation='nearest', cmap=cmap)\n",
    "    plt.title(title)\n",
    "    plt.colorbar()\n",
    "\n",
    "    if target_names is not None:\n",
    "        tick_marks = np.arange(len(target_names))\n",
    "        plt.xticks(tick_marks, target_names, rotation=45)\n",
    "        plt.yticks(tick_marks, target_names)\n",
    "\n",
    "    if normalize:\n",
    "        cm = cm.astype('float') / cm.sum(axis=1)[:, np.newaxis]\n",
    "\n",
    "\n",
    "    thresh = cm.max() / 1.5 if normalize else cm.max() / 2\n",
    "    for i, j in itertools.product(range(cm.shape[0]), range(cm.shape[1])):\n",
    "        if normalize:\n",
    "            plt.text(j, i, \"{:0.4f}\".format(cm[i, j]),\n",
    "                     horizontalalignment=\"center\",\n",
    "                     color=\"white\" if cm[i, j] > thresh else \"black\")\n",
    "        else:\n",
    "            plt.text(j, i, \"{:,}\".format(cm[i, j]),\n",
    "                     horizontalalignment=\"center\",\n",
    "                     color=\"white\" if cm[i, j] > thresh else \"black\")\n",
    "\n",
    "\n",
    "    plt.tight_layout()\n",
    "    plt.ylabel('True label')\n",
    "    plt.xlabel('Predicted label\\naccuracy={:0.4f}; misclass={:0.4f}'.format(accuracy, misclass))\n",
    "    plt.show()"
   ]
  },
  {
   "cell_type": "code",
   "execution_count": 54,
   "metadata": {
    "colab": {
     "base_uri": "https://localhost:8080/",
     "height": 718
    },
    "id": "KNCkVWyqxjaR",
    "outputId": "3af8ef73-a011-49a7-9335-52ba77ea7dd4"
   },
   "outputs": [
    {
     "data": {
      "image/png": "[encoded data removed]",
      "text/plain": [
       "<Figure size 1200x1200 with 2 Axes>"
      ]
     },
     "metadata": {},
     "output_type": "display_data"
    }
   ],
   "source": [
    "from sklearn.metrics import confusion_matrix\n",
    "\n",
    "plot_confusion_matrix(cm = confusion_matrix(actual, test_pred), \n",
    "                      normalize    = False,\n",
    "                      target_names = np.unique(actual),\n",
    "                      title        = \"Confusion Matrix\")"
   ]
  },
  {
   "cell_type": "code",
   "execution_count": null,
   "metadata": {
    "id": "rC9-S7j9A48K"
   },
   "outputs": [],
   "source": []
  }
 ],
 "metadata": {
  "accelerator": "GPU",
  "colab": {
   "collapsed_sections": [],
   "machine_shape": "hm",
   "name": "Unsw_bot_iot_multiclass_mean_agg.ipynb",
   "provenance": []
  },
  "kernelspec": {
   "display_name": "gnn_cuda_env",
   "language": "python",
   "name": "python3"
  },
  "language_info": {
   "codemirror_mode": {
    "name": "ipython",
    "version": 3
   },
   "file_extension": ".py",
   "mimetype": "text/x-python",
   "name": "python",
   "nbconvert_exporter": "python",
   "pygments_lexer": "ipython3",
   "version": "3.8.10"
  }
 },
 "nbformat": 4,
 "nbformat_minor": 1
}
